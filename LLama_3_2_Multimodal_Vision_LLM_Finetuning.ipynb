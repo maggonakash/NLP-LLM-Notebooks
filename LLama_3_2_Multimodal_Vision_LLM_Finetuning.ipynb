{
  "nbformat": 4,
  "nbformat_minor": 0,
  "metadata": {
    "colab": {
      "provenance": [],
      "machine_shape": "hm",
      "gpuType": "L4"
    },
    "kernelspec": {
      "name": "python3",
      "display_name": "Python 3"
    },
    "language_info": {
      "name": "python"
    },
    "accelerator": "GPU",
    "widgets": {
      "application/vnd.jupyter.widget-state+json": {
        "fe27b68e4a854913908a4baef141d9a5": {
          "model_module": "@jupyter-widgets/controls",
          "model_name": "HBoxModel",
          "model_module_version": "1.5.0",
          "state": {
            "_dom_classes": [],
            "_model_module": "@jupyter-widgets/controls",
            "_model_module_version": "1.5.0",
            "_model_name": "HBoxModel",
            "_view_count": null,
            "_view_module": "@jupyter-widgets/controls",
            "_view_module_version": "1.5.0",
            "_view_name": "HBoxView",
            "box_style": "",
            "children": [
              "IPY_MODEL_081c2033edd14e859e3f279aa017d2fd",
              "IPY_MODEL_e592e61c75984f05be531031a6d55f13",
              "IPY_MODEL_69e65b74aec14238a08e42da667c6773"
            ],
            "layout": "IPY_MODEL_d3f5f02f49f344d6aac0df59e79f792d"
          }
        },
        "081c2033edd14e859e3f279aa017d2fd": {
          "model_module": "@jupyter-widgets/controls",
          "model_name": "HTMLModel",
          "model_module_version": "1.5.0",
          "state": {
            "_dom_classes": [],
            "_model_module": "@jupyter-widgets/controls",
            "_model_module_version": "1.5.0",
            "_model_name": "HTMLModel",
            "_view_count": null,
            "_view_module": "@jupyter-widgets/controls",
            "_view_module_version": "1.5.0",
            "_view_name": "HTMLView",
            "description": "",
            "description_tooltip": null,
            "layout": "IPY_MODEL_b7f917b874a04728a2d71f195d22abe9",
            "placeholder": "​",
            "style": "IPY_MODEL_150979818f4a4e12ad4e4da92c1bdb7e",
            "value": "Loading checkpoint shards: 100%"
          }
        },
        "e592e61c75984f05be531031a6d55f13": {
          "model_module": "@jupyter-widgets/controls",
          "model_name": "FloatProgressModel",
          "model_module_version": "1.5.0",
          "state": {
            "_dom_classes": [],
            "_model_module": "@jupyter-widgets/controls",
            "_model_module_version": "1.5.0",
            "_model_name": "FloatProgressModel",
            "_view_count": null,
            "_view_module": "@jupyter-widgets/controls",
            "_view_module_version": "1.5.0",
            "_view_name": "ProgressView",
            "bar_style": "success",
            "description": "",
            "description_tooltip": null,
            "layout": "IPY_MODEL_90bedb4f1b104aa3a9ef3f09f43e61c3",
            "max": 5,
            "min": 0,
            "orientation": "horizontal",
            "style": "IPY_MODEL_facc757e21cf44ea8c1172a9880f9d2a",
            "value": 5
          }
        },
        "69e65b74aec14238a08e42da667c6773": {
          "model_module": "@jupyter-widgets/controls",
          "model_name": "HTMLModel",
          "model_module_version": "1.5.0",
          "state": {
            "_dom_classes": [],
            "_model_module": "@jupyter-widgets/controls",
            "_model_module_version": "1.5.0",
            "_model_name": "HTMLModel",
            "_view_count": null,
            "_view_module": "@jupyter-widgets/controls",
            "_view_module_version": "1.5.0",
            "_view_name": "HTMLView",
            "description": "",
            "description_tooltip": null,
            "layout": "IPY_MODEL_a738b6f1e7004a5fba4ad52ef68604f3",
            "placeholder": "​",
            "style": "IPY_MODEL_01ab45a7886945929f7f6b4b658dfdd5",
            "value": " 5/5 [00:08&lt;00:00,  1.46s/it]"
          }
        },
        "d3f5f02f49f344d6aac0df59e79f792d": {
          "model_module": "@jupyter-widgets/base",
          "model_name": "LayoutModel",
          "model_module_version": "1.2.0",
          "state": {
            "_model_module": "@jupyter-widgets/base",
            "_model_module_version": "1.2.0",
            "_model_name": "LayoutModel",
            "_view_count": null,
            "_view_module": "@jupyter-widgets/base",
            "_view_module_version": "1.2.0",
            "_view_name": "LayoutView",
            "align_content": null,
            "align_items": null,
            "align_self": null,
            "border": null,
            "bottom": null,
            "display": null,
            "flex": null,
            "flex_flow": null,
            "grid_area": null,
            "grid_auto_columns": null,
            "grid_auto_flow": null,
            "grid_auto_rows": null,
            "grid_column": null,
            "grid_gap": null,
            "grid_row": null,
            "grid_template_areas": null,
            "grid_template_columns": null,
            "grid_template_rows": null,
            "height": null,
            "justify_content": null,
            "justify_items": null,
            "left": null,
            "margin": null,
            "max_height": null,
            "max_width": null,
            "min_height": null,
            "min_width": null,
            "object_fit": null,
            "object_position": null,
            "order": null,
            "overflow": null,
            "overflow_x": null,
            "overflow_y": null,
            "padding": null,
            "right": null,
            "top": null,
            "visibility": null,
            "width": null
          }
        },
        "b7f917b874a04728a2d71f195d22abe9": {
          "model_module": "@jupyter-widgets/base",
          "model_name": "LayoutModel",
          "model_module_version": "1.2.0",
          "state": {
            "_model_module": "@jupyter-widgets/base",
            "_model_module_version": "1.2.0",
            "_model_name": "LayoutModel",
            "_view_count": null,
            "_view_module": "@jupyter-widgets/base",
            "_view_module_version": "1.2.0",
            "_view_name": "LayoutView",
            "align_content": null,
            "align_items": null,
            "align_self": null,
            "border": null,
            "bottom": null,
            "display": null,
            "flex": null,
            "flex_flow": null,
            "grid_area": null,
            "grid_auto_columns": null,
            "grid_auto_flow": null,
            "grid_auto_rows": null,
            "grid_column": null,
            "grid_gap": null,
            "grid_row": null,
            "grid_template_areas": null,
            "grid_template_columns": null,
            "grid_template_rows": null,
            "height": null,
            "justify_content": null,
            "justify_items": null,
            "left": null,
            "margin": null,
            "max_height": null,
            "max_width": null,
            "min_height": null,
            "min_width": null,
            "object_fit": null,
            "object_position": null,
            "order": null,
            "overflow": null,
            "overflow_x": null,
            "overflow_y": null,
            "padding": null,
            "right": null,
            "top": null,
            "visibility": null,
            "width": null
          }
        },
        "150979818f4a4e12ad4e4da92c1bdb7e": {
          "model_module": "@jupyter-widgets/controls",
          "model_name": "DescriptionStyleModel",
          "model_module_version": "1.5.0",
          "state": {
            "_model_module": "@jupyter-widgets/controls",
            "_model_module_version": "1.5.0",
            "_model_name": "DescriptionStyleModel",
            "_view_count": null,
            "_view_module": "@jupyter-widgets/base",
            "_view_module_version": "1.2.0",
            "_view_name": "StyleView",
            "description_width": ""
          }
        },
        "90bedb4f1b104aa3a9ef3f09f43e61c3": {
          "model_module": "@jupyter-widgets/base",
          "model_name": "LayoutModel",
          "model_module_version": "1.2.0",
          "state": {
            "_model_module": "@jupyter-widgets/base",
            "_model_module_version": "1.2.0",
            "_model_name": "LayoutModel",
            "_view_count": null,
            "_view_module": "@jupyter-widgets/base",
            "_view_module_version": "1.2.0",
            "_view_name": "LayoutView",
            "align_content": null,
            "align_items": null,
            "align_self": null,
            "border": null,
            "bottom": null,
            "display": null,
            "flex": null,
            "flex_flow": null,
            "grid_area": null,
            "grid_auto_columns": null,
            "grid_auto_flow": null,
            "grid_auto_rows": null,
            "grid_column": null,
            "grid_gap": null,
            "grid_row": null,
            "grid_template_areas": null,
            "grid_template_columns": null,
            "grid_template_rows": null,
            "height": null,
            "justify_content": null,
            "justify_items": null,
            "left": null,
            "margin": null,
            "max_height": null,
            "max_width": null,
            "min_height": null,
            "min_width": null,
            "object_fit": null,
            "object_position": null,
            "order": null,
            "overflow": null,
            "overflow_x": null,
            "overflow_y": null,
            "padding": null,
            "right": null,
            "top": null,
            "visibility": null,
            "width": null
          }
        },
        "facc757e21cf44ea8c1172a9880f9d2a": {
          "model_module": "@jupyter-widgets/controls",
          "model_name": "ProgressStyleModel",
          "model_module_version": "1.5.0",
          "state": {
            "_model_module": "@jupyter-widgets/controls",
            "_model_module_version": "1.5.0",
            "_model_name": "ProgressStyleModel",
            "_view_count": null,
            "_view_module": "@jupyter-widgets/base",
            "_view_module_version": "1.2.0",
            "_view_name": "StyleView",
            "bar_color": null,
            "description_width": ""
          }
        },
        "a738b6f1e7004a5fba4ad52ef68604f3": {
          "model_module": "@jupyter-widgets/base",
          "model_name": "LayoutModel",
          "model_module_version": "1.2.0",
          "state": {
            "_model_module": "@jupyter-widgets/base",
            "_model_module_version": "1.2.0",
            "_model_name": "LayoutModel",
            "_view_count": null,
            "_view_module": "@jupyter-widgets/base",
            "_view_module_version": "1.2.0",
            "_view_name": "LayoutView",
            "align_content": null,
            "align_items": null,
            "align_self": null,
            "border": null,
            "bottom": null,
            "display": null,
            "flex": null,
            "flex_flow": null,
            "grid_area": null,
            "grid_auto_columns": null,
            "grid_auto_flow": null,
            "grid_auto_rows": null,
            "grid_column": null,
            "grid_gap": null,
            "grid_row": null,
            "grid_template_areas": null,
            "grid_template_columns": null,
            "grid_template_rows": null,
            "height": null,
            "justify_content": null,
            "justify_items": null,
            "left": null,
            "margin": null,
            "max_height": null,
            "max_width": null,
            "min_height": null,
            "min_width": null,
            "object_fit": null,
            "object_position": null,
            "order": null,
            "overflow": null,
            "overflow_x": null,
            "overflow_y": null,
            "padding": null,
            "right": null,
            "top": null,
            "visibility": null,
            "width": null
          }
        },
        "01ab45a7886945929f7f6b4b658dfdd5": {
          "model_module": "@jupyter-widgets/controls",
          "model_name": "DescriptionStyleModel",
          "model_module_version": "1.5.0",
          "state": {
            "_model_module": "@jupyter-widgets/controls",
            "_model_module_version": "1.5.0",
            "_model_name": "DescriptionStyleModel",
            "_view_count": null,
            "_view_module": "@jupyter-widgets/base",
            "_view_module_version": "1.2.0",
            "_view_name": "StyleView",
            "description_width": ""
          }
        }
      }
    }
  },
  "cells": [
    {
      "cell_type": "code",
      "execution_count": null,
      "metadata": {
        "colab": {
          "base_uri": "https://localhost:8080/"
        },
        "id": "XjRrOsgRXIZi",
        "outputId": "b8851abd-3c9e-498b-dee0-fbd8e7cbccd0"
      },
      "outputs": [
        {
          "output_type": "stream",
          "name": "stdout",
          "text": [
            "Token is valid (permission: write).\n",
            "Your token has been saved in your configured git credential helpers (store).\n",
            "Your token has been saved to /root/.cache/huggingface/token\n",
            "Login successful\n"
          ]
        }
      ],
      "source": [
        "from huggingface_hub import login\n",
        "\n",
        "login(\n",
        "  token=\"\", # ADD YOUR TOKEN HERE\n",
        "  add_to_git_credential=True\n",
        ")"
      ]
    },
    {
      "cell_type": "code",
      "source": [
        "!pip install -q -U bitsandbytes\n",
        "!pip install -q -U git+https://github.com/huggingface/transformers.git\n",
        "!pip install -q -U git+https://github.com/huggingface/peft.git\n",
        "!pip install -q -U git+https://github.com/huggingface/accelerate.git\n",
        "!pip install -q datasets"
      ],
      "metadata": {
        "colab": {
          "base_uri": "https://localhost:8080/"
        },
        "id": "fhxuqiWwd_-V",
        "outputId": "3132954b-08a7-43a5-88f9-19e0e8ed08f8"
      },
      "execution_count": null,
      "outputs": [
        {
          "output_type": "stream",
          "name": "stdout",
          "text": [
            "\u001b[2K   \u001b[90m━━━━━━━━━━━━━━━━━━━━━━━━━━━━━━━━━━━━━━━━\u001b[0m \u001b[32m122.4/122.4 MB\u001b[0m \u001b[31m11.7 MB/s\u001b[0m eta \u001b[36m0:00:00\u001b[0m\n",
            "\u001b[?25h  Installing build dependencies ... \u001b[?25l\u001b[?25hdone\n",
            "  Getting requirements to build wheel ... \u001b[?25l\u001b[?25hdone\n",
            "  Preparing metadata (pyproject.toml) ... \u001b[?25l\u001b[?25hdone\n",
            "\u001b[2K   \u001b[90m━━━━━━━━━━━━━━━━━━━━━━━━━━━━━━━━━━━━━━━━\u001b[0m \u001b[32m3.0/3.0 MB\u001b[0m \u001b[31m55.8 MB/s\u001b[0m eta \u001b[36m0:00:00\u001b[0m\n",
            "\u001b[?25h  Building wheel for transformers (pyproject.toml) ... \u001b[?25l\u001b[?25hdone\n",
            "  Installing build dependencies ... \u001b[?25l\u001b[?25hdone\n",
            "  Getting requirements to build wheel ... \u001b[?25l\u001b[?25hdone\n",
            "  Preparing metadata (pyproject.toml) ... \u001b[?25l\u001b[?25hdone\n",
            "  Building wheel for peft (pyproject.toml) ... \u001b[?25l\u001b[?25hdone\n",
            "  Installing build dependencies ... \u001b[?25l\u001b[?25hdone\n",
            "  Getting requirements to build wheel ... \u001b[?25l\u001b[?25hdone\n",
            "  Preparing metadata (pyproject.toml) ... \u001b[?25l\u001b[?25hdone\n",
            "  Building wheel for accelerate (pyproject.toml) ... \u001b[?25l\u001b[?25hdone\n",
            "\u001b[2K   \u001b[90m━━━━━━━━━━━━━━━━━━━━━━━━━━━━━━━━━━━━━━━━\u001b[0m \u001b[32m471.6/471.6 kB\u001b[0m \u001b[31m28.5 MB/s\u001b[0m eta \u001b[36m0:00:00\u001b[0m\n",
            "\u001b[2K   \u001b[90m━━━━━━━━━━━━━━━━━━━━━━━━━━━━━━━━━━━━━━━━\u001b[0m \u001b[32m116.3/116.3 kB\u001b[0m \u001b[31m11.0 MB/s\u001b[0m eta \u001b[36m0:00:00\u001b[0m\n",
            "\u001b[2K   \u001b[90m━━━━━━━━━━━━━━━━━━━━━━━━━━━━━━━━━━━━━━━━\u001b[0m \u001b[32m39.9/39.9 MB\u001b[0m \u001b[31m56.1 MB/s\u001b[0m eta \u001b[36m0:00:00\u001b[0m\n",
            "\u001b[2K   \u001b[90m━━━━━━━━━━━━━━━━━━━━━━━━━━━━━━━━━━━━━━━━\u001b[0m \u001b[32m134.8/134.8 kB\u001b[0m \u001b[31m11.7 MB/s\u001b[0m eta \u001b[36m0:00:00\u001b[0m\n",
            "\u001b[2K   \u001b[90m━━━━━━━━━━━━━━━━━━━━━━━━━━━━━━━━━━━━━━━━\u001b[0m \u001b[32m194.1/194.1 kB\u001b[0m \u001b[31m14.7 MB/s\u001b[0m eta \u001b[36m0:00:00\u001b[0m\n",
            "\u001b[?25h\u001b[31mERROR: pip's dependency resolver does not currently take into account all the packages that are installed. This behaviour is the source of the following dependency conflicts.\n",
            "cudf-cu12 24.4.1 requires pyarrow<15.0.0a0,>=14.0.1, but you have pyarrow 17.0.0 which is incompatible.\n",
            "ibis-framework 8.0.0 requires pyarrow<16,>=2, but you have pyarrow 17.0.0 which is incompatible.\u001b[0m\u001b[31m\n",
            "\u001b[0m"
          ]
        }
      ]
    },
    {
      "cell_type": "code",
      "source": [
        "pip install trl"
      ],
      "metadata": {
        "colab": {
          "base_uri": "https://localhost:8080/"
        },
        "id": "V9sFVczAwIsG",
        "outputId": "111ae20d-1ce2-47f7-cb8f-022500d0e3c0"
      },
      "execution_count": null,
      "outputs": [
        {
          "output_type": "stream",
          "name": "stdout",
          "text": [
            "Collecting trl\n",
            "  Downloading trl-0.11.3-py3-none-any.whl.metadata (12 kB)\n",
            "Requirement already satisfied: torch>=1.4.0 in /usr/local/lib/python3.10/dist-packages (from trl) (2.4.1+cu121)\n",
            "Requirement already satisfied: transformers>=4.40.0 in /usr/local/lib/python3.10/dist-packages (from trl) (4.46.0.dev0)\n",
            "Requirement already satisfied: accelerate in /usr/local/lib/python3.10/dist-packages (from trl) (1.1.0.dev0)\n",
            "Requirement already satisfied: datasets in /usr/local/lib/python3.10/dist-packages (from trl) (3.0.1)\n",
            "Collecting tyro>=0.5.11 (from trl)\n",
            "  Downloading tyro-0.8.12-py3-none-any.whl.metadata (8.4 kB)\n",
            "Requirement already satisfied: numpy>=1.18.2 in /usr/local/lib/python3.10/dist-packages (from trl) (1.26.4)\n",
            "Requirement already satisfied: filelock in /usr/local/lib/python3.10/dist-packages (from torch>=1.4.0->trl) (3.16.1)\n",
            "Requirement already satisfied: typing-extensions>=4.8.0 in /usr/local/lib/python3.10/dist-packages (from torch>=1.4.0->trl) (4.12.2)\n",
            "Requirement already satisfied: sympy in /usr/local/lib/python3.10/dist-packages (from torch>=1.4.0->trl) (1.13.3)\n",
            "Requirement already satisfied: networkx in /usr/local/lib/python3.10/dist-packages (from torch>=1.4.0->trl) (3.3)\n",
            "Requirement already satisfied: jinja2 in /usr/local/lib/python3.10/dist-packages (from torch>=1.4.0->trl) (3.1.4)\n",
            "Requirement already satisfied: fsspec in /usr/local/lib/python3.10/dist-packages (from torch>=1.4.0->trl) (2024.6.1)\n",
            "Requirement already satisfied: huggingface-hub<1.0,>=0.23.2 in /usr/local/lib/python3.10/dist-packages (from transformers>=4.40.0->trl) (0.24.7)\n",
            "Requirement already satisfied: packaging>=20.0 in /usr/local/lib/python3.10/dist-packages (from transformers>=4.40.0->trl) (24.1)\n",
            "Requirement already satisfied: pyyaml>=5.1 in /usr/local/lib/python3.10/dist-packages (from transformers>=4.40.0->trl) (6.0.2)\n",
            "Requirement already satisfied: regex!=2019.12.17 in /usr/local/lib/python3.10/dist-packages (from transformers>=4.40.0->trl) (2024.9.11)\n",
            "Requirement already satisfied: requests in /usr/local/lib/python3.10/dist-packages (from transformers>=4.40.0->trl) (2.32.3)\n",
            "Requirement already satisfied: tokenizers<0.21,>=0.20 in /usr/local/lib/python3.10/dist-packages (from transformers>=4.40.0->trl) (0.20.1)\n",
            "Requirement already satisfied: safetensors>=0.4.1 in /usr/local/lib/python3.10/dist-packages (from transformers>=4.40.0->trl) (0.4.5)\n",
            "Requirement already satisfied: tqdm>=4.27 in /usr/local/lib/python3.10/dist-packages (from transformers>=4.40.0->trl) (4.66.5)\n",
            "Requirement already satisfied: docstring-parser>=0.16 in /usr/local/lib/python3.10/dist-packages (from tyro>=0.5.11->trl) (0.16)\n",
            "Requirement already satisfied: rich>=11.1.0 in /usr/local/lib/python3.10/dist-packages (from tyro>=0.5.11->trl) (13.8.1)\n",
            "Collecting shtab>=1.5.6 (from tyro>=0.5.11->trl)\n",
            "  Downloading shtab-1.7.1-py3-none-any.whl.metadata (7.3 kB)\n",
            "Requirement already satisfied: psutil in /usr/local/lib/python3.10/dist-packages (from accelerate->trl) (5.9.5)\n",
            "Requirement already satisfied: pyarrow>=15.0.0 in /usr/local/lib/python3.10/dist-packages (from datasets->trl) (17.0.0)\n",
            "Requirement already satisfied: dill<0.3.9,>=0.3.0 in /usr/local/lib/python3.10/dist-packages (from datasets->trl) (0.3.8)\n",
            "Requirement already satisfied: pandas in /usr/local/lib/python3.10/dist-packages (from datasets->trl) (2.1.4)\n",
            "Requirement already satisfied: xxhash in /usr/local/lib/python3.10/dist-packages (from datasets->trl) (3.5.0)\n",
            "Requirement already satisfied: multiprocess in /usr/local/lib/python3.10/dist-packages (from datasets->trl) (0.70.16)\n",
            "Requirement already satisfied: aiohttp in /usr/local/lib/python3.10/dist-packages (from datasets->trl) (3.10.5)\n",
            "Requirement already satisfied: aiohappyeyeballs>=2.3.0 in /usr/local/lib/python3.10/dist-packages (from aiohttp->datasets->trl) (2.4.0)\n",
            "Requirement already satisfied: aiosignal>=1.1.2 in /usr/local/lib/python3.10/dist-packages (from aiohttp->datasets->trl) (1.3.1)\n",
            "Requirement already satisfied: attrs>=17.3.0 in /usr/local/lib/python3.10/dist-packages (from aiohttp->datasets->trl) (24.2.0)\n",
            "Requirement already satisfied: frozenlist>=1.1.1 in /usr/local/lib/python3.10/dist-packages (from aiohttp->datasets->trl) (1.4.1)\n",
            "Requirement already satisfied: multidict<7.0,>=4.5 in /usr/local/lib/python3.10/dist-packages (from aiohttp->datasets->trl) (6.1.0)\n",
            "Requirement already satisfied: yarl<2.0,>=1.0 in /usr/local/lib/python3.10/dist-packages (from aiohttp->datasets->trl) (1.11.1)\n",
            "Requirement already satisfied: async-timeout<5.0,>=4.0 in /usr/local/lib/python3.10/dist-packages (from aiohttp->datasets->trl) (4.0.3)\n",
            "Requirement already satisfied: charset-normalizer<4,>=2 in /usr/local/lib/python3.10/dist-packages (from requests->transformers>=4.40.0->trl) (3.3.2)\n",
            "Requirement already satisfied: idna<4,>=2.5 in /usr/local/lib/python3.10/dist-packages (from requests->transformers>=4.40.0->trl) (3.10)\n",
            "Requirement already satisfied: urllib3<3,>=1.21.1 in /usr/local/lib/python3.10/dist-packages (from requests->transformers>=4.40.0->trl) (2.2.3)\n",
            "Requirement already satisfied: certifi>=2017.4.17 in /usr/local/lib/python3.10/dist-packages (from requests->transformers>=4.40.0->trl) (2024.8.30)\n",
            "Requirement already satisfied: markdown-it-py>=2.2.0 in /usr/local/lib/python3.10/dist-packages (from rich>=11.1.0->tyro>=0.5.11->trl) (3.0.0)\n",
            "Requirement already satisfied: pygments<3.0.0,>=2.13.0 in /usr/local/lib/python3.10/dist-packages (from rich>=11.1.0->tyro>=0.5.11->trl) (2.18.0)\n",
            "Requirement already satisfied: MarkupSafe>=2.0 in /usr/local/lib/python3.10/dist-packages (from jinja2->torch>=1.4.0->trl) (2.1.5)\n",
            "Requirement already satisfied: python-dateutil>=2.8.2 in /usr/local/lib/python3.10/dist-packages (from pandas->datasets->trl) (2.8.2)\n",
            "Requirement already satisfied: pytz>=2020.1 in /usr/local/lib/python3.10/dist-packages (from pandas->datasets->trl) (2024.2)\n",
            "Requirement already satisfied: tzdata>=2022.1 in /usr/local/lib/python3.10/dist-packages (from pandas->datasets->trl) (2024.1)\n",
            "Requirement already satisfied: mpmath<1.4,>=1.1.0 in /usr/local/lib/python3.10/dist-packages (from sympy->torch>=1.4.0->trl) (1.3.0)\n",
            "Requirement already satisfied: mdurl~=0.1 in /usr/local/lib/python3.10/dist-packages (from markdown-it-py>=2.2.0->rich>=11.1.0->tyro>=0.5.11->trl) (0.1.2)\n",
            "Requirement already satisfied: six>=1.5 in /usr/local/lib/python3.10/dist-packages (from python-dateutil>=2.8.2->pandas->datasets->trl) (1.16.0)\n",
            "Downloading trl-0.11.3-py3-none-any.whl (316 kB)\n",
            "\u001b[2K   \u001b[90m━━━━━━━━━━━━━━━━━━━━━━━━━━━━━━━━━━━━━━━━\u001b[0m \u001b[32m316.6/316.6 kB\u001b[0m \u001b[31m19.7 MB/s\u001b[0m eta \u001b[36m0:00:00\u001b[0m\n",
            "\u001b[?25hDownloading tyro-0.8.12-py3-none-any.whl (108 kB)\n",
            "\u001b[2K   \u001b[90m━━━━━━━━━━━━━━━━━━━━━━━━━━━━━━━━━━━━━━━━\u001b[0m \u001b[32m108.1/108.1 kB\u001b[0m \u001b[31m9.8 MB/s\u001b[0m eta \u001b[36m0:00:00\u001b[0m\n",
            "\u001b[?25hDownloading shtab-1.7.1-py3-none-any.whl (14 kB)\n",
            "Installing collected packages: shtab, tyro, trl\n",
            "Successfully installed shtab-1.7.1 trl-0.11.3 tyro-0.8.12\n"
          ]
        }
      ]
    },
    {
      "cell_type": "code",
      "source": [
        "pip install qwen-vl-utils"
      ],
      "metadata": {
        "colab": {
          "base_uri": "https://localhost:8080/"
        },
        "id": "M1o3JZNrxRq9",
        "outputId": "194b48c1-687f-44fa-9005-a44c3f377f02"
      },
      "execution_count": null,
      "outputs": [
        {
          "output_type": "stream",
          "name": "stdout",
          "text": [
            "Collecting qwen-vl-utils\n",
            "  Downloading qwen_vl_utils-0.0.8-py3-none-any.whl.metadata (3.6 kB)\n",
            "Collecting av (from qwen-vl-utils)\n",
            "  Downloading av-13.1.0-cp310-cp310-manylinux_2_17_x86_64.manylinux2014_x86_64.whl.metadata (4.4 kB)\n",
            "Requirement already satisfied: packaging in /usr/local/lib/python3.10/dist-packages (from qwen-vl-utils) (24.1)\n",
            "Requirement already satisfied: pillow in /usr/local/lib/python3.10/dist-packages (from qwen-vl-utils) (10.4.0)\n",
            "Requirement already satisfied: requests in /usr/local/lib/python3.10/dist-packages (from qwen-vl-utils) (2.32.3)\n",
            "Requirement already satisfied: charset-normalizer<4,>=2 in /usr/local/lib/python3.10/dist-packages (from requests->qwen-vl-utils) (3.3.2)\n",
            "Requirement already satisfied: idna<4,>=2.5 in /usr/local/lib/python3.10/dist-packages (from requests->qwen-vl-utils) (3.10)\n",
            "Requirement already satisfied: urllib3<3,>=1.21.1 in /usr/local/lib/python3.10/dist-packages (from requests->qwen-vl-utils) (2.2.3)\n",
            "Requirement already satisfied: certifi>=2017.4.17 in /usr/local/lib/python3.10/dist-packages (from requests->qwen-vl-utils) (2024.8.30)\n",
            "Downloading qwen_vl_utils-0.0.8-py3-none-any.whl (5.9 kB)\n",
            "Downloading av-13.1.0-cp310-cp310-manylinux_2_17_x86_64.manylinux2014_x86_64.whl (33.1 MB)\n",
            "\u001b[2K   \u001b[90m━━━━━━━━━━━━━━━━━━━━━━━━━━━━━━━━━━━━━━━━\u001b[0m \u001b[32m33.1/33.1 MB\u001b[0m \u001b[31m63.8 MB/s\u001b[0m eta \u001b[36m0:00:00\u001b[0m\n",
            "\u001b[?25hInstalling collected packages: av, qwen-vl-utils\n",
            "Successfully installed av-13.1.0 qwen-vl-utils-0.0.8\n"
          ]
        }
      ]
    },
    {
      "cell_type": "code",
      "source": [
        "# note the image is not provided in the prompt its included as part of the \"processor\"\n",
        "prompt= \"\"\"Create a Short Product description based on the provided ##PRODUCT NAME## and ##CATEGORY## and image.\n",
        "Only return description. The description should be SEO optimized and for a better mobile search experience.\n",
        "\n",
        "##PRODUCT NAME##: {product_name}\n",
        "##CATEGORY##: {category}\"\"\"\n",
        "\n",
        "system_message = \"You are an expert product description writer for Amazon.\""
      ],
      "metadata": {
        "id": "DH9_3KtgokTO"
      },
      "execution_count": null,
      "outputs": []
    },
    {
      "cell_type": "code",
      "source": [
        "from datasets import load_dataset\n",
        "\n",
        "# Convert dataset to OAI messages\n",
        "def format_data(sample):\n",
        "    return {\"messages\": [\n",
        "                {\n",
        "                    \"role\": \"user\",\n",
        "                    \"content\": [\n",
        "                        {\n",
        "                            \"type\": \"text\",\n",
        "                            \"text\": prompt.format(product_name=sample[\"Product Name\"], category=sample[\"Category\"]),\n",
        "                        },{\n",
        "                            \"type\": \"image\",\n",
        "                            \"image\": sample[\"image\"],\n",
        "                        }\n",
        "                    ],\n",
        "                },\n",
        "                {\n",
        "                    \"role\": \"assistant\",\n",
        "                    \"content\": [{\"type\": \"text\", \"text\": sample[\"description\"]}],\n",
        "                },\n",
        "            ],\n",
        "        }\n",
        "\n",
        "# Load dataset from the hub\n",
        "dataset_id = \"philschmid/amazon-product-descriptions-vlm\"\n",
        "dataset = load_dataset(\"philschmid/amazon-product-descriptions-vlm\", split=\"train\")\n",
        "\n",
        "# Convert dataset to OAI messages\n",
        "# need to use list comprehension to keep Pil.Image type, .mape convert image to bytes\n",
        "dataset = [format_data(sample) for sample in dataset]\n",
        "\n",
        "print(dataset[345][\"messages\"])"
      ],
      "metadata": {
        "colab": {
          "base_uri": "https://localhost:8080/"
        },
        "id": "7tb6mEnheCeL",
        "outputId": "5b617570-4638-4eaf-d83a-3876f3ca8211"
      },
      "execution_count": null,
      "outputs": [
        {
          "output_type": "stream",
          "name": "stderr",
          "text": [
            "/usr/local/lib/python3.10/dist-packages/huggingface_hub/utils/_token.py:89: UserWarning: \n",
            "The secret `HF_TOKEN` does not exist in your Colab secrets.\n",
            "To authenticate with the Hugging Face Hub, create a token in your settings tab (https://huggingface.co/settings/tokens), set it as secret in your Google Colab and restart your session.\n",
            "You will be able to reuse this secret in all of your notebooks.\n",
            "Please note that authentication is recommended but still optional to access public models or datasets.\n",
            "  warnings.warn(\n"
          ]
        },
        {
          "output_type": "stream",
          "name": "stdout",
          "text": [
            "[{'role': 'user', 'content': [{'type': 'text', 'text': 'Create a Short Product description based on the provided ##PRODUCT NAME## and ##CATEGORY## and image.\\nOnly return description. The description should be SEO optimized and for a better mobile search experience.\\n\\n##PRODUCT NAME##: MasterPieces Tribal Spirit Jigsaw Puzzle, The Chiefs, Featuring American Indian Tribe Traditions & Ceremonies, 1000 Pieces\\n##CATEGORY##: Toys & Games | Puzzles | Jigsaw Puzzles'}, {'type': 'image', 'image': <PIL.JpegImagePlugin.JpegImageFile image mode=RGB size=500x500 at 0x7F7951C3EE30>}]}, {'role': 'assistant', 'content': [{'type': 'text', 'text': 'Challenge yourself with this 1000-piece MasterPieces Tribal Spirit jigsaw puzzle!  Depicting the rich traditions and ceremonies of American Indian tribes, \"The Chiefs\" offers a stunning, culturally significant image perfect for puzzle enthusiasts.  High-quality pieces guarantee a satisfying solve.'}]}]\n"
          ]
        }
      ]
    },
    {
      "cell_type": "code",
      "source": [
        "from transformers import AutoModelForCausalLM, AutoTokenizer, set_seed, Trainer, TrainingArguments, BitsAndBytesConfig, \\\n",
        "    DataCollatorForLanguageModeling, Trainer, TrainingArguments, GenerationConfig"
      ],
      "metadata": {
        "id": "dXg0TsNWq3dL"
      },
      "execution_count": null,
      "outputs": []
    },
    {
      "cell_type": "code",
      "source": [
        "import torch\n",
        "\n",
        "def create_bnb_config():\n",
        "    bnb_4bit_compute_dtype = \"float16\"\n",
        "    compute_dtype = getattr(torch, bnb_4bit_compute_dtype)\n",
        "\n",
        "    bnb_config = BitsAndBytesConfig(\n",
        "        load_in_4bit=True,\n",
        "        bnb_4bit_use_double_quant=True,\n",
        "        bnb_4bit_quant_type=\"nf4\",\n",
        "        bnb_4bit_compute_dtype=compute_dtype,\n",
        "    )\n",
        "    return bnb_config"
      ],
      "metadata": {
        "id": "jkmEnEgMqsyW"
      },
      "execution_count": null,
      "outputs": []
    },
    {
      "cell_type": "code",
      "source": [
        "quant_config = create_bnb_config()"
      ],
      "metadata": {
        "id": "757lPKVmrC8E"
      },
      "execution_count": null,
      "outputs": []
    },
    {
      "cell_type": "code",
      "source": [
        "import requests\n",
        "import torch\n",
        "from PIL import Image\n",
        "from transformers import MllamaForConditionalGeneration, AutoProcessor\n",
        "\n",
        "model_id = \"meta-llama/Llama-3.2-11B-Vision-Instruct\"\n",
        "\n",
        "model = MllamaForConditionalGeneration.from_pretrained(\n",
        "    model_id,\n",
        "    quantization_config=quant_config,\n",
        "    device_map=\"auto\",\n",
        ")\n"
      ],
      "metadata": {
        "colab": {
          "base_uri": "https://localhost:8080/",
          "height": 510
        },
        "id": "Mg0zQd8LohNP",
        "outputId": "414af645-a6be-409f-f408-59eddbb9434b"
      },
      "execution_count": null,
      "outputs": [
        {
          "output_type": "stream",
          "name": "stderr",
          "text": [
            "WARNING:accelerate.utils.modeling:The model weights are not tied. Please use the `tie_weights` method before using the `infer_auto_device` function.\n"
          ]
        },
        {
          "output_type": "error",
          "ename": "ValueError",
          "evalue": "Some modules are dispatched on the CPU or the disk. Make sure you have enough GPU RAM to fit the quantized model. If you want to dispatch the model on the CPU or the disk while keeping these modules in 32-bit, you need to set `load_in_8bit_fp32_cpu_offload=True` and pass a custom `device_map` to `from_pretrained`. Check https://huggingface.co/docs/transformers/main/en/main_classes/quantization#offload-between-cpu-and-gpu for more details. ",
          "traceback": [
            "\u001b[0;31m---------------------------------------------------------------------------\u001b[0m",
            "\u001b[0;31mValueError\u001b[0m                                Traceback (most recent call last)",
            "\u001b[0;32m<ipython-input-87-fc92ed6cd5bf>\u001b[0m in \u001b[0;36m<cell line: 8>\u001b[0;34m()\u001b[0m\n\u001b[1;32m      6\u001b[0m \u001b[0mmodel_id\u001b[0m \u001b[0;34m=\u001b[0m \u001b[0;34m\"meta-llama/Llama-3.2-11B-Vision-Instruct\"\u001b[0m\u001b[0;34m\u001b[0m\u001b[0;34m\u001b[0m\u001b[0m\n\u001b[1;32m      7\u001b[0m \u001b[0;34m\u001b[0m\u001b[0m\n\u001b[0;32m----> 8\u001b[0;31m model = MllamaForConditionalGeneration.from_pretrained(\n\u001b[0m\u001b[1;32m      9\u001b[0m     \u001b[0mmodel_id\u001b[0m\u001b[0;34m,\u001b[0m\u001b[0;34m\u001b[0m\u001b[0;34m\u001b[0m\u001b[0m\n\u001b[1;32m     10\u001b[0m     \u001b[0mquantization_config\u001b[0m\u001b[0;34m=\u001b[0m\u001b[0mquant_config\u001b[0m\u001b[0;34m,\u001b[0m\u001b[0;34m\u001b[0m\u001b[0;34m\u001b[0m\u001b[0m\n",
            "\u001b[0;32m/usr/local/lib/python3.10/dist-packages/transformers/modeling_utils.py\u001b[0m in \u001b[0;36mfrom_pretrained\u001b[0;34m(cls, pretrained_model_name_or_path, config, cache_dir, ignore_mismatched_sizes, force_download, local_files_only, token, revision, use_safetensors, weights_only, *model_args, **kwargs)\u001b[0m\n\u001b[1;32m   4138\u001b[0m \u001b[0;34m\u001b[0m\u001b[0m\n\u001b[1;32m   4139\u001b[0m             \u001b[0;32mif\u001b[0m \u001b[0mhf_quantizer\u001b[0m \u001b[0;32mis\u001b[0m \u001b[0;32mnot\u001b[0m \u001b[0;32mNone\u001b[0m\u001b[0;34m:\u001b[0m\u001b[0;34m\u001b[0m\u001b[0;34m\u001b[0m\u001b[0m\n\u001b[0;32m-> 4140\u001b[0;31m                 \u001b[0mhf_quantizer\u001b[0m\u001b[0;34m.\u001b[0m\u001b[0mvalidate_environment\u001b[0m\u001b[0;34m(\u001b[0m\u001b[0mdevice_map\u001b[0m\u001b[0;34m=\u001b[0m\u001b[0mdevice_map\u001b[0m\u001b[0;34m)\u001b[0m\u001b[0;34m\u001b[0m\u001b[0;34m\u001b[0m\u001b[0m\n\u001b[0m\u001b[1;32m   4141\u001b[0m \u001b[0;34m\u001b[0m\u001b[0m\n\u001b[1;32m   4142\u001b[0m         \u001b[0;32melif\u001b[0m \u001b[0mdevice_map\u001b[0m \u001b[0;32mis\u001b[0m \u001b[0;32mnot\u001b[0m \u001b[0;32mNone\u001b[0m\u001b[0;34m:\u001b[0m\u001b[0;34m\u001b[0m\u001b[0;34m\u001b[0m\u001b[0m\n",
            "\u001b[0;32m/usr/local/lib/python3.10/dist-packages/transformers/quantizers/quantizer_bnb_4bit.py\u001b[0m in \u001b[0;36mvalidate_environment\u001b[0;34m(self, *args, **kwargs)\u001b[0m\n\u001b[1;32m    100\u001b[0m                 \u001b[0;32mpass\u001b[0m\u001b[0;34m\u001b[0m\u001b[0;34m\u001b[0m\u001b[0m\n\u001b[1;32m    101\u001b[0m             \u001b[0;32melif\u001b[0m \u001b[0;34m\"cpu\"\u001b[0m \u001b[0;32min\u001b[0m \u001b[0mdevice_map_without_lm_head\u001b[0m\u001b[0;34m.\u001b[0m\u001b[0mvalues\u001b[0m\u001b[0;34m(\u001b[0m\u001b[0;34m)\u001b[0m \u001b[0;32mor\u001b[0m \u001b[0;34m\"disk\"\u001b[0m \u001b[0;32min\u001b[0m \u001b[0mdevice_map_without_lm_head\u001b[0m\u001b[0;34m.\u001b[0m\u001b[0mvalues\u001b[0m\u001b[0;34m(\u001b[0m\u001b[0;34m)\u001b[0m\u001b[0;34m:\u001b[0m\u001b[0;34m\u001b[0m\u001b[0;34m\u001b[0m\u001b[0m\n\u001b[0;32m--> 102\u001b[0;31m                 raise ValueError(\n\u001b[0m\u001b[1;32m    103\u001b[0m                     \u001b[0;34m\"Some modules are dispatched on the CPU or the disk. Make sure you have enough GPU RAM to fit the \"\u001b[0m\u001b[0;34m\u001b[0m\u001b[0;34m\u001b[0m\u001b[0m\n\u001b[1;32m    104\u001b[0m                     \u001b[0;34m\"quantized model. If you want to dispatch the model on the CPU or the disk while keeping these modules \"\u001b[0m\u001b[0;34m\u001b[0m\u001b[0;34m\u001b[0m\u001b[0m\n",
            "\u001b[0;31mValueError\u001b[0m: Some modules are dispatched on the CPU or the disk. Make sure you have enough GPU RAM to fit the quantized model. If you want to dispatch the model on the CPU or the disk while keeping these modules in 32-bit, you need to set `load_in_8bit_fp32_cpu_offload=True` and pass a custom `device_map` to `from_pretrained`. Check https://huggingface.co/docs/transformers/main/en/main_classes/quantization#offload-between-cpu-and-gpu for more details. "
          ]
        }
      ]
    },
    {
      "cell_type": "code",
      "source": [
        "from PIL import Image\n",
        "import io\n",
        "import base64\n",
        "\n",
        "# Replace with the path to your image\n",
        "image_path = 'image.png'\n",
        "\n",
        "# Open the image\n",
        "with Image.open(image_path) as img:\n",
        "    # Convert the image to RGB mode (in case it's not already)\n",
        "    img = img.convert('RGB')\n",
        "\n",
        "    # Create a byte stream\n",
        "    buffered = io.BytesIO()\n",
        "\n",
        "    # Save the image to the byte stream in JPEG format\n",
        "    img.save(buffered, format=\"JPEG\")\n",
        "\n",
        "    # Encode the bytes to base64\n",
        "    img_str = base64.b64encode(buffered.getvalue()).decode()\n",
        "\n",
        "print(f\"Base64 string of the image (first 100 characters):\\n{img_str[:100]}...\")"
      ],
      "metadata": {
        "colab": {
          "base_uri": "https://localhost:8080/"
        },
        "id": "cN3mO6Gtv5lc",
        "outputId": "fec544f4-8ce1-41c9-ca5f-19887a32722d"
      },
      "execution_count": null,
      "outputs": [
        {
          "output_type": "stream",
          "name": "stdout",
          "text": [
            "Base64 string of the image (first 100 characters):\n",
            "/9j/4AAQSkZJRgABAQAAAQABAAD/2wBDAAgGBgcGBQgHBwcJCQgKDBQNDAsLDBkSEw8UHRofHh0aHBwgJC4nICIsIxwcKDcpLDAx...\n"
          ]
        }
      ]
    },
    {
      "cell_type": "code",
      "source": [
        "processor = AutoProcessor.from_pretrained(model_id)\n",
        "\n",
        "url = \"https://huggingface.co/datasets/huggingface/documentation-images/resolve/0052a70beed5bf71b92610a43a52df6d286cd5f3/diffusers/rabbit.jpg\"\n",
        "image = Image.open(requests.get(url, stream=True).raw)\n",
        "\n",
        "messages = [\n",
        "    {\"role\": \"user\", \"content\": [\n",
        "        {\"type\": \"image\"},\n",
        "        {\"type\": \"text\", \"text\": \"What is the image about ? \"}\n",
        "    ]}\n",
        "]\n",
        "input_text = processor.apply_chat_template(messages, add_generation_prompt=True)\n",
        "inputs = processor(\n",
        "    image,\n",
        "    input_text,\n",
        "    add_special_tokens=False,\n",
        "    return_tensors=\"pt\"\n",
        ").to(model.device)\n",
        "\n",
        "output = model.generate(**inputs, max_new_tokens=30)\n",
        "print(processor.decode(output[0]))"
      ],
      "metadata": {
        "colab": {
          "base_uri": "https://localhost:8080/"
        },
        "id": "puA6jt5Fpnyh",
        "outputId": "32b0ca19-c430-480d-df64-afd24b1fcefd"
      },
      "execution_count": null,
      "outputs": [
        {
          "output_type": "stream",
          "name": "stdout",
          "text": [
            "<|begin_of_text|><|start_header_id|>user<|end_header_id|>\n",
            "\n",
            "<|image|>What is the image about? <|eot_id|><|start_header_id|>assistant<|end_header_id|>\n",
            "\n",
            "The image depicts a charming scene of a rabbit standing on a dirt path, surrounded by a picturesque landscape. The rabbit is dressed in a blue jacket and\n"
          ]
        }
      ]
    },
    {
      "cell_type": "code",
      "source": [
        "processor = AutoProcessor.from_pretrained(model_id)\n",
        "\n",
        "url = \"https://huggingface.co/datasets/huggingface/documentation-images/resolve/0052a70beed5bf71b92610a43a52df6d286cd5f3/diffusers/rabbit.jpg\"\n",
        "image = Image.open(requests.get(url, stream=True).raw)\n",
        "\n",
        "messages = [\n",
        "    {\"role\": \"user\", \"content\": [\n",
        "        {\"type\": \"image\"},\n",
        "        {\"type\": \"text\", \"text\": \"What is the image about ? \"}\n",
        "    ]}\n",
        "]\n",
        "input_text = processor.apply_chat_template(messages, add_generation_prompt=True)\n",
        "inputs = processor(\n",
        "    img,\n",
        "    input_text,\n",
        "    add_special_tokens=False,\n",
        "    return_tensors=\"pt\"\n",
        ").to(model.device)\n",
        "\n",
        "output = model.generate(**inputs, max_new_tokens=300)\n",
        "print(processor.decode(output[0]))"
      ],
      "metadata": {
        "colab": {
          "base_uri": "https://localhost:8080/"
        },
        "id": "UGYNfHT5r4nl",
        "outputId": "9d70d7fa-43d1-4990-da0f-133db85f0757"
      },
      "execution_count": null,
      "outputs": [
        {
          "output_type": "stream",
          "name": "stdout",
          "text": [
            "<|begin_of_text|><|start_header_id|>user<|end_header_id|>\n",
            "\n",
            "<|image|>What is the image about? <|eot_id|><|start_header_id|>assistant<|end_header_id|>\n",
            "\n",
            "The image shows a screenshot of the Salesforce platform, with a focus on the \"Actions\" and \"Conversation Preview\" sections. The \"Actions\" section is located on the left side of the screen and features a list of available actions, including \"This Copilot's Actions,\" \"Copilot Action Library,\" \"7 items - Sorted by Copilot Action Label(asc),\" \"Copilot Action Label,\" \"Identify Object by Name,\" \"Summarize Record,\" \"Identify Record by Name,\" \"Query Records,\" \"Query Records with Aggregate,\" \"Draft or Revise Sales Email,\" and \"Answer Questions with Knowledge.\" The \"Conversation Preview\" section is located on the right side of the screen and displays a conversation between two users, with the user's name, email address, and message displayed. The conversation appears to be a discussion about a sales opportunity, with the user providing information about the customer's company and the sales representative summarizing the conversation. Overall, the image suggests that the user is using the Salesforce platform to manage their sales pipeline and communicate with customers.<|eot_id|>\n"
          ]
        }
      ]
    },
    {
      "cell_type": "code",
      "source": [
        "from PIL import Image\n",
        "import io\n",
        "import base64\n",
        "\n",
        "# Replace with the path to your image\n",
        "image_path = 'file-5d27ffbe9f837.jpg'\n",
        "\n",
        "# Open the image\n",
        "with Image.open(image_path) as img:\n",
        "    # Convert the image to RGB mode (in case it's not already)\n",
        "    img = img.convert('RGB')\n",
        "\n",
        "    # Create a byte stream\n",
        "    buffered = io.BytesIO()\n",
        "\n",
        "    # Save the image to the byte stream in JPEG format\n",
        "    img.save(buffered, format=\"JPEG\")\n",
        "\n",
        "    # Encode the bytes to base64\n",
        "    img_str = base64.b64encode(buffered.getvalue()).decode()\n",
        "\n",
        "print(f\"Base64 string of the image (first 100 characters):\\n{img_str[:100]}...\")"
      ],
      "metadata": {
        "colab": {
          "base_uri": "https://localhost:8080/"
        },
        "id": "GdbQvX0KIKV0",
        "outputId": "28320297-106a-4ea1-c0e4-5cb3dea828e9"
      },
      "execution_count": null,
      "outputs": [
        {
          "output_type": "stream",
          "name": "stdout",
          "text": [
            "Base64 string of the image (first 100 characters):\n",
            "/9j/4AAQSkZJRgABAQAAAQABAAD/2wBDAAgGBgcGBQgHBwcJCQgKDBQNDAsLDBkSEw8UHRofHh0aHBwgJC4nICIsIxwcKDcpLDAx...\n"
          ]
        }
      ]
    },
    {
      "cell_type": "code",
      "source": [
        "processor = AutoProcessor.from_pretrained(model_id)\n",
        "\n",
        "url = \"https://huggingface.co/datasets/huggingface/documentation-images/resolve/0052a70beed5bf71b92610a43a52df6d286cd5f3/diffusers/rabbit.jpg\"\n",
        "image = Image.open(requests.get(url, stream=True).raw)\n",
        "\n",
        "messages = [\n",
        "    {\"role\": \"user\", \"content\": [\n",
        "        {\"type\": \"image\"},\n",
        "        {\"type\": \"text\", \"text\": \"Extract all the information from the image in json \"}\n",
        "    ]}\n",
        "]\n",
        "input_text = processor.apply_chat_template(messages, add_generation_prompt=True)\n",
        "inputs = processor(\n",
        "    img,\n",
        "    input_text,\n",
        "    add_special_tokens=False,\n",
        "    return_tensors=\"pt\"\n",
        ").to(model.device)\n",
        "\n",
        "output = model.generate(**inputs, max_new_tokens=300)\n",
        "print(processor.decode(output[0]))"
      ],
      "metadata": {
        "colab": {
          "base_uri": "https://localhost:8080/"
        },
        "id": "WGaTbjLkwd8b",
        "outputId": "9a8e9a08-f533-4d4e-b435-3cfc3a7b2ae3"
      },
      "execution_count": null,
      "outputs": [
        {
          "output_type": "stream",
          "name": "stdout",
          "text": [
            "<|begin_of_text|><|start_header_id|>user<|end_header_id|>\n",
            "\n",
            "<|image|>Extract all the information from the image in json <|eot_id|><|start_header_id|>assistant<|end_header_id|>\n",
            "\n",
            "\"{\n",
            "    \\\"Income from tourism sector\\\": [\n",
            "        {\n",
            "            \\\"Year\\\": \\\"1982\\\",\n",
            "            \\\"Value\\\": \\\"0.4\\\"\n",
            "        },\n",
            "        {\n",
            "            \\\"Year\\\": \\\"1993\\\",\n",
            "            \\\"Value\\\": \\\"1.8\\\"\n",
            "        },\n",
            "        {\n",
            "            \\\"Year\\\": \\\"1995\\\",\n",
            "            \\\"Value\\\": \\\"2.1\\\"\n",
            "        },\n",
            "        {\n",
            "            \\\"Year\\\": \\\"1997\\\",\n",
            "            \\\"Value\\\": \\\"2.9\\\"\n",
            "        },\n",
            "        {\n",
            "            \\\"Year\\\": \\\"2000\\\",\n",
            "            \\\"Value\\\": \\\"4.4\\\"\n",
            "        },\n",
            "        {\n",
            "            \\\"Year\\\": \\\"2001\\\",\n",
            "            \\\"Value\\\": \\\"3.9\\\"\n",
            "        },\n",
            "        {\n",
            "            \\\"Year\\\": \\\"2002\\\",\n",
            "            \\\"Value\\\": \\\"3.9\\\"\n",
            "        },\n",
            "        {\n",
            "            \\\"Year\\\": \\\"2003\\\",\n",
            "            \\\"Value\\\": \\\"1.6\\\"\n",
            "        }\n",
            "    ],\n",
            "    \\\"Income from construction sector\\\": [\n",
            "        {\n",
            "            \\\"Year\\\": \\\"1982\\\",\n",
            "            \\\"Value\\\": \\\"1.4\\\"\n",
            "        },\n",
            "        {\n",
            "            \\\"Year\\\": \\\"1993\\\",\n",
            "            \\\"Value\\\": \\\"2.1\\\"\n",
            "        },\n",
            "        {\n",
            "            \\\"Year\\\": \\\"1995\\\",\n",
            "            \\\"Value\\\": \\\"2.1\\\"\n",
            "        },\n",
            "        {\n",
            "            \\\"Year\\\": \\\"1997\\\",\n",
            "            \\\"Value\\\": \\\"3.3\\\"\n",
            "        },\n",
            "        {\n",
            "            \\\"Year\\\": \\\"2000\\\",\n",
            "            \\\"Value\\\": \\\"3\n"
          ]
        }
      ]
    },
    {
      "cell_type": "code",
      "source": [],
      "metadata": {
        "id": "YCzX9maIIQh7"
      },
      "execution_count": null,
      "outputs": []
    },
    {
      "cell_type": "code",
      "source": [
        "## Finetuning"
      ],
      "metadata": {
        "id": "-eDFNyS4YRB0"
      },
      "execution_count": null,
      "outputs": []
    },
    {
      "cell_type": "code",
      "source": [
        "dataset[345][\"messages\"]"
      ],
      "metadata": {
        "colab": {
          "base_uri": "https://localhost:8080/"
        },
        "id": "d-xUPqfqYwQF",
        "outputId": "daa9e8b2-203a-46e1-df15-1d9dd0a177b3"
      },
      "execution_count": null,
      "outputs": [
        {
          "output_type": "execute_result",
          "data": {
            "text/plain": [
              "[{'role': 'user',\n",
              "  'content': [{'type': 'text',\n",
              "    'text': 'Create a Short Product description based on the provided ##PRODUCT NAME## and ##CATEGORY## and image.\\nOnly return description. The description should be SEO optimized and for a better mobile search experience.\\n\\n##PRODUCT NAME##: MasterPieces Tribal Spirit Jigsaw Puzzle, The Chiefs, Featuring American Indian Tribe Traditions & Ceremonies, 1000 Pieces\\n##CATEGORY##: Toys & Games | Puzzles | Jigsaw Puzzles'},\n",
              "   {'type': 'image',\n",
              "    'image': <PIL.JpegImagePlugin.JpegImageFile image mode=RGB size=500x500>}]},\n",
              " {'role': 'assistant',\n",
              "  'content': [{'type': 'text',\n",
              "    'text': 'Challenge yourself with this 1000-piece MasterPieces Tribal Spirit jigsaw puzzle!  Depicting the rich traditions and ceremonies of American Indian tribes, \"The Chiefs\" offers a stunning, culturally significant image perfect for puzzle enthusiasts.  High-quality pieces guarantee a satisfying solve.'}]}]"
            ]
          },
          "metadata": {},
          "execution_count": 6
        }
      ]
    },
    {
      "cell_type": "code",
      "source": [
        "import torch\n",
        "from transformers import AutoModelForVision2Seq, AutoProcessor, BitsAndBytesConfig\n",
        "\n",
        "# Hugging Face model id\n",
        "model_id = \"meta-llama/Llama-3.2-11B-Vision-Instruct\"\n",
        "\n",
        "# BitsAndBytesConfig int-4 config\n",
        "bnb_config = BitsAndBytesConfig(\n",
        "    load_in_4bit=True, bnb_4bit_use_double_quant=True, bnb_4bit_quant_type=\"nf4\", bnb_4bit_compute_dtype=torch.bfloat16\n",
        ")\n",
        "\n",
        "# Load model and tokenizer\n",
        "model = AutoModelForVision2Seq.from_pretrained(\n",
        "    model_id,\n",
        "    device_map=\"auto\",\n",
        "    # attn_implementation=\"flash_attention_2\", # not supported for training\n",
        "    torch_dtype=torch.bfloat16,\n",
        "    quantization_config=bnb_config\n",
        ")\n",
        "processor = AutoProcessor.from_pretrained(model_id)\n",
        "\n",
        "text = processor.apply_chat_template(\n",
        "    dataset[2][\"messages\"], tokenize=False, add_generation_prompt=False\n",
        ")"
      ],
      "metadata": {
        "colab": {
          "base_uri": "https://localhost:8080/",
          "height": 87,
          "referenced_widgets": [
            "fe27b68e4a854913908a4baef141d9a5",
            "081c2033edd14e859e3f279aa017d2fd",
            "e592e61c75984f05be531031a6d55f13",
            "69e65b74aec14238a08e42da667c6773",
            "d3f5f02f49f344d6aac0df59e79f792d",
            "b7f917b874a04728a2d71f195d22abe9",
            "150979818f4a4e12ad4e4da92c1bdb7e",
            "90bedb4f1b104aa3a9ef3f09f43e61c3",
            "facc757e21cf44ea8c1172a9880f9d2a",
            "a738b6f1e7004a5fba4ad52ef68604f3",
            "01ab45a7886945929f7f6b4b658dfdd5"
          ]
        },
        "id": "u2A9WZSbYREV",
        "outputId": "26f4735b-939a-4f1b-c827-68204c6a5f3b"
      },
      "execution_count": null,
      "outputs": [
        {
          "output_type": "stream",
          "name": "stderr",
          "text": [
            "WARNING:accelerate.utils.modeling:The model weights are not tied. Please use the `tie_weights` method before using the `infer_auto_device` function.\n"
          ]
        },
        {
          "output_type": "display_data",
          "data": {
            "text/plain": [
              "Loading checkpoint shards:   0%|          | 0/5 [00:00<?, ?it/s]"
            ],
            "application/vnd.jupyter.widget-view+json": {
              "version_major": 2,
              "version_minor": 0,
              "model_id": "fe27b68e4a854913908a4baef141d9a5"
            }
          },
          "metadata": {}
        }
      ]
    },
    {
      "cell_type": "code",
      "source": [
        "text"
      ],
      "metadata": {
        "colab": {
          "base_uri": "https://localhost:8080/",
          "height": 143
        },
        "id": "_9mo4T80YRHO",
        "outputId": "fa6856d0-8dc5-4c7f-a259-11fbeeb74aad"
      },
      "execution_count": null,
      "outputs": [
        {
          "output_type": "execute_result",
          "data": {
            "text/plain": [
              "'<|begin_of_text|><|start_header_id|>user<|end_header_id|>\\n\\nCreate a Short Product description based on the provided ##PRODUCT NAME## and ##CATEGORY## and image.\\nOnly return description. The description should be SEO optimized and for a better mobile search experience.\\n\\n##PRODUCT NAME##: Barbie Fashionistas Doll Wear Your Heart\\n##CATEGORY##: Toys & Games | Dolls & Accessories | Dolls<|image|><|eot_id|><|start_header_id|>assistant<|end_header_id|>\\n\\nExpress your style with Barbie Fashionistas Doll Wear Your Heart! This fashionable doll boasts a unique outfit and accessories, perfect for imaginative play.  A great gift for kids aged 3+.  Collect them all! #Barbie #Fashionistas #Doll #Toys #GirlsToys #FashionDoll #Play<|eot_id|>'"
            ],
            "application/vnd.google.colaboratory.intrinsic+json": {
              "type": "string"
            }
          },
          "metadata": {},
          "execution_count": 7
        }
      ]
    },
    {
      "cell_type": "code",
      "source": [
        "from peft import LoraConfig\n",
        "\n",
        "# LoRA config based on QLoRA paper & Sebastian Raschka experiment\n",
        "peft_config = LoraConfig(\n",
        "        lora_alpha=16,\n",
        "        lora_dropout=0.05,\n",
        "        r=8,\n",
        "        bias=\"none\",\n",
        "        target_modules=[\"q_proj\", \"v_proj\"],\n",
        "        task_type=\"CAUSAL_LM\",\n",
        ")"
      ],
      "metadata": {
        "id": "SGC6nkc8ZP-j"
      },
      "execution_count": null,
      "outputs": []
    },
    {
      "cell_type": "code",
      "source": [],
      "metadata": {
        "id": "d-bX974BuWGM"
      },
      "execution_count": null,
      "outputs": []
    },
    {
      "cell_type": "code",
      "source": [
        "from trl import SFTConfig\n",
        "from transformers import Qwen2VLProcessor\n",
        "from qwen_vl_utils import process_vision_info\n",
        "\n",
        "args = SFTConfig(\n",
        "    output_dir=\"finetuned-vision-llama\", # directory to save and repository id\n",
        "    num_train_epochs=3,                     # number of training epochs\n",
        "    per_device_train_batch_size=4,          # batch size per device during training\n",
        "    gradient_accumulation_steps=8,          # number of steps before performing a backward/update pass\n",
        "    gradient_checkpointing=True,            # use gradient checkpointing to save memory\n",
        "    optim=\"adamw_torch_fused\",              # use fused adamw optimizer\n",
        "    logging_steps=5,                       # log every 10 steps\n",
        "    save_strategy=\"epoch\",                  # save checkpoint every epoch\n",
        "    learning_rate=2e-4,                     # learning rate, based on QLoRA paper\n",
        "    bf16=True,                              # use bfloat16 precision\n",
        "    tf32=True,                              # use tf32 precision\n",
        "    max_grad_norm=0.3,                      # max gradient norm based on QLoRA paper\n",
        "    warmup_ratio=0.03,                      # warmup ratio based on QLoRA paper\n",
        "    lr_scheduler_type=\"constant\",           # use constant learning rate scheduler\n",
        "    push_to_hub=True,                       # push model to hub\n",
        "    report_to=\"tensorboard\",                # report metrics to tensorboard\n",
        "    gradient_checkpointing_kwargs = {\"use_reentrant\": False}, # use reentrant checkpointing\n",
        "    dataset_text_field=\"\", # need a dummy field for collator\n",
        "    dataset_kwargs = {\"skip_prepare_dataset\": True} # important for collator\n",
        ")\n",
        "args.remove_unused_columns=False\n"
      ],
      "metadata": {
        "id": "YsCiHp0CsxW4"
      },
      "execution_count": null,
      "outputs": []
    },
    {
      "cell_type": "code",
      "source": [
        "from qwen_vl_utils import process_vision_info\n",
        "\n",
        "# Define a custom collator function\n",
        "def collate_fn(examples):\n",
        "    print(examples)\n",
        "    texts = [processor.apply_chat_template(example[\"messages\"], tokenize=False) for example in examples]\n",
        "    image_inputs = [process_vision_info(example[\"messages\"])[0] for example in examples]\n",
        "\n",
        "    batch = processor(text=texts, images=image_inputs, return_tensors=\"pt\", padding=True)\n",
        "    labels = batch[\"input_ids\"].clone()\n",
        "    labels[labels == processor.tokenizer.pad_token_id] = -100\n",
        "\n",
        "    # Mask image tokens in the labels\n",
        "    image_tokens = [processor.tokenizer.convert_tokens_to_ids(processor.image_token)]\n",
        "    for image_token_id in image_tokens:\n",
        "        labels[labels == image_token_id] = -100\n",
        "    batch[\"labels\"] = labels\n",
        "\n",
        "    return batch"
      ],
      "metadata": {
        "id": "IZAhkj0Cu4V9"
      },
      "execution_count": null,
      "outputs": []
    },
    {
      "cell_type": "code",
      "source": [
        "dataset[0][\"messages\"][0]"
      ],
      "metadata": {
        "colab": {
          "base_uri": "https://localhost:8080/"
        },
        "id": "HCUG12jkxgiH",
        "outputId": "26e81fda-efd7-4435-9bef-9519dd60fc4a"
      },
      "execution_count": null,
      "outputs": [
        {
          "output_type": "execute_result",
          "data": {
            "text/plain": [
              "{'role': 'user',\n",
              " 'content': [{'type': 'text',\n",
              "   'text': \"Create a Short Product description based on the provided ##PRODUCT NAME## and ##CATEGORY## and image.\\nOnly return description. The description should be SEO optimized and for a better mobile search experience.\\n\\n##PRODUCT NAME##: Kurio Glow Smartwatch for Kids with Bluetooth, Apps, Camera & Games, Blue\\n##CATEGORY##: Toys & Games | Kids' Electronics | Electronic Learning Toys\"},\n",
              "  {'type': 'image',\n",
              "   'image': <PIL.JpegImagePlugin.JpegImageFile image mode=RGB size=500x500>}]}"
            ]
          },
          "metadata": {},
          "execution_count": 11
        }
      ]
    },
    {
      "cell_type": "code",
      "source": [
        "collate_fn(dataset[0:3])['input_ids']"
      ],
      "metadata": {
        "id": "YJNQj2JJxOyr",
        "colab": {
          "base_uri": "https://localhost:8080/"
        },
        "outputId": "573699c7-c8b0-42e9-9a38-80d1afa414f5"
      },
      "execution_count": null,
      "outputs": [
        {
          "output_type": "stream",
          "name": "stdout",
          "text": [
            "[{'messages': [{'role': 'user', 'content': [{'type': 'text', 'text': \"Create a Short Product description based on the provided ##PRODUCT NAME## and ##CATEGORY## and image.\\nOnly return description. The description should be SEO optimized and for a better mobile search experience.\\n\\n##PRODUCT NAME##: Kurio Glow Smartwatch for Kids with Bluetooth, Apps, Camera & Games, Blue\\n##CATEGORY##: Toys & Games | Kids' Electronics | Electronic Learning Toys\"}, {'type': 'image', 'image': <PIL.JpegImagePlugin.JpegImageFile image mode=RGB size=500x500 at 0x7F7978C1B820>}]}, {'role': 'assistant', 'content': [{'type': 'text', 'text': \"Kurio Glow Smartwatch: Fun, Safe & Educational!  This kids' smartwatch boasts Bluetooth connectivity, built-in apps & games, and a camera – all in a vibrant blue design. Perfect for learning & play!  #kidssmartwatch #kidselectronics #educationaltoys #kurioglow\"}]}]}, {'messages': [{'role': 'user', 'content': [{'type': 'text', 'text': 'Create a Short Product description based on the provided ##PRODUCT NAME## and ##CATEGORY## and image.\\nOnly return description. The description should be SEO optimized and for a better mobile search experience.\\n\\n##PRODUCT NAME##: Star Ace Toys Harry Potter & The Prisoner of Azkaban: Harry Potter with Dobby 1: 8 Scale Collectible Action Figure, Multicolor SA8011B\\n##CATEGORY##: None'}, {'type': 'image', 'image': <PIL.JpegImagePlugin.JpegImageFile image mode=RGB size=338x500 at 0x7F7955AC6E00>}]}, {'role': 'assistant', 'content': [{'type': 'text', 'text': \"Relive the magic!  Star Ace Toys' 1/8 scale Harry Potter & Dobby collectible figure (SA8011B) from *Prisoner of Azkaban* is here.  Highly detailed, this action figure features Harry and his loyal house-elf, Dobby. A must-have for Harry Potter collectors!\"}]}]}, {'messages': [{'role': 'user', 'content': [{'type': 'text', 'text': 'Create a Short Product description based on the provided ##PRODUCT NAME## and ##CATEGORY## and image.\\nOnly return description. The description should be SEO optimized and for a better mobile search experience.\\n\\n##PRODUCT NAME##: Barbie Fashionistas Doll Wear Your Heart\\n##CATEGORY##: Toys & Games | Dolls & Accessories | Dolls'}, {'type': 'image', 'image': <PIL.JpegImagePlugin.JpegImageFile image mode=RGB size=196x500 at 0x7F7955AC6F20>}]}, {'role': 'assistant', 'content': [{'type': 'text', 'text': 'Express your style with Barbie Fashionistas Doll Wear Your Heart! This fashionable doll boasts a unique outfit and accessories, perfect for imaginative play.  A great gift for kids aged 3+.  Collect them all! #Barbie #Fashionistas #Doll #Toys #GirlsToys #FashionDoll #Play'}]}]}]\n"
          ]
        },
        {
          "output_type": "execute_result",
          "data": {
            "text/plain": [
              "tensor([[128000, 128000, 128006,    882, 128007,    271,   4110,    264,  10928,\n",
              "           5761,   4096,   3196,    389,    279,   3984,   7860,  52531,  19668,\n",
              "            567,    323,   7860,  94127,    567,    323,   2217,    627,   7456,\n",
              "            471,   4096,     13,    578,   4096,   1288,    387,  26029,  34440,\n",
              "            323,    369,    264,   2731,   6505,   2778,   3217,    382,    567,\n",
              "          52531,  19668,    567,     25,  32375,    822,  88448,  16147,  14658,\n",
              "            369,  23338,    449,  24783,     11,  34120,     11,  14669,    612,\n",
              "          11871,     11,   8868,    198,    567,  94127,    567,     25,  49481,\n",
              "            612,  11871,    765,  23338,      6,  38784,    765,  35269,  21579,\n",
              "          49481, 128256, 128009, 128006,  78191, 128007,    271,     42,    324,\n",
              "            822,  88448,  16147,  14658,     25,  16457,     11,  23088,    612,\n",
              "          46945,      0,    220,   1115,   6980,      6,   7941,  14658,  38119,\n",
              "          24783,  31357,     11,   5918,   3502,  10721,    612,   3953,     11,\n",
              "            323,    264,   6382,   1389,    682,    304,    264,  34076,   6437,\n",
              "           2955,     13,  24118,    369,   6975,    612,   1514,      0,    220,\n",
              "            674,  64381,    784,  34572,  14658,    674,  64381,   1779,  28429,\n",
              "            674,  25802,   1697,    998,   1065,    674,     74,   6198,    540,\n",
              "          10516, 128009, 128004, 128004, 128004, 128004, 128004, 128004, 128004,\n",
              "         128004, 128004, 128004, 128004],\n",
              "        [128000, 128000, 128006,    882, 128007,    271,   4110,    264,  10928,\n",
              "           5761,   4096,   3196,    389,    279,   3984,   7860,  52531,  19668,\n",
              "            567,    323,   7860,  94127,    567,    323,   2217,    627,   7456,\n",
              "            471,   4096,     13,    578,   4096,   1288,    387,  26029,  34440,\n",
              "            323,    369,    264,   2731,   6505,   2778,   3217,    382,    567,\n",
              "          52531,  19668,    567,     25,   7834,  38807,  49481,  14253,  30427,\n",
              "            612,    578,  42618,    261,    315,  15757,     74,  39265,     25,\n",
              "          14253,  30427,    449,    423,  10530,    220,     16,     25,    220,\n",
              "             23,  25635,  21153,   1260,   5703,  19575,     11,  22950,  74909,\n",
              "          16998,  17973,     16,     33,    198,    567,  94127,    567,     25,\n",
              "           2290, 128256, 128009, 128006,  78191, 128007,    271,   6882,    535,\n",
              "            279,  11204,      0,    220,   7834,  38807,  49481,      6,    220,\n",
              "             16,     14,     23,   5569,  14253,  30427,    612,    423,  10530,\n",
              "           6667,   1260,   7216,    320,   7934,  17973,     16,     33,      8,\n",
              "            505,    353,   3617,  98120,    315,  15757,     74,  39265,      9,\n",
              "            374,   1618,     13,    220,  53485,  11944,     11,    420,   1957,\n",
              "           7216,   4519,  14253,    323,    813,  29947,   3838,     12,    491,\n",
              "             11,    423,  10530,     13,    362,   2011,  69584,    369,  14253,\n",
              "          30427,  52548,      0, 128009],\n",
              "        [128000, 128000, 128006,    882, 128007,    271,   4110,    264,  10928,\n",
              "           5761,   4096,   3196,    389,    279,   3984,   7860,  52531,  19668,\n",
              "            567,    323,   7860,  94127,    567,    323,   2217,    627,   7456,\n",
              "            471,   4096,     13,    578,   4096,   1288,    387,  26029,  34440,\n",
              "            323,    369,    264,   2731,   6505,   2778,   3217,    382,    567,\n",
              "          52531,  19668,    567,     25,  84339,  31700,  27771,  39857,  42162,\n",
              "           4718,  18449,    198,    567,  94127,    567,     25,  49481,    612,\n",
              "          11871,    765,  39857,     82,    612,  40819,    765,  39857,     82,\n",
              "         128256, 128009, 128006,  78191, 128007,    271,   8672,    701,   1742,\n",
              "            449,  84339,  31700,  27771,  39857,  42162,   4718,  18449,      0,\n",
              "           1115,  60423,   7804,  38119,    264,   5016,  28403,    323,  23090,\n",
              "             11,   4832,    369,  77361,   1514,     13,    220,    362,   2294,\n",
              "           8352,    369,   6980,  20330,    220,     18,  50020,    220,  21153,\n",
              "           1124,    682,      0,    674,   3511,  22493,    674,  97241,  27771,\n",
              "            674,     35,    980,    674,   1271,   1065,    674,  75588,   1271,\n",
              "           1065,    674,  97241,     35,    980,    674,   9315, 128009, 128004,\n",
              "         128004, 128004, 128004, 128004, 128004, 128004, 128004, 128004, 128004,\n",
              "         128004, 128004, 128004, 128004, 128004, 128004, 128004, 128004, 128004,\n",
              "         128004, 128004, 128004, 128004]])"
            ]
          },
          "metadata": {},
          "execution_count": 12
        }
      ]
    },
    {
      "cell_type": "code",
      "source": [],
      "metadata": {
        "id": "kvfqb-SCsbsB"
      },
      "execution_count": null,
      "outputs": []
    },
    {
      "cell_type": "code",
      "source": [
        "from trl import SFTTrainer\n",
        "\n",
        "# Trainer setup\n",
        "trainer = SFTTrainer(\n",
        "    model=model,\n",
        "    args=args,\n",
        "    train_dataset=dataset,\n",
        "    data_collator=collate_fn,\n",
        "    tokenizer=processor.tokenizer,\n",
        "    peft_config=peft_config\n",
        ")\n",
        "\n",
        "# Start training\n",
        "trainer.train()"
      ],
      "metadata": {
        "id": "gY3JIHwQxNge",
        "colab": {
          "base_uri": "https://localhost:8080/",
          "height": 1000
        },
        "outputId": "16ff45f6-a970-4d22-d8b4-1602b99646d9"
      },
      "execution_count": null,
      "outputs": [
        {
          "output_type": "stream",
          "name": "stderr",
          "text": [
            "/usr/local/lib/python3.10/dist-packages/trl/trainer/sft_trainer.py:292: UserWarning: You didn't pass a `max_seq_length` argument to the SFTTrainer, this will default to 1024\n",
            "  warnings.warn(\n",
            "/usr/local/lib/python3.10/dist-packages/trl/trainer/sft_trainer.py:401: FutureWarning: `tokenizer` is deprecated and will be removed in version 5.0.0 for `SFTTrainer.__init__`. Use `processing_class` instead.\n",
            "  super().__init__(\n"
          ]
        },
        {
          "output_type": "stream",
          "name": "stdout",
          "text": [
            "[{'messages': [{'role': 'user', 'content': [{'type': 'text', 'text': \"Create a Short Product description based on the provided ##PRODUCT NAME## and ##CATEGORY## and image.\\nOnly return description. The description should be SEO optimized and for a better mobile search experience.\\n\\n##PRODUCT NAME##: LEISURE ARTS A Dishcloth A Month\\n##CATEGORY##: Home & Kitchen | Home Décor | Kids' Room Décor\"}, {'type': 'image', 'image': <PIL.JpegImagePlugin.JpegImageFile image mode=RGB size=500x500 at 0x7F79AFF532B0>}]}, {'role': 'assistant', 'content': [{'type': 'text', 'text': 'Adorable & functional dishcloths!  LEISURE ARTS\\' \"A Dishcloth A Month\" collection adds charming style to your kitchen or kids\\' room.  Perfect for everyday use or as unique home décor.  Shop now!'}]}]}, {'messages': [{'role': 'user', 'content': [{'type': 'text', 'text': 'Create a Short Product description based on the provided ##PRODUCT NAME## and ##CATEGORY## and image.\\nOnly return description. The description should be SEO optimized and for a better mobile search experience.\\n\\n##PRODUCT NAME##: Gamecraft Nylon Bean Bags\\n##CATEGORY##: Toys & Games | Sports & Outdoor Play | Bean Bags & Footbags'}, {'type': 'image', 'image': <PIL.JpegImagePlugin.JpegImageFile image mode=RGB size=250x250 at 0x7F7951704940>}]}, {'role': 'assistant', 'content': [{'type': 'text', 'text': \"Durable and fun, Gamecraft Nylon Bean Bags are perfect for indoor or outdoor play!  These high-quality bean bags are ideal for toss games, bean bag chairs, or crafting.  Made from tough nylon fabric, they're built to last. Get yours today!\"}]}]}, {'messages': [{'role': 'user', 'content': [{'type': 'text', 'text': \"Create a Short Product description based on the provided ##PRODUCT NAME## and ##CATEGORY## and image.\\nOnly return description. The description should be SEO optimized and for a better mobile search experience.\\n\\n##PRODUCT NAME##: amscan Candle Set | Daniel Tiger's Neighborhood | Birthday, Multicolor\\n##CATEGORY##: Toys & Games | Novelty & Gag Toys\"}, {'type': 'image', 'image': <PIL.JpegImagePlugin.JpegImageFile image mode=RGB size=500x500 at 0x7F79AFE29570>}]}, {'role': 'assistant', 'content': [{'type': 'text', 'text': \"Celebrate with Daniel Tiger! This Amscan Candle Set features vibrant, multicolor designs perfect for your child's Daniel Tiger's Neighborhood birthday party.  Add a touch of playful fun to your festivities!\"}]}]}, {'messages': [{'role': 'user', 'content': [{'type': 'text', 'text': 'Create a Short Product description based on the provided ##PRODUCT NAME## and ##CATEGORY## and image.\\nOnly return description. The description should be SEO optimized and for a better mobile search experience.\\n\\n##PRODUCT NAME##: WOW! Stuff Collection Harry Potter Wingardium Leviosa Kit\\n##CATEGORY##: Toys & Games | Novelty & Gag Toys'}, {'type': 'image', 'image': <PIL.JpegImagePlugin.JpegImageFile image mode=RGB size=500x432 at 0x7F7951682260>}]}, {'role': 'assistant', 'content': [{'type': 'text', 'text': 'Master the Wingardium Leviosa charm! This Harry Potter kit from WOW! Stuff lets you magically levitate objects.  Perfect for budding witches and wizards, ages 8+.  Fun novelty toy for Harry Potter fans.'}]}]}]\n",
            "[{'messages': [{'role': 'user', 'content': [{'type': 'text', 'text': \"Create a Short Product description based on the provided ##PRODUCT NAME## and ##CATEGORY## and image.\\nOnly return description. The description should be SEO optimized and for a better mobile search experience.\\n\\n##PRODUCT NAME##: Rubie's Marvel Spider-Man Far from Home Child's Mysterio Costume, Large\\n##CATEGORY##: Toys & Games | Dress Up & Pretend Play | Costumes\"}, {'type': 'image', 'image': <PIL.JpegImagePlugin.JpegImageFile image mode=RGB size=287x500 at 0x7F79AFEFF8B0>}]}, {'role': 'assistant', 'content': [{'type': 'text', 'text': \"Become the master of illusion! This Rubie's Marvel Spider-Man Far From Home Mysterio Child's Costume (Large) lets your child channel their inner villain.  Perfect for Halloween, dress-up play, or any superhero adventure.  High-quality costume for kids.\"}]}]}, {'messages': [{'role': 'user', 'content': [{'type': 'text', 'text': 'Create a Short Product description based on the provided ##PRODUCT NAME## and ##CATEGORY## and image.\\nOnly return description. The description should be SEO optimized and for a better mobile search experience.\\n\\n##PRODUCT NAME##: Sargent Art 66-5524 Acrylic Paint Set, 24-Count\\n##CATEGORY##: Toys & Games | Arts & Crafts | Drawing & Painting Supplies | Paints'}, {'type': 'image', 'image': <PIL.JpegImagePlugin.JpegImageFile image mode=RGB size=500x144 at 0x7F7951B863B0>}]}, {'role': 'assistant', 'content': [{'type': 'text', 'text': 'Unleash your inner artist with the Sargent Art 66-5524 Acrylic Paint Set! This 24-count set offers a vibrant array of colors perfect for kids and adults.  Ideal for painting projects, crafts, and more, these high-quality acrylic paints deliver rich, long-lasting color. Get creative today!'}]}]}, {'messages': [{'role': 'user', 'content': [{'type': 'text', 'text': \"Create a Short Product description based on the provided ##PRODUCT NAME## and ##CATEGORY## and image.\\nOnly return description. The description should be SEO optimized and for a better mobile search experience.\\n\\n##PRODUCT NAME##: KidKraft Bookcase with Reading Nook Toy, White\\n##CATEGORY##: Home & Kitchen | Furniture | Kids' Furniture | Bookcases, Cabinets & Shelves\"}, {'type': 'image', 'image': <PIL.JpegImagePlugin.JpegImageFile image mode=RGB size=500x500 at 0x7F79514F1300>}]}, {'role': 'assistant', 'content': [{'type': 'text', 'text': \"Create a cozy reading nook for your little one with the KidKraft White Bookcase with Reading Nook. This charming bookcase offers ample storage for books and toys, while the built-in reading nook provides a comfortable and imaginative space for quiet time.  Perfect for kids' bedrooms or playrooms.  Shop now!\"}]}]}, {'messages': [{'role': 'user', 'content': [{'type': 'text', 'text': 'Create a Short Product description based on the provided ##PRODUCT NAME## and ##CATEGORY## and image.\\nOnly return description. The description should be SEO optimized and for a better mobile search experience.\\n\\n##PRODUCT NAME##: Funko POP! Animation: My Hero Academia - All Might Collectible Figure, Multicolor\\n##CATEGORY##: Toys & Games | Collectible Toys'}, {'type': 'image', 'image': <PIL.JpegImagePlugin.JpegImageFile image mode=RGB size=335x500 at 0x7F7951B59C30>}]}, {'role': 'assistant', 'content': [{'type': 'text', 'text': 'Bring home the symbol of peace! This Funko POP! Animation: My Hero Academia - All Might collectible figure is a must-have for any fan.  Highly detailed and collectible, this multicolor vinyl figure is perfect for displaying on a shelf or desk.  Add All Might to your My Hero Academia collection today!'}]}]}]\n"
          ]
        },
        {
          "output_type": "stream",
          "name": "stderr",
          "text": [
            "`use_cache=True` is incompatible with gradient checkpointing. Setting `use_cache=False`.\n",
            "/usr/local/lib/python3.10/dist-packages/torch/utils/checkpoint.py:1399: FutureWarning: `torch.cpu.amp.autocast(args...)` is deprecated. Please use `torch.amp.autocast('cpu', args...)` instead.\n",
            "  with device_autocast_ctx, torch.cpu.amp.autocast(**cpu_autocast_kwargs), recompute_context:  # type: ignore[attr-defined]\n"
          ]
        },
        {
          "output_type": "stream",
          "name": "stdout",
          "text": [
            "[{'messages': [{'role': 'user', 'content': [{'type': 'text', 'text': 'Create a Short Product description based on the provided ##PRODUCT NAME## and ##CATEGORY## and image.\\nOnly return description. The description should be SEO optimized and for a better mobile search experience.\\n\\n##PRODUCT NAME##: Barbie Dreamhouse Adventures Stacie Doll, Approx. 9-inch\\n##CATEGORY##: Toys & Games | Dolls & Accessories | Dolls'}, {'type': 'image', 'image': <PIL.JpegImagePlugin.JpegImageFile image mode=RGB size=167x500 at 0x7F7951549CC0>}]}, {'role': 'assistant', 'content': [{'type': 'text', 'text': 'Bring home the fun with Barbie Dreamhouse Adventures Stacie Doll! This approximately 9-inch doll is perfect for imaginative play.  A great gift for kids who love Barbie!'}]}]}, {'messages': [{'role': 'user', 'content': [{'type': 'text', 'text': 'Create a Short Product description based on the provided ##PRODUCT NAME## and ##CATEGORY## and image.\\nOnly return description. The description should be SEO optimized and for a better mobile search experience.\\n\\n##PRODUCT NAME##: Precious Moments Dolls by The Doll Maker, Linda Rick, A Small Child Shall Lead Them, 12 inch Doll\\n##CATEGORY##: Toys & Games | Dolls & Accessories | Dolls'}, {'type': 'image', 'image': <PIL.JpegImagePlugin.JpegImageFile image mode=RGB size=500x348 at 0x7F7951AF9900>}]}, {'role': 'assistant', 'content': [{'type': 'text', 'text': 'Adorable 12-inch Precious Moments doll, \"A Small Child Shall Lead Them,\" by renowned doll artist Linda Rick.  A collectible keepsake for children and collectors alike.  Perfect gift!'}]}]}, {'messages': [{'role': 'user', 'content': [{'type': 'text', 'text': 'Create a Short Product description based on the provided ##PRODUCT NAME## and ##CATEGORY## and image.\\nOnly return description. The description should be SEO optimized and for a better mobile search experience.\\n\\n##PRODUCT NAME##: Carmarace Board Game\\n##CATEGORY##: Toys & Games | Games & Accessories | Board Games'}, {'type': 'image', 'image': <PIL.JpegImagePlugin.JpegImageFile image mode=RGB size=459x500 at 0x7F7951BE55D0>}]}, {'role': 'assistant', 'content': [{'type': 'text', 'text': 'Experience high-octane fun with Carmarace, the thrilling board game for families and friends!  Race your cars to the finish line, navigating challenging tracks and unexpected twists.  Perfect for ages 8+, Carmarace offers hours of exciting gameplay.  Order your copy today!'}]}]}, {'messages': [{'role': 'user', 'content': [{'type': 'text', 'text': 'Create a Short Product description based on the provided ##PRODUCT NAME## and ##CATEGORY## and image.\\nOnly return description. The description should be SEO optimized and for a better mobile search experience.\\n\\n##PRODUCT NAME##: DC Comics Multiverse Red Robin Figure\\n##CATEGORY##: Toys & Games | Toy Figures & Playsets | Action Figures'}, {'type': 'image', 'image': <PIL.JpegImagePlugin.JpegImageFile image mode=RGB size=500x415 at 0x7F79516258A0>}]}, {'role': 'assistant', 'content': [{'type': 'text', 'text': 'Bring home the action with the DC Comics Multiverse Red Robin Action Figure! This highly detailed collectible figure is perfect for fans and collectors alike.  Poseable and ready for display, add Red Robin to your DC Multiverse collection today.'}]}]}]\n",
            "[{'messages': [{'role': 'user', 'content': [{'type': 'text', 'text': 'Create a Short Product description based on the provided ##PRODUCT NAME## and ##CATEGORY## and image.\\nOnly return description. The description should be SEO optimized and for a better mobile search experience.\\n\\n##PRODUCT NAME##: Epic Skates 2016 Epic Nitro Turbo 1 Indoor/Outdoor Quad Speed Roller Skates, Red\\n##CATEGORY##: Sports & Outdoors | Outdoor Recreation | Skates, Skateboards & Scooters | Inline & Roller Skating'}, {'type': 'image', 'image': <PIL.JpegImagePlugin.JpegImageFile image mode=RGB size=500x484 at 0x7F7951BE4CA0>}]}, {'role': 'assistant', 'content': [{'type': 'text', 'text': 'Experience the thrill of retro skating with the Epic Skates 2016 Epic Nitro Turbo 1 Quad Roller Skates!  These vibrant red skates are perfect for indoor and outdoor use, offering a smooth and comfortable ride.  Durable design, great for all skill levels. Shop now!'}]}]}, {'messages': [{'role': 'user', 'content': [{'type': 'text', 'text': 'Create a Short Product description based on the provided ##PRODUCT NAME## and ##CATEGORY## and image.\\nOnly return description. The description should be SEO optimized and for a better mobile search experience.\\n\\n##PRODUCT NAME##: Carstens PB309 Animal Coin Banks - 12\" Mountain Goat Plush Animals\\n##CATEGORY##: Toys & Games | Stuffed Animals & Plush Toys | Plush Interactive Toys'}, {'type': 'image', 'image': <PIL.JpegImagePlugin.JpegImageFile image mode=RGB size=500x420 at 0x7F79AFF53FD0>}]}, {'role': 'assistant', 'content': [{'type': 'text', 'text': 'Adorable 12\" Mountain Goat Plush Coin Bank!  This soft, cuddly Carstens PB309 animal bank is perfect for kids saving their money.  High-quality plush, fun design.  Great gift! #plushtoy #coinbank #mountaingoat #stuffedanimal #kidsgift'}]}]}, {'messages': [{'role': 'user', 'content': [{'type': 'text', 'text': 'Create a Short Product description based on the provided ##PRODUCT NAME## and ##CATEGORY## and image.\\nOnly return description. The description should be SEO optimized and for a better mobile search experience.\\n\\n##PRODUCT NAME##: Oopsy Daisy Birchwood Owl Growth Chart, Pink, 12\" x 42\"\\n##CATEGORY##: Baby Products | Nursery | Décor | Wall Décor | Growth Charts'}, {'type': 'image', 'image': <PIL.JpegImagePlugin.JpegImageFile image mode=RGB size=143x500 at 0x7F795140C8E0>}]}, {'role': 'assistant', 'content': [{'type': 'text', 'text': 'Track your little one\\'s growth with the adorable Oopsy Daisy Birchwood Owl Growth Chart! This charming pink chart (12\" x 42\") adds a touch of whimsical woodland style to any nursery. Made from high-quality birchwood, it\\'s built to last.  Perfect baby shower gift! #growthchart #nurserydecor #babygirl #owl #woodengrowthchart'}]}]}, {'messages': [{'role': 'user', 'content': [{'type': 'text', 'text': 'Create a Short Product description based on the provided ##PRODUCT NAME## and ##CATEGORY## and image.\\nOnly return description. The description should be SEO optimized and for a better mobile search experience.\\n\\n##PRODUCT NAME##: Cinco De Mayo Fiesta Mini Honeycomb Table Centerpiece | Party Decoration\\n##CATEGORY##: Toys & Games | Party Supplies | Centerpieces'}, {'type': 'image', 'image': <PIL.JpegImagePlugin.JpegImageFile image mode=RGB size=500x500 at 0x7F79515D2680>}]}, {'role': 'assistant', 'content': [{'type': 'text', 'text': \"Celebrate Cinco de Mayo in style with this vibrant Mini Honeycomb Table Centerpiece!  Perfect for festive parties, this eye-catching decoration adds a touch of Mexican flair to your table.  Easy to assemble and reusable, it's a must-have party supply for your Cinco de Mayo fiesta.\"}]}]}]\n",
            "[{'messages': [{'role': 'user', 'content': [{'type': 'text', 'text': 'Create a Short Product description based on the provided ##PRODUCT NAME## and ##CATEGORY## and image.\\nOnly return description. The description should be SEO optimized and for a better mobile search experience.\\n\\n##PRODUCT NAME##: Wild Republic Iguana Plush, Stuffed Animal, Plush Toy, Kids Gifts, Cuddlekins, 15 Inches\\n##CATEGORY##: Toys & Games | Stuffed Animals & Plush Toys | Stuffed Animals & Teddy Bears'}, {'type': 'image', 'image': <PIL.JpegImagePlugin.JpegImageFile image mode=RGB size=500x343 at 0x7F795179DFC0>}]}, {'role': 'assistant', 'content': [{'type': 'text', 'text': 'Cuddle up with this adorable 15-inch Wild Republic Iguana Plush!  Perfect for kids and collectors, this soft and huggable stuffed animal makes a great gift.  High-quality plush construction ensures lasting playtime fun. Shop now!'}]}]}, {'messages': [{'role': 'user', 'content': [{'type': 'text', 'text': 'Create a Short Product description based on the provided ##PRODUCT NAME## and ##CATEGORY## and image.\\nOnly return description. The description should be SEO optimized and for a better mobile search experience.\\n\\n##PRODUCT NAME##: Forum Novelties Girl Golden Angel Costume, Medium, One Color\\n##CATEGORY##: Clothing, Shoes & Jewelry | Costumes & Accessories | Kids & Baby | Girls | Costumes'}, {'type': 'image', 'image': <PIL.JpegImagePlugin.JpegImageFile image mode=RGB size=277x500 at 0x7F7951A17E50>}]}, {'role': 'assistant', 'content': [{'type': 'text', 'text': \"Shine bright as an angel! This Forum Novelties Girl Golden Angel Costume (Medium) is perfect for Halloween, plays, or any celestial celebration.  Features a dazzling golden design.  Shop now for your little one's perfect costume!\"}]}]}, {'messages': [{'role': 'user', 'content': [{'type': 'text', 'text': 'Create a Short Product description based on the provided ##PRODUCT NAME## and ##CATEGORY## and image.\\nOnly return description. The description should be SEO optimized and for a better mobile search experience.\\n\\n##PRODUCT NAME##: MightySkins Skin Compatible with Razor Hovertrax 2.0 Hover Board - Urban Camo | Protective, Durable, and Unique Vinyl Decal wrap Cover | Easy to Apply, Remove, and Change Styles | Made in The USA\\n##CATEGORY##: Sports & Outdoors | Outdoor Recreation | Skates, Skateboards & Scooters | Scooters & Equipment | Accessories'}, {'type': 'image', 'image': <PIL.JpegImagePlugin.JpegImageFile image mode=RGB size=500x500 at 0x7F7951C3C820>}]}, {'role': 'assistant', 'content': [{'type': 'text', 'text': 'Give your Razor Hovertrax 2.0 a stylish upgrade with this MightySkins Urban Camo skin!  This durable, vinyl decal provides superior protection while adding a unique look. Easy to apply, remove, and change – Made in the USA.'}]}]}, {'messages': [{'role': 'user', 'content': [{'type': 'text', 'text': 'Create a Short Product description based on the provided ##PRODUCT NAME## and ##CATEGORY## and image.\\nOnly return description. The description should be SEO optimized and for a better mobile search experience.\\n\\n##PRODUCT NAME##: MightySkins Skin Compatible with Parrot Bebop 2 Quadcopter Drone wrap Cover Sticker Skins Galaxy Bots\\n##CATEGORY##: Toys & Games | Hobbies | Remote & App Controlled Vehicles & Parts | Remote & App Controlled Vehicles | Quadcopters & Multirotors'}, {'type': 'image', 'image': <PIL.JpegImagePlugin.JpegImageFile image mode=RGB size=500x500 at 0x7F7951549390>}]}, {'role': 'assistant', 'content': [{'type': 'text', 'text': 'Give your Parrot Bebop 2 Quadcopter Drone a stylish makeover with this MightySkins Galaxy Bots skin!  Easy to apply and remove, this vinyl decal protects your drone from scratches and adds a unique, customizable look.  Perfect for drone enthusiasts!'}]}]}]\n",
            "[{'messages': [{'role': 'user', 'content': [{'type': 'text', 'text': 'Create a Short Product description based on the provided ##PRODUCT NAME## and ##CATEGORY## and image.\\nOnly return description. The description should be SEO optimized and for a better mobile search experience.\\n\\n##PRODUCT NAME##: Rhode Island Novelty ~ 12 ~ Foam Dice ~ 1.5 Inch ~ Games Math Teaching ~ New\\n##CATEGORY##: Toys & Games | Games & Accessories'}, {'type': 'image', 'image': <PIL.JpegImagePlugin.JpegImageFile image mode=RGB size=500x477 at 0x7F7951B591B0>}]}, {'role': 'assistant', 'content': [{'type': 'text', 'text': 'Jumbo Foam Dice (1.5 Inch) - 12 Pack - Perfect for Games, Math, & Learning!  Great for kids and classrooms.'}]}]}, {'messages': [{'role': 'user', 'content': [{'type': 'text', 'text': 'Create a Short Product description based on the provided ##PRODUCT NAME## and ##CATEGORY## and image.\\nOnly return description. The description should be SEO optimized and for a better mobile search experience.\\n\\n##PRODUCT NAME##: Melissa & Doug Giant Deer - Lifelike Stuffed Animal (over 3 feet long)\\n##CATEGORY##: Toys & Games | Stuffed Animals & Plush Toys | Stuffed Animals & Teddy Bears'}, {'type': 'image', 'image': <PIL.JpegImagePlugin.JpegImageFile image mode=RGB size=500x500 at 0x7F79519A9120>}]}, {'role': 'assistant', 'content': [{'type': 'text', 'text': 'Giant Stuffed Deer Plush Animal - Over 3 Feet Long!  Lifelike & huggable Melissa & Doug deer, perfect for kids & collectors.  Soft, high-quality materials.  Shop now!'}]}]}, {'messages': [{'role': 'user', 'content': [{'type': 'text', 'text': 'Create a Short Product description based on the provided ##PRODUCT NAME## and ##CATEGORY## and image.\\nOnly return description. The description should be SEO optimized and for a better mobile search experience.\\n\\n##PRODUCT NAME##: 1:10 Scale flip Truck That can Change its Shape from Flat to hunched in Both Directions. No More Need to Pick it up When it Flips - just Press The Button and Drive it on The Other Side.\\n##CATEGORY##: Toys & Games | Games & Accessories | Game Accessories'}, {'type': 'image', 'image': <PIL.JpegImagePlugin.JpegImageFile image mode=RGB size=500x322 at 0x7F7951768730>}]}, {'role': 'assistant', 'content': [{'type': 'text', 'text': 'Unflippable Fun! This 1:10 scale remote control truck flips from flat to hunched – in BOTH directions!  No more picking it up after a flip; simply press the button and keep driving.  Perfect for kids who love action-packed RC play. Get yours today!'}]}]}, {'messages': [{'role': 'user', 'content': [{'type': 'text', 'text': \"Create a Short Product description based on the provided ##PRODUCT NAME## and ##CATEGORY## and image.\\nOnly return description. The description should be SEO optimized and for a better mobile search experience.\\n\\n##PRODUCT NAME##: Giant Soft Flexible Latex Rubber T-Rex Dinosaur Posable Toy Realistic Detail Color and Texture 38''L\\n##CATEGORY##: None\"}, {'type': 'image', 'image': <PIL.JpegImagePlugin.JpegImageFile image mode=RGB size=455x500 at 0x7F795154A200>}]}, {'role': 'assistant', 'content': [{'type': 'text', 'text': \"Roar into prehistoric fun with this giant 38'' posable T-Rex dinosaur!  Made from soft, flexible latex rubber, this realistic toy boasts incredible detail in color and texture.  Perfect for imaginative play and dinosaur enthusiasts of all ages.\"}]}]}]\n",
            "[{'messages': [{'role': 'user', 'content': [{'type': 'text', 'text': 'Create a Short Product description based on the provided ##PRODUCT NAME## and ##CATEGORY## and image.\\nOnly return description. The description should be SEO optimized and for a better mobile search experience.\\n\\n##PRODUCT NAME##: EVAN-MOOR Never-Bored Kid Book 2, Grades PreK-K Activity Book\\n##CATEGORY##: Toys & Games | Arts & Crafts'}, {'type': 'image', 'image': <PIL.JpegImagePlugin.JpegImageFile image mode=RGB size=382x500 at 0x7F79517691B0>}]}, {'role': 'assistant', 'content': [{'type': 'text', 'text': 'Keep your PreK-K child engaged and learning with EVAN-MOOR Never-Bored Kid Book 2! This fun-filled activity book combines arts & crafts with educational exercises, perfect for fostering creativity and early learning skills.  Hours of entertainment and educational value in one!'}]}]}, {'messages': [{'role': 'user', 'content': [{'type': 'text', 'text': 'Create a Short Product description based on the provided ##PRODUCT NAME## and ##CATEGORY## and image.\\nOnly return description. The description should be SEO optimized and for a better mobile search experience.\\n\\n##PRODUCT NAME##: Qualatex Foil Balloon 13955 Little Man Bow-tie, 18\", Multicolor\\n##CATEGORY##: Toys & Games | Party Supplies | Balloons'}, {'type': 'image', 'image': <PIL.JpegImagePlugin.JpegImageFile image mode=RGB size=414x500 at 0x7F79AFEFF4C0>}]}, {'role': 'assistant', 'content': [{'type': 'text', 'text': 'Make your party extra special with this Qualatex Foil Balloon!  This adorable 18\" Little Man Bow-tie balloon in multicolor adds a fun, festive touch to any celebration. Perfect for birthdays, baby showers, or any party needing a whimsical flair.  High-quality foil balloon ensures long-lasting fun. Shop now!'}]}]}, {'messages': [{'role': 'user', 'content': [{'type': 'text', 'text': 'Create a Short Product description based on the provided ##PRODUCT NAME## and ##CATEGORY## and image.\\nOnly return description. The description should be SEO optimized and for a better mobile search experience.\\n\\n##PRODUCT NAME##: Mega Construx Minions Flying Hot Dogs\\n##CATEGORY##: Toys & Games | Toy Figures & Playsets'}, {'type': 'image', 'image': <PIL.JpegImagePlugin.JpegImageFile image mode=RGB size=394x500 at 0x7F79513AA7D0>}]}, {'role': 'assistant', 'content': [{'type': 'text', 'text': 'Launch into Minion mayhem with Mega Construx Minions Flying Hot Dogs!  Build and play with these adorable, collectible figures. Perfect for imaginative play and Minions fans of all ages.  Great gift! #MegaConstrux #Minions #ToyFigures #Playsets #Collectible'}]}]}, {'messages': [{'role': 'user', 'content': [{'type': 'text', 'text': 'Create a Short Product description based on the provided ##PRODUCT NAME## and ##CATEGORY## and image.\\nOnly return description. The description should be SEO optimized and for a better mobile search experience.\\n\\n##PRODUCT NAME##: Deny Designs Terry Fan Song Of The Sea Throw Pillow, 16 x 16\\n##CATEGORY##: Home & Kitchen | Bedding | Decorative Pillows, Inserts & Covers | Throw Pillows'}, {'type': 'image', 'image': <PIL.JpegImagePlugin.JpegImageFile image mode=RGB size=500x423 at 0x7F795176B5B0>}]}, {'role': 'assistant', 'content': [{'type': 'text', 'text': 'Transform your space with the Deny Designs Terry Fan Song of the Sea Throw Pillow (16x16). This vibrant, artistic pillow adds a touch of coastal charm to any bedroom or living room.  High-quality construction ensures lasting beauty. Perfect for adding a pop of color and personality to your home decor. Shop now!'}]}]}]\n",
            "[{'messages': [{'role': 'user', 'content': [{'type': 'text', 'text': 'Create a Short Product description based on the provided ##PRODUCT NAME## and ##CATEGORY## and image.\\nOnly return description. The description should be SEO optimized and for a better mobile search experience.\\n\\n##PRODUCT NAME##: Education Outdoors Moose Pet Pod, One Color, One Size\\n##CATEGORY##: Toys & Games | Stuffed Animals & Plush Toys'}, {'type': 'image', 'image': <PIL.JpegImagePlugin.JpegImageFile image mode=RGB size=500x482 at 0x7F79AFF521A0>}]}, {'role': 'assistant', 'content': [{'type': 'text', 'text': 'Adorable Education Outdoors Moose Pet Pod Plush Toy!  Perfect for snuggles and imaginative play. One size fits all.  High-quality materials ensure lasting fun. Shop now!'}]}]}, {'messages': [{'role': 'user', 'content': [{'type': 'text', 'text': 'Create a Short Product description based on the provided ##PRODUCT NAME## and ##CATEGORY## and image.\\nOnly return description. The description should be SEO optimized and for a better mobile search experience.\\n\\n##PRODUCT NAME##: Miraculous Antibug Fashion Doll, 10.5\"\\n##CATEGORY##: Toys & Games | Dolls & Accessories | Dolls'}, {'type': 'image', 'image': <PIL.JpegImagePlugin.JpegImageFile image mode=RGB size=308x500 at 0x7F7951BE7820>}]}, {'role': 'assistant', 'content': [{'type': 'text', 'text': '10.5\" Miraculous Antibug Fashion Doll:  Poseable and stylish, this Ladybug-inspired doll is perfect for imaginative play!  Collect them all! #MiraculousLadybug #FashionDoll #KidsToys #Dolls'}]}]}, {'messages': [{'role': 'user', 'content': [{'type': 'text', 'text': 'Create a Short Product description based on the provided ##PRODUCT NAME## and ##CATEGORY## and image.\\nOnly return description. The description should be SEO optimized and for a better mobile search experience.\\n\\n##PRODUCT NAME##: Melissa & Doug Deluxe Watercolor Paint Set With 21 Paints and Paintbrush\\n##CATEGORY##: Toys & Games | Arts & Crafts | Drawing & Painting Supplies | Paints | Watercolor Paint'}, {'type': 'image', 'image': <PIL.JpegImagePlugin.JpegImageFile image mode=RGB size=500x493 at 0x7F7951681D20>}]}, {'role': 'assistant', 'content': [{'type': 'text', 'text': \"Unleash your child's inner artist with the Melissa & Doug Deluxe Watercolor Paint Set! This vibrant 21-color set includes a paintbrush for hours of creative fun. Perfect for ages 3+, it's a great gift for budding artists.  Non-toxic and easy to clean. Shop now!\"}]}]}, {'messages': [{'role': 'user', 'content': [{'type': 'text', 'text': 'Create a Short Product description based on the provided ##PRODUCT NAME## and ##CATEGORY## and image.\\nOnly return description. The description should be SEO optimized and for a better mobile search experience.\\n\\n##PRODUCT NAME##: Petit Collage Too Many Monsters Tin Card Play Game, Ages 4+, 2-4 Players\\n##CATEGORY##: Toys & Games | Games & Accessories | Card Games'}, {'type': 'image', 'image': <PIL.JpegImagePlugin.JpegImageFile image mode=RGB size=500x321 at 0x7F79517042B0>}]}, {'role': 'assistant', 'content': [{'type': 'text', 'text': \"Fun, fast-paced card game for 2-4 players, ages 4+.  Petit Collage's Too Many Monsters Tin Card Game provides hours of playful monster matching.  Portable tin makes it perfect for travel.  Great gift for kids!\"}]}]}]\n",
            "[{'messages': [{'role': 'user', 'content': [{'type': 'text', 'text': 'Create a Short Product description based on the provided ##PRODUCT NAME## and ##CATEGORY## and image.\\nOnly return description. The description should be SEO optimized and for a better mobile search experience.\\n\\n##PRODUCT NAME##: Learning Resources Magnetic Vowel Owls, Whiteboard Accessories, Teacher Aids, 6 Pieces, Ages 5+\\n##CATEGORY##: Toys & Games | Learning & Education'}, {'type': 'image', 'image': <PIL.JpegImagePlugin.JpegImageFile image mode=RGB size=500x500 at 0x7F79516244F0>}]}, {'role': 'assistant', 'content': [{'type': 'text', 'text': 'Engage young learners with Learning Resources Magnetic Vowel Owls!  These 6 colorful owl magnets make learning vowels fun & easy for ages 5+. Perfect for whiteboards, refrigerators, or any magnetic surface.  Ideal teacher aids for preschool & kindergarten.  Boost literacy skills with playful learning!'}]}]}, {'messages': [{'role': 'user', 'content': [{'type': 'text', 'text': 'Create a Short Product description based on the provided ##PRODUCT NAME## and ##CATEGORY## and image.\\nOnly return description. The description should be SEO optimized and for a better mobile search experience.\\n\\n##PRODUCT NAME##: MightySkins Skin Compatible with Blade 200QX Quadcopter Drone wrap Cover Sticker Skins Outer Space\\n##CATEGORY##: Toys & Games | Hobbies | Remote & App Controlled Vehicles & Parts | Remote & App Controlled Vehicle Parts'}, {'type': 'image', 'image': <PIL.JpegImagePlugin.JpegImageFile image mode=RGB size=500x500 at 0x7F7951705120>}]}, {'role': 'assistant', 'content': [{'type': 'text', 'text': 'Give your Blade 200QX Quadcopter a unique look with this MightySkins Outer Space skin!  Easy to apply and remove, this vinyl decal protects your drone from scratches and adds a cool, customizable design. Perfect for drone enthusiasts.'}]}]}, {'messages': [{'role': 'user', 'content': [{'type': 'text', 'text': 'Create a Short Product description based on the provided ##PRODUCT NAME## and ##CATEGORY## and image.\\nOnly return description. The description should be SEO optimized and for a better mobile search experience.\\n\\n##PRODUCT NAME##: Waterbabies Just Play Magic Wonder CA Baby Doll, Multi-Color\\n##CATEGORY##: None'}, {'type': 'image', 'image': <PIL.JpegImagePlugin.JpegImageFile image mode=RGB size=500x465 at 0x7F7951852650>}]}, {'role': 'assistant', 'content': [{'type': 'text', 'text': \"Spark your little one's imagination with the Waterbabies Just Play Magic Wonder CA Baby Doll! This adorable, multi-colored doll is perfect for nurturing playtime and endless creative adventures.  Features soft materials and charming details.  A must-have for any doll collection!\"}]}]}, {'messages': [{'role': 'user', 'content': [{'type': 'text', 'text': 'Create a Short Product description based on the provided ##PRODUCT NAME## and ##CATEGORY## and image.\\nOnly return description. The description should be SEO optimized and for a better mobile search experience.\\n\\n##PRODUCT NAME##: Christopher Robins Live Action 14\" Large Pooh Plush\\n##CATEGORY##: Toys & Games | Stuffed Animals & Plush Toys | Stuffed Animals & Teddy Bears'}, {'type': 'image', 'image': <PIL.JpegImagePlugin.JpegImageFile image mode=RGB size=500x500 at 0x7F79517F2C50>}]}, {'role': 'assistant', 'content': [{'type': 'text', 'text': 'Cuddle up with Christopher Robin\\'s best friend! This adorable 14\" large Pooh plush is perfect for playtime and bedtime.  Made with super-soft materials, this officially licensed Winnie the Pooh stuffed animal is a huggable classic for kids of all ages.  Shop now!'}]}]}]\n"
          ]
        },
        {
          "output_type": "display_data",
          "data": {
            "text/plain": [
              "<IPython.core.display.HTML object>"
            ],
            "text/html": [
              "\n",
              "    <div>\n",
              "      \n",
              "      <progress value='6' max='126' style='width:300px; height:20px; vertical-align: middle;'></progress>\n",
              "      [  6/126 11:17 < 5:38:50, 0.01 it/s, Epoch 0.12/3]\n",
              "    </div>\n",
              "    <table border=\"1\" class=\"dataframe\">\n",
              "  <thead>\n",
              " <tr style=\"text-align: left;\">\n",
              "      <th>Step</th>\n",
              "      <th>Training Loss</th>\n",
              "    </tr>\n",
              "  </thead>\n",
              "  <tbody>\n",
              "  </tbody>\n",
              "</table><p>"
            ]
          },
          "metadata": {}
        },
        {
          "output_type": "stream",
          "name": "stdout",
          "text": [
            "[{'messages': [{'role': 'user', 'content': [{'type': 'text', 'text': 'Create a Short Product description based on the provided ##PRODUCT NAME## and ##CATEGORY## and image.\\nOnly return description. The description should be SEO optimized and for a better mobile search experience.\\n\\n##PRODUCT NAME##: Steiff Happy Farm Skittles Bowling Set\\n##CATEGORY##: Toys & Games | Stuffed Animals & Plush Toys | Stuffed Animals & Teddy Bears'}, {'type': 'image', 'image': <PIL.JpegImagePlugin.JpegImageFile image mode=RGB size=500x500 at 0x7F7951A9C4C0>}]}, {'role': 'assistant', 'content': [{'type': 'text', 'text': 'Adorable Steiff Happy Farm Skittles Bowling Set!  Ten charming plush animals become fun bowling pins for hours of playful fun. Perfect gift for toddlers and preschoolers.  Develops hand-eye coordination and fine motor skills.  High-quality Steiff craftsmanship. Shop now!'}]}]}, {'messages': [{'role': 'user', 'content': [{'type': 'text', 'text': 'Create a Short Product description based on the provided ##PRODUCT NAME## and ##CATEGORY## and image.\\nOnly return description. The description should be SEO optimized and for a better mobile search experience.\\n\\n##PRODUCT NAME##: KidKraft Art Table with Drying Rack and Storage\\n##CATEGORY##: Arts, Crafts & Sewing | Sewing | Storage & Furniture'}, {'type': 'image', 'image': <PIL.JpegImagePlugin.JpegImageFile image mode=RGB size=500x335 at 0x7F79AFE96080>}]}, {'role': 'assistant', 'content': [{'type': 'text', 'text': \"Unleash your child's creativity with the KidKraft Art Table! This all-in-one art station features a built-in drying rack, ample storage, and a spacious work surface. Perfect for painting, drawing, and crafting, it keeps supplies organized and mess contained.  Ideal for kids' rooms, playrooms, and classrooms.  Shop now for organized creative fun!\"}]}]}, {'messages': [{'role': 'user', 'content': [{'type': 'text', 'text': 'Create a Short Product description based on the provided ##PRODUCT NAME## and ##CATEGORY## and image.\\nOnly return description. The description should be SEO optimized and for a better mobile search experience.\\n\\n##PRODUCT NAME##: Monster High Frankie Stein Costume - One Color - Large\\n##CATEGORY##: Clothing, Shoes & Jewelry | Costumes & Accessories | Kids & Baby | Girls'}, {'type': 'image', 'image': <PIL.JpegImagePlugin.JpegImageFile image mode=RGB size=216x500 at 0x7F79515D23E0>}]}, {'role': 'assistant', 'content': [{'type': 'text', 'text': \"Monster High Frankie Stein Girls Costume - Large.  Officially licensed, this vibrant costume is perfect for Halloween or playtime!  High-quality materials ensure comfort and durability.  Shop now for your little ghoul's spooky fun!\"}]}]}, {'messages': [{'role': 'user', 'content': [{'type': 'text', 'text': 'Create a Short Product description based on the provided ##PRODUCT NAME## and ##CATEGORY## and image.\\nOnly return description. The description should be SEO optimized and for a better mobile search experience.\\n\\n##PRODUCT NAME##: Crayola Color Wonder Mess Free Coloring Kit, 80Piece, Toddler Toys, Stocking Stuffers, Gift & Color Wonder Peppa Pig Coloring Book Pages & Markers, Mess Free Coloring, Gift for Kids\\n##CATEGORY##: Toys & Games | Arts & Crafts'}, {'type': 'image', 'image': <PIL.JpegImagePlugin.JpegImageFile image mode=RGB size=500x500 at 0x7F7951B596F0>}]}, {'role': 'assistant', 'content': [{'type': 'text', 'text': 'Unleash creativity mess-free with Crayola Color Wonder! This 80-piece kit includes Peppa Pig coloring pages and special markers that only color on Color Wonder paper, keeping little hands and surfaces clean. Perfect toddler toy, stocking stuffer, or gift for kids.  #Crayola #ColorWonder #MessFreeColoring #PeppaPig #ToddlerToys #KidsGifts #ArtsAndCrafts #StockingStuffers'}]}]}]\n",
            "[{'messages': [{'role': 'user', 'content': [{'type': 'text', 'text': 'Create a Short Product description based on the provided ##PRODUCT NAME## and ##CATEGORY## and image.\\nOnly return description. The description should be SEO optimized and for a better mobile search experience.\\n\\n##PRODUCT NAME##: Learning Advantage Magnetic Dry Erase Straight Edge - 24” - Jumbo Teaching Ruler - Measurement Tool for Whiteboards and Chalkboards\\n##CATEGORY##: Toys & Games | Learning & Education'}, {'type': 'image', 'image': <PIL.JpegImagePlugin.JpegImageFile image mode=RGB size=500x389 at 0x7F7951A17280>}]}, {'role': 'assistant', 'content': [{'type': 'text', 'text': 'Jumbo 24\" Magnetic Dry Erase Ruler: Perfect for classrooms & homeschooling!  This large magnetic straight edge is ideal for teaching math, geometry, and measurement on whiteboards or chalkboards.  Durable, easy to clean, and a must-have educational tool.'}]}]}, {'messages': [{'role': 'user', 'content': [{'type': 'text', 'text': 'Create a Short Product description based on the provided ##PRODUCT NAME## and ##CATEGORY## and image.\\nOnly return description. The description should be SEO optimized and for a better mobile search experience.\\n\\n##PRODUCT NAME##: Poolmaster Active Xtreme Swimming Pool Water Game Dive Sticks\\n##CATEGORY##: Toys & Games | Sports & Outdoor Play | Pools & Water Toys | Pool Toys | Dive Rings & Toys'}, {'type': 'image', 'image': <PIL.JpegImagePlugin.JpegImageFile image mode=RGB size=315x500 at 0x7F7951768C70>}]}, {'role': 'assistant', 'content': [{'type': 'text', 'text': 'Dive into fun with Poolmaster Active Xtreme Swimming Pool Water Game Dive Sticks!  These vibrant, durable dive sticks add excitement to any pool party. Perfect for kids and adults, they encourage active play and improve underwater skills.  Get yours today!'}]}]}, {'messages': [{'role': 'user', 'content': [{'type': 'text', 'text': \"Create a Short Product description based on the provided ##PRODUCT NAME## and ##CATEGORY## and image.\\nOnly return description. The description should be SEO optimized and for a better mobile search experience.\\n\\n##PRODUCT NAME##: My World Quilt Mini Set with BONUS Decorative Pillow (Navy Plaid Patch, Twin)\\n##CATEGORY##: Home & Kitchen | Bedding | Kids' Bedding | Quilts & Sets | Quilt Sets\"}, {'type': 'image', 'image': <PIL.JpegImagePlugin.JpegImageFile image mode=RGB size=500x500 at 0x7F79516B1F00>}]}, {'role': 'assistant', 'content': [{'type': 'text', 'text': \"Cozy up with the My World Quilt Mini Set (Navy Plaid Patch, Twin)! This charming twin-size quilt set includes a bonus decorative pillow, perfect for adding a touch of nautical style to your child's bedroom.  Soft, comfortable, and machine washable for easy care.  Shop now for sweet dreams!\"}]}]}, {'messages': [{'role': 'user', 'content': [{'type': 'text', 'text': \"Create a Short Product description based on the provided ##PRODUCT NAME## and ##CATEGORY## and image.\\nOnly return description. The description should be SEO optimized and for a better mobile search experience.\\n\\n##PRODUCT NAME##: The Northwest Company Disney Phineas & Ferb Action Agent Character Fleece Throw Blanket, 40 x 50-inches\\n##CATEGORY##: Home & Kitchen | Bedding | Kids' Bedding | Blankets & Throws | Throws\"}, {'type': 'image', 'image': <PIL.JpegImagePlugin.JpegImageFile image mode=RGB size=474x500 at 0x7F7978C1B190>}]}, {'role': 'assistant', 'content': [{'type': 'text', 'text': \"Snuggle up with Phineas and Ferb! This super-soft 40x50 inch fleece throw blanket features your favorite Action Agent duo. Perfect for kids' bedrooms, couches, or travel, this Disney blanket offers cozy comfort and vibrant colors.  Machine washable for easy care.\"}]}]}]\n",
            "[{'messages': [{'role': 'user', 'content': [{'type': 'text', 'text': 'Create a Short Product description based on the provided ##PRODUCT NAME## and ##CATEGORY## and image.\\nOnly return description. The description should be SEO optimized and for a better mobile search experience.\\n\\n##PRODUCT NAME##: Daron NYPD Emergency Service Unit with Lights & Sounds\\n##CATEGORY##: Toys & Games | Play Vehicles | Die-Cast Vehicles'}, {'type': 'image', 'image': <PIL.JpegImagePlugin.JpegImageFile image mode=RGB size=500x333 at 0x7F7951768DC0>}]}, {'role': 'assistant', 'content': [{'type': 'text', 'text': \"Experience the thrill of emergency response with the Daron NYPD Emergency Service Unit! This detailed die-cast vehicle features realistic lights and sounds, bringing the excitement of New York City's finest to your child's playtime.  Perfect for collectors and kids alike!\"}]}]}, {'messages': [{'role': 'user', 'content': [{'type': 'text', 'text': 'Create a Short Product description based on the provided ##PRODUCT NAME## and ##CATEGORY## and image.\\nOnly return description. The description should be SEO optimized and for a better mobile search experience.\\n\\n##PRODUCT NAME##: Lionel Racing, Toy Dillon, Geico, 2019, Chevrolet Camaro, NASCAR Diecast 1: 24 Scale\\n##CATEGORY##: Toys & Games | Stuffed Animals & Plush Toys | Stuffed Animals & Teddy Bears'}, {'type': 'image', 'image': <PIL.JpegImagePlugin.JpegImageFile image mode=RGB size=500x333 at 0x7F795154AF20>}]}, {'role': 'assistant', 'content': [{'type': 'text', 'text': \"**This product is miscategorized.**  The image shows a diecast car, not a stuffed animal.  The description should reflect this.  Here's a corrected, SEO-optimized description:\\n\\n> Authentic Lionel Racing 1:24 scale diecast of Austin Dillon's 2019 Geico Chevrolet Camaro NASCAR race car.  Highly detailed collectible for NASCAR fans.  Perfect gift for adults and serious diecast collectors.  Shop now!\"}]}]}, {'messages': [{'role': 'user', 'content': [{'type': 'text', 'text': \"Create a Short Product description based on the provided ##PRODUCT NAME## and ##CATEGORY## and image.\\nOnly return description. The description should be SEO optimized and for a better mobile search experience.\\n\\n##PRODUCT NAME##: NyeKoncept Mid Century Rocker Chair, Milano White\\n##CATEGORY##: Home & Kitchen | Furniture | Kids' Furniture | Chairs & Seats | Rocking Chairs\"}, {'type': 'image', 'image': <PIL.JpegImagePlugin.JpegImageFile image mode=RGB size=500x500 at 0x7F795176A020>}]}, {'role': 'assistant', 'content': [{'type': 'text', 'text': \"Adorable & sturdy Milano White rocker, perfect for nurseries or kids' rooms.  This NyeKoncept mid-century modern rocker offers comfort and style.  Lightweight yet durable, it's easy to move and built to last. Shop now!\"}]}]}, {'messages': [{'role': 'user', 'content': [{'type': 'text', 'text': 'Create a Short Product description based on the provided ##PRODUCT NAME## and ##CATEGORY## and image.\\nOnly return description. The description should be SEO optimized and for a better mobile search experience.\\n\\n##PRODUCT NAME##: Amscan Steampunkd Child Costume\\n##CATEGORY##: Clothing, Shoes & Jewelry | Costumes & Accessories | Kids & Baby | Girls | Costumes'}, {'type': 'image', 'image': <PIL.JpegImagePlugin.JpegImageFile image mode=RGB size=500x500 at 0x7F79515D3640>}]}, {'role': 'assistant', 'content': [{'type': 'text', 'text': 'Transform your little one into a stylish steampunk adventurer with the Amscan Steampunk Child Costume! This adorable costume is perfect for Halloween, parties, or imaginative play.  Features a high-quality design for a comfortable and fun experience. Get yours today!'}]}]}]\n",
            "[{'messages': [{'role': 'user', 'content': [{'type': 'text', 'text': 'Create a Short Product description based on the provided ##PRODUCT NAME## and ##CATEGORY## and image.\\nOnly return description. The description should be SEO optimized and for a better mobile search experience.\\n\\n##PRODUCT NAME##: Puppy Dog Pals Light Up Pals On A Mission -A.R.F. with Amplifer & Rocket\\n##CATEGORY##: Toys & Games | Toy Figures & Playsets | Action Figures'}, {'type': 'image', 'image': <PIL.JpegImagePlugin.JpegImageFile image mode=RGB size=500x387 at 0x7F79516265C0>}]}, {'role': 'assistant', 'content': [{'type': 'text', 'text': 'Get ready for action-packed adventures with the Puppy Dog Pals Light Up Pals On A Mission – A.R.F. with Amplifier & Rocket!  This exciting playset features Bingo and Rolly on a secret mission, complete with light-up features and a cool rocket! Perfect for imaginative play and young action figure fans. Collect them all!'}]}]}, {'messages': [{'role': 'user', 'content': [{'type': 'text', 'text': 'Create a Short Product description based on the provided ##PRODUCT NAME## and ##CATEGORY## and image.\\nOnly return description. The description should be SEO optimized and for a better mobile search experience.\\n\\n##PRODUCT NAME##: Dimple Toy Doctor Kit Pretend Play with plastic stethoscope and thermometer. top Go Carrier Travel Toy 12 Pieces Kids Medical Equipment for Boys Girls and Toddlers, Great Gift for Children\\n##CATEGORY##: Toys & Games | Dress Up & Pretend Play | Pretend Play | Medical Kits'}, {'type': 'image', 'image': <PIL.JpegImagePlugin.JpegImageFile image mode=RGB size=500x500 at 0x7F79519A87C0>}]}, {'role': 'assistant', 'content': [{'type': 'text', 'text': 'Become a doctor with this 12-piece Dimple Toy Doctor Kit!  Includes a stethoscope, thermometer, and more. Perfect for pretend play, travel, and gifting.  Fun for boys, girls, and toddlers.  Shop now!'}]}]}, {'messages': [{'role': 'user', 'content': [{'type': 'text', 'text': 'Create a Short Product description based on the provided ##PRODUCT NAME## and ##CATEGORY## and image.\\nOnly return description. The description should be SEO optimized and for a better mobile search experience.\\n\\n##PRODUCT NAME##: CGSignLab |\"Please Keep Off Grass -Ghost Aged Rust\" Window Cling | 36\"x24\"\\n##CATEGORY##: Home & Kitchen | Home Décor | Window Treatments | Window Stickers & Films | Window Films'}, {'type': 'image', 'image': <PIL.JpegImagePlugin.JpegImageFile image mode=RGB size=450x450 at 0x7F79517F0610>}]}, {'role': 'assistant', 'content': [{'type': 'text', 'text': 'Decorate your windows with this stylish \"Please Keep Off Grass - Ghost Aged Rust\" window cling (36\"x24\").  A reusable, easy-to-apply window film perfect for adding rustic charm to your home.  Durable and weather-resistant.  Shop now for affordable home décor!'}]}]}, {'messages': [{'role': 'user', 'content': [{'type': 'text', 'text': 'Create a Short Product description based on the provided ##PRODUCT NAME## and ##CATEGORY## and image.\\nOnly return description. The description should be SEO optimized and for a better mobile search experience.\\n\\n##PRODUCT NAME##: American Greetings Birthday Candles, Stars (6-Count)\\n##CATEGORY##: Home & Kitchen | Home Décor | Candles & Holders | Candles | Specialty Candles | Birthday Candles'}, {'type': 'image', 'image': <PIL.JpegImagePlugin.JpegImageFile image mode=RGB size=500x400 at 0x7F7951626470>}]}, {'role': 'assistant', 'content': [{'type': 'text', 'text': 'Celebrate birthdays in style with these American Greetings Star Birthday Candles! This 6-count pack of shimmering star candles adds a touch of magic to any cake. Perfect for kids and adults, these specialty candles are a must-have for your next birthday celebration.  Shop now for easy online ordering!'}]}]}]\n",
            "[{'messages': [{'role': 'user', 'content': [{'type': 'text', 'text': 'Create a Short Product description based on the provided ##PRODUCT NAME## and ##CATEGORY## and image.\\nOnly return description. The description should be SEO optimized and for a better mobile search experience.\\n\\n##PRODUCT NAME##: Baby GUND Toothpick Sloth Rattle Plush Stuffed Animal 7.5\", Taupe\\n##CATEGORY##: Toys & Games | Baby & Toddler Toys | Rattles & Plush Rings'}, {'type': 'image', 'image': <PIL.JpegImagePlugin.JpegImageFile image mode=RGB size=500x500 at 0x7F7951626DA0>}]}, {'role': 'assistant', 'content': [{'type': 'text', 'text': 'Adorable GUND Toothpick Sloth Rattle! This 7.5\" taupe plush sloth is the perfect cuddly friend for baby.  Soft, soothing textures and gentle crinkling sounds engage little ones. Ideal baby shower gift or playtime companion.  Shop now!'}]}]}, {'messages': [{'role': 'user', 'content': [{'type': 'text', 'text': \"Create a Short Product description based on the provided ##PRODUCT NAME## and ##CATEGORY## and image.\\nOnly return description. The description should be SEO optimized and for a better mobile search experience.\\n\\n##PRODUCT NAME##: Rollerblade Macroblade 84 ABT Women's Adult Fitness Inline Skate, Emerald Green and Cherry, Performance Inline Skates\\n##CATEGORY##: Sports & Outdoors | Outdoor Recreation | Skates, Skateboards & Scooters | Inline & Roller Skating | Roller Skates | Outdoor Skates\"}, {'type': 'image', 'image': <PIL.JpegImagePlugin.JpegImageFile image mode=RGB size=500x500 at 0x7F79AFFB06A0>}]}, {'role': 'assistant', 'content': [{'type': 'text', 'text': \"Experience superior comfort and performance with the Rollerblade Macroblade 84 ABT Women's Inline Skates.  These emerald green and cherry adult fitness skates feature a supportive design perfect for outdoor skating.  Enjoy smooth glides and effortless strides. Upgrade your fitness routine today!\"}]}]}, {'messages': [{'role': 'user', 'content': [{'type': 'text', 'text': 'Create a Short Product description based on the provided ##PRODUCT NAME## and ##CATEGORY## and image.\\nOnly return description. The description should be SEO optimized and for a better mobile search experience.\\n\\n##PRODUCT NAME##: ALEX DIY Knot-A Shark Kit Playset\\n##CATEGORY##: Toys & Games | Arts & Crafts | Craft Kits'}, {'type': 'image', 'image': <PIL.JpegImagePlugin.JpegImageFile image mode=RGB size=500x407 at 0x7F7951A16170>}]}, {'role': 'assistant', 'content': [{'type': 'text', 'text': \"Unleash your child's creativity with the ALEX DIY Knot-A-Shark Kit! This fun and engaging craft kit lets kids create their own adorable shark using colorful knotting techniques.  Perfect for ages 6+, it's a great way to develop fine motor skills and imaginative play.  Includes all materials needed.  Get knotting!\"}]}]}, {'messages': [{'role': 'user', 'content': [{'type': 'text', 'text': \"Create a Short Product description based on the provided ##PRODUCT NAME## and ##CATEGORY## and image.\\nOnly return description. The description should be SEO optimized and for a better mobile search experience.\\n\\n##PRODUCT NAME##: Mi Zone Kids Tessa Comforter Reversible Colorful Tassel Stripes Fringe Sham Embroidery Heart Pillow Ultra-Soft Overfilled Down Alternative Hypoallergenic All Season Bedding-Set, Full/Queen, White\\n##CATEGORY##: Home & Kitchen | Bedding | Kids' Bedding | Comforters & Sets | Comforter Sets\"}, {'type': 'image', 'image': <PIL.JpegImagePlugin.JpegImageFile image mode=RGB size=500x500 at 0x7F7951A141F0>}]}, {'role': 'assistant', 'content': [{'type': 'text', 'text': \"Transform your child's bedroom with the Mi Zone Kids Tessa Comforter Set! This Full/Queen reversible comforter boasts colorful stripes, tassels, fringe, sham embroidery, and a heart pillow.  Ultra-soft, overfilled, hypoallergenic, and down alternative for all-season comfort.  White. #kidscomforterset #kidsbedding #comforterset #fullqueencomforter #hypoallergenic\"}]}]}]\n",
            "[{'messages': [{'role': 'user', 'content': [{'type': 'text', 'text': 'Create a Short Product description based on the provided ##PRODUCT NAME## and ##CATEGORY## and image.\\nOnly return description. The description should be SEO optimized and for a better mobile search experience.\\n\\n##PRODUCT NAME##: MasterPieces Tribal Spirit Jigsaw Puzzle, The Chiefs, Featuring American Indian Tribe Traditions & Ceremonies, 1000 Pieces\\n##CATEGORY##: Toys & Games | Puzzles | Jigsaw Puzzles'}, {'type': 'image', 'image': <PIL.JpegImagePlugin.JpegImageFile image mode=RGB size=500x500 at 0x7F7951C3EE30>}]}, {'role': 'assistant', 'content': [{'type': 'text', 'text': 'Challenge yourself with this 1000-piece MasterPieces Tribal Spirit jigsaw puzzle!  Depicting the rich traditions and ceremonies of American Indian tribes, \"The Chiefs\" offers a stunning, culturally significant image perfect for puzzle enthusiasts.  High-quality pieces guarantee a satisfying solve.'}]}]}, {'messages': [{'role': 'user', 'content': [{'type': 'text', 'text': 'Create a Short Product description based on the provided ##PRODUCT NAME## and ##CATEGORY## and image.\\nOnly return description. The description should be SEO optimized and for a better mobile search experience.\\n\\n##PRODUCT NAME##: Crayola Ultra-Clean Washable Markers, Broad Line, 8 Count\\n##CATEGORY##: Toys & Games | Arts & Crafts | Drawing & Painting Supplies | Coloring Pens & Markers'}, {'type': 'image', 'image': <PIL.JpegImagePlugin.JpegImageFile image mode=RGB size=500x500 at 0x7F79518D49A0>}]}, {'role': 'assistant', 'content': [{'type': 'text', 'text': \"Unleash your child's creativity with Crayola Ultra-Clean Washable Markers! This 8-count pack of broad-line markers delivers vibrant, bold colors perfect for all ages.  Washable for easy cleanup, these markers are ideal for kids' drawings, crafts, and school projects.  Get yours today!\"}]}]}, {'messages': [{'role': 'user', 'content': [{'type': 'text', 'text': 'Create a Short Product description based on the provided ##PRODUCT NAME## and ##CATEGORY## and image.\\nOnly return description. The description should be SEO optimized and for a better mobile search experience.\\n\\n##PRODUCT NAME##: Calico Critters Sandy Cat Family\\n##CATEGORY##: None'}, {'type': 'image', 'image': <PIL.JpegImagePlugin.JpegImageFile image mode=RGB size=500x301 at 0x7F79513A9FF0>}]}, {'role': 'assistant', 'content': [{'type': 'text', 'text': 'Adorable Calico Critters Sandy Cat Family!  Bring home this charming family of cats – perfect for imaginative play.  High-quality details & collectible. Great gift for kids! #CalicoCritters #SandyCats #ToyAnimals #KidsToys #CollectibleToys'}]}]}, {'messages': [{'role': 'user', 'content': [{'type': 'text', 'text': 'Create a Short Product description based on the provided ##PRODUCT NAME## and ##CATEGORY## and image.\\nOnly return description. The description should be SEO optimized and for a better mobile search experience.\\n\\n##PRODUCT NAME##: Noch 8322 Scatter Grass olive green G,0,H0,TT,N,Z Scale\\n##CATEGORY##: Toys & Games | Hobbies | Trains & Accessories | Train Sets'}, {'type': 'image', 'image': <PIL.JpegImagePlugin.JpegImageFile image mode=RGB size=291x500 at 0x7F79517F1F30>}]}, {'role': 'assistant', 'content': [{'type': 'text', 'text': 'Realistic olive green scatter grass for model train landscapes.  Perfect for G, 0, H0, TT, N, and Z scale model railroads. Enhance your Noch model railway with this essential detail.  Create lush, vibrant scenery!'}]}]}]\n",
            "[{'messages': [{'role': 'user', 'content': [{'type': 'text', 'text': 'Create a Short Product description based on the provided ##PRODUCT NAME## and ##CATEGORY## and image.\\nOnly return description. The description should be SEO optimized and for a better mobile search experience.\\n\\n##PRODUCT NAME##: American Greetings Birthday Fever Fun Party Supplies, Paper Lunch Napkins (16-Count)\\n##CATEGORY##: Toys & Games | Party Supplies | Party Tableware | Napkins'}, {'type': 'image', 'image': <PIL.JpegImagePlugin.JpegImageFile image mode=RGB size=400x500 at 0x7F79AFFB09D0>}]}, {'role': 'assistant', 'content': [{'type': 'text', 'text': \"Celebrate birthdays in style with American Greetings Birthday Fever Fun Party Supplies Paper Lunch Napkins!  This 16-count pack features vibrant designs perfect for kids' parties.  Durable and absorbent, these napkins are a must-have for your next birthday bash.  Shop now for easy and festive cleanup!\"}]}]}, {'messages': [{'role': 'user', 'content': [{'type': 'text', 'text': 'Create a Short Product description based on the provided ##PRODUCT NAME## and ##CATEGORY## and image.\\nOnly return description. The description should be SEO optimized and for a better mobile search experience.\\n\\n##PRODUCT NAME##: Metallic Red Mardi Gras Beads, 4ct\\n##CATEGORY##: Toys & Games | Party Supplies | Party Favors'}, {'type': 'image', 'image': <PIL.JpegImagePlugin.JpegImageFile image mode=RGB size=500x500 at 0x7F79513ABCD0>}]}, {'role': 'assistant', 'content': [{'type': 'text', 'text': 'Add a touch of New Orleans flair to your Mardi Gras celebration with these vibrant Metallic Red Mardi Gras Beads!  Perfect for parades, parties, and handing out as favors, this 4-count pack offers plenty of shiny fun.  Shop now for your Mardi Gras essentials!'}]}]}, {'messages': [{'role': 'user', 'content': [{'type': 'text', 'text': 'Create a Short Product description based on the provided ##PRODUCT NAME## and ##CATEGORY## and image.\\nOnly return description. The description should be SEO optimized and for a better mobile search experience.\\n\\n##PRODUCT NAME##: Jet Creations An-Gold Inflatable Gold Fish 20\" Long - Best Forparty Supplies Party Favors, Party Gifts, For Kids & Adults\\n##CATEGORY##: Toys & Games | Party Supplies | Party Favors'}, {'type': 'image', 'image': <PIL.JpegImagePlugin.JpegImageFile image mode=RGB size=500x500 at 0x7F79AFE959F0>}]}, {'role': 'assistant', 'content': [{'type': 'text', 'text': 'Make a splash with Jet Creations\\' 20\" inflatable gold fish! Perfect for parties, these fun gold fish are great party favors for kids and adults.  Add a touch of whimsy to your next celebration.  #InflatableGoldfish #PartyFavors #PartySupplies #KidsParty #AdultParty #PartyGifts'}]}]}, {'messages': [{'role': 'user', 'content': [{'type': 'text', 'text': 'Create a Short Product description based on the provided ##PRODUCT NAME## and ##CATEGORY## and image.\\nOnly return description. The description should be SEO optimized and for a better mobile search experience.\\n\\n##PRODUCT NAME##: YouNiverse Crystal-Growing Jewelry by Horizon Group Usa, DIY Crystal Jewelry Making Kit, Pink Violet & Blue\\n##CATEGORY##: Toys & Games | Learning & Education | Science Kits & Toys'}, {'type': 'image', 'image': <PIL.JpegImagePlugin.JpegImageFile image mode=RGB size=500x500 at 0x7F7951A7CD00>}]}, {'role': 'assistant', 'content': [{'type': 'text', 'text': 'Grow your own dazzling crystal jewelry! This YouNiverse Crystal-Growing Kit lets kids create beautiful pink, violet, and blue gemstone necklaces.  A fun and educational STEM toy perfect for ages 8+.  Develops science skills while fostering creativity.'}]}]}]\n",
            "[{'messages': [{'role': 'user', 'content': [{'type': 'text', 'text': 'Create a Short Product description based on the provided ##PRODUCT NAME## and ##CATEGORY## and image.\\nOnly return description. The description should be SEO optimized and for a better mobile search experience.\\n\\n##PRODUCT NAME##: MightySkins Skin Compatible with Swagtron T5 - Butterflies | Protective, Durable, and Unique Vinyl Decal wrap Cover | Easy to Apply, Remove, and Change Styles | Made in The USA\\n##CATEGORY##: Sports & Outdoors | Outdoor Recreation | Skates, Skateboards & Scooters | Scooters & Equipment | Accessories'}, {'type': 'image', 'image': <PIL.JpegImagePlugin.JpegImageFile image mode=RGB size=500x500 at 0x7F795179C190>}]}, {'role': 'assistant', 'content': [{'type': 'text', 'text': 'Give your Swagtron T5 a vibrant makeover with MightySkins! This durable, protective vinyl decal skin features a stunning Butterflies design.  Easy to apply, remove, and change, it offers unique style and protection. Made in the USA.  Perfect scooter accessory!'}]}]}, {'messages': [{'role': 'user', 'content': [{'type': 'text', 'text': 'Create a Short Product description based on the provided ##PRODUCT NAME## and ##CATEGORY## and image.\\nOnly return description. The description should be SEO optimized and for a better mobile search experience.\\n\\n##PRODUCT NAME##: Lamaze Disney Lion King Clip & Go, Simba Baby Toy\\n##CATEGORY##: Toys & Games | Baby & Toddler Toys | Push & Pull Toys'}, {'type': 'image', 'image': <PIL.JpegImagePlugin.JpegImageFile image mode=RGB size=500x500 at 0x7F79516259F0>}]}, {'role': 'assistant', 'content': [{'type': 'text', 'text': \"Lamaze Disney Lion King Simba Clip & Go Baby Toy:  Engage your little one with this adorable Simba toy! Perfect for on-the-go fun, this clip-on toy features vibrant colors and textures to stimulate baby's senses. Ideal for strollers, car seats, and more.  A must-have for Disney Lion King fans!\"}]}]}, {'messages': [{'role': 'user', 'content': [{'type': 'text', 'text': 'Create a Short Product description based on the provided ##PRODUCT NAME## and ##CATEGORY## and image.\\nOnly return description. The description should be SEO optimized and for a better mobile search experience.\\n\\n##PRODUCT NAME##: Rhode Island Novelty 12 Little Zoo Animals Toy Figure, 2.5 Inch\\n##CATEGORY##: None'}, {'type': 'image', 'image': <PIL.JpegImagePlugin.JpegImageFile image mode=RGB size=500x478 at 0x7F79514F2170>}]}, {'role': 'assistant', 'content': [{'type': 'text', 'text': 'Adorable 12-Pack of 2.5\" Mini Zoo Animals!  Perfect for party favors, stocking stuffers, or imaginative play.  These charming little figures are a great value and sure to delight kids of all ages.'}]}]}, {'messages': [{'role': 'user', 'content': [{'type': 'text', 'text': 'Create a Short Product description based on the provided ##PRODUCT NAME## and ##CATEGORY## and image.\\nOnly return description. The description should be SEO optimized and for a better mobile search experience.\\n\\n##PRODUCT NAME##: Edu-Toys Power Tech Super Chem 120\\n##CATEGORY##: Toys & Games | Learning & Education | Science Kits & Toys'}, {'type': 'image', 'image': <PIL.JpegImagePlugin.JpegImageFile image mode=RGB size=500x401 at 0x7F79AFE29420>}]}, {'role': 'assistant', 'content': [{'type': 'text', 'text': \"Unleash your child's inner scientist with Edu-Toys Power Tech Super Chem 120! This exciting science kit provides 120+ experiments for hours of engaging, educational fun.  Perfect for budding chemists aged 8+, it fosters STEM learning through hands-on exploration.  Order now and ignite a passion for science!\"}]}]}]\n",
            "[{'messages': [{'role': 'user', 'content': [{'type': 'text', 'text': 'Create a Short Product description based on the provided ##PRODUCT NAME## and ##CATEGORY## and image.\\nOnly return description. The description should be SEO optimized and for a better mobile search experience.\\n\\n##PRODUCT NAME##: Creative Balloons Mfg Balloon Ribbon, 3/16\" W x 500 yd Spools, Navy Blue, 5 Spool Value Pack\\n##CATEGORY##: Arts, Crafts & Sewing | Sewing | Trim & Embellishments | Ribbons'}, {'type': 'image', 'image': <PIL.JpegImagePlugin.JpegImageFile image mode=RGB size=500x500 at 0x7F7951B5A560>}]}, {'role': 'assistant', 'content': [{'type': 'text', 'text': 'Create stunning balloon arrangements with this 5-spool value pack of Creative Balloons Mfg 3/16\" wide navy blue ribbon.  500 yards of durable ribbon perfect for crafting and party decorations.  Ideal for balloon arches, bouquets, and more. #balloonribbon #partydecor #crafting #navyblue #ribbon'}]}]}, {'messages': [{'role': 'user', 'content': [{'type': 'text', 'text': 'Create a Short Product description based on the provided ##PRODUCT NAME## and ##CATEGORY## and image.\\nOnly return description. The description should be SEO optimized and for a better mobile search experience.\\n\\n##PRODUCT NAME##: BePuzzled Smart Egg Robo Puzzle\\n##CATEGORY##: Toys & Games | Puzzles | Brain Teasers | Assembly & Disentanglement Puzzles'}, {'type': 'image', 'image': <PIL.JpegImagePlugin.JpegImageFile image mode=RGB size=387x500 at 0x7F79518527A0>}]}, {'role': 'assistant', 'content': [{'type': 'text', 'text': 'Challenge your mind with the BePuzzled Smart Egg Robo Puzzle! This intricate brain teaser combines assembly and disentanglement for hours of fun.  Perfect for puzzle enthusiasts of all ages, this compact and engaging puzzle is ideal for travel or downtime.  Improve your problem-solving skills with this cleverly designed robotic egg puzzle.'}]}]}, {'messages': [{'role': 'user', 'content': [{'type': 'text', 'text': 'Create a Short Product description based on the provided ##PRODUCT NAME## and ##CATEGORY## and image.\\nOnly return description. The description should be SEO optimized and for a better mobile search experience.\\n\\n##PRODUCT NAME##: Losi HD On/Off Switch w/20AWG Wre&Gld PlatedPlugs5IVE-T, LOSB0897\\n##CATEGORY##: Hobbies | Remote & App Controlled Vehicles & Parts | Remote & App Controlled Vehicle Parts | Power Plant & Driveline Systems | Electric Motors & Parts'}, {'type': 'image', 'image': <PIL.JpegImagePlugin.JpegImageFile image mode=RGB size=500x500 at 0x7F79515D0C40>}]}, {'role': 'assistant', 'content': [{'type': 'text', 'text': 'Upgrade your Losi RC vehicle with this high-quality HD On/Off Switch (LOSB0897). Featuring durable 20AWG wires and gold-plated plugs for superior conductivity and reliability, this switch ensures consistent power delivery to your electric motor.  Perfect for enthusiasts seeking enhanced performance and longevity.'}]}]}, {'messages': [{'role': 'user', 'content': [{'type': 'text', 'text': \"Create a Short Product description based on the provided ##PRODUCT NAME## and ##CATEGORY## and image.\\nOnly return description. The description should be SEO optimized and for a better mobile search experience.\\n\\n##PRODUCT NAME##: Iconic Home Ithaca Nightstand Side Table with Self Closing Drawer Lacquer X Base Brass Finished Stainless Steel, Modern Contemporary, Beige\\n##CATEGORY##: Home & Kitchen | Furniture | Kids' Furniture | Chairs & Seats | Benches\"}, {'type': 'image', 'image': <PIL.JpegImagePlugin.JpegImageFile image mode=RGB size=350x500 at 0x7F79516269B0>}]}, {'role': 'assistant', 'content': [{'type': 'text', 'text': \"Sleek and stylish, the Iconic Home Ithaca Nightstand is the perfect addition to any modern bedroom.  This contemporary side table features a self-closing drawer for convenient storage and a chic lacquer X base with brass finished stainless steel accents.  Beige finish complements any décor.  Ideal for kids' rooms or any space needing a touch of sophisticated style.\"}]}]}]\n",
            "[{'messages': [{'role': 'user', 'content': [{'type': 'text', 'text': 'Create a Short Product description based on the provided ##PRODUCT NAME## and ##CATEGORY## and image.\\nOnly return description. The description should be SEO optimized and for a better mobile search experience.\\n\\n##PRODUCT NAME##: CMC-Classic Model Cars Auto Union Type C 1937 German Hillclimb #111 Struck Limited Edition Vehicle\\n##CATEGORY##: Toys & Games | Hobbies'}, {'type': 'image', 'image': <PIL.JpegImagePlugin.JpegImageFile image mode=RGB size=500x500 at 0x7F79AFFB02B0>}]}, {'role': 'assistant', 'content': [{'type': 'text', 'text': 'Collectible Auto Union Type C 1937 German Hillclimb #111 diecast model car.  Limited edition CMC-Classic model, meticulously detailed. Perfect for car enthusiasts and collectors.  Shop now!'}]}]}, {'messages': [{'role': 'user', 'content': [{'type': 'text', 'text': 'Create a Short Product description based on the provided ##PRODUCT NAME## and ##CATEGORY## and image.\\nOnly return description. The description should be SEO optimized and for a better mobile search experience.\\n\\n##PRODUCT NAME##: Carson Dellosa Animals Stickers (168094)\\n##CATEGORY##: Toys & Games | Arts & Crafts | Stickers'}, {'type': 'image', 'image': <PIL.JpegImagePlugin.JpegImageFile image mode=RGB size=500x390 at 0x7F79AFF53D30>}]}, {'role': 'assistant', 'content': [{'type': 'text', 'text': 'Carson Dellosa Animals Stickers (168094): Unleash creativity with 1000+ vibrant animal stickers! Perfect for arts & crafts, scrapbooks, and more.  Fun for kids of all ages.  #animal stickers #stickers #carsondellosa #artsandcrafts #kidsactivities'}]}]}, {'messages': [{'role': 'user', 'content': [{'type': 'text', 'text': 'Create a Short Product description based on the provided ##PRODUCT NAME## and ##CATEGORY## and image.\\nOnly return description. The description should be SEO optimized and for a better mobile search experience.\\n\\n##PRODUCT NAME##: Star Wars LCG: Meditation and Mastery\\n##CATEGORY##: Toys & Games | Games & Accessories | Board Games'}, {'type': 'image', 'image': <PIL.JpegImagePlugin.JpegImageFile image mode=RGB size=389x500 at 0x7F795154A350>}]}, {'role': 'assistant', 'content': [{'type': 'text', 'text': 'Unleash your inner Jedi with Star Wars LCG: Meditation and Mastery!  This exciting board game expansion adds new strategic depth and challenging gameplay to your Star Wars: The Card Game collection.  Perfect for experienced players seeking new challenges. Enhance your deckbuilding skills and master the Force!'}]}]}, {'messages': [{'role': 'user', 'content': [{'type': 'text', 'text': \"Create a Short Product description based on the provided ##PRODUCT NAME## and ##CATEGORY## and image.\\nOnly return description. The description should be SEO optimized and for a better mobile search experience.\\n\\n##PRODUCT NAME##: O'Brien Lotus 8' Deluxe Inflatable Water Yoga Mat\\n##CATEGORY##: Toys & Games | Sports & Outdoor Play | Pools & Water Toys | Beach Balls\"}, {'type': 'image', 'image': <PIL.JpegImagePlugin.JpegImageFile image mode=RGB size=200x500 at 0x7F7951BE61A0>}]}, {'role': 'assistant', 'content': [{'type': 'text', 'text': \"Find your zen on the water!  The O'Brien Lotus 8' Deluxe Inflatable Water Yoga Mat provides a stable, spacious platform for yoga, Pilates, or simply relaxing on the lake or ocean.  Durable, inflatable design for easy storage and transport. Perfect for summer fun!\"}]}]}]\n",
            "[{'messages': [{'role': 'user', 'content': [{'type': 'text', 'text': 'Create a Short Product description based on the provided ##PRODUCT NAME## and ##CATEGORY## and image.\\nOnly return description. The description should be SEO optimized and for a better mobile search experience.\\n\\n##PRODUCT NAME##: Plaid Hat Pandemic: Rapid Response\\n##CATEGORY##: Toys & Games | Games & Accessories | Board Games'}, {'type': 'image', 'image': <PIL.JpegImagePlugin.JpegImageFile image mode=RGB size=311x500 at 0x7F7951933D60>}]}, {'role': 'assistant', 'content': [{'type': 'text', 'text': \"Fast-paced card game of pandemic preparedness!  Plaid Hat Games' Pandemic: Rapid Response delivers quick, strategic fun for 2-4 players.  Perfect for families and game nights.  Grab yours today!\"}]}]}, {'messages': [{'role': 'user', 'content': [{'type': 'text', 'text': 'Create a Short Product description based on the provided ##PRODUCT NAME## and ##CATEGORY## and image.\\nOnly return description. The description should be SEO optimized and for a better mobile search experience.\\n\\n##PRODUCT NAME##: Max Factory Fate/Grand Order: ex:ride Spride.08 Cuirassier Noir\\n##CATEGORY##: Toys & Games | Hobbies | Hobby Building Tools & Hardware'}, {'type': 'image', 'image': <PIL.JpegImagePlugin.JpegImageFile image mode=RGB size=500x254 at 0x7F79AFE28070>}]}, {'role': 'assistant', 'content': [{'type': 'text', 'text': 'Highly detailed and posable Max Factory Fate/Grand Order: ex:ride figure of Cuirassier Noir.  Perfect for collectors and hobbyists.  Premium materials and exceptional craftsmanship. Add this stunning figure to your collection today!'}]}]}, {'messages': [{'role': 'user', 'content': [{'type': 'text', 'text': 'Create a Short Product description based on the provided ##PRODUCT NAME## and ##CATEGORY## and image.\\nOnly return description. The description should be SEO optimized and for a better mobile search experience.\\n\\n##PRODUCT NAME##: Snow Time\\n##CATEGORY##: Toys & Games | Games & Accessories | Board Games'}, {'type': 'image', 'image': <PIL.JpegImagePlugin.JpegImageFile image mode=RGB size=359x500 at 0x7F7951A7D390>}]}, {'role': 'assistant', 'content': [{'type': 'text', 'text': 'Fast-paced winter fun for the whole family! Snow Time is a captivating board game of snowy strategy and quick thinking.  Perfect for ages 8+, enjoy hours of snowy competition!'}]}]}, {'messages': [{'role': 'user', 'content': [{'type': 'text', 'text': 'Create a Short Product description based on the provided ##PRODUCT NAME## and ##CATEGORY## and image.\\nOnly return description. The description should be SEO optimized and for a better mobile search experience.\\n\\n##PRODUCT NAME##: Shapes Structured Vinyl Soft Seating with Durable Frame- Round Cylinder Stool 18\"H- Blue\\n##CATEGORY##: Home & Kitchen | Furniture | Kids\\' Furniture | Chairs & Seats | Stools'}, {'type': 'image', 'image': <PIL.JpegImagePlugin.JpegImageFile image mode=RGB size=500x500 at 0x7F79AFEFEE30>}]}, {'role': 'assistant', 'content': [{'type': 'text', 'text': 'Adorable & Durable Round Blue Stool for Kids!  This 18\" high vinyl-covered cylinder stool features a sturdy frame, perfect for little ones.  Easy to clean and built to last. Ideal for playrooms, bedrooms, and more.  Shop now!'}]}]}]\n",
            "[{'messages': [{'role': 'user', 'content': [{'type': 'text', 'text': 'Create a Short Product description based on the provided ##PRODUCT NAME## and ##CATEGORY## and image.\\nOnly return description. The description should be SEO optimized and for a better mobile search experience.\\n\\n##PRODUCT NAME##: Trends International DC Comics Movie - The Dark Knight - The Joker - Why So Serious One Sheet Wall Poster, 14.725\" x 22.375\", Black Framed Version\\n##CATEGORY##: Toys & Games | Toy Figures & Playsets | Action Figures'}, {'type': 'image', 'image': <PIL.JpegImagePlugin.JpegImageFile image mode=RGB size=334x500 at 0x7F795140CCD0>}]}, {'role': 'assistant', 'content': [{'type': 'text', 'text': 'Bring home the chilling intensity of Heath Ledger\\'s Joker with this framed Trends International Dark Knight poster!  This 14.725\" x 22.375\" wall poster features iconic Joker imagery and comes in a sleek black frame. Perfect for DC Comics fans and collectors.  A must-have for any action figure display or room decor.'}]}]}, {'messages': [{'role': 'user', 'content': [{'type': 'text', 'text': \"Create a Short Product description based on the provided ##PRODUCT NAME## and ##CATEGORY## and image.\\nOnly return description. The description should be SEO optimized and for a better mobile search experience.\\n\\n##PRODUCT NAME##: Razor V-17 Youth Multi-Sport Helmet (Satin Pink) Bundle\\n##CATEGORY##: Sports & Outdoors | Outdoor Recreation | Cycling | Kids' Bikes & Accessories | Kids' Helmets\"}, {'type': 'image', 'image': <PIL.JpegImagePlugin.JpegImageFile image mode=RGB size=500x500 at 0x7F7951B84970>}]}, {'role': 'assistant', 'content': [{'type': 'text', 'text': 'Razor V-17 Youth Multi-Sport Helmet (Satin Pink) Bundle:  Perfect for biking, skating, and scooting! This stylish and safe helmet provides superior protection for your child.  Lightweight design ensures all-day comfort.  Shop now!'}]}]}, {'messages': [{'role': 'user', 'content': [{'type': 'text', 'text': \"Create a Short Product description based on the provided ##PRODUCT NAME## and ##CATEGORY## and image.\\nOnly return description. The description should be SEO optimized and for a better mobile search experience.\\n\\n##PRODUCT NAME##: Disney Princess Rapunzel Doll Disney's Tangled Princess Sing & Shimmer Toddler Doll, Rapunzel Sings “I See The Light” When You Press Her Jeweled Necklace [Amazon Exclusive]\\n##CATEGORY##: Toys & Games | Dolls & Accessories | Dolls\"}, {'type': 'image', 'image': <PIL.JpegImagePlugin.JpegImageFile image mode=RGB size=500x500 at 0x7F7951B5AFE0>}]}, {'role': 'assistant', 'content': [{'type': 'text', 'text': 'Sing along with Rapunzel! This Amazon Exclusive Disney Princess Rapunzel doll sings \"I See the Light\" when you press her jeweled necklace.  A perfect gift for Tangled fans!  Toddler-sized and ready for magical adventures.'}]}]}, {'messages': [{'role': 'user', 'content': [{'type': 'text', 'text': 'Create a Short Product description based on the provided ##PRODUCT NAME## and ##CATEGORY## and image.\\nOnly return description. The description should be SEO optimized and for a better mobile search experience.\\n\\n##PRODUCT NAME##: Tissue Hanging Ghost Party Accessory (1 count) (1/Pkg)\\n##CATEGORY##: Toys & Games | Party Supplies'}, {'type': 'image', 'image': <PIL.JpegImagePlugin.JpegImageFile image mode=RGB size=353x500 at 0x7F79AFE28310>}]}, {'role': 'assistant', 'content': [{'type': 'text', 'text': 'Spooky fun for your Halloween party! This Tissue Hanging Ghost Party Accessory adds a touch of eerie charm to your decorations.  One ghostly hanging decoration per package. Perfect for creating a haunted atmosphere. #Halloween #PartySupplies #HalloweenDecorations #Ghost #PartyAccessories'}]}]}]\n",
            "[{'messages': [{'role': 'user', 'content': [{'type': 'text', 'text': 'Create a Short Product description based on the provided ##PRODUCT NAME## and ##CATEGORY## and image.\\nOnly return description. The description should be SEO optimized and for a better mobile search experience.\\n\\n##PRODUCT NAME##: Adora Baby Doll Clothes - Adoption Baby Essentials Sweet Star for 16 inch Girl Baby Dolls, 8-Piece Essentials Gift Set for Kids\\n##CATEGORY##: Toys & Games | Dolls & Accessories | Doll Accessories | Clothing & Shoes'}, {'type': 'image', 'image': <PIL.JpegImagePlugin.JpegImageFile image mode=RGB size=500x500 at 0x7F79519A93C0>}]}, {'role': 'assistant', 'content': [{'type': 'text', 'text': 'Dress your 16\" baby doll in adorable style! This 8-piece Adora doll clothes set includes sweet star-themed essentials. Perfect gift for kids who love imaginative play.  Shop now for high-quality doll accessories!'}]}]}, {'messages': [{'role': 'user', 'content': [{'type': 'text', 'text': 'Create a Short Product description based on the provided ##PRODUCT NAME## and ##CATEGORY## and image.\\nOnly return description. The description should be SEO optimized and for a better mobile search experience.\\n\\n##PRODUCT NAME##: The Old Lady Who Swallowed a Fly (Doll)\\n##CATEGORY##: Toys & Games | Dolls & Accessories | Dolls'}, {'type': 'image', 'image': <PIL.JpegImagePlugin.JpegImageFile image mode=RGB size=500x479 at 0x7F7951624B80>}]}, {'role': 'assistant', 'content': [{'type': 'text', 'text': 'Adorable The Old Lady Who Swallowed a Fly doll!  A fun and quirky collectible for kids and nostalgic adults.  Perfect for imaginative play or adding to your whimsical doll collection.  Shop now!'}]}]}, {'messages': [{'role': 'user', 'content': [{'type': 'text', 'text': 'Create a Short Product description based on the provided ##PRODUCT NAME## and ##CATEGORY## and image.\\nOnly return description. The description should be SEO optimized and for a better mobile search experience.\\n\\n##PRODUCT NAME##: World of Eric Carle, The Very Hungry Caterpillar Activity Toy, Ladybug\\n##CATEGORY##: Toys & Games | Stuffed Animals & Plush Toys'}, {'type': 'image', 'image': <PIL.JpegImagePlugin.JpegImageFile image mode=RGB size=500x500 at 0x7F7951A9DDB0>}]}, {'role': 'assistant', 'content': [{'type': 'text', 'text': 'Adorable World of Eric Carle Very Hungry Caterpillar Ladybug Plush!  This soft and cuddly ladybug activity toy is perfect for little ones.  High-quality materials ensure lasting playtime fun.  A must-have for Eric Carle fans!'}]}]}, {'messages': [{'role': 'user', 'content': [{'type': 'text', 'text': 'Create a Short Product description based on the provided ##PRODUCT NAME## and ##CATEGORY## and image.\\nOnly return description. The description should be SEO optimized and for a better mobile search experience.\\n\\n##PRODUCT NAME##: Ivy Lane Design Not-Aplicable Chalkboard Clips, Mini Circle, 10-Count\\n##CATEGORY##: Toys & Games | Arts & Crafts | Drawing & Writing Boards'}, {'type': 'image', 'image': <PIL.JpegImagePlugin.JpegImageFile image mode=RGB size=500x500 at 0x7F7951C3DE70>}]}, {'role': 'assistant', 'content': [{'type': 'text', 'text': \"Unleash creativity with Ivy Lane Design's 10-pack of mini circle chalkboard clips! Perfect for kids' arts & crafts, these adorable clips add a fun touch to drawings and writing boards.  Ideal for classroom use or home projects. Securely hold artwork and notes. Small size, big impact!\"}]}]}]\n",
            "[{'messages': [{'role': 'user', 'content': [{'type': 'text', 'text': 'Create a Short Product description based on the provided ##PRODUCT NAME## and ##CATEGORY## and image.\\nOnly return description. The description should be SEO optimized and for a better mobile search experience.\\n\\n##PRODUCT NAME##: MasterPieces The Right Fit Kids Jigsaw Puzzle, 101 Things to Spot in the Woods, Tillywig Top Fun Award, 101 Piece, For Age 6+\\n##CATEGORY##: Toys & Games | Puzzles | Jigsaw Puzzles'}, {'type': 'image', 'image': <PIL.JpegImagePlugin.JpegImageFile image mode=RGB size=500x500 at 0x7F79516B3160>}]}, {'role': 'assistant', 'content': [{'type': 'text', 'text': \"Challenge your child's observation skills with MasterPieces 101 Things to Spot in the Woods Kids Jigsaw Puzzle! This 101-piece puzzle, perfect for ages 6+, features a whimsical woodland scene brimming with details. Awarded Tillywig Top Fun, it offers hours of engaging fun and improves problem-solving abilities.  A great gift for kids who love nature and puzzles!\"}]}]}, {'messages': [{'role': 'user', 'content': [{'type': 'text', 'text': 'Create a Short Product description based on the provided ##PRODUCT NAME## and ##CATEGORY## and image.\\nOnly return description. The description should be SEO optimized and for a better mobile search experience.\\n\\n##PRODUCT NAME##: MightySkins Skin Compatible with DJI Phantom 3 Standard – Be Happy | Protective, Durable, and Unique Vinyl Decal wrap Cover | Easy to Apply, Remove, and Change Styles | Made in The USA\\n##CATEGORY##: Toys & Games | Hobbies | Remote & App Controlled Vehicles & Parts | Remote & App Controlled Vehicles | Quadcopters & Multirotors'}, {'type': 'image', 'image': <PIL.JpegImagePlugin.JpegImageFile image mode=RGB size=500x500 at 0x7F7951A9CF40>}]}, {'role': 'assistant', 'content': [{'type': 'text', 'text': \"Give your DJI Phantom 3 Standard a unique look with MightySkins! This durable, protective vinyl decal skin is easy to apply, remove, and change, letting you customize your drone's style. Made in the USA.  Perfect for adding personality to your quadcopter.\"}]}]}, {'messages': [{'role': 'user', 'content': [{'type': 'text', 'text': 'Create a Short Product description based on the provided ##PRODUCT NAME## and ##CATEGORY## and image.\\nOnly return description. The description should be SEO optimized and for a better mobile search experience.\\n\\n##PRODUCT NAME##: Poolmaster Jumbo Swimming Pool Float Rider, Swan\\n##CATEGORY##: Toys & Games | Baby & Toddler Toys'}, {'type': 'image', 'image': <PIL.JpegImagePlugin.JpegImageFile image mode=RGB size=500x333 at 0x7F79516830D0>}]}, {'role': 'assistant', 'content': [{'type': 'text', 'text': 'Giant Inflatable Swan Pool Float for Kids – Safe & Fun Summer Pool Toy.  Perfect for toddlers and young children, this jumbo swan rider provides hours of splashing fun in the sun. Durable, easy to inflate, and a must-have for summer pool parties!'}]}]}, {'messages': [{'role': 'user', 'content': [{'type': 'text', 'text': 'Create a Short Product description based on the provided ##PRODUCT NAME## and ##CATEGORY## and image.\\nOnly return description. The description should be SEO optimized and for a better mobile search experience.\\n\\n##PRODUCT NAME##: Perler 42766 Bead Bucket, Multicolor\\n##CATEGORY##: Arts, Crafts & Sewing | Beading & Jewelry Making | Beading Supplies | Fuse & Perler Beads'}, {'type': 'image', 'image': <PIL.JpegImagePlugin.JpegImageFile image mode=RGB size=500x500 at 0x7F7951A9F160>}]}, {'role': 'assistant', 'content': [{'type': 'text', 'text': 'Unleash your creativity with the Perler 42766 Bead Bucket! This multicolor bucket is brimming with vibrant Perler beads, perfect for crafting intricate designs. Ideal for kids and adults, these fuse beads are great for jewelry making, ironing, and more.  Start creating today!'}]}]}]\n",
            "[{'messages': [{'role': 'user', 'content': [{'type': 'text', 'text': 'Create a Short Product description based on the provided ##PRODUCT NAME## and ##CATEGORY## and image.\\nOnly return description. The description should be SEO optimized and for a better mobile search experience.\\n\\n##PRODUCT NAME##: Celebrate the Home Floral 3-Ply Paper Luncheon Napkins, Bella La Jardiniere, 20 Count\\n##CATEGORY##: Home & Kitchen | Event & Party Supplies | Tableware | Napkins'}, {'type': 'image', 'image': <PIL.JpegImagePlugin.JpegImageFile image mode=RGB size=500x500 at 0x7F79515D1C00>}]}, {'role': 'assistant', 'content': [{'type': 'text', 'text': 'Elevate your next gathering with Celebrate the Home Floral 3-Ply Paper Luncheon Napkins (20 ct).  These beautiful Bella La Jardiniere napkins add a touch of elegance to any table setting.  Perfect for parties, weddings, or everyday use.  Durable 3-ply construction ensures absorbency and prevents tearing. Shop now for sophisticated style!'}]}]}, {'messages': [{'role': 'user', 'content': [{'type': 'text', 'text': 'Create a Short Product description based on the provided ##PRODUCT NAME## and ##CATEGORY## and image.\\nOnly return description. The description should be SEO optimized and for a better mobile search experience.\\n\\n##PRODUCT NAME##: Foam Create-A-Beam Deluxe Set\\n##CATEGORY##: Sports & Outdoors | Sports & Fitness | Other Sports | Gymnastics'}, {'type': 'image', 'image': <PIL.JpegImagePlugin.JpegImageFile image mode=RGB size=399x320 at 0x7F79514F1840>}]}, {'role': 'assistant', 'content': [{'type': 'text', 'text': 'Unleash your inner gymnast with the Foam Create-A-Beam Deluxe Set!  Perfect for home practice, this versatile set provides hours of fun and fitness.  Develop balance, strength, and flexibility.  Shop now for safe, soft, and durable foam gymnastics equipment.'}]}]}, {'messages': [{'role': 'user', 'content': [{'type': 'text', 'text': \"Create a Short Product description based on the provided ##PRODUCT NAME## and ##CATEGORY## and image.\\nOnly return description. The description should be SEO optimized and for a better mobile search experience.\\n\\n##PRODUCT NAME##: Crayola Splat Comforter Set, Full/Queen\\n##CATEGORY##: Home & Kitchen | Bedding | Kids' Bedding | Comforters & Sets | Comforter Sets\"}, {'type': 'image', 'image': <PIL.JpegImagePlugin.JpegImageFile image mode=RGB size=500x500 at 0x7F7951706B60>}]}, {'role': 'assistant', 'content': [{'type': 'text', 'text': \"Transform your child's bedroom into a vibrant, creative space with the Crayola Splat Comforter Set! This Full/Queen size set features a playful splattered design, perfect for budding artists.  Made for ultimate comfort and durability, it's machine washable for easy care.  Bring the joy of Crayola to bedtime!\"}]}]}, {'messages': [{'role': 'user', 'content': [{'type': 'text', 'text': \"Create a Short Product description based on the provided ##PRODUCT NAME## and ##CATEGORY## and image.\\nOnly return description. The description should be SEO optimized and for a better mobile search experience.\\n\\n##PRODUCT NAME##: A + Child Supply A+ Childsupply Pink Retro Cooking Range with Sink Kid's Furniture\\n##CATEGORY##: Home & Kitchen | Furniture | Kids' Furniture\"}, {'type': 'image', 'image': <PIL.JpegImagePlugin.JpegImageFile image mode=RGB size=432x500 at 0x7F79AFFB0FA0>}]}, {'role': 'assistant', 'content': [{'type': 'text', 'text': \"Adorable Pink Retro Play Kitchen!  This A+ Childsupply cooking range with sink is the perfect addition to your child's playroom.  Features a realistic design for hours of imaginative fun. Ideal kids' furniture for pretend play. Shop now!\"}]}]}]\n",
            "[{'messages': [{'role': 'user', 'content': [{'type': 'text', 'text': 'Create a Short Product description based on the provided ##PRODUCT NAME## and ##CATEGORY## and image.\\nOnly return description. The description should be SEO optimized and for a better mobile search experience.\\n\\n##PRODUCT NAME##: Ready To Robot Singles Series 1-2 Toy, Multicolor\\n##CATEGORY##: None'}, {'type': 'image', 'image': <PIL.JpegImagePlugin.JpegImageFile image mode=RGB size=497x500 at 0x7F7951C3EB90>}]}, {'role': 'assistant', 'content': [{'type': 'text', 'text': 'Unleash the robotic fun with Ready To Robot Singles Series 1-2!  These collectible multicolor toys are perfect for kids and collectors.  Start your collection today!'}]}]}, {'messages': [{'role': 'user', 'content': [{'type': 'text', 'text': \"Create a Short Product description based on the provided ##PRODUCT NAME## and ##CATEGORY## and image.\\nOnly return description. The description should be SEO optimized and for a better mobile search experience.\\n\\n##PRODUCT NAME##: Marvel Avengers Child's Captain America Costume Bundle, Medium\\n##CATEGORY##: Clothing, Shoes & Jewelry | Costumes & Accessories | Kids & Baby | Boys | Costumes\"}, {'type': 'image', 'image': <PIL.JpegImagePlugin.JpegImageFile image mode=RGB size=499x500 at 0x7F7951A7F850>}]}, {'role': 'assistant', 'content': [{'type': 'text', 'text': 'Become the star-spangled Avenger! This Marvel Avengers Captain America Costume Bundle (Medium) is perfect for your little hero.  Includes iconic details for authentic superhero style.  Get ready for trick-or-treating or playtime adventures!'}]}]}, {'messages': [{'role': 'user', 'content': [{'type': 'text', 'text': \"Create a Short Product description based on the provided ##PRODUCT NAME## and ##CATEGORY## and image.\\nOnly return description. The description should be SEO optimized and for a better mobile search experience.\\n\\n##PRODUCT NAME##: Jay Franco Comforter, Star Wars Rogue One\\n##CATEGORY##: Home & Kitchen | Bedding | Kids' Bedding | Comforters & Sets | Comforters\"}, {'type': 'image', 'image': <PIL.JpegImagePlugin.JpegImageFile image mode=RGB size=450x450 at 0x7F7951B87B50>}]}, {'role': 'assistant', 'content': [{'type': 'text', 'text': \"Bring the excitement of Star Wars Rogue One to your child's bedroom with this Jay Franco comforter.  Features vibrant imagery of iconic characters and scenes.  Soft, comfortable, and perfect for kids. Machine washable for easy care.  Shop now!\"}]}]}, {'messages': [{'role': 'user', 'content': [{'type': 'text', 'text': 'Create a Short Product description based on the provided ##PRODUCT NAME## and ##CATEGORY## and image.\\nOnly return description. The description should be SEO optimized and for a better mobile search experience.\\n\\n##PRODUCT NAME##: Creativity Street Dinosaurs Embossed Paper, 24-Pieces\\n##CATEGORY##: Toys & Games | Arts & Crafts'}, {'type': 'image', 'image': <PIL.JpegImagePlugin.JpegImageFile image mode=RGB size=500x500 at 0x7F79AFE2BB80>}]}, {'role': 'assistant', 'content': [{'type': 'text', 'text': \"Unleash your child's inner paleontologist!  These 24 embossed dinosaur paper sheets from Creativity Street are perfect for crafting, drawing, and imaginative play.  Thick, high-quality paper features stunning dinosaur designs. Ideal for kids' arts & crafts projects.  Get creative today!\"}]}]}]\n",
            "[{'messages': [{'role': 'user', 'content': [{'type': 'text', 'text': \"Create a Short Product description based on the provided ##PRODUCT NAME## and ##CATEGORY## and image.\\nOnly return description. The description should be SEO optimized and for a better mobile search experience.\\n\\n##PRODUCT NAME##: Bandai Tamashii Nations Act Ring Corner The Challenger's Corner Stage Action Figure\\n##CATEGORY##: Toys & Games | Toy Figures & Playsets | Action Figures\"}, {'type': 'image', 'image': <PIL.JpegImagePlugin.JpegImageFile image mode=RGB size=500x361 at 0x7F7951625210>}]}, {'role': 'assistant', 'content': [{'type': 'text', 'text': \"Epic action figure display! Bandai Tamashii Nations Act Ring Corner: Challenger's Corner Stage provides the perfect backdrop for your favorite action figures.  Premium quality, detailed design.  Create dynamic fight scenes!\"}]}]}, {'messages': [{'role': 'user', 'content': [{'type': 'text', 'text': \"Create a Short Product description based on the provided ##PRODUCT NAME## and ##CATEGORY## and image.\\nOnly return description. The description should be SEO optimized and for a better mobile search experience.\\n\\n##PRODUCT NAME##: Rubie's Costume Squirrel Girl Marvel Rising Secret Warriors Deluxe Child Costume\\n##CATEGORY##: Toys & Games | Dress Up & Pretend Play | Costumes\"}, {'type': 'image', 'image': <PIL.JpegImagePlugin.JpegImageFile image mode=RGB size=255x500 at 0x7F79513AA680>}]}, {'role': 'assistant', 'content': [{'type': 'text', 'text': \"Become Doreen Green! This Rubie's Costume Squirrel Girl Marvel Rising Secret Warriors Deluxe Child Costume brings the super-powered heroine to life.  Perfect for Halloween, cosplay, or imaginative play.  Includes detailed costume elements for authentic look.  Shop now!\"}]}]}, {'messages': [{'role': 'user', 'content': [{'type': 'text', 'text': 'Create a Short Product description based on the provided ##PRODUCT NAME## and ##CATEGORY## and image.\\nOnly return description. The description should be SEO optimized and for a better mobile search experience.\\n\\n##PRODUCT NAME##: Razor Party Pop Kick Scooter\\n##CATEGORY##: Sports & Outdoors | Outdoor Recreation | Skates, Skateboards & Scooters | Scooters & Equipment | Scooters | Kick Scooters'}, {'type': 'image', 'image': <PIL.JpegImagePlugin.JpegImageFile image mode=RGB size=500x500 at 0x7F79515D33A0>}]}, {'role': 'assistant', 'content': [{'type': 'text', 'text': \"Party like it's 1999 (but with better wheels)! The Razor Party Pop Kick Scooter delivers smooth rides and vibrant fun.  Lightweight, durable, and easy to maneuver, it's perfect for kids and adults.  Get yours today and roll into awesome!\"}]}]}, {'messages': [{'role': 'user', 'content': [{'type': 'text', 'text': 'Create a Short Product description based on the provided ##PRODUCT NAME## and ##CATEGORY## and image.\\nOnly return description. The description should be SEO optimized and for a better mobile search experience.\\n\\n##PRODUCT NAME##: Cryptozoic DC Comics Lil Bombshells Series 3 Vinyl Blindbox 2.5\" Individual Figure Diplay Pack - 12 Blindbox Figures Included\\n##CATEGORY##: Toys & Games | Toy Figures & Playsets | Action Figures'}, {'type': 'image', 'image': <PIL.JpegImagePlugin.JpegImageFile image mode=RGB size=500x500 at 0x7F7951B5BFA0>}]}, {'role': 'assistant', 'content': [{'type': 'text', 'text': 'Unleash your inner collector with the Cryptozoic DC Comics Lil Bombshells Series 3 Vinyl Blind Box! This display pack includes 12 mystery figures, each a 2.5\" collectible featuring your favorite DC heroines in adorable, stylized designs.  Perfect for fans and collectors alike!  Action figures, blind bags, DC Comics, Lil Bombshells.'}]}]}]\n",
            "[{'messages': [{'role': 'user', 'content': [{'type': 'text', 'text': 'Create a Short Product description based on the provided ##PRODUCT NAME## and ##CATEGORY## and image.\\nOnly return description. The description should be SEO optimized and for a better mobile search experience.\\n\\n##PRODUCT NAME##: Disguise Red Ranger Dino Charge Toddler Classic Costume, Large (4-6)\\n##CATEGORY##: Clothing, Shoes & Jewelry | Costumes & Accessories | Kids & Baby | Boys | Costumes'}, {'type': 'image', 'image': <PIL.JpegImagePlugin.JpegImageFile image mode=RGB size=500x500 at 0x7F7951851150>}]}, {'role': 'assistant', 'content': [{'type': 'text', 'text': 'Power up playtime with the Disguise Red Ranger Dino Charge Toddler Classic Costume! This officially licensed costume, sized Large (4-6), lets your little one become their favorite Dino Charge hero.  Perfect for Halloween, themed parties, or everyday imaginative play.  Durable, comfortable, and ready for action!'}]}]}, {'messages': [{'role': 'user', 'content': [{'type': 'text', 'text': 'Create a Short Product description based on the provided ##PRODUCT NAME## and ##CATEGORY## and image.\\nOnly return description. The description should be SEO optimized and for a better mobile search experience.\\n\\n##PRODUCT NAME##: Pirate Buccaneer Sword\\n##CATEGORY##: Toys & Games | Dress Up & Pretend Play | Pretend Play'}, {'type': 'image', 'image': <PIL.JpegImagePlugin.JpegImageFile image mode=RGB size=330x500 at 0x7F79AFEFF370>}]}, {'role': 'assistant', 'content': [{'type': 'text', 'text': 'Shiver me timbers!  Become the ultimate pirate with this realistic Pirate Buccaneer Sword! Perfect for swashbuckling adventures and imaginative pretend play.  Durable, safe, and fun for kids.  Ahoy, matey!'}]}]}, {'messages': [{'role': 'user', 'content': [{'type': 'text', 'text': 'Create a Short Product description based on the provided ##PRODUCT NAME## and ##CATEGORY## and image.\\nOnly return description. The description should be SEO optimized and for a better mobile search experience.\\n\\n##PRODUCT NAME##: Star Lord + Groot Toy Pack - Marvel Pulp Heroes - Collectible Snap Bots - Comic Book Packaging\\n##CATEGORY##: Toys & Games | Dress Up & Pretend Play | Pretend Play'}, {'type': 'image', 'image': <PIL.JpegImagePlugin.JpegImageFile image mode=RGB size=500x333 at 0x7F79AFE97D60>}]}, {'role': 'assistant', 'content': [{'type': 'text', 'text': \"Unleash galactic adventures with the Star Lord & Groot Snap Bots!  This collectible 2-pack features Marvel's Pulp Heroes in awesome comic book-style packaging. Perfect for imaginative play and adding to your collection.  Great gift for Marvel fans!\"}]}]}, {'messages': [{'role': 'user', 'content': [{'type': 'text', 'text': 'Create a Short Product description based on the provided ##PRODUCT NAME## and ##CATEGORY## and image.\\nOnly return description. The description should be SEO optimized and for a better mobile search experience.\\n\\n##PRODUCT NAME##: Disney Sofia The First Mermaid Magic Princess Sofia Doll\\n##CATEGORY##: Toys & Games | Dolls & Accessories | Dolls'}, {'type': 'image', 'image': <PIL.JpegImagePlugin.JpegImageFile image mode=RGB size=299x500 at 0x7F79AFE94790>}]}, {'role': 'assistant', 'content': [{'type': 'text', 'text': \"Dive into enchanting underwater adventures with Disney's Sofia the First Mermaid Magic Princess Sofia Doll! This collectible doll features Sofia in a shimmering mermaid tail, perfect for imaginative playtime.  A must-have for any Sofia the First fan!\"}]}]}]\n",
            "[{'messages': [{'role': 'user', 'content': [{'type': 'text', 'text': \"Create a Short Product description based on the provided ##PRODUCT NAME## and ##CATEGORY## and image.\\nOnly return description. The description should be SEO optimized and for a better mobile search experience.\\n\\n##PRODUCT NAME##: Safavieh Castle Gardens Collection Dragon Coin Antique White Glazed Ceramic Garden Stool\\n##CATEGORY##: Home & Kitchen | Furniture | Kids' Furniture | Chairs & Seats | Stools\"}, {'type': 'image', 'image': <PIL.JpegImagePlugin.JpegImageFile image mode=RGB size=384x500 at 0x7F79516B1330>}]}, {'role': 'assistant', 'content': [{'type': 'text', 'text': \"Add a touch of whimsical charm to your garden or child's room with the Safavieh Castle Gardens Dragon Coin Garden Stool. This antique white glazed ceramic stool features a delightful dragon coin design, perfect as extra seating or a unique decorative accent.  Durable and stylish, it's a versatile piece for indoor or outdoor use.\"}]}]}, {'messages': [{'role': 'user', 'content': [{'type': 'text', 'text': 'Create a Short Product description based on the provided ##PRODUCT NAME## and ##CATEGORY## and image.\\nOnly return description. The description should be SEO optimized and for a better mobile search experience.\\n\\n##PRODUCT NAME##: Watchover Voodoo Star Warrior Toy\\n##CATEGORY##: Toys & Games | Dolls & Accessories | Dolls'}, {'type': 'image', 'image': <PIL.JpegImagePlugin.JpegImageFile image mode=RGB size=500x333 at 0x7F7951B85D20>}]}, {'role': 'assistant', 'content': [{'type': 'text', 'text': 'Watchover Voodoo Star Warrior Doll:  A collectible action doll, perfect for imaginative play.  Features unique design & accessories.  Ideal gift for kids who love fantasy & adventure!'}]}]}, {'messages': [{'role': 'user', 'content': [{'type': 'text', 'text': \"Create a Short Product description based on the provided ##PRODUCT NAME## and ##CATEGORY## and image.\\nOnly return description. The description should be SEO optimized and for a better mobile search experience.\\n\\n##PRODUCT NAME##: Mi Zone Kids Milo Full/Queen Bedding for Girls Quilt Set - Pink Yellow, Animal Dog – 4 Piece Kids Girls Quilts – Ultra Soft Microfiber Quilt Sets Coverlet\\n##CATEGORY##: Home & Kitchen | Bedding | Kids' Bedding | Quilts & Sets | Quilt Sets\"}, {'type': 'image', 'image': <PIL.JpegImagePlugin.JpegImageFile image mode=RGB size=500x500 at 0x7F7951682110>}]}, {'role': 'assistant', 'content': [{'type': 'text', 'text': \"Transform your child's bedroom into a playful paradise with the Mi Zone Kids Milo Full/Queen Quilt Set! This adorable 4-piece set features a charming pink and yellow animal dog design on ultra-soft microfiber, ensuring cozy comfort all night long. Perfect for girls, this quilt set is ideal for full or queen beds, bringing style and sweetness to any space.  Shop now for a delightful upgrade to your child's bedding!\"}]}]}, {'messages': [{'role': 'user', 'content': [{'type': 'text', 'text': 'Create a Short Product description based on the provided ##PRODUCT NAME## and ##CATEGORY## and image.\\nOnly return description. The description should be SEO optimized and for a better mobile search experience.\\n\\n##PRODUCT NAME##: Dinotrux Bundle [Amazon Exclusive]\\n##CATEGORY##: Toys & Games | Play Vehicles | Vehicle Playsets'}, {'type': 'image', 'image': <PIL.JpegImagePlugin.JpegImageFile image mode=RGB size=500x500 at 0x7F7951C3D150>}]}, {'role': 'assistant', 'content': [{'type': 'text', 'text': 'Roar into adventure with the Dinotrux Bundle [Amazon Exclusive]! This exciting playset features [mention specific Dinotrux included, e.g.,  Ty Rux and Revvit] and more, perfect for imaginative play.  Collect them all!  #Dinotrux #PlayVehicles #VehiclePlaysets #KidsToys #AmazonExclusive'}]}]}]\n",
            "[{'messages': [{'role': 'user', 'content': [{'type': 'text', 'text': 'Create a Short Product description based on the provided ##PRODUCT NAME## and ##CATEGORY## and image.\\nOnly return description. The description should be SEO optimized and for a better mobile search experience.\\n\\n##PRODUCT NAME##: Indie Boards & Cards Kokoro Avenue of The Kodamas Board Games\\n##CATEGORY##: Toys & Games | Games & Accessories | Board Games'}, {'type': 'image', 'image': <PIL.JpegImagePlugin.JpegImageFile image mode=RGB size=500x500 at 0x7F7951B874C0>}]}, {'role': 'assistant', 'content': [{'type': 'text', 'text': 'Experience the enchanting world of Kokoro: Avenue of the Kodamas! This captivating board game from Indie Boards & Cards invites players on a journey of spiritual connection and strategic gameplay.  Collect Kodama, manage your resources, and strive for harmony in this beautifully illustrated game perfect for families and board game enthusiasts.'}]}]}, {'messages': [{'role': 'user', 'content': [{'type': 'text', 'text': 'Create a Short Product description based on the provided ##PRODUCT NAME## and ##CATEGORY## and image.\\nOnly return description. The description should be SEO optimized and for a better mobile search experience.\\n\\n##PRODUCT NAME##: Amscan Suspenders, Party Accessory, Rainbow\\n##CATEGORY##: Toys & Games | Dress Up & Pretend Play'}, {'type': 'image', 'image': <PIL.JpegImagePlugin.JpegImageFile image mode=RGB size=483x500 at 0x7F7951A17130>}]}, {'role': 'assistant', 'content': [{'type': 'text', 'text': \"Add a splash of rainbow fun to your child's playtime! These Amscan Rainbow Suspenders are the perfect party accessory for dress-up and pretend play.  Bright, colorful, and comfortable, they'll spark imagination and add a joyful touch to any costume. Ideal for kids' parties, themed events, or everyday fun.\"}]}]}, {'messages': [{'role': 'user', 'content': [{'type': 'text', 'text': 'Create a Short Product description based on the provided ##PRODUCT NAME## and ##CATEGORY## and image.\\nOnly return description. The description should be SEO optimized and for a better mobile search experience.\\n\\n##PRODUCT NAME##: Melissa & Doug Magnetivity Magnetic Tiles Building Play Set – Pirate Cove with Pirate Ship (62 Pieces, STEM Toy, Great Gift for Girls and Boys - Best for 4, 5, 6, 7, 8 Year Olds and Up)\\n##CATEGORY##: Toys & Games | Dress Up & Pretend Play | Pretend Play | Magnetic & Felt Playboards'}, {'type': 'image', 'image': <PIL.JpegImagePlugin.JpegImageFile image mode=RGB size=500x500 at 0x7F795179DD20>}]}, {'role': 'assistant', 'content': [{'type': 'text', 'text': \"Unleash your child's imagination with the Melissa & Doug Magnetivity Pirate Cove! This 62-piece magnetic tile set lets kids build a swashbuckling pirate ship and cove, fostering creativity and STEM skills.  Perfect for ages 4+, it's a fantastic gift for boys and girls.  Magnetic tiles ensure easy cleanup and endless building fun!\"}]}]}, {'messages': [{'role': 'user', 'content': [{'type': 'text', 'text': 'Create a Short Product description based on the provided ##PRODUCT NAME## and ##CATEGORY## and image.\\nOnly return description. The description should be SEO optimized and for a better mobile search experience.\\n\\n##PRODUCT NAME##: Fisher-Price Thomas & Friends Adventures, Large Push Along Gordon\\n##CATEGORY##: Toys & Games | Baby & Toddler Toys | Push & Pull Toys'}, {'type': 'image', 'image': <PIL.JpegImagePlugin.JpegImageFile image mode=RGB size=500x304 at 0x7F79516B2980>}]}, {'role': 'assistant', 'content': [{'type': 'text', 'text': 'All aboard for fun with the Fisher-Price Thomas & Friends Adventures Large Push Along Gordon!  This chunky, easy-to-grip train is perfect for toddlers learning to walk and developing motor skills.  Durable and brightly colored, Gordon is ready for imaginative play on any adventure. Ideal push & pull toy for ages 18 months+.'}]}]}]\n",
            "[{'messages': [{'role': 'user', 'content': [{'type': 'text', 'text': 'Create a Short Product description based on the provided ##PRODUCT NAME## and ##CATEGORY## and image.\\nOnly return description. The description should be SEO optimized and for a better mobile search experience.\\n\\n##PRODUCT NAME##: \"Happy Retirement\" Party Plates, 7\", 8 Ct.\\n##CATEGORY##: Toys & Games | Party Supplies | Party Packs'}, {'type': 'image', 'image': <PIL.JpegImagePlugin.JpegImageFile image mode=RGB size=500x500 at 0x7F7951B86500>}]}, {'role': 'assistant', 'content': [{'type': 'text', 'text': 'Celebrate a joyful retirement with these festive 7\" Happy Retirement party plates!  This 8-count pack provides enough for a small gathering. Perfect for your retirement party supplies, ensuring a memorable send-off.  Shop now!'}]}]}, {'messages': [{'role': 'user', 'content': [{'type': 'text', 'text': 'Create a Short Product description based on the provided ##PRODUCT NAME## and ##CATEGORY## and image.\\nOnly return description. The description should be SEO optimized and for a better mobile search experience.\\n\\n##PRODUCT NAME##: Janod 13Piece Cherry Wood Fruit & Crate Set Play Kitchen Accessory for Pretend Play & Imagination Ages 3+\\n##CATEGORY##: Toys & Games | Dress Up & Pretend Play | Pretend Play | Kitchen Toys | Cooking & Baking Kits'}, {'type': 'image', 'image': <PIL.JpegImagePlugin.JpegImageFile image mode=RGB size=500x500 at 0x7F7951A14C70>}]}, {'role': 'assistant', 'content': [{'type': 'text', 'text': 'Janod 13-Piece Cherry Wood Fruit & Crate Set – Realistic pretend play kitchen accessory for ages 3+.  High-quality wood construction.  Develops imagination & fine motor skills. Perfect gift!'}]}]}, {'messages': [{'role': 'user', 'content': [{'type': 'text', 'text': 'Create a Short Product description based on the provided ##PRODUCT NAME## and ##CATEGORY## and image.\\nOnly return description. The description should be SEO optimized and for a better mobile search experience.\\n\\n##PRODUCT NAME##: 3B Scientific U19515 4 Piece Grating Set\\n##CATEGORY##: Toys & Games | Learning & Education | Science Kits & Toys'}, {'type': 'image', 'image': <PIL.JpegImagePlugin.JpegImageFile image mode=RGB size=448x500 at 0x7F79AFE94640>}]}, {'role': 'assistant', 'content': [{'type': 'text', 'text': 'Explore the world of light and diffraction with the 3B Scientific U19515 4-Piece Grating Set! This high-quality science kit is perfect for educational experiments and demonstrations. Includes 4 different diffraction gratings for diverse learning experiences. Ideal for STEM learning at home or in the classroom.  Buy now and unlock the secrets of light!'}]}]}, {'messages': [{'role': 'user', 'content': [{'type': 'text', 'text': 'Create a Short Product description based on the provided ##PRODUCT NAME## and ##CATEGORY## and image.\\nOnly return description. The description should be SEO optimized and for a better mobile search experience.\\n\\n##PRODUCT NAME##: Whitmor Frog Collapsible Cube\\n##CATEGORY##: Home & Kitchen | Kitchen & Dining | Storage & Organization | Travel & To-Go Food Containers | Lunch Boxes'}, {'type': 'image', 'image': <PIL.JpegImagePlugin.JpegImageFile image mode=RGB size=500x455 at 0x7F7951A14B20>}]}, {'role': 'assistant', 'content': [{'type': 'text', 'text': 'Space-saving solution for lunches! This Whitmor Frog Collapsible Cube lunch box is perfect for kids & adults.  Durable, easy to clean, and collapses flat for storage.  Great for school, work, or travel. Secure closure keeps contents fresh.'}]}]}]\n",
            "[{'messages': [{'role': 'user', 'content': [{'type': 'text', 'text': 'Create a Short Product description based on the provided ##PRODUCT NAME## and ##CATEGORY## and image.\\nOnly return description. The description should be SEO optimized and for a better mobile search experience.\\n\\n##PRODUCT NAME##: Crocodile Creek 4130-1 Two-Sided Monkey Jungle Round Puzzle (24 Piece), Green/Blue/Red/Orange\\n##CATEGORY##: Toys & Games | Puzzles | Floor Puzzles'}, {'type': 'image', 'image': <PIL.JpegImagePlugin.JpegImageFile image mode=RGB size=500x333 at 0x7F79515D3CD0>}]}, {'role': 'assistant', 'content': [{'type': 'text', 'text': \"Unleash jungle fun with Crocodile Creek's 24-piece double-sided Monkey Jungle Round Puzzle!  Vibrant colors and engaging imagery make this floor puzzle perfect for young explorers (ages 3+).  Develops problem-solving skills and hand-eye coordination.  Durable, sturdy pieces ensure lasting playtime.\"}]}]}, {'messages': [{'role': 'user', 'content': [{'type': 'text', 'text': 'Create a Short Product description based on the provided ##PRODUCT NAME## and ##CATEGORY## and image.\\nOnly return description. The description should be SEO optimized and for a better mobile search experience.\\n\\n##PRODUCT NAME##: Fingerlings - Glitter Dragon - Kaylin (Purple with Pink) - Interactive Baby Collectible Pet - By WowWee\\n##CATEGORY##: Toys & Games | Puppets & Puppet Theaters | Finger Puppets'}, {'type': 'image', 'image': <PIL.JpegImagePlugin.JpegImageFile image mode=RGB size=500x500 at 0x7F795179E260>}]}, {'role': 'assistant', 'content': [{'type': 'text', 'text': 'Meet Kaylin, the dazzling Glitter Dragon Fingerlings! This interactive collectible pet hangs onto your finger, reacts to your touch, and features adorable sounds and movements. Perfect for imaginative play and a great gift for kids who love magical creatures.  Shop now!'}]}]}, {'messages': [{'role': 'user', 'content': [{'type': 'text', 'text': 'Create a Short Product description based on the provided ##PRODUCT NAME## and ##CATEGORY## and image.\\nOnly return description. The description should be SEO optimized and for a better mobile search experience.\\n\\n##PRODUCT NAME##: Amscan 122086 Rainbow Butterfly Unicorn Kitty Diecut Banner, 10 1/2\\' x 10\", Multicolor\\n##CATEGORY##: Toys & Games | Party Supplies | Banners'}, {'type': 'image', 'image': <PIL.JpegImagePlugin.JpegImageFile image mode=RGB size=500x500 at 0x7F7951932470>}]}, {'role': 'assistant', 'content': [{'type': 'text', 'text': \"Celebrate in style with this Amscan Rainbow Butterfly Unicorn Kitty Diecut Banner!  Perfect for birthdays and parties, this 10 1/2' multicolor banner features adorable unicorns, butterflies, and kitties.  Easy to hang, it adds a magical touch to any celebration.  Shop now!\"}]}]}, {'messages': [{'role': 'user', 'content': [{'type': 'text', 'text': 'Create a Short Product description based on the provided ##PRODUCT NAME## and ##CATEGORY## and image.\\nOnly return description. The description should be SEO optimized and for a better mobile search experience.\\n\\n##PRODUCT NAME##: RPM 72022 Latrax Alias Landing Gear, Black\\n##CATEGORY##: Toys & Games | Hobbies | Remote & App Controlled Vehicles & Parts | Remote & App Controlled Vehicle Parts | Vehicle Bodies & Scale Accessories'}, {'type': 'image', 'image': <PIL.JpegImagePlugin.JpegImageFile image mode=RGB size=500x500 at 0x7F79516B1DB0>}]}, {'role': 'assistant', 'content': [{'type': 'text', 'text': 'Upgrade your Latrax Alias with these durable black replacement landing gear (RPM 72022).  Perfect for rough landings and extended playtime, ensuring your RC vehicle stays airborne.  Essential for repairs and customization.'}]}]}]\n",
            "[{'messages': [{'role': 'user', 'content': [{'type': 'text', 'text': 'Create a Short Product description based on the provided ##PRODUCT NAME## and ##CATEGORY## and image.\\nOnly return description. The description should be SEO optimized and for a better mobile search experience.\\n\\n##PRODUCT NAME##: The Puppet Company Baby Monsters Blue Monster Hand Puppet\\n##CATEGORY##: Toys & Games | Puppets & Puppet Theaters | Hand Puppets'}, {'type': 'image', 'image': <PIL.JpegImagePlugin.JpegImageFile image mode=RGB size=500x500 at 0x7F7951549B70>}]}, {'role': 'assistant', 'content': [{'type': 'text', 'text': 'Adorable Blue Monster Hand Puppet from The Puppet Company!  Perfect for imaginative play, this soft and cuddly monster is ideal for toddlers and preschoolers.  Bring stories to life with this high-quality hand puppet.  Shop now!'}]}]}, {'messages': [{'role': 'user', 'content': [{'type': 'text', 'text': 'Create a Short Product description based on the provided ##PRODUCT NAME## and ##CATEGORY## and image.\\nOnly return description. The description should be SEO optimized and for a better mobile search experience.\\n\\n##PRODUCT NAME##: School Smart Chisel Tip Watercolor Markers - Set of 12 - Assorted Colors\\n##CATEGORY##: Toys & Games | Arts & Crafts'}, {'type': 'image', 'image': <PIL.JpegImagePlugin.JpegImageFile image mode=RGB size=500x500 at 0x7F79513A8460>}]}, {'role': 'assistant', 'content': [{'type': 'text', 'text': \"Unleash creativity with School Smart Chisel Tip Watercolor Markers! This 12-color assorted set offers vibrant hues perfect for kids' art projects.  Ideal for school, home, or crafting, these chisel-tip markers blend seamlessly for stunning watercolor effects.  Buy now and let the fun begin!\"}]}]}, {'messages': [{'role': 'user', 'content': [{'type': 'text', 'text': 'Create a Short Product description based on the provided ##PRODUCT NAME## and ##CATEGORY## and image.\\nOnly return description. The description should be SEO optimized and for a better mobile search experience.\\n\\n##PRODUCT NAME##: Q WORKSHOP Classic Runic Glacier & Black Dice Set (7)\\n##CATEGORY##: Toys & Games | Games & Accessories | Game Accessories | Standard Game Dice'}, {'type': 'image', 'image': <PIL.JpegImagePlugin.JpegImageFile image mode=RGB size=500x500 at 0x7F79514F2D40>}]}, {'role': 'assistant', 'content': [{'type': 'text', 'text': 'Elevate your tabletop gaming with the Q WORKSHOP Classic Runic Glacier & Black Dice Set (7).  These stunning, 7-piece dice boast a unique runic design in striking glacier and black, perfect for RPGs, board games, and more.  High-quality materials ensure balanced rolls and lasting durability.  Add a touch of fantasy to your next game night!'}]}]}, {'messages': [{'role': 'user', 'content': [{'type': 'text', 'text': 'Create a Short Product description based on the provided ##PRODUCT NAME## and ##CATEGORY## and image.\\nOnly return description. The description should be SEO optimized and for a better mobile search experience.\\n\\n##PRODUCT NAME##: PDP Pixel Pals Ren & Stimpy Stimpy Collectible Lighted Figure, 878-040-NA-STM\\n##CATEGORY##: None'}, {'type': 'image', 'image': <PIL.JpegImagePlugin.JpegImageFile image mode=RGB size=389x500 at 0x7F7951A7E9E0>}]}, {'role': 'assistant', 'content': [{'type': 'text', 'text': 'Bring home the hilarious Stimpy with this PDP Pixel Pals Ren & Stimpy collectible!  This 878-040-NA-STM lighted figure is a must-have for fans.  Perfect for desks, shelves, or nightstands, add a touch of cartoon chaos to your space.  Shop now!'}]}]}]\n",
            "[{'messages': [{'role': 'user', 'content': [{'type': 'text', 'text': 'Create a Short Product description based on the provided ##PRODUCT NAME## and ##CATEGORY## and image.\\nOnly return description. The description should be SEO optimized and for a better mobile search experience.\\n\\n##PRODUCT NAME##: Brave Merida Deluxe Costume, Auqa/Gold, X-Small\\n##CATEGORY##: Clothing, Shoes & Jewelry | Costumes & Accessories | Kids & Baby | Girls | Costumes'}, {'type': 'image', 'image': <PIL.JpegImagePlugin.JpegImageFile image mode=RGB size=319x500 at 0x7F7951BE59C0>}]}, {'role': 'assistant', 'content': [{'type': 'text', 'text': \"Become the fierce archer princess! This Brave Merida Deluxe Costume (Aqua/Gold, X-Small) is perfect for Halloween, play, or any fairytale adventure.  High-quality details bring Merida's iconic look to life.  Shop now for your little one!\"}]}]}, {'messages': [{'role': 'user', 'content': [{'type': 'text', 'text': 'Create a Short Product description based on the provided ##PRODUCT NAME## and ##CATEGORY## and image.\\nOnly return description. The description should be SEO optimized and for a better mobile search experience.\\n\\n##PRODUCT NAME##: Gund Christmas Plush Rattle - Teddy Bear\\n##CATEGORY##: Toys & Games | Baby & Toddler Toys | Rattles & Plush Rings'}, {'type': 'image', 'image': <PIL.JpegImagePlugin.JpegImageFile image mode=RGB size=335x500 at 0x7F79517F2B00>}]}, {'role': 'assistant', 'content': [{'type': 'text', 'text': \"Adorable Gund Christmas Teddy Bear Plush Rattle!  Perfect for holiday playtime, this soft & cuddly rattle is ideal for newborns and toddlers.  Features festive design; encourages sensory development.  Shop now for baby's first Christmas gift!\"}]}]}, {'messages': [{'role': 'user', 'content': [{'type': 'text', 'text': \"Create a Short Product description based on the provided ##PRODUCT NAME## and ##CATEGORY## and image.\\nOnly return description. The description should be SEO optimized and for a better mobile search experience.\\n\\n##PRODUCT NAME##: DC Collectibles' Suicide Squad The Joker Statue\\n##CATEGORY##: Toys & Games | Collectible Toys | Statues, Bobbleheads & Busts | Statues\"}, {'type': 'image', 'image': <PIL.JpegImagePlugin.JpegImageFile image mode=RGB size=322x500 at 0x7F79514F2BF0>}]}, {'role': 'assistant', 'content': [{'type': 'text', 'text': \"Capture the chaotic charm of DC's most notorious villain! This highly detailed DC Collectibles Suicide Squad The Joker statue is a must-have for collectors.  A stunning addition to any DC display, this collectible statue boasts exceptional craftsmanship and vibrant paintwork.  Shop now!\"}]}]}, {'messages': [{'role': 'user', 'content': [{'type': 'text', 'text': 'Create a Short Product description based on the provided ##PRODUCT NAME## and ##CATEGORY## and image.\\nOnly return description. The description should be SEO optimized and for a better mobile search experience.\\n\\n##PRODUCT NAME##: Crazy Bonez Skeleton Spider\\n##CATEGORY##: Toys & Games | Novelty & Gag Toys'}, {'type': 'image', 'image': <PIL.JpegImagePlugin.JpegImageFile image mode=RGB size=500x261 at 0x7F79516B3FD0>}]}, {'role': 'assistant', 'content': [{'type': 'text', 'text': \"Creepify your Halloween with the Crazy Bonez Skeleton Spider! This novelty toy is the perfect spooky addition to your decorations or a fun prank.  Small, creepy, and surprisingly detailed, it's great for parties, trick-or-treating, or just scaring your friends.  Get yours now!\"}]}]}]\n",
            "[{'messages': [{'role': 'user', 'content': [{'type': 'text', 'text': 'Create a Short Product description based on the provided ##PRODUCT NAME## and ##CATEGORY## and image.\\nOnly return description. The description should be SEO optimized and for a better mobile search experience.\\n\\n##PRODUCT NAME##: Noch 45091 Police Officers Blue Tt Scale Figures\\n##CATEGORY##: Toys & Games | Hobbies | Trains & Accessories | Accessories | Scenery'}, {'type': 'image', 'image': <PIL.JpegImagePlugin.JpegImageFile image mode=RGB size=500x216 at 0x7F79AFF526E0>}]}, {'role': 'assistant', 'content': [{'type': 'text', 'text': 'Highly detailed Noch 45091 Police Officers (blue) TT scale figures for model train enthusiasts.  Perfect for adding realistic detail to your railway scenery.  Bring your layout to life!'}]}]}, {'messages': [{'role': 'user', 'content': [{'type': 'text', 'text': 'Create a Short Product description based on the provided ##PRODUCT NAME## and ##CATEGORY## and image.\\nOnly return description. The description should be SEO optimized and for a better mobile search experience.\\n\\n##PRODUCT NAME##: MightySkins Skin Compatible with Razor Electric Ripstik - Rift | Protective, Durable, and Unique Vinyl Decal wrap Cover | Easy to Apply, Remove, and Change Styles | Made in The USA\\n##CATEGORY##: Sports & Outdoors | Outdoor Recreation | Skates, Skateboards & Scooters | Scooters & Equipment | Accessories'}, {'type': 'image', 'image': <PIL.JpegImagePlugin.JpegImageFile image mode=RGB size=500x500 at 0x7F7951BE69B0>}]}, {'role': 'assistant', 'content': [{'type': 'text', 'text': 'Customize your Razor Ripstik with MightySkins! This durable, vinyl decal skin offers unique style and protection.  Easy to apply, remove, and change. Made in the USA.  Perfect scooter accessory.'}]}]}, {'messages': [{'role': 'user', 'content': [{'type': 'text', 'text': 'Create a Short Product description based on the provided ##PRODUCT NAME## and ##CATEGORY## and image.\\nOnly return description. The description should be SEO optimized and for a better mobile search experience.\\n\\n##PRODUCT NAME##: Riverboat\\n##CATEGORY##: Toys & Games | Games & Accessories | Board Games'}, {'type': 'image', 'image': <PIL.JpegImagePlugin.JpegImageFile image mode=RGB size=500x500 at 0x7F7978C19B10>}]}, {'role': 'assistant', 'content': [{'type': 'text', 'text': 'Embark on thrilling river adventures with Riverboat, the captivating board game for families and friends! Navigate treacherous waters, collect treasures, and outsmart your opponents in this exciting game of strategy and luck. Perfect for ages 8+, Riverboat offers hours of fun for 2-4 players.  Get yours today!'}]}]}, {'messages': [{'role': 'user', 'content': [{'type': 'text', 'text': \"Create a Short Product description based on the provided ##PRODUCT NAME## and ##CATEGORY## and image.\\nOnly return description. The description should be SEO optimized and for a better mobile search experience.\\n\\n##PRODUCT NAME##: DJECO Gaby's Cooker Wooden Role Play Set, Multicolor\\n##CATEGORY##: Toys & Games | Dress Up & Pretend Play | Pretend Play\"}, {'type': 'image', 'image': <PIL.JpegImagePlugin.JpegImageFile image mode=RGB size=500x500 at 0x7F79514F1990>}]}, {'role': 'assistant', 'content': [{'type': 'text', 'text': \"Spark your child's imagination with DJECO Gaby's Cooker Wooden Role Play Set! This colorful, high-quality wooden play kitchen features realistic details for hours of pretend play fun. Perfect for developing creativity and social skills.  A must-have toy for kids who love cooking!\"}]}]}]\n",
            "[{'messages': [{'role': 'user', 'content': [{'type': 'text', 'text': 'Create a Short Product description based on the provided ##PRODUCT NAME## and ##CATEGORY## and image.\\nOnly return description. The description should be SEO optimized and for a better mobile search experience.\\n\\n##PRODUCT NAME##: ANAGRAM INTERNATIONAL 2828901 Foil Balloon, 34\", Red\\n##CATEGORY##: Toys & Games | Party Supplies | Balloons'}, {'type': 'image', 'image': <PIL.JpegImagePlugin.JpegImageFile image mode=RGB size=500x500 at 0x7F7951681690>}]}, {'role': 'assistant', 'content': [{'type': 'text', 'text': 'Make a statement with this ANAGRAM INTERNATIONAL 34\" Red Foil Balloon! Perfect for birthdays, celebrations, and parties.  High-quality, durable foil ensures long-lasting fun.  Shop now for your next event!'}]}]}, {'messages': [{'role': 'user', 'content': [{'type': 'text', 'text': 'Create a Short Product description based on the provided ##PRODUCT NAME## and ##CATEGORY## and image.\\nOnly return description. The description should be SEO optimized and for a better mobile search experience.\\n\\n##PRODUCT NAME##: Petit Collage Magnetic Play Scene, Pet Hospital, Ages 4+ Years\\n##CATEGORY##: Toys & Games | Dress Up & Pretend Play | Pretend Play | Magnetic & Felt Playboards'}, {'type': 'image', 'image': <PIL.JpegImagePlugin.JpegImageFile image mode=RGB size=500x500 at 0x7F7951AFA230>}]}, {'role': 'assistant', 'content': [{'type': 'text', 'text': 'Adorable magnetic pet hospital playset!  Perfect for imaginative play, this Petit Collage set features reusable magnetic pieces for hours of fun. Ages 4+.  Develops storytelling & fine motor skills. #pretendplay #magnetictoys #pethospital #kidsactivities #petitcollage'}]}]}, {'messages': [{'role': 'user', 'content': [{'type': 'text', 'text': 'Create a Short Product description based on the provided ##PRODUCT NAME## and ##CATEGORY## and image.\\nOnly return description. The description should be SEO optimized and for a better mobile search experience.\\n\\n##PRODUCT NAME##: Beistle 50490-ASST Adult Artificial Grass Hula Skirts Party Supplies, Assorted\\n##CATEGORY##: None'}, {'type': 'image', 'image': <PIL.JpegImagePlugin.JpegImageFile image mode=RGB size=500x500 at 0x7F79514F2020>}]}, {'role': 'assistant', 'content': [{'type': 'text', 'text': 'Adult Luau Party Supplies:  Bring the tropical fun to your next party with these vibrant, assorted Beistle artificial grass hula skirts! Perfect for adults, these festive skirts add instant island flair to your celebration.  Great for themed parties, luaus, and more.  Get yours today!'}]}]}, {'messages': [{'role': 'user', 'content': [{'type': 'text', 'text': \"Create a Short Product description based on the provided ##PRODUCT NAME## and ##CATEGORY## and image.\\nOnly return description. The description should be SEO optimized and for a better mobile search experience.\\n\\n##PRODUCT NAME##: SONGMICS UGKR48WT Children’s Toy Storage Unit White\\n##CATEGORY##: Home & Kitchen | Furniture | Kids' Furniture | Bookcases, Cabinets & Shelves\"}, {'type': 'image', 'image': <PIL.JpegImagePlugin.JpegImageFile image mode=RGB size=500x500 at 0x7F79517F0220>}]}, {'role': 'assistant', 'content': [{'type': 'text', 'text': \"Keep your child's room tidy and organized with the SONGMICS UGKR48WT Children’s Toy Storage Unit. This white bookcase offers ample storage space for toys, books, and more.  Perfect for kids' rooms, playrooms, or classrooms. Sturdy construction ensures long-lasting use.  Shop now for easy, stylish storage solutions!\"}]}]}]\n",
            "[{'messages': [{'role': 'user', 'content': [{'type': 'text', 'text': 'Create a Short Product description based on the provided ##PRODUCT NAME## and ##CATEGORY## and image.\\nOnly return description. The description should be SEO optimized and for a better mobile search experience.\\n\\n##PRODUCT NAME##: GUND Sebastian Tuxedo Cat Stuffed Animal Plush Toy, 14\"\\n##CATEGORY##: Toys & Games | Stuffed Animals & Plush Toys | Stuffed Animals & Teddy Bears'}, {'type': 'image', 'image': <PIL.JpegImagePlugin.JpegImageFile image mode=RGB size=500x500 at 0x7F795154B070>}]}, {'role': 'assistant', 'content': [{'type': 'text', 'text': 'Adorable 14\" Gund Sebastian Tuxedo Cat plush toy!  Soft, cuddly, and perfect for kids & collectors.  High-quality materials ensure lasting cuddles. Shop now!'}]}]}, {'messages': [{'role': 'user', 'content': [{'type': 'text', 'text': 'Create a Short Product description based on the provided ##PRODUCT NAME## and ##CATEGORY## and image.\\nOnly return description. The description should be SEO optimized and for a better mobile search experience.\\n\\n##PRODUCT NAME##: Razor Drift Rider - Red/Black - 20111917\\n##CATEGORY##: Toys & Games | Tricycles, Scooters & Wagons | Ride-On Toys & Accessories'}, {'type': 'image', 'image': <PIL.JpegImagePlugin.JpegImageFile image mode=RGB size=500x500 at 0x7F795179ECE0>}]}, {'role': 'assistant', 'content': [{'type': 'text', 'text': 'Razor Drift Rider – Red/Black (20111917):  Experience the thrill of drifting with this awesome Razor scooter!  Perfect for kids, this ride-on toy offers hours of fun.  Lightweight, durable, and easy to maneuver, making it ideal for both indoor and outdoor use.  Get yours today!'}]}]}, {'messages': [{'role': 'user', 'content': [{'type': 'text', 'text': 'Create a Short Product description based on the provided ##PRODUCT NAME## and ##CATEGORY## and image.\\nOnly return description. The description should be SEO optimized and for a better mobile search experience.\\n\\n##PRODUCT NAME##: Guillow Airplane Design Studio with Travel Case Building Kit\\n##CATEGORY##: Toys & Games | Hobbies | Models & Model Kits | Model Kits | Airplane & Jet Kits'}, {'type': 'image', 'image': <PIL.JpegImagePlugin.JpegImageFile image mode=RGB size=500x322 at 0x7F79AFE28850>}]}, {'role': 'assistant', 'content': [{'type': 'text', 'text': 'Unleash your inner engineer with the Guillow Airplane Design Studio! This complete kit includes everything you need to design and build your own fleet of amazing airplanes.  Perfect for budding aviation enthusiasts, this portable kit features a convenient travel case, making it ideal for on-the-go fun.  Build, fly, and repeat!'}]}]}, {'messages': [{'role': 'user', 'content': [{'type': 'text', 'text': 'Create a Short Product description based on the provided ##PRODUCT NAME## and ##CATEGORY## and image.\\nOnly return description. The description should be SEO optimized and for a better mobile search experience.\\n\\n##PRODUCT NAME##: Academy F-15C MSIP II \"173rd Fighter Wing\" Kit\\n##CATEGORY##: Toys & Games | Hobbies | Models & Model Kits | Model Kits | Watercraft Kits'}, {'type': 'image', 'image': <PIL.JpegImagePlugin.JpegImageFile image mode=RGB size=500x500 at 0x7F7951B5AAA0>}]}, {'role': 'assistant', 'content': [{'type': 'text', 'text': 'Highly detailed Academy F-15C MSIP II \"173rd Fighter Wing\" model kit.  Perfect for aviation enthusiasts and experienced model builders.  Build your own impressive replica!'}]}]}]\n",
            "[{'messages': [{'role': 'user', 'content': [{'type': 'text', 'text': 'Create a Short Product description based on the provided ##PRODUCT NAME## and ##CATEGORY## and image.\\nOnly return description. The description should be SEO optimized and for a better mobile search experience.\\n\\n##PRODUCT NAME##: Redcat Racing Blackout SC 1/10 Scale Electric Short Course Truck with Waterproof Electronics Vehicle, Blue\\n##CATEGORY##: Toys & Games | Hobbies | Remote & App Controlled Vehicles & Parts | Remote & App Controlled Vehicles | Trucks'}, {'type': 'image', 'image': <PIL.JpegImagePlugin.JpegImageFile image mode=RGB size=500x323 at 0x7F795140C3A0>}]}, {'role': 'assistant', 'content': [{'type': 'text', 'text': 'Dominate the terrain with the Redcat Racing Blackout SC 1/10 Scale Electric Short Course Truck! This blue beast boasts waterproof electronics, ensuring all-weather fun.  Experience thrilling speed and incredible off-road performance. Perfect for RC enthusiasts of all skill levels. Get yours today!'}]}]}, {'messages': [{'role': 'user', 'content': [{'type': 'text', 'text': 'Create a Short Product description based on the provided ##PRODUCT NAME## and ##CATEGORY## and image.\\nOnly return description. The description should be SEO optimized and for a better mobile search experience.\\n\\n##PRODUCT NAME##: EuroGraphics Cocktails Puzzle (1000-Piece)\\n##CATEGORY##: Toys & Games | Puzzles | Jigsaw Puzzles'}, {'type': 'image', 'image': <PIL.JpegImagePlugin.JpegImageFile image mode=RGB size=500x500 at 0x7F79516B2D70>}]}, {'role': 'assistant', 'content': [{'type': 'text', 'text': 'Unwind with the vibrant EuroGraphics Cocktails 1000-piece jigsaw puzzle!  Featuring a stunning image of colorful cocktails, this challenging yet rewarding puzzle is perfect for puzzle enthusiasts of all levels. High-quality pieces ensure a satisfying click-together experience.  A great gift for cocktail lovers and puzzle aficionados alike.'}]}]}, {'messages': [{'role': 'user', 'content': [{'type': 'text', 'text': 'Create a Short Product description based on the provided ##PRODUCT NAME## and ##CATEGORY## and image.\\nOnly return description. The description should be SEO optimized and for a better mobile search experience.\\n\\n##PRODUCT NAME##: DIAMOND SELECT TOYS Justice League Movie: Superman Vinimate Vinyl Figure\\n##CATEGORY##: None'}, {'type': 'image', 'image': <PIL.JpegImagePlugin.JpegImageFile image mode=RGB size=316x500 at 0x7F79AFEFFDF0>}]}, {'role': 'assistant', 'content': [{'type': 'text', 'text': 'Capture the Man of Steel! This Diamond Select Toys Justice League Movie Superman Vinimate Vinyl Figure is a collectible must-have for DC fans.  Highly detailed and perfectly sized for display, this Superman figure adds iconic style to any collection. Order yours today!'}]}]}, {'messages': [{'role': 'user', 'content': [{'type': 'text', 'text': 'Create a Short Product description based on the provided ##PRODUCT NAME## and ##CATEGORY## and image.\\nOnly return description. The description should be SEO optimized and for a better mobile search experience.\\n\\n##PRODUCT NAME##: Trends International Owls - Pop Up Stickers\\n##CATEGORY##: Toys & Games | Arts & Crafts | Stickers'}, {'type': 'image', 'image': <PIL.JpegImagePlugin.JpegImageFile image mode=RGB size=344x500 at 0x7F7951625DE0>}]}, {'role': 'assistant', 'content': [{'type': 'text', 'text': 'Unleash your creativity with Trends International Owls Pop-Up Stickers!  These fun, 3D stickers are perfect for arts & crafts projects, scrapbooks, or adding a whimsical touch to anything.  Great for kids and adults! #Owlstickers #PopUpstickers #ArtsandCrafts #Stickers #KidsCrafts'}]}]}]\n",
            "[{'messages': [{'role': 'user', 'content': [{'type': 'text', 'text': 'Create a Short Product description based on the provided ##PRODUCT NAME## and ##CATEGORY## and image.\\nOnly return description. The description should be SEO optimized and for a better mobile search experience.\\n\\n##PRODUCT NAME##: Bigjigs Toys Pink Polar Bear Rag Doll Dress and Cardigan for 11\" Bigjigs Toys Soft Doll - Suitable for 2+ Years\\n##CATEGORY##: Toys & Games | Dolls & Accessories | Doll Accessories | Clothing & Shoes'}, {'type': 'image', 'image': <PIL.JpegImagePlugin.JpegImageFile image mode=RGB size=500x500 at 0x7F79517057B0>}]}, {'role': 'assistant', 'content': [{'type': 'text', 'text': 'Adorable Pink Outfit for 11\" Bigjigs Polar Bear Doll!  Dress & Cardigan set, perfect for imaginative play.  Suitable for ages 2+.  #BigjigsToys #DollClothes #PolarBearDoll #DollAccessories'}]}]}, {'messages': [{'role': 'user', 'content': [{'type': 'text', 'text': 'Create a Short Product description based on the provided ##PRODUCT NAME## and ##CATEGORY## and image.\\nOnly return description. The description should be SEO optimized and for a better mobile search experience.\\n\\n##PRODUCT NAME##: Sweet Safari Girl Giant Sign Banner\\n##CATEGORY##: Toys & Games | Party Supplies | Banners'}, {'type': 'image', 'image': <PIL.JpegImagePlugin.JpegImageFile image mode=RGB size=500x500 at 0x7F79AFF53940>}]}, {'role': 'assistant', 'content': [{'type': 'text', 'text': 'Roar into adventure with our Sweet Safari Girl Giant Sign Banner!  Perfect for birthdays, jungle-themed parties, or any safari celebration. This large, vibrant banner adds a touch of wild fun to your event.  Shop now for easy party decorations!'}]}]}, {'messages': [{'role': 'user', 'content': [{'type': 'text', 'text': 'Create a Short Product description based on the provided ##PRODUCT NAME## and ##CATEGORY## and image.\\nOnly return description. The description should be SEO optimized and for a better mobile search experience.\\n\\n##PRODUCT NAME##: Bestway Rapid Rider Swimming Pool Float, 2-Pack\\n##CATEGORY##: Toys & Games | Sports & Outdoor Play | Pools & Water Toys'}, {'type': 'image', 'image': <PIL.JpegImagePlugin.JpegImageFile image mode=RGB size=500x492 at 0x7F7951933FD0>}]}, {'role': 'assistant', 'content': [{'type': 'text', 'text': 'Double the fun! This Bestway Rapid Rider 2-pack lets kids enjoy the pool with two inflatable riding floats. Perfect for summer fun, these durable floats are ideal for pools and lakes.  Buy now for endless aquatic adventures!'}]}]}, {'messages': [{'role': 'user', 'content': [{'type': 'text', 'text': 'Create a Short Product description based on the provided ##PRODUCT NAME## and ##CATEGORY## and image.\\nOnly return description. The description should be SEO optimized and for a better mobile search experience.\\n\\n##PRODUCT NAME##: Squish-Dee-Lish 5 Pack Slow-Rise Squishies, Series 3 - Pink Sea Shell, Blue Whale, Owl, Piñata, Blue Duck Bendable-Toy-Figures\\n##CATEGORY##: Toys & Games | Novelty & Gag Toys | Miniatures'}, {'type': 'image', 'image': <PIL.JpegImagePlugin.JpegImageFile image mode=RGB size=500x106 at 0x7F7951A9ED70>}]}, {'role': 'assistant', 'content': [{'type': 'text', 'text': 'Unleash the squishy fun! This 5-pack of Squish-Dee-Lish Series 3 slow-rising squishies features adorable Pink Sea Shell, Blue Whale, Owl, Piñata, and Blue Duck designs. Perfect for kids and collectors, these bendable mini figures offer hours of stress-relieving fun.  Great as party favors or stocking stuffers!'}]}]}]\n",
            "[{'messages': [{'role': 'user', 'content': [{'type': 'text', 'text': 'Create a Short Product description based on the provided ##PRODUCT NAME## and ##CATEGORY## and image.\\nOnly return description. The description should be SEO optimized and for a better mobile search experience.\\n\\n##PRODUCT NAME##: Franklin Sports 8.5\" Rubber Tetherball\\n##CATEGORY##: Sports & Outdoors | Sports & Fitness | Leisure Sports & Game Room | Outdoor Games & Activities | Tetherball'}, {'type': 'image', 'image': <PIL.JpegImagePlugin.JpegImageFile image mode=RGB size=500x500 at 0x7F7951A7D240>}]}, {'role': 'assistant', 'content': [{'type': 'text', 'text': 'Durable 8.5\" Rubber Tetherball for endless outdoor fun!  Perfect for backyard games, this Franklin Sports tetherball offers classic gameplay with a long-lasting rubber ball.  Get yours today!'}]}]}, {'messages': [{'role': 'user', 'content': [{'type': 'text', 'text': 'Create a Short Product description based on the provided ##PRODUCT NAME## and ##CATEGORY## and image.\\nOnly return description. The description should be SEO optimized and for a better mobile search experience.\\n\\n##PRODUCT NAME##: Enchantimals Styling Head\\n##CATEGORY##: Toys & Games | Dress Up & Pretend Play | Beauty & Fashion'}, {'type': 'image', 'image': <PIL.JpegImagePlugin.JpegImageFile image mode=RGB size=408x500 at 0x7F7951B84820>}]}, {'role': 'assistant', 'content': [{'type': 'text', 'text': \"Style your own Enchantimals friend! This adorable styling head lets kids unleash their creativity with endless hair styling possibilities. Perfect for ages 3+, it's a great gift for imaginative play and developing fine motor skills. Includes hair accessories.  #Enchantimals #StylingHead #PretendPlay #KidsToys #FashionDoll #HairPlay\"}]}]}, {'messages': [{'role': 'user', 'content': [{'type': 'text', 'text': 'Create a Short Product description based on the provided ##PRODUCT NAME## and ##CATEGORY## and image.\\nOnly return description. The description should be SEO optimized and for a better mobile search experience.\\n\\n##PRODUCT NAME##: Confetti | Disney Tiana Enchanted Collection | Party Accessory | 12 Packs\\n##CATEGORY##: Toys & Games | Party Supplies'}, {'type': 'image', 'image': <PIL.JpegImagePlugin.JpegImageFile image mode=RGB size=340x500 at 0x7F79515D0D90>}]}, {'role': 'assistant', 'content': [{'type': 'text', 'text': \"Celebrate Tiana's Bayou magic!  12 packs of Disney Princess Tiana Confetti add a touch of fairytale flair to your next party. Perfect for birthdays, baby showers, or any special occasion.  These vibrant confetti add the perfect finishing touch to your Disney-themed celebration!\"}]}]}, {'messages': [{'role': 'user', 'content': [{'type': 'text', 'text': 'Create a Short Product description based on the provided ##PRODUCT NAME## and ##CATEGORY## and image.\\nOnly return description. The description should be SEO optimized and for a better mobile search experience.\\n\\n##PRODUCT NAME##: Galt Toys, Water Magic - Fairy Friends\\n##CATEGORY##: Toys & Games | Arts & Crafts | Craft Kits | Paint with Water Kits'}, {'type': 'image', 'image': <PIL.JpegImagePlugin.JpegImageFile image mode=RGB size=500x500 at 0x7F7951C3DD20>}]}, {'role': 'assistant', 'content': [{'type': 'text', 'text': 'Unleash creativity with Galt Toys Water Magic Fairy Friends! This paint-with-water craft kit brings enchanting fairy designs to life. Simply add water to reveal vibrant colors – no messy paints needed! Perfect for imaginative play and developing fine motor skills. Ideal gift for kids who love fairies and art. #WaterMagic #FairyFriends #PaintWithWater #CraftKit #KidsCrafts #GaltToys'}]}]}]\n",
            "[{'messages': [{'role': 'user', 'content': [{'type': 'text', 'text': 'Create a Short Product description based on the provided ##PRODUCT NAME## and ##CATEGORY## and image.\\nOnly return description. The description should be SEO optimized and for a better mobile search experience.\\n\\n##PRODUCT NAME##: Twisty Petz Cuddlez Snowpuff Unicorn Transforming Collectible Plush for Kids Aged 4 & Up\\n##CATEGORY##: Toys & Games | Stuffed Animals & Plush Toys | Plush Figures'}, {'type': 'image', 'image': <PIL.JpegImagePlugin.JpegImageFile image mode=RGB size=500x500 at 0x7F79518D5AB0>}]}, {'role': 'assistant', 'content': [{'type': 'text', 'text': \"Adorable Twisty Petz Cuddlez Snowpuff Unicorn! This collectible plush transforms from a cuddly unicorn to a sparkly bracelet. Perfect for kids aged 4+, it's a fun and unique gift.  Shop now!\"}]}]}, {'messages': [{'role': 'user', 'content': [{'type': 'text', 'text': 'Create a Short Product description based on the provided ##PRODUCT NAME## and ##CATEGORY## and image.\\nOnly return description. The description should be SEO optimized and for a better mobile search experience.\\n\\n##PRODUCT NAME##: Bif Bang Pow! The Defenders Set of 5 Pin Mate Wooden Figure\\n##CATEGORY##: None'}, {'type': 'image', 'image': <PIL.JpegImagePlugin.JpegImageFile image mode=RGB size=500x500 at 0x7F79AFE29810>}]}, {'role': 'assistant', 'content': [{'type': 'text', 'text': 'Recreate the heroic team with this Bif Bang Pow! The Defenders 5-Pack Pin Mate Wooden Figures!  These collectible, retro-style figures are perfect for displaying or playing.  Highly detailed and beautifully crafted, these Defenders are a must-have for any Marvel fan.'}]}]}, {'messages': [{'role': 'user', 'content': [{'type': 'text', 'text': 'Create a Short Product description based on the provided ##PRODUCT NAME## and ##CATEGORY## and image.\\nOnly return description. The description should be SEO optimized and for a better mobile search experience.\\n\\n##PRODUCT NAME##: Barbie Hair Fair Set\\n##CATEGORY##: Toys & Games | Dolls & Accessories | Dolls'}, {'type': 'image', 'image': <PIL.JpegImagePlugin.JpegImageFile image mode=RGB size=324x500 at 0x7F7951A7FC40>}]}, {'role': 'assistant', 'content': [{'type': 'text', 'text': \"Unleash your child's creativity with the Barbie Hair Fair Set!  This fun doll accessory set features [briefly mention 2-3 key features from the image if possible, e.g.,  vibrant hair clips, stylish combs, and colorful hair extensions] for endless hairstyling fun. Perfect for imaginative play and developing fine motor skills.  Get your Barbie Hair Fair Set today!\"}]}]}, {'messages': [{'role': 'user', 'content': [{'type': 'text', 'text': \"Create a Short Product description based on the provided ##PRODUCT NAME## and ##CATEGORY## and image.\\nOnly return description. The description should be SEO optimized and for a better mobile search experience.\\n\\n##PRODUCT NAME##: Little Tikes 7' Climb 'N Slide Trampoline\\n##CATEGORY##: Sports & Outdoors | Sports & Fitness | Leisure Sports & Game Room | Trampolines & Accessories | Trampolines\"}, {'type': 'image', 'image': <PIL.JpegImagePlugin.JpegImageFile image mode=RGB size=500x357 at 0x7F7951BE6050>}]}, {'role': 'assistant', 'content': [{'type': 'text', 'text': \"Little Tikes 7' Climb 'N Slide Trampoline:  Fun for kids! This 7-foot trampoline combines a climbing wall and slide for hours of active play.  Safe, durable, and perfect for backyard fun. Shop now!\"}]}]}]\n",
            "[{'messages': [{'role': 'user', 'content': [{'type': 'text', 'text': 'Create a Short Product description based on the provided ##PRODUCT NAME## and ##CATEGORY## and image.\\nOnly return description. The description should be SEO optimized and for a better mobile search experience.\\n\\n##PRODUCT NAME##: Melissa & Doug Disney Baby Winnie the Pooh Wooden Shape Sorting Cube - Educational Toy With 9 Shapes\\n##CATEGORY##: Toys & Games | Baby & Toddler Toys | Sorting & Stacking Toys'}, {'type': 'image', 'image': <PIL.JpegImagePlugin.JpegImageFile image mode=RGB size=500x395 at 0x7F7951683610>}]}, {'role': 'assistant', 'content': [{'type': 'text', 'text': \"Develop your baby's fine motor skills and shape recognition with the Melissa & Doug Disney Baby Winnie the Pooh Wooden Shape Sorting Cube! This classic educational toy features 9 colorful shapes for hours of fun and learning. Perfect for toddlers, this wooden cube is durable and engaging.  Shop now!\"}]}]}, {'messages': [{'role': 'user', 'content': [{'type': 'text', 'text': 'Create a Short Product description based on the provided ##PRODUCT NAME## and ##CATEGORY## and image.\\nOnly return description. The description should be SEO optimized and for a better mobile search experience.\\n\\n##PRODUCT NAME##: Family Feud Strikeout Card Game\\n##CATEGORY##: Toys & Games | Games & Accessories | Card Games'}, {'type': 'image', 'image': <PIL.JpegImagePlugin.JpegImageFile image mode=RGB size=377x500 at 0x7F7951A9C370>}]}, {'role': 'assistant', 'content': [{'type': 'text', 'text': 'Fast-paced fun for the whole family! Family Feud Strikeout Card Game delivers hilarious head-to-head competition.  Perfect for game night, parties, or family gatherings.  Quick to learn, endlessly replayable. Get yours today!'}]}]}, {'messages': [{'role': 'user', 'content': [{'type': 'text', 'text': 'Create a Short Product description based on the provided ##PRODUCT NAME## and ##CATEGORY## and image.\\nOnly return description. The description should be SEO optimized and for a better mobile search experience.\\n\\n##PRODUCT NAME##: Portal Games Monolith Arena\\n##CATEGORY##: Toys & Games | Games & Accessories | Board Games'}, {'type': 'image', 'image': <PIL.JpegImagePlugin.JpegImageFile image mode=RGB size=463x500 at 0x7F7951B846D0>}]}, {'role': 'assistant', 'content': [{'type': 'text', 'text': \"Experience epic monster battles with Portal Games' Monolith Arena! This thrilling board game pits players against colossal creatures in a strategic fight for survival.  Fast-paced gameplay, stunning artwork, and challenging decisions await. Perfect for board game enthusiasts and strategy lovers alike.\"}]}]}, {'messages': [{'role': 'user', 'content': [{'type': 'text', 'text': 'Create a Short Product description based on the provided ##PRODUCT NAME## and ##CATEGORY## and image.\\nOnly return description. The description should be SEO optimized and for a better mobile search experience.\\n\\n##PRODUCT NAME##: Dick Martin Sports MASP12 Parachute with 12 Handles, 12\\' Diameter Grade Kindergarten to 1, 4\" Height, 7.5\" Wide, 10.8\" Length\\n##CATEGORY##: Toys & Games | Learning & Education'}, {'type': 'image', 'image': <PIL.JpegImagePlugin.JpegImageFile image mode=RGB size=350x179 at 0x7F79AFE285B0>}]}, {'role': 'assistant', 'content': [{'type': 'text', 'text': 'Dick Martin Sports MASP12 Parachute: Engage your classroom with collaborative play! This 12-handle parachute (12\\' diameter) is perfect for kindergarten to 1st grade, fostering teamwork and gross motor skills.  Durable and vibrant, it\\'s ideal for indoor/outdoor activities. Dimensions: 4\"H x 7.5\"W x 10.8\"L.'}]}]}]\n",
            "[{'messages': [{'role': 'user', 'content': [{'type': 'text', 'text': 'Create a Short Product description based on the provided ##PRODUCT NAME## and ##CATEGORY## and image.\\nOnly return description. The description should be SEO optimized and for a better mobile search experience.\\n\\n##PRODUCT NAME##: Great Eastern Entertainment Your Lie in April Kousei Button\\n##CATEGORY##: None'}, {'type': 'image', 'image': <PIL.JpegImagePlugin.JpegImageFile image mode=RGB size=498x500 at 0x7F795176BAF0>}]}, {'role': 'assistant', 'content': [{'type': 'text', 'text': 'Show your love for the poignant anime Your Lie in April with this collectible Kousei Arima button!  High-quality, durable construction. Perfect for bags, jackets, or display.  A must-have for any Your Lie in April fan.'}]}]}, {'messages': [{'role': 'user', 'content': [{'type': 'text', 'text': 'Create a Short Product description based on the provided ##PRODUCT NAME## and ##CATEGORY## and image.\\nOnly return description. The description should be SEO optimized and for a better mobile search experience.\\n\\n##PRODUCT NAME##: Learjet 35A - 1/48 Scale Model - 1/72 Scale Model\\n##CATEGORY##: Toys & Games | Hobbies | Models & Model Kits | Pre-Built & Diecast Models | Aircraft'}, {'type': 'image', 'image': <PIL.JpegImagePlugin.JpegImageFile image mode=RGB size=500x500 at 0x7F79AFE94B80>}]}, {'role': 'assistant', 'content': [{'type': 'text', 'text': 'Highly detailed Learjet 35A diecast model airplane, available in 1/48 and 1/72 scales. Perfect for aviation enthusiasts and collectors.  Authentic paint job and intricate detailing.  A must-have for your model aircraft collection!'}]}]}, {'messages': [{'role': 'user', 'content': [{'type': 'text', 'text': 'Create a Short Product description based on the provided ##PRODUCT NAME## and ##CATEGORY## and image.\\nOnly return description. The description should be SEO optimized and for a better mobile search experience.\\n\\n##PRODUCT NAME##: All About Details CATHE60 Hello 60 Cake, 1pc, 60th Birthday, Party Decor, Glitter Topper (Gold & Black), 6 x 9,\\n##CATEGORY##: Grocery & Gourmet Food | Pantry Staples | Cooking & Baking | Frosting, Icing & Decorations | Cake Toppers'}, {'type': 'image', 'image': <PIL.JpegImagePlugin.JpegImageFile image mode=RGB size=343x500 at 0x7F7951B87F40>}]}, {'role': 'assistant', 'content': [{'type': 'text', 'text': 'Celebrate their 60th birthday in style! This elegant \"Hello 60\" cake topper adds a touch of sparkle and sophistication to any 60th birthday cake.  Featuring a glamorous gold and black glitter design (6\" x 9\"), it\\'s the perfect finishing touch for your party.  Shop now!'}]}]}, {'messages': [{'role': 'user', 'content': [{'type': 'text', 'text': 'Create a Short Product description based on the provided ##PRODUCT NAME## and ##CATEGORY## and image.\\nOnly return description. The description should be SEO optimized and for a better mobile search experience.\\n\\n##PRODUCT NAME##: Modular Robotics Cubelets Robot Blocks - Code & Construct Educator Pack - STEM Education & Coding Robot, Free Lesson Plans, Ages 4+\\n##CATEGORY##: Toys & Games | Learning & Education | Science Kits & Toys'}, {'type': 'image', 'image': <PIL.JpegImagePlugin.JpegImageFile image mode=RGB size=500x500 at 0x7F79AFF50F40>}]}, {'role': 'assistant', 'content': [{'type': 'text', 'text': \"Unleash your child's inner engineer with Cubelets Robot Blocks! This educator pack makes STEM learning fun & easy for ages 4+.  Modular blocks connect magnetically, letting kids code & construct robots without screens. Includes free lesson plans! Perfect for early coding, robotics, and creative problem-solving.  #STEMtoys #CodingRobots #RoboticsforKids #EducationalToys #Cubelets\"}]}]}]\n",
            "[{'messages': [{'role': 'user', 'content': [{'type': 'text', 'text': \"Create a Short Product description based on the provided ##PRODUCT NAME## and ##CATEGORY## and image.\\nOnly return description. The description should be SEO optimized and for a better mobile search experience.\\n\\n##PRODUCT NAME##: Radio Flyer Helmet\\n##CATEGORY##: Sports & Outdoors | Outdoor Recreation | Cycling | Kids' Bikes & Accessories | Kids' Helmets\"}, {'type': 'image', 'image': <PIL.JpegImagePlugin.JpegImageFile image mode=RGB size=500x487 at 0x7F79AFE2B790>}]}, {'role': 'assistant', 'content': [{'type': 'text', 'text': 'Safe & Stylish Ride: Radio Flyer Helmet for Kids.  Lightweight, comfortable design with vibrant colors.  Ensures head protection for your little cyclist. Perfect for bikes, scooters, and more!  Shop now for peace of mind.'}]}]}, {'messages': [{'role': 'user', 'content': [{'type': 'text', 'text': 'Create a Short Product description based on the provided ##PRODUCT NAME## and ##CATEGORY## and image.\\nOnly return description. The description should be SEO optimized and for a better mobile search experience.\\n\\n##PRODUCT NAME##: Handy Art Little Masters Washable Tempera Paint, Gallon, Orange\\n##CATEGORY##: Arts, Crafts & Sewing | Painting, Drawing & Art Supplies | Painting | Paints'}, {'type': 'image', 'image': <PIL.JpegImagePlugin.JpegImageFile image mode=RGB size=375x500 at 0x7F79AFF52440>}]}, {'role': 'assistant', 'content': [{'type': 'text', 'text': \"Unleash your inner artist with Handy Art Little Masters Washable Tempera Paint in vibrant Orange! This gallon-sized container provides ample paint for large projects, schools, or studios.  Easy cleanup makes it perfect for kids and beginners.  Non-toxic and washable, it's a safe and fun choice for all ages. Shop now for this high-quality tempera paint!\"}]}]}, {'messages': [{'role': 'user', 'content': [{'type': 'text', 'text': 'Create a Short Product description based on the provided ##PRODUCT NAME## and ##CATEGORY## and image.\\nOnly return description. The description should be SEO optimized and for a better mobile search experience.\\n\\n##PRODUCT NAME##: Koplow Games Assorted Foam Dice\\n##CATEGORY##: Toys & Games | Games & Accessories | Game Accessories | Standard Game Dice'}, {'type': 'image', 'image': <PIL.JpegImagePlugin.JpegImageFile image mode=RGB size=500x500 at 0x7F79515D3790>}]}, {'role': 'assistant', 'content': [{'type': 'text', 'text': 'Add a burst of fun to your game nights with Koplow Games Assorted Foam Dice!  These soft, safe dice are perfect for kids and adults, ideal for board games, tabletop RPGs, and casual fun.  Get your set today!'}]}]}, {'messages': [{'role': 'user', 'content': [{'type': 'text', 'text': 'Create a Short Product description based on the provided ##PRODUCT NAME## and ##CATEGORY## and image.\\nOnly return description. The description should be SEO optimized and for a better mobile search experience.\\n\\n##PRODUCT NAME##: Marine Life Props Party Accessory (1 count) (16/Pkg)\\n##CATEGORY##: Toys & Games | Party Supplies | Party Favors'}, {'type': 'image', 'image': <PIL.JpegImagePlugin.JpegImageFile image mode=RGB size=290x500 at 0x7F79517F3190>}]}, {'role': 'assistant', 'content': [{'type': 'text', 'text': \"Dive into fun with these adorable Marine Life Party Favors!  16 individually packaged props perfect for kids' birthday parties, ocean-themed events, or classroom celebrations.  Create unforgettable underwater memories!\"}]}]}]\n"
          ]
        },
        {
          "output_type": "error",
          "ename": "KeyboardInterrupt",
          "evalue": "",
          "traceback": [
            "\u001b[0;31m---------------------------------------------------------------------------\u001b[0m",
            "\u001b[0;31mKeyboardInterrupt\u001b[0m                         Traceback (most recent call last)",
            "\u001b[0;32m<ipython-input-13-8b732fa7f2db>\u001b[0m in \u001b[0;36m<cell line: 14>\u001b[0;34m()\u001b[0m\n\u001b[1;32m     12\u001b[0m \u001b[0;34m\u001b[0m\u001b[0m\n\u001b[1;32m     13\u001b[0m \u001b[0;31m# Start training\u001b[0m\u001b[0;34m\u001b[0m\u001b[0;34m\u001b[0m\u001b[0m\n\u001b[0;32m---> 14\u001b[0;31m \u001b[0mtrainer\u001b[0m\u001b[0;34m.\u001b[0m\u001b[0mtrain\u001b[0m\u001b[0;34m(\u001b[0m\u001b[0;34m)\u001b[0m\u001b[0;34m\u001b[0m\u001b[0;34m\u001b[0m\u001b[0m\n\u001b[0m",
            "\u001b[0;32m/usr/local/lib/python3.10/dist-packages/trl/trainer/sft_trainer.py\u001b[0m in \u001b[0;36mtrain\u001b[0;34m(self, *args, **kwargs)\u001b[0m\n\u001b[1;32m    432\u001b[0m             \u001b[0mself\u001b[0m\u001b[0;34m.\u001b[0m\u001b[0mmodel\u001b[0m \u001b[0;34m=\u001b[0m \u001b[0mself\u001b[0m\u001b[0;34m.\u001b[0m\u001b[0m_trl_activate_neftune\u001b[0m\u001b[0;34m(\u001b[0m\u001b[0mself\u001b[0m\u001b[0;34m.\u001b[0m\u001b[0mmodel\u001b[0m\u001b[0;34m)\u001b[0m\u001b[0;34m\u001b[0m\u001b[0;34m\u001b[0m\u001b[0m\n\u001b[1;32m    433\u001b[0m \u001b[0;34m\u001b[0m\u001b[0m\n\u001b[0;32m--> 434\u001b[0;31m         \u001b[0moutput\u001b[0m \u001b[0;34m=\u001b[0m \u001b[0msuper\u001b[0m\u001b[0;34m(\u001b[0m\u001b[0;34m)\u001b[0m\u001b[0;34m.\u001b[0m\u001b[0mtrain\u001b[0m\u001b[0;34m(\u001b[0m\u001b[0;34m*\u001b[0m\u001b[0margs\u001b[0m\u001b[0;34m,\u001b[0m \u001b[0;34m**\u001b[0m\u001b[0mkwargs\u001b[0m\u001b[0;34m)\u001b[0m\u001b[0;34m\u001b[0m\u001b[0;34m\u001b[0m\u001b[0m\n\u001b[0m\u001b[1;32m    435\u001b[0m \u001b[0;34m\u001b[0m\u001b[0m\n\u001b[1;32m    436\u001b[0m         \u001b[0;31m# After training we make sure to retrieve back the original forward pass method\u001b[0m\u001b[0;34m\u001b[0m\u001b[0;34m\u001b[0m\u001b[0m\n",
            "\u001b[0;32m/usr/local/lib/python3.10/dist-packages/transformers/trainer.py\u001b[0m in \u001b[0;36mtrain\u001b[0;34m(self, resume_from_checkpoint, trial, ignore_keys_for_eval, **kwargs)\u001b[0m\n\u001b[1;32m   2074\u001b[0m                 \u001b[0;31m# Disable progress bars when uploading models during checkpoints to avoid polluting stdout\u001b[0m\u001b[0;34m\u001b[0m\u001b[0;34m\u001b[0m\u001b[0m\n\u001b[1;32m   2075\u001b[0m                 \u001b[0mhf_hub_utils\u001b[0m\u001b[0;34m.\u001b[0m\u001b[0mdisable_progress_bars\u001b[0m\u001b[0;34m(\u001b[0m\u001b[0;34m)\u001b[0m\u001b[0;34m\u001b[0m\u001b[0;34m\u001b[0m\u001b[0m\n\u001b[0;32m-> 2076\u001b[0;31m                 return inner_training_loop(\n\u001b[0m\u001b[1;32m   2077\u001b[0m                     \u001b[0margs\u001b[0m\u001b[0;34m=\u001b[0m\u001b[0margs\u001b[0m\u001b[0;34m,\u001b[0m\u001b[0;34m\u001b[0m\u001b[0;34m\u001b[0m\u001b[0m\n\u001b[1;32m   2078\u001b[0m                     \u001b[0mresume_from_checkpoint\u001b[0m\u001b[0;34m=\u001b[0m\u001b[0mresume_from_checkpoint\u001b[0m\u001b[0;34m,\u001b[0m\u001b[0;34m\u001b[0m\u001b[0;34m\u001b[0m\u001b[0m\n",
            "\u001b[0;32m/usr/local/lib/python3.10/dist-packages/transformers/trainer.py\u001b[0m in \u001b[0;36m_inner_training_loop\u001b[0;34m(self, batch_size, args, resume_from_checkpoint, trial, ignore_keys_for_eval)\u001b[0m\n\u001b[1;32m   2424\u001b[0m                     \u001b[0margs\u001b[0m\u001b[0;34m.\u001b[0m\u001b[0mlogging_nan_inf_filter\u001b[0m\u001b[0;34m\u001b[0m\u001b[0;34m\u001b[0m\u001b[0m\n\u001b[1;32m   2425\u001b[0m                     \u001b[0;32mand\u001b[0m \u001b[0;32mnot\u001b[0m \u001b[0mis_torch_xla_available\u001b[0m\u001b[0;34m(\u001b[0m\u001b[0;34m)\u001b[0m\u001b[0;34m\u001b[0m\u001b[0;34m\u001b[0m\u001b[0m\n\u001b[0;32m-> 2426\u001b[0;31m                     \u001b[0;32mand\u001b[0m \u001b[0;34m(\u001b[0m\u001b[0mtorch\u001b[0m\u001b[0;34m.\u001b[0m\u001b[0misnan\u001b[0m\u001b[0;34m(\u001b[0m\u001b[0mtr_loss_step\u001b[0m\u001b[0;34m)\u001b[0m \u001b[0;32mor\u001b[0m \u001b[0mtorch\u001b[0m\u001b[0;34m.\u001b[0m\u001b[0misinf\u001b[0m\u001b[0;34m(\u001b[0m\u001b[0mtr_loss_step\u001b[0m\u001b[0;34m)\u001b[0m\u001b[0;34m)\u001b[0m\u001b[0;34m\u001b[0m\u001b[0;34m\u001b[0m\u001b[0m\n\u001b[0m\u001b[1;32m   2427\u001b[0m                 ):\n\u001b[1;32m   2428\u001b[0m                     \u001b[0;31m# if loss is nan or inf simply add the average of previous logged losses\u001b[0m\u001b[0;34m\u001b[0m\u001b[0;34m\u001b[0m\u001b[0m\n",
            "\u001b[0;31mKeyboardInterrupt\u001b[0m: "
          ]
        }
      ]
    },
    {
      "cell_type": "code",
      "source": [],
      "metadata": {
        "id": "jOdDZPuvpCkM"
      },
      "execution_count": null,
      "outputs": []
    }
  ]
}