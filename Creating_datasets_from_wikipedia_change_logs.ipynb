{
  "nbformat": 4,
  "nbformat_minor": 0,
  "metadata": {
    "colab": {
      "provenance": []
    },
    "kernelspec": {
      "name": "python3",
      "display_name": "Python 3"
    },
    "language_info": {
      "name": "python"
    },
    "widgets": {
      "application/vnd.jupyter.widget-state+json": {
        "4df4d79dbffa482594b6d26227b04bf8": {
          "model_module": "@jupyter-widgets/controls",
          "model_name": "HBoxModel",
          "model_module_version": "1.5.0",
          "state": {
            "_dom_classes": [],
            "_model_module": "@jupyter-widgets/controls",
            "_model_module_version": "1.5.0",
            "_model_name": "HBoxModel",
            "_view_count": null,
            "_view_module": "@jupyter-widgets/controls",
            "_view_module_version": "1.5.0",
            "_view_name": "HBoxView",
            "box_style": "",
            "children": [
              "IPY_MODEL_ceed8c65333c40f28622e07ac16d8535",
              "IPY_MODEL_f82e4241e1a34828b879e8377703d2d3",
              "IPY_MODEL_adc9cf7844324c29ac60776da2ee86b4"
            ],
            "layout": "IPY_MODEL_f47e182302da46d39599066e440fa837"
          }
        },
        "ceed8c65333c40f28622e07ac16d8535": {
          "model_module": "@jupyter-widgets/controls",
          "model_name": "HTMLModel",
          "model_module_version": "1.5.0",
          "state": {
            "_dom_classes": [],
            "_model_module": "@jupyter-widgets/controls",
            "_model_module_version": "1.5.0",
            "_model_name": "HTMLModel",
            "_view_count": null,
            "_view_module": "@jupyter-widgets/controls",
            "_view_module_version": "1.5.0",
            "_view_name": "HTMLView",
            "description": "",
            "description_tooltip": null,
            "layout": "IPY_MODEL_84f040754ff84f529c4aef86a86b996c",
            "placeholder": "​",
            "style": "IPY_MODEL_5be4071bc5b844ed9a873fe5e7d3ded0",
            "value": "Uploading the dataset shards: 100%"
          }
        },
        "f82e4241e1a34828b879e8377703d2d3": {
          "model_module": "@jupyter-widgets/controls",
          "model_name": "FloatProgressModel",
          "model_module_version": "1.5.0",
          "state": {
            "_dom_classes": [],
            "_model_module": "@jupyter-widgets/controls",
            "_model_module_version": "1.5.0",
            "_model_name": "FloatProgressModel",
            "_view_count": null,
            "_view_module": "@jupyter-widgets/controls",
            "_view_module_version": "1.5.0",
            "_view_name": "ProgressView",
            "bar_style": "success",
            "description": "",
            "description_tooltip": null,
            "layout": "IPY_MODEL_e2f8c44937c14524b99eb13015f800d8",
            "max": 1,
            "min": 0,
            "orientation": "horizontal",
            "style": "IPY_MODEL_151cac3c1e0249f0ad2a10d26b675b1e",
            "value": 1
          }
        },
        "adc9cf7844324c29ac60776da2ee86b4": {
          "model_module": "@jupyter-widgets/controls",
          "model_name": "HTMLModel",
          "model_module_version": "1.5.0",
          "state": {
            "_dom_classes": [],
            "_model_module": "@jupyter-widgets/controls",
            "_model_module_version": "1.5.0",
            "_model_name": "HTMLModel",
            "_view_count": null,
            "_view_module": "@jupyter-widgets/controls",
            "_view_module_version": "1.5.0",
            "_view_name": "HTMLView",
            "description": "",
            "description_tooltip": null,
            "layout": "IPY_MODEL_eae1634db2c9465ba72af24085a45399",
            "placeholder": "​",
            "style": "IPY_MODEL_b7fa5171b08b479a99858088eb7297d7",
            "value": " 1/1 [00:00&lt;00:00,  1.63it/s]"
          }
        },
        "f47e182302da46d39599066e440fa837": {
          "model_module": "@jupyter-widgets/base",
          "model_name": "LayoutModel",
          "model_module_version": "1.2.0",
          "state": {
            "_model_module": "@jupyter-widgets/base",
            "_model_module_version": "1.2.0",
            "_model_name": "LayoutModel",
            "_view_count": null,
            "_view_module": "@jupyter-widgets/base",
            "_view_module_version": "1.2.0",
            "_view_name": "LayoutView",
            "align_content": null,
            "align_items": null,
            "align_self": null,
            "border": null,
            "bottom": null,
            "display": null,
            "flex": null,
            "flex_flow": null,
            "grid_area": null,
            "grid_auto_columns": null,
            "grid_auto_flow": null,
            "grid_auto_rows": null,
            "grid_column": null,
            "grid_gap": null,
            "grid_row": null,
            "grid_template_areas": null,
            "grid_template_columns": null,
            "grid_template_rows": null,
            "height": null,
            "justify_content": null,
            "justify_items": null,
            "left": null,
            "margin": null,
            "max_height": null,
            "max_width": null,
            "min_height": null,
            "min_width": null,
            "object_fit": null,
            "object_position": null,
            "order": null,
            "overflow": null,
            "overflow_x": null,
            "overflow_y": null,
            "padding": null,
            "right": null,
            "top": null,
            "visibility": null,
            "width": null
          }
        },
        "84f040754ff84f529c4aef86a86b996c": {
          "model_module": "@jupyter-widgets/base",
          "model_name": "LayoutModel",
          "model_module_version": "1.2.0",
          "state": {
            "_model_module": "@jupyter-widgets/base",
            "_model_module_version": "1.2.0",
            "_model_name": "LayoutModel",
            "_view_count": null,
            "_view_module": "@jupyter-widgets/base",
            "_view_module_version": "1.2.0",
            "_view_name": "LayoutView",
            "align_content": null,
            "align_items": null,
            "align_self": null,
            "border": null,
            "bottom": null,
            "display": null,
            "flex": null,
            "flex_flow": null,
            "grid_area": null,
            "grid_auto_columns": null,
            "grid_auto_flow": null,
            "grid_auto_rows": null,
            "grid_column": null,
            "grid_gap": null,
            "grid_row": null,
            "grid_template_areas": null,
            "grid_template_columns": null,
            "grid_template_rows": null,
            "height": null,
            "justify_content": null,
            "justify_items": null,
            "left": null,
            "margin": null,
            "max_height": null,
            "max_width": null,
            "min_height": null,
            "min_width": null,
            "object_fit": null,
            "object_position": null,
            "order": null,
            "overflow": null,
            "overflow_x": null,
            "overflow_y": null,
            "padding": null,
            "right": null,
            "top": null,
            "visibility": null,
            "width": null
          }
        },
        "5be4071bc5b844ed9a873fe5e7d3ded0": {
          "model_module": "@jupyter-widgets/controls",
          "model_name": "DescriptionStyleModel",
          "model_module_version": "1.5.0",
          "state": {
            "_model_module": "@jupyter-widgets/controls",
            "_model_module_version": "1.5.0",
            "_model_name": "DescriptionStyleModel",
            "_view_count": null,
            "_view_module": "@jupyter-widgets/base",
            "_view_module_version": "1.2.0",
            "_view_name": "StyleView",
            "description_width": ""
          }
        },
        "e2f8c44937c14524b99eb13015f800d8": {
          "model_module": "@jupyter-widgets/base",
          "model_name": "LayoutModel",
          "model_module_version": "1.2.0",
          "state": {
            "_model_module": "@jupyter-widgets/base",
            "_model_module_version": "1.2.0",
            "_model_name": "LayoutModel",
            "_view_count": null,
            "_view_module": "@jupyter-widgets/base",
            "_view_module_version": "1.2.0",
            "_view_name": "LayoutView",
            "align_content": null,
            "align_items": null,
            "align_self": null,
            "border": null,
            "bottom": null,
            "display": null,
            "flex": null,
            "flex_flow": null,
            "grid_area": null,
            "grid_auto_columns": null,
            "grid_auto_flow": null,
            "grid_auto_rows": null,
            "grid_column": null,
            "grid_gap": null,
            "grid_row": null,
            "grid_template_areas": null,
            "grid_template_columns": null,
            "grid_template_rows": null,
            "height": null,
            "justify_content": null,
            "justify_items": null,
            "left": null,
            "margin": null,
            "max_height": null,
            "max_width": null,
            "min_height": null,
            "min_width": null,
            "object_fit": null,
            "object_position": null,
            "order": null,
            "overflow": null,
            "overflow_x": null,
            "overflow_y": null,
            "padding": null,
            "right": null,
            "top": null,
            "visibility": null,
            "width": null
          }
        },
        "151cac3c1e0249f0ad2a10d26b675b1e": {
          "model_module": "@jupyter-widgets/controls",
          "model_name": "ProgressStyleModel",
          "model_module_version": "1.5.0",
          "state": {
            "_model_module": "@jupyter-widgets/controls",
            "_model_module_version": "1.5.0",
            "_model_name": "ProgressStyleModel",
            "_view_count": null,
            "_view_module": "@jupyter-widgets/base",
            "_view_module_version": "1.2.0",
            "_view_name": "StyleView",
            "bar_color": null,
            "description_width": ""
          }
        },
        "eae1634db2c9465ba72af24085a45399": {
          "model_module": "@jupyter-widgets/base",
          "model_name": "LayoutModel",
          "model_module_version": "1.2.0",
          "state": {
            "_model_module": "@jupyter-widgets/base",
            "_model_module_version": "1.2.0",
            "_model_name": "LayoutModel",
            "_view_count": null,
            "_view_module": "@jupyter-widgets/base",
            "_view_module_version": "1.2.0",
            "_view_name": "LayoutView",
            "align_content": null,
            "align_items": null,
            "align_self": null,
            "border": null,
            "bottom": null,
            "display": null,
            "flex": null,
            "flex_flow": null,
            "grid_area": null,
            "grid_auto_columns": null,
            "grid_auto_flow": null,
            "grid_auto_rows": null,
            "grid_column": null,
            "grid_gap": null,
            "grid_row": null,
            "grid_template_areas": null,
            "grid_template_columns": null,
            "grid_template_rows": null,
            "height": null,
            "justify_content": null,
            "justify_items": null,
            "left": null,
            "margin": null,
            "max_height": null,
            "max_width": null,
            "min_height": null,
            "min_width": null,
            "object_fit": null,
            "object_position": null,
            "order": null,
            "overflow": null,
            "overflow_x": null,
            "overflow_y": null,
            "padding": null,
            "right": null,
            "top": null,
            "visibility": null,
            "width": null
          }
        },
        "b7fa5171b08b479a99858088eb7297d7": {
          "model_module": "@jupyter-widgets/controls",
          "model_name": "DescriptionStyleModel",
          "model_module_version": "1.5.0",
          "state": {
            "_model_module": "@jupyter-widgets/controls",
            "_model_module_version": "1.5.0",
            "_model_name": "DescriptionStyleModel",
            "_view_count": null,
            "_view_module": "@jupyter-widgets/base",
            "_view_module_version": "1.2.0",
            "_view_name": "StyleView",
            "description_width": ""
          }
        },
        "37599cce139e4a22963f1c9fe62c6c79": {
          "model_module": "@jupyter-widgets/controls",
          "model_name": "HBoxModel",
          "model_module_version": "1.5.0",
          "state": {
            "_dom_classes": [],
            "_model_module": "@jupyter-widgets/controls",
            "_model_module_version": "1.5.0",
            "_model_name": "HBoxModel",
            "_view_count": null,
            "_view_module": "@jupyter-widgets/controls",
            "_view_module_version": "1.5.0",
            "_view_name": "HBoxView",
            "box_style": "",
            "children": [
              "IPY_MODEL_8567e16e4cd84b0db2a0cfa3bbd0b399",
              "IPY_MODEL_c2fcc1c5d33e4439a39297f9185e7b4a",
              "IPY_MODEL_556df5d0de264d09aa59841fdcee549b"
            ],
            "layout": "IPY_MODEL_c3dd8e73162441d59c9bf58d35cbd28a"
          }
        },
        "8567e16e4cd84b0db2a0cfa3bbd0b399": {
          "model_module": "@jupyter-widgets/controls",
          "model_name": "HTMLModel",
          "model_module_version": "1.5.0",
          "state": {
            "_dom_classes": [],
            "_model_module": "@jupyter-widgets/controls",
            "_model_module_version": "1.5.0",
            "_model_name": "HTMLModel",
            "_view_count": null,
            "_view_module": "@jupyter-widgets/controls",
            "_view_module_version": "1.5.0",
            "_view_name": "HTMLView",
            "description": "",
            "description_tooltip": null,
            "layout": "IPY_MODEL_1c5c5679426b43388c29dfd0ee74e0f1",
            "placeholder": "​",
            "style": "IPY_MODEL_66635fc931f54c31bfdace11e273a047",
            "value": "Creating parquet from Arrow format: 100%"
          }
        },
        "c2fcc1c5d33e4439a39297f9185e7b4a": {
          "model_module": "@jupyter-widgets/controls",
          "model_name": "FloatProgressModel",
          "model_module_version": "1.5.0",
          "state": {
            "_dom_classes": [],
            "_model_module": "@jupyter-widgets/controls",
            "_model_module_version": "1.5.0",
            "_model_name": "FloatProgressModel",
            "_view_count": null,
            "_view_module": "@jupyter-widgets/controls",
            "_view_module_version": "1.5.0",
            "_view_name": "ProgressView",
            "bar_style": "success",
            "description": "",
            "description_tooltip": null,
            "layout": "IPY_MODEL_56fd4449864c4d83aabbc88a9f8bb0ac",
            "max": 1,
            "min": 0,
            "orientation": "horizontal",
            "style": "IPY_MODEL_ae76a1cecb524765bcdca8af15f2173a",
            "value": 1
          }
        },
        "556df5d0de264d09aa59841fdcee549b": {
          "model_module": "@jupyter-widgets/controls",
          "model_name": "HTMLModel",
          "model_module_version": "1.5.0",
          "state": {
            "_dom_classes": [],
            "_model_module": "@jupyter-widgets/controls",
            "_model_module_version": "1.5.0",
            "_model_name": "HTMLModel",
            "_view_count": null,
            "_view_module": "@jupyter-widgets/controls",
            "_view_module_version": "1.5.0",
            "_view_name": "HTMLView",
            "description": "",
            "description_tooltip": null,
            "layout": "IPY_MODEL_5d7d03c5f08a444086635a12571cbbf3",
            "placeholder": "​",
            "style": "IPY_MODEL_223c5512932b42d8a5d4610285262dbc",
            "value": " 1/1 [00:00&lt;00:00, 40.36ba/s]"
          }
        },
        "c3dd8e73162441d59c9bf58d35cbd28a": {
          "model_module": "@jupyter-widgets/base",
          "model_name": "LayoutModel",
          "model_module_version": "1.2.0",
          "state": {
            "_model_module": "@jupyter-widgets/base",
            "_model_module_version": "1.2.0",
            "_model_name": "LayoutModel",
            "_view_count": null,
            "_view_module": "@jupyter-widgets/base",
            "_view_module_version": "1.2.0",
            "_view_name": "LayoutView",
            "align_content": null,
            "align_items": null,
            "align_self": null,
            "border": null,
            "bottom": null,
            "display": null,
            "flex": null,
            "flex_flow": null,
            "grid_area": null,
            "grid_auto_columns": null,
            "grid_auto_flow": null,
            "grid_auto_rows": null,
            "grid_column": null,
            "grid_gap": null,
            "grid_row": null,
            "grid_template_areas": null,
            "grid_template_columns": null,
            "grid_template_rows": null,
            "height": null,
            "justify_content": null,
            "justify_items": null,
            "left": null,
            "margin": null,
            "max_height": null,
            "max_width": null,
            "min_height": null,
            "min_width": null,
            "object_fit": null,
            "object_position": null,
            "order": null,
            "overflow": null,
            "overflow_x": null,
            "overflow_y": null,
            "padding": null,
            "right": null,
            "top": null,
            "visibility": null,
            "width": null
          }
        },
        "1c5c5679426b43388c29dfd0ee74e0f1": {
          "model_module": "@jupyter-widgets/base",
          "model_name": "LayoutModel",
          "model_module_version": "1.2.0",
          "state": {
            "_model_module": "@jupyter-widgets/base",
            "_model_module_version": "1.2.0",
            "_model_name": "LayoutModel",
            "_view_count": null,
            "_view_module": "@jupyter-widgets/base",
            "_view_module_version": "1.2.0",
            "_view_name": "LayoutView",
            "align_content": null,
            "align_items": null,
            "align_self": null,
            "border": null,
            "bottom": null,
            "display": null,
            "flex": null,
            "flex_flow": null,
            "grid_area": null,
            "grid_auto_columns": null,
            "grid_auto_flow": null,
            "grid_auto_rows": null,
            "grid_column": null,
            "grid_gap": null,
            "grid_row": null,
            "grid_template_areas": null,
            "grid_template_columns": null,
            "grid_template_rows": null,
            "height": null,
            "justify_content": null,
            "justify_items": null,
            "left": null,
            "margin": null,
            "max_height": null,
            "max_width": null,
            "min_height": null,
            "min_width": null,
            "object_fit": null,
            "object_position": null,
            "order": null,
            "overflow": null,
            "overflow_x": null,
            "overflow_y": null,
            "padding": null,
            "right": null,
            "top": null,
            "visibility": null,
            "width": null
          }
        },
        "66635fc931f54c31bfdace11e273a047": {
          "model_module": "@jupyter-widgets/controls",
          "model_name": "DescriptionStyleModel",
          "model_module_version": "1.5.0",
          "state": {
            "_model_module": "@jupyter-widgets/controls",
            "_model_module_version": "1.5.0",
            "_model_name": "DescriptionStyleModel",
            "_view_count": null,
            "_view_module": "@jupyter-widgets/base",
            "_view_module_version": "1.2.0",
            "_view_name": "StyleView",
            "description_width": ""
          }
        },
        "56fd4449864c4d83aabbc88a9f8bb0ac": {
          "model_module": "@jupyter-widgets/base",
          "model_name": "LayoutModel",
          "model_module_version": "1.2.0",
          "state": {
            "_model_module": "@jupyter-widgets/base",
            "_model_module_version": "1.2.0",
            "_model_name": "LayoutModel",
            "_view_count": null,
            "_view_module": "@jupyter-widgets/base",
            "_view_module_version": "1.2.0",
            "_view_name": "LayoutView",
            "align_content": null,
            "align_items": null,
            "align_self": null,
            "border": null,
            "bottom": null,
            "display": null,
            "flex": null,
            "flex_flow": null,
            "grid_area": null,
            "grid_auto_columns": null,
            "grid_auto_flow": null,
            "grid_auto_rows": null,
            "grid_column": null,
            "grid_gap": null,
            "grid_row": null,
            "grid_template_areas": null,
            "grid_template_columns": null,
            "grid_template_rows": null,
            "height": null,
            "justify_content": null,
            "justify_items": null,
            "left": null,
            "margin": null,
            "max_height": null,
            "max_width": null,
            "min_height": null,
            "min_width": null,
            "object_fit": null,
            "object_position": null,
            "order": null,
            "overflow": null,
            "overflow_x": null,
            "overflow_y": null,
            "padding": null,
            "right": null,
            "top": null,
            "visibility": null,
            "width": null
          }
        },
        "ae76a1cecb524765bcdca8af15f2173a": {
          "model_module": "@jupyter-widgets/controls",
          "model_name": "ProgressStyleModel",
          "model_module_version": "1.5.0",
          "state": {
            "_model_module": "@jupyter-widgets/controls",
            "_model_module_version": "1.5.0",
            "_model_name": "ProgressStyleModel",
            "_view_count": null,
            "_view_module": "@jupyter-widgets/base",
            "_view_module_version": "1.2.0",
            "_view_name": "StyleView",
            "bar_color": null,
            "description_width": ""
          }
        },
        "5d7d03c5f08a444086635a12571cbbf3": {
          "model_module": "@jupyter-widgets/base",
          "model_name": "LayoutModel",
          "model_module_version": "1.2.0",
          "state": {
            "_model_module": "@jupyter-widgets/base",
            "_model_module_version": "1.2.0",
            "_model_name": "LayoutModel",
            "_view_count": null,
            "_view_module": "@jupyter-widgets/base",
            "_view_module_version": "1.2.0",
            "_view_name": "LayoutView",
            "align_content": null,
            "align_items": null,
            "align_self": null,
            "border": null,
            "bottom": null,
            "display": null,
            "flex": null,
            "flex_flow": null,
            "grid_area": null,
            "grid_auto_columns": null,
            "grid_auto_flow": null,
            "grid_auto_rows": null,
            "grid_column": null,
            "grid_gap": null,
            "grid_row": null,
            "grid_template_areas": null,
            "grid_template_columns": null,
            "grid_template_rows": null,
            "height": null,
            "justify_content": null,
            "justify_items": null,
            "left": null,
            "margin": null,
            "max_height": null,
            "max_width": null,
            "min_height": null,
            "min_width": null,
            "object_fit": null,
            "object_position": null,
            "order": null,
            "overflow": null,
            "overflow_x": null,
            "overflow_y": null,
            "padding": null,
            "right": null,
            "top": null,
            "visibility": null,
            "width": null
          }
        },
        "223c5512932b42d8a5d4610285262dbc": {
          "model_module": "@jupyter-widgets/controls",
          "model_name": "DescriptionStyleModel",
          "model_module_version": "1.5.0",
          "state": {
            "_model_module": "@jupyter-widgets/controls",
            "_model_module_version": "1.5.0",
            "_model_name": "DescriptionStyleModel",
            "_view_count": null,
            "_view_module": "@jupyter-widgets/base",
            "_view_module_version": "1.2.0",
            "_view_name": "StyleView",
            "description_width": ""
          }
        }
      }
    }
  },
  "cells": [
    {
      "cell_type": "code",
      "execution_count": null,
      "metadata": {
        "id": "T6v5UPCx9lfj"
      },
      "outputs": [],
      "source": [
        "%%capture\n",
        "!pip install -U crawl4ai\n",
        "!pip install nest_asyncio"
      ]
    },
    {
      "cell_type": "code",
      "source": [
        "# Check crawl4ai version\n",
        "import crawl4ai\n",
        "print(crawl4ai.__version__)"
      ],
      "metadata": {
        "colab": {
          "base_uri": "https://localhost:8080/"
        },
        "id": "1V_7D8rR9-1n",
        "outputId": "822ef339-cf80-459d-b4e3-0fa513fe1420"
      },
      "execution_count": null,
      "outputs": [
        {
          "output_type": "stream",
          "name": "stdout",
          "text": [
            "0.4.247\n"
          ]
        }
      ]
    },
    {
      "cell_type": "code",
      "source": [
        "%%capture\n",
        "!crawl4ai-setup"
      ],
      "metadata": {
        "id": "kRPGXxJq-Ale"
      },
      "execution_count": null,
      "outputs": []
    },
    {
      "cell_type": "code",
      "source": [
        "!crawl4ai-doctor"
      ],
      "metadata": {
        "colab": {
          "base_uri": "https://localhost:8080/"
        },
        "id": "UiACqqTJ-C51",
        "outputId": "b49f46a9-e0fd-4c84-a571-9f16d9bd4531"
      },
      "execution_count": null,
      "outputs": [
        {
          "output_type": "stream",
          "name": "stdout",
          "text": [
            "[INIT].... → Running Crawl4AI health check...\n",
            "[INIT].... → Crawl4AI 0.4.247\n",
            "[TEST].... ℹ Testing crawling capabilities...\n",
            "[EXPORT].. ℹ Exporting PDF and taking screenshot took 3.58s\n",
            "[FETCH]... ↓ https://crawl4ai.com... | Status: True | Time: 5.35s\n",
            "[SCRAPE].. ◆ Processed https://crawl4ai.com... | Time: 130ms\n",
            "[COMPLETE] ● https://crawl4ai.com... | Status: True | Total: 5.48s\n",
            "[COMPLETE] ● ✅ Crawling test passed!\n"
          ]
        }
      ]
    },
    {
      "cell_type": "code",
      "source": [
        "import asyncio\n",
        "import nest_asyncio\n",
        "nest_asyncio.apply()"
      ],
      "metadata": {
        "id": "v0y07w__-Eu1"
      },
      "execution_count": null,
      "outputs": []
    },
    {
      "cell_type": "code",
      "source": [],
      "metadata": {
        "id": "pccjkPbiGr7b"
      },
      "execution_count": null,
      "outputs": []
    },
    {
      "cell_type": "code",
      "source": [
        "import re\n",
        "from typing import Dict, List\n",
        "\n",
        "def extract_2024_links(markdown_text: str) -> Dict[str, str]:\n",
        "    \"\"\"\n",
        "    Extract links from markdown text that contain '2024' in their title or URL.\n",
        "\n",
        "    Args:\n",
        "        markdown_text (str): The markdown text to parse\n",
        "\n",
        "    Returns:\n",
        "        Dict[str, str]: Dictionary with link titles as keys and URLs as values\n",
        "    \"\"\"\n",
        "    # Regular expression pattern for markdown links\n",
        "    # Matches [title](url) pattern and captures both title and url\n",
        "    link_pattern = r'\\[([^\\]]+)\\]\\(([^\\)]+)\\)'\n",
        "\n",
        "    # Find all links in the text\n",
        "    links = re.findall(link_pattern, markdown_text)\n",
        "\n",
        "    # Filter links that contain '2024' and create dictionary, excluding Portal links\n",
        "    links_2024 = {}\n",
        "    portal_pattern = \"Portal%3ACurrent_events\"\n",
        "    portal_event_pattern = \"Portal:Current_events\"\n",
        "    wiki_category = \"wiki/Category\"\n",
        "    wiki_news = \"wiki/Wikinews:2024\"\n",
        "    wiki_portal = \"wiki/Portal_talk\"\n",
        "\n",
        "    for title, url in links:\n",
        "        if '2024' in url:\n",
        "            # Extract the wiki page name from the complex URL structure\n",
        "            wiki_page = url.split('/wiki/')[-1].rstrip('>')\n",
        "\n",
        "            # Remove quoted title at the end if present\n",
        "            wiki_page = wiki_page.split('> \"')[0]\n",
        "\n",
        "            # Fix escaped parentheses format\n",
        "            wiki_page = wiki_page.replace('\\\\(', '(').replace('\\\\', ')')\n",
        "\n",
        "            # Pattern 2: \\(2024\\\n",
        "            wiki_page = wiki_page.replace('\\\\(', '(').replace('\\\\', ')')\n",
        "\n",
        "            # Create the clean Wikipedia article URL\n",
        "            clean_url = f\"https://en.wikipedia.org/wiki/{wiki_page}\"\n",
        "            if portal_pattern not in clean_url and portal_event_pattern not in clean_url and wiki_category not in clean_url and wiki_news not in clean_url and wiki_portal not in clean_url :\n",
        "                links_2024[title] = clean_url\n",
        "\n",
        "    return links_2024\n",
        "\n",
        "def print_links_formatted(links: Dict[str, str]) -> None:\n",
        "    \"\"\"\n",
        "    Print the links in a formatted way.\n",
        "\n",
        "    Args:\n",
        "        links (Dict[str, str]): Dictionary of links to print\n",
        "    \"\"\"\n",
        "    print(\"\\nFound 2024 Links:\")\n",
        "    print(\"-\" * 80)\n",
        "    for title, url in links.items():\n",
        "        print(f\"Title: {title}\")\n",
        "        print(f\"URL: {url}\")\n",
        "        print(\"-\" * 80)"
      ],
      "metadata": {
        "id": "mykKV6vS8Xdi"
      },
      "execution_count": null,
      "outputs": []
    },
    {
      "cell_type": "code",
      "source": [],
      "metadata": {
        "id": "DLtd4j758XgQ"
      },
      "execution_count": null,
      "outputs": []
    },
    {
      "cell_type": "code",
      "source": [
        "import asyncio\n",
        "from crawl4ai import *\n",
        "import os\n",
        "\n",
        "async def main():\n",
        "    # Create an async context manager for the web crawler\n",
        "    async with AsyncWebCrawler() as crawler:\n",
        "        # Fetch the webpage content\n",
        "        result = await crawler.arun(\n",
        "            url=\"https://en.wikipedia.org/wiki/Portal%3ACurrent_events/December_2024?utm_source=chatgpt.com\",\n",
        "        )\n",
        "\n",
        "        # Extract 2024 links from the markdown\n",
        "        links_2024 = extract_2024_links(result.markdown)\n",
        "\n",
        "        # Print the results\n",
        "        print_links_formatted(links_2024)\n",
        "\n",
        "        # Define the output filename\n",
        "        output_file = \"December.txt\"\n",
        "\n",
        "        try:\n",
        "            # Open the file in write mode ('w')\n",
        "            # Using 'with' ensures the file is properly closed after writing\n",
        "            with open(output_file, \"w\", encoding=\"utf-8\") as file:\n",
        "                # Write the markdown content to the file\n",
        "                file.write(result.markdown)\n",
        "            print(f\"\\nSuccessfully saved markdown content to {output_file}\")\n",
        "            return links_2024\n",
        "\n",
        "        except IOError as e:\n",
        "            # Handle potential file writing errors\n",
        "            print(f\"Error saving file: {e}\")\n",
        "\n",
        "links_2024 = asyncio.run(main())"
      ],
      "metadata": {
        "colab": {
          "base_uri": "https://localhost:8080/"
        },
        "id": "vAJmD0j_-H2o",
        "outputId": "8edc2ef2-6ffe-4321-c296-c7e5020ecc02"
      },
      "execution_count": null,
      "outputs": [
        {
          "output_type": "stream",
          "name": "stdout",
          "text": [
            "[INIT].... → Crawl4AI 0.4.247\n",
            "[FETCH]... ↓ https://en.wikipedia.org/wiki/Portal%3ACurrent_eve... | Status: True | Time: 0.05s\n",
            "[COMPLETE] ● https://en.wikipedia.org/wiki/Portal%3ACurrent_eve... | Status: True | Total: 0.12s\n",
            "\n",
            "Found 2024 Links:\n",
            "--------------------------------------------------------------------------------\n",
            "Title: 2024\n",
            "URL: https://en.wikipedia.org/wiki/2024\n",
            "--------------------------------------------------------------------------------\n",
            "Title: 2024 Syrian opposition offensives\n",
            "URL: https://en.wikipedia.org/wiki/2024_Syrian_opposition_offensives\n",
            "--------------------------------------------------------------------------------\n",
            "Title: Battle of Aleppo\n",
            "URL: https://en.wikipedia.org/wiki/Battle_of_Aleppo_(2024)\n",
            "--------------------------------------------------------------------------------\n",
            "Title: 2024 Aleppo University Hospital airstrike\n",
            "URL: https://en.wikipedia.org/wiki/2024_Aleppo_University_Hospital_airstrike\n",
            "--------------------------------------------------------------------------------\n",
            "Title: 2024 North Indian Ocean cyclone season\n",
            "URL: https://en.wikipedia.org/wiki/2024_North_Indian_Ocean_cyclone_season\n",
            "--------------------------------------------------------------------------------\n",
            "Title: 2024 Nzérékoré stampede\n",
            "URL: https://en.wikipedia.org/wiki/2024_Nz%C3%A9r%C3%A9kor%C3%A9_stampede\n",
            "--------------------------------------------------------------------------------\n",
            "Title: 2024 Icelandic parliamentary election\n",
            "URL: https://en.wikipedia.org/wiki/2024_Icelandic_parliamentary_election\n",
            "--------------------------------------------------------------------------------\n",
            "Title: 2024 Liechtenstein referendums\n",
            "URL: https://en.wikipedia.org/wiki/2024_Liechtenstein_referendums#1_December\n",
            "--------------------------------------------------------------------------------\n",
            "Title: 2024 Romanian parliamentary election\n",
            "URL: https://en.wikipedia.org/wiki/2024_Romanian_parliamentary_election\n",
            "--------------------------------------------------------------------------------\n",
            "Title: ceasefire\n",
            "URL: https://en.wikipedia.org/wiki/2024_Israel%E2%80%93Lebanon_ceasefire_agreement\n",
            "--------------------------------------------------------------------------------\n",
            "Title: 2024 Georgian post-election protests\n",
            "URL: https://en.wikipedia.org/wiki/2024_Georgian_post-election_protests\n",
            "--------------------------------------------------------------------------------\n",
            "Title: 2024 Irish general election\n",
            "URL: https://en.wikipedia.org/wiki/2024_Irish_general_election\n",
            "--------------------------------------------------------------------------------\n",
            "Title: 2024 Romanian presidential election\n",
            "URL: https://en.wikipedia.org/wiki/2024_Romanian_presidential_election\n",
            "--------------------------------------------------------------------------------\n",
            "Title: 2024 Hama offensive\n",
            "URL: https://en.wikipedia.org/wiki/2024_Hama_offensive\n",
            "--------------------------------------------------------------------------------\n",
            "Title: Deir ez-Zor offensive\n",
            "URL: https://en.wikipedia.org/wiki/Deir_ez-Zor_offensive_(2024)\n",
            "--------------------------------------------------------------------------------\n",
            "Title: 2024–2025 floods in Southeast Asia and South Asia\n",
            "URL: https://en.wikipedia.org/wiki/2024%E2%80%932025_floods_in_Southeast_Asia_and_South_Asia\n",
            "--------------------------------------------------------------------------------\n",
            "Title: 2024 Kwango province disease outbreak\n",
            "URL: https://en.wikipedia.org/wiki/2024_Kwango_province_disease_outbreak\n",
            "--------------------------------------------------------------------------------\n",
            "Title: 2024 South Korean martial law crisis\n",
            "URL: https://en.wikipedia.org/wiki/2024_South_Korean_martial_law_crisis\n",
            "--------------------------------------------------------------------------------\n",
            "Title: 4 December 2024 al-Mawasi attack\n",
            "URL: https://en.wikipedia.org/wiki/4_December_2024_al-Mawasi_attack\n",
            "--------------------------------------------------------------------------------\n",
            "Title: 2024 Cuba blackouts\n",
            "URL: https://en.wikipedia.org/wiki/2024_Cuba_blackouts\n",
            "--------------------------------------------------------------------------------\n",
            "Title: martial law\n",
            "URL: https://en.wikipedia.org/wiki/2024_South_Korean_martial_law_crisis\n",
            "--------------------------------------------------------------------------------\n",
            "Title: 2024 French political crisis\n",
            "URL: https://en.wikipedia.org/wiki/2024_French_political_crisis\n",
            "--------------------------------------------------------------------------------\n",
            "Title: 2024 Namibian general election\n",
            "URL: https://en.wikipedia.org/wiki/2024_Namibian_general_election\n",
            "--------------------------------------------------------------------------------\n",
            "Title: 2024 Homs offensive\n",
            "URL: https://en.wikipedia.org/wiki/2024_Homs_offensive\n",
            "--------------------------------------------------------------------------------\n",
            "Title: 2024 Cape Mendocino earthquake\n",
            "URL: https://en.wikipedia.org/wiki/2024_Cape_Mendocino_earthquake\n",
            "--------------------------------------------------------------------------------\n",
            "Title: Winter of 2024–25 in the Gaza Strip\n",
            "URL: https://en.wikipedia.org/wiki/Winter_of_2024%E2%80%9325_in_the_Gaza_Strip\n",
            "--------------------------------------------------------------------------------\n",
            "Title: Southern Syria offensive\n",
            "URL: https://en.wikipedia.org/wiki/Southern_Syria_offensive_(2024)\n",
            "--------------------------------------------------------------------------------\n",
            "Title: 2024–25 European windstorm season\n",
            "URL: https://en.wikipedia.org/wiki/2024%E2%80%9325_European_windstorm_season\n",
            "--------------------------------------------------------------------------------\n",
            "Title: 2024 Aruban general election\n",
            "URL: https://en.wikipedia.org/wiki/2024_Aruban_general_election\n",
            "--------------------------------------------------------------------------------\n",
            "Title: 2024 Mauritian presidential election\n",
            "URL: https://en.wikipedia.org/wiki/2024_Mauritian_presidential_election\n",
            "--------------------------------------------------------------------------------\n",
            "Title: 2024 Manbij offensive\n",
            "URL: https://en.wikipedia.org/wiki/2024_Manbij_offensive\n",
            "--------------------------------------------------------------------------------\n",
            "Title: Palmyra offensive\n",
            "URL: https://en.wikipedia.org/wiki/Palmyra_offensive_(2024)\n",
            "--------------------------------------------------------------------------------\n",
            "Title: 2024 The Hague explosion\n",
            "URL: https://en.wikipedia.org/wiki/2024_The_Hague_explosion\n",
            "--------------------------------------------------------------------------------\n",
            "Title: 2024 Indian farmers' protest\n",
            "URL: https://en.wikipedia.org/wiki/2024_Indian_farmers%27_protest\n",
            "--------------------------------------------------------------------------------\n",
            "Title: 2024 Ghanaian general election\n",
            "URL: https://en.wikipedia.org/wiki/2024_Ghanaian_general_election\n",
            "--------------------------------------------------------------------------------\n",
            "Title: MLS Cup 2024\n",
            "URL: https://en.wikipedia.org/wiki/MLS_Cup_2024\n",
            "--------------------------------------------------------------------------------\n",
            "Title: Israeli invasion of Syria (2024–present)\n",
            "URL: https://en.wikipedia.org/wiki/Israeli_invasion_of_Syria_(2024%E2%80%93present)\n",
            "--------------------------------------------------------------------------------\n",
            "Title: 2024 Formula One World Championship\n",
            "URL: https://en.wikipedia.org/wiki/2024_Formula_One_World_Championship\n",
            "--------------------------------------------------------------------------------\n",
            "Title: Abu Dhabi Grand Prix\n",
            "URL: https://en.wikipedia.org/wiki/2024_Abu_Dhabi_Grand_Prix\n",
            "--------------------------------------------------------------------------------\n",
            "Title: 2024 Al-Mustariha massacre\n",
            "URL: https://en.wikipedia.org/wiki/2024_Al-Mustariha_massacre\n",
            "--------------------------------------------------------------------------------\n",
            "Title: 2024 Kanlaon eruption\n",
            "URL: https://en.wikipedia.org/wiki/2024_Kanlaon_eruption\n",
            "--------------------------------------------------------------------------------\n",
            "Title: 2024 Indian bomb hoaxes\n",
            "URL: https://en.wikipedia.org/wiki/2024_Indian_bomb_hoaxes\n",
            "--------------------------------------------------------------------------------\n",
            "Title: 2024 Azad Kashmir protests\n",
            "URL: https://en.wikipedia.org/wiki/2024_Azad_Kashmir_protests\n",
            "--------------------------------------------------------------------------------\n",
            "Title: 2024 California wildfires\n",
            "URL: https://en.wikipedia.org/wiki/2024_California_wildfires\n",
            "--------------------------------------------------------------------------------\n",
            "Title: 2024 Jubaland presidential election\n",
            "URL: https://en.wikipedia.org/wiki/2024_Jubaland_presidential_election\n",
            "--------------------------------------------------------------------------------\n",
            "Title: Battle of Ras Kamboni\n",
            "URL: https://en.wikipedia.org/wiki/Battle_of_Ras_Kamboni_(2024)\n",
            "--------------------------------------------------------------------------------\n",
            "Title: agreed ceasefire\n",
            "URL: https://en.wikipedia.org/wiki/2024_Israel%E2%80%93Lebanon_ceasefire_agreement\n",
            "--------------------------------------------------------------------------------\n",
            "Title: 2024 United Kingdom farmers' protests\n",
            "URL: https://en.wikipedia.org/wiki/November_2024_United_Kingdom_farmers%27_protests\n",
            "--------------------------------------------------------------------------------\n",
            "Title: 2024 Kobani clashes\n",
            "URL: https://en.wikipedia.org/wiki/2024_Kobani_clashes\n",
            "--------------------------------------------------------------------------------\n",
            "Title: December 2024 Nuseirat refugee camp attack\n",
            "URL: https://en.wikipedia.org/wiki/December_2024_Nuseirat_refugee_camp_attack\n",
            "--------------------------------------------------------------------------------\n",
            "Title: The Game Awards 2024\n",
            "URL: https://en.wikipedia.org/wiki/The_Game_Awards_2024\n",
            "--------------------------------------------------------------------------------\n",
            "Title: 2024–25 South-West Indian Ocean cyclone season\n",
            "URL: https://en.wikipedia.org/wiki/2024%E2%80%9325_South-West_Indian_Ocean_cyclone_season\n",
            "--------------------------------------------------------------------------------\n",
            "Title: protests\n",
            "URL: https://en.wikipedia.org/wiki/2024_Venezuelan_protests\n",
            "--------------------------------------------------------------------------------\n",
            "Title: presidential election\n",
            "URL: https://en.wikipedia.org/wiki/2024_Venezuelan_presidential_election\n",
            "--------------------------------------------------------------------------------\n",
            "Title: World Chess Championship 2024\n",
            "URL: https://en.wikipedia.org/wiki/World_Chess_Championship_2024\n",
            "--------------------------------------------------------------------------------\n",
            "Title: 2024 New Jersey drone sightings\n",
            "URL: https://en.wikipedia.org/wiki/2024_New_Jersey_drone_sightings\n",
            "--------------------------------------------------------------------------------\n",
            "Title: 2024 Nord Department killings\n",
            "URL: https://en.wikipedia.org/wiki/2024_Nord_Department_killings\n",
            "--------------------------------------------------------------------------------\n",
            "Title: 2024 Georgian presidential election\n",
            "URL: https://en.wikipedia.org/wiki/2024_Georgian_presidential_election\n",
            "--------------------------------------------------------------------------------\n",
            "Title: parliamentary election\n",
            "URL: https://en.wikipedia.org/wiki/2024_Georgian_parliamentary_election\n",
            "--------------------------------------------------------------------------------\n",
            "Title: recent attempt\n",
            "URL: https://en.wikipedia.org/wiki/2024_South_Korean_martial_law_crisis\n",
            "--------------------------------------------------------------------------------\n",
            "Title: 2024 Kerch Strait oil spill\n",
            "URL: https://en.wikipedia.org/wiki/2024_Kerch_Strait_oil_spill\n",
            "--------------------------------------------------------------------------------\n",
            "Title: 2024 Northeastern United States drone sightings\n",
            "URL: https://en.wikipedia.org/wiki/2024_Northeastern_United_States_drone_sightings\n",
            "--------------------------------------------------------------------------------\n",
            "Title: 2024 Australia heat wave\n",
            "URL: https://en.wikipedia.org/wiki/2024_Australia_heat_wave\n",
            "--------------------------------------------------------------------------------\n",
            "Title: 2024 German government crisis\n",
            "URL: https://en.wikipedia.org/wiki/2024_German_government_crisis\n",
            "--------------------------------------------------------------------------------\n",
            "Title: 2024 election\n",
            "URL: https://en.wikipedia.org/wiki/2024_Indonesian_presidential_election\n",
            "--------------------------------------------------------------------------------\n",
            "Title: 2024 Port Vila earthquake\n",
            "URL: https://en.wikipedia.org/wiki/2024_Port_Vila_earthquake\n",
            "--------------------------------------------------------------------------------\n",
            "Title: 2024 Kwango province malaria outbreak\n",
            "URL: https://en.wikipedia.org/wiki/2024_Kwango_province_malaria_outbreak\n",
            "--------------------------------------------------------------------------------\n",
            "Title: 2024 United States presidential election\n",
            "URL: https://en.wikipedia.org/wiki/2024_United_States_presidential_election\n",
            "--------------------------------------------------------------------------------\n",
            "Title: 2024 Mumbai boat accident\n",
            "URL: https://en.wikipedia.org/wiki/2024_Mumbai_boat_accident\n",
            "--------------------------------------------------------------------------------\n",
            "Title: 2024 San Fernando Airport runway excursion\n",
            "URL: https://en.wikipedia.org/wiki/2024_San_Fernando_Airport_runway_excursion\n",
            "--------------------------------------------------------------------------------\n",
            "Title: 2024 Georgian parliamentary election\n",
            "URL: https://en.wikipedia.org/wiki/2024_Georgian_parliamentary_election\n",
            "--------------------------------------------------------------------------------\n",
            "Title: recent elections\n",
            "URL: https://en.wikipedia.org/wiki/2024_Georgian_parliamentary_election\n",
            "--------------------------------------------------------------------------------\n",
            "Title: 2024 FIFA Intercontinental Cup\n",
            "URL: https://en.wikipedia.org/wiki/2024_FIFA_Intercontinental_Cup\n",
            "--------------------------------------------------------------------------------\n",
            "Title: final\n",
            "URL: https://en.wikipedia.org/wiki/2024_FIFA_Intercontinental_Cup_final\n",
            "--------------------------------------------------------------------------------\n",
            "Title: December 2024 Israeli airstrikes in Yemen\n",
            "URL: https://en.wikipedia.org/wiki/December_2024_Israeli_airstrikes_in_Yemen\n",
            "--------------------------------------------------------------------------------\n",
            "Title: 2024 Parliament of Abkhazia shooting\n",
            "URL: https://en.wikipedia.org/wiki/2024_Parliament_of_Abkhazia_shooting\n",
            "--------------------------------------------------------------------------------\n",
            "Title: 2024 Kursk offensive\n",
            "URL: https://en.wikipedia.org/wiki/2024_Kursk_offensive\n",
            "--------------------------------------------------------------------------------\n",
            "Title: 2024 Magdeburg car attack\n",
            "URL: https://en.wikipedia.org/wiki/2024_Magdeburg_car_attack\n",
            "--------------------------------------------------------------------------------\n",
            "Title: 2024 Zagreb school stabbing\n",
            "URL: https://en.wikipedia.org/wiki/2024_Zagreb_school_stabbing\n",
            "--------------------------------------------------------------------------------\n",
            "Title: 2024 Gramado Piper PA-42 crash\n",
            "URL: https://en.wikipedia.org/wiki/2024_Gramado_Piper_PA-42_crash\n",
            "--------------------------------------------------------------------------------\n",
            "Title: 2024 Serbian anti-corruption protests\n",
            "URL: https://en.wikipedia.org/wiki/2024_Serbian_anti-corruption_protests\n",
            "--------------------------------------------------------------------------------\n",
            "Title: Manbij offensive\n",
            "URL: https://en.wikipedia.org/wiki/Manbij_offensive_(2024)\n",
            "--------------------------------------------------------------------------------\n",
            "Title: 2024 Cité Soleil massacre\n",
            "URL: https://en.wikipedia.org/wiki/2024_Cit%C3%A9_Soleil_massacre\n",
            "--------------------------------------------------------------------------------\n",
            "Title: 2024 famine in Sudan\n",
            "URL: https://en.wikipedia.org/wiki/2024_famine_in_Sudan\n",
            "--------------------------------------------------------------------------------\n",
            "Title: 2024 Changde car attack\n",
            "URL: https://en.wikipedia.org/wiki/2024_Changde_car_attack\n",
            "--------------------------------------------------------------------------------\n",
            "Title: 2024 New York City Subway immolation\n",
            "URL: https://en.wikipedia.org/wiki/2024_New_York_City_Subway_immolation\n",
            "--------------------------------------------------------------------------------\n",
            "Title: 2024 Afghanistan–Pakistan skirmishes\n",
            "URL: https://en.wikipedia.org/wiki/2024_Afghanistan%E2%80%93Pakistan_skirmishes\n",
            "--------------------------------------------------------------------------------\n",
            "Title: 2024–25 Australian bushfire season\n",
            "URL: https://en.wikipedia.org/wiki/2024%E2%80%9325_Australian_bushfire_season\n",
            "--------------------------------------------------------------------------------\n",
            "Title: 2024 Lobitos oil spill\n",
            "URL: https://en.wikipedia.org/wiki/2024_Lobitos_oil_spill\n",
            "--------------------------------------------------------------------------------\n",
            "Title: 2024 Israeli invasion of Lebanon\n",
            "URL: https://en.wikipedia.org/wiki/2024_Israeli_invasion_of_Lebanon\n",
            "--------------------------------------------------------------------------------\n",
            "Title: the recent election\n",
            "URL: https://en.wikipedia.org/wiki/2024_Mozambican_general_election\n",
            "--------------------------------------------------------------------------------\n",
            "Title: November 2024 Amsterdam riots\n",
            "URL: https://en.wikipedia.org/wiki/November_2024_Amsterdam_riots\n",
            "--------------------------------------------------------------------------------\n",
            "Title: Ras Kamboni\n",
            "URL: https://en.wikipedia.org/wiki/Battle_of_Ras_Kamboni_(2024)\n",
            "--------------------------------------------------------------------------------\n",
            "Title: Western Syria clashes\n",
            "URL: https://en.wikipedia.org/wiki/Western_Syria_clashes_(December_2024%E2%80%93present)\n",
            "--------------------------------------------------------------------------------\n",
            "Title: 2024 Estlink 2 incident\n",
            "URL: https://en.wikipedia.org/wiki/2024_Estlink_2_incident\n",
            "--------------------------------------------------------------------------------\n",
            "Title: ceasefire violations\n",
            "URL: https://en.wikipedia.org/wiki/2024_Israel%E2%80%93Lebanon_ceasefire_agreement#By_Israel\n",
            "--------------------------------------------------------------------------------\n",
            "Title: 2024 in archosaur paleontology\n",
            "URL: https://en.wikipedia.org/wiki/2024_in_archosaur_paleontology\n",
            "--------------------------------------------------------------------------------\n",
            "Title: 2024 Baltic Sea submarine cable disruptions\n",
            "URL: https://en.wikipedia.org/wiki/2024_Baltic_Sea_submarine_cable_disruptions\n",
            "--------------------------------------------------------------------------------\n",
            "Title: 2024 Ethiopia–Somaliland memorandum of understanding\n",
            "URL: https://en.wikipedia.org/wiki/2024_Ethiopia%E2%80%93Somaliland_memorandum_of_understanding\n",
            "--------------------------------------------------------------------------------\n",
            "Title: 2023–2024 mpox epidemic\n",
            "URL: https://en.wikipedia.org/wiki/2023%E2%80%932024_mpox_epidemic\n",
            "--------------------------------------------------------------------------------\n",
            "Title: 2024 Zhuhai car attack\n",
            "URL: https://en.wikipedia.org/wiki/2024_Zhuhai_car_attack\n",
            "--------------------------------------------------------------------------------\n",
            "Title: Tornado outbreak of December 26–29, 2024\n",
            "URL: https://en.wikipedia.org/wiki/Tornado_outbreak_of_December_26%E2%80%9329,_2024\n",
            "--------------------------------------------------------------------------------\n",
            "Title: 2024 Mozambican general election\n",
            "URL: https://en.wikipedia.org/wiki/2024_Mozambican_general_election\n",
            "--------------------------------------------------------------------------------\n",
            "Title: 2024 Mozambican protests\n",
            "URL: https://en.wikipedia.org/wiki/2024_Mozambican_protests\n",
            "--------------------------------------------------------------------------------\n",
            "Title: 2024 Sidama truck crash\n",
            "URL: https://en.wikipedia.org/wiki/2024_Sidama_truck_crash\n",
            "--------------------------------------------------------------------------------\n",
            "Title: 2024 Chadian parliamentary election\n",
            "URL: https://en.wikipedia.org/wiki/2024_Chadian_parliamentary_election\n",
            "--------------------------------------------------------------------------------\n",
            "Title: 2024 Croatian presidential election\n",
            "URL: https://en.wikipedia.org/wiki/2024_Croatian_presidential_election\n",
            "--------------------------------------------------------------------------------\n",
            "Title: 2024 Venezuelan protests\n",
            "URL: https://en.wikipedia.org/wiki/2024_Venezuelan_protests\n",
            "--------------------------------------------------------------------------------\n",
            "Title: 2024 Ecuadorian conflict\n",
            "URL: https://en.wikipedia.org/wiki/2024_Ecuadorian_conflict\n",
            "--------------------------------------------------------------------------------\n",
            "\n",
            "Successfully saved markdown content to December.txt\n"
          ]
        }
      ]
    },
    {
      "cell_type": "code",
      "source": [
        "len(links_2024)"
      ],
      "metadata": {
        "colab": {
          "base_uri": "https://localhost:8080/"
        },
        "id": "CkVE001W8jpl",
        "outputId": "c89e3038-a2b3-4c74-c017-928a89504995"
      },
      "execution_count": null,
      "outputs": [
        {
          "output_type": "execute_result",
          "data": {
            "text/plain": [
              "109"
            ]
          },
          "metadata": {},
          "execution_count": 62
        }
      ]
    },
    {
      "cell_type": "code",
      "source": [],
      "metadata": {
        "id": "PYo_ebEGjCCR"
      },
      "execution_count": null,
      "outputs": []
    },
    {
      "cell_type": "code",
      "source": [
        "def clean_wiki_content(content: str) -> str:\n",
        "    \"\"\"\n",
        "    Cleans Wikipedia article content by removing specific sections and header.\n",
        "\n",
        "    Args:\n",
        "        content (str): Raw Wikipedia article content\n",
        "\n",
        "    Returns:\n",
        "        str: Cleaned article content\n",
        "    \"\"\"\n",
        "    # First, split by \"From Wikipedia, the free encyclopedia\"\n",
        "    if \"From Wikipedia, the free encyclopedia\" in content:\n",
        "        content = content.split(\"From Wikipedia, the free encyclopedia\", 1)[1].strip()\n",
        "\n",
        "    # List of section headers that mark the end of main content\n",
        "    end_sections = [\n",
        "        \"## See also\",\n",
        "        \"## Notes\",\n",
        "        \"## References\",\n",
        "        \"## External links\",\n",
        "        \"## Further reading\",\n",
        "        \"## Citations\",\n",
        "        \"## Sources\",\n",
        "        \"## Bibliography\"\n",
        "    ]\n",
        "\n",
        "    # Find the first occurrence of any end section\n",
        "    end_positions = []\n",
        "    for section in end_sections:\n",
        "        pos = content.find(section)\n",
        "        if pos != -1:\n",
        "            end_positions.append(pos)\n",
        "\n",
        "    # If any end sections were found, cut off the content there\n",
        "    if end_positions:\n",
        "        content = content[:min(end_positions)].strip()\n",
        "\n",
        "    return content"
      ],
      "metadata": {
        "id": "b99CA1fsjCFa"
      },
      "execution_count": null,
      "outputs": []
    },
    {
      "cell_type": "code",
      "source": [
        "import asyncio\n",
        "from typing import Dict, List\n",
        "from crawl4ai import AsyncWebCrawler\n",
        "\n",
        "async def validate_wiki_links(links: Dict[str, str]) -> Dict[str, str]:\n",
        "    \"\"\"\n",
        "    Validates Wikipedia URLs and saves valid pages' content.\n",
        "\n",
        "    Args:\n",
        "        links (Dict[str, str]): Dictionary of titles and URLs\n",
        "\n",
        "    Returns:\n",
        "        Dict[str, str]: Dictionary of valid titles and URLs\n",
        "    \"\"\"\n",
        "    valid_links = {}\n",
        "    error_marker = \"Wikipedia does not have an article with this exact name\"\n",
        "\n",
        "    # Create pages directory if it doesn't exist\n",
        "    import os\n",
        "    pages_dir = \"cleaned_pages\"\n",
        "    os.makedirs(pages_dir, exist_ok=True)\n",
        "\n",
        "    async with AsyncWebCrawler() as crawler:\n",
        "        for title, url in links.items():\n",
        "            try:\n",
        "                # Create a safe filename from the title\n",
        "                safe_title = \"\".join(c for c in title if c.isalnum() or c in (' ', '-', '_')).rstrip()\n",
        "                filename = os.path.join(pages_dir, f\"{safe_title}.txt\")\n",
        "\n",
        "                # Fetch the webpage content\n",
        "                result = await crawler.arun(url=url)\n",
        "\n",
        "                # Check if the page exists\n",
        "                if error_marker not in result.markdown:\n",
        "                    valid_links[title] = url\n",
        "\n",
        "                    # Save the markdown content\n",
        "                    try:\n",
        "                        cleaned_content = clean_wiki_content(result.markdown)\n",
        "                        with open(filename, 'w', encoding='utf-8') as f:\n",
        "                            f.write(cleaned_content)\n",
        "                        print(f\"✓ Valid: {title} - Cleaned content saved to {filename}\")\n",
        "                    except Exception as e:\n",
        "                        print(f\"✓ Valid: {title} - But failed to save content: {str(e)}\")\n",
        "                else:\n",
        "                    print(f\"✗ Invalid: {title} - Page does not exist\")\n",
        "\n",
        "            except Exception as e:\n",
        "                print(f\"✗ Error checking {title}: {str(e)}\")\n",
        "\n",
        "            # Add a small delay between requests\n",
        "            await asyncio.sleep(1)\n",
        "\n",
        "    return valid_links\n",
        "\n",
        "async def process_and_validate_links(initial_links: Dict[str, str]) -> Dict[str, str]:\n",
        "    \"\"\"\n",
        "    Process the initial links dictionary and validate each URL.\n",
        "\n",
        "    Args:\n",
        "        initial_links (Dict[str, str]): Initial dictionary of titles and URLs\n",
        "\n",
        "    Returns:\n",
        "        Dict[str, str]: Dictionary of valid titles and URLs\n",
        "    \"\"\"\n",
        "    print(\"\\nValidating Wikipedia URLs and saving content...\")\n",
        "    print(\"-\" * 50)\n",
        "\n",
        "    valid_links = await validate_wiki_links(initial_links)\n",
        "\n",
        "    print(\"\\nValidation Summary:\")\n",
        "    print(f\"Total links: {len(initial_links)}\")\n",
        "    print(f\"Valid links: {len(valid_links)}\")\n",
        "    print(f\"Invalid/broken links: {len(initial_links) - len(valid_links)}\")\n",
        "    print(f\"Content saved to: {os.path.abspath('pages')}\")\n",
        "\n",
        "    return valid_links"
      ],
      "metadata": {
        "id": "S_mjUGoe7yKf"
      },
      "execution_count": null,
      "outputs": []
    },
    {
      "cell_type": "code",
      "source": [
        "valid_links = await process_and_validate_links(links_2024)"
      ],
      "metadata": {
        "colab": {
          "base_uri": "https://localhost:8080/"
        },
        "id": "a6uuUcbj7kiK",
        "outputId": "b4f9f082-0aa0-4520-abc3-9c13124c9fcc"
      },
      "execution_count": null,
      "outputs": [
        {
          "output_type": "stream",
          "name": "stdout",
          "text": [
            "\n",
            "Validating Wikipedia URLs and saving content...\n",
            "--------------------------------------------------\n",
            "[INIT].... → Crawl4AI 0.4.247\n",
            "[FETCH]... ↓ https://en.wikipedia.org/wiki/2024... | Status: True | Time: 0.05s\n",
            "[COMPLETE] ● https://en.wikipedia.org/wiki/2024... | Status: True | Total: 0.12s\n",
            "✓ Valid: 2024 - Cleaned content saved to cleaned_pages/2024.txt\n",
            "[FETCH]... ↓ https://en.wikipedia.org/wiki/2024_Syrian_oppositi... | Status: True | Time: 0.03s\n",
            "[COMPLETE] ● https://en.wikipedia.org/wiki/2024_Syrian_oppositi... | Status: True | Total: 0.07s\n",
            "✓ Valid: 2024 Syrian opposition offensives - Cleaned content saved to cleaned_pages/2024 Syrian opposition offensives.txt\n",
            "[FETCH]... ↓ https://en.wikipedia.org/wiki/Battle_of_Aleppo_(20... | Status: True | Time: 0.02s\n",
            "[COMPLETE] ● https://en.wikipedia.org/wiki/Battle_of_Aleppo_(20... | Status: True | Total: 0.08s\n",
            "✓ Valid: Battle of Aleppo - Cleaned content saved to cleaned_pages/Battle of Aleppo.txt\n",
            "[FETCH]... ↓ https://en.wikipedia.org/wiki/2024_Aleppo_Universi... | Status: True | Time: 0.01s\n",
            "[COMPLETE] ● https://en.wikipedia.org/wiki/2024_Aleppo_Universi... | Status: True | Total: 0.08s\n",
            "✓ Valid: 2024 Aleppo University Hospital airstrike - Cleaned content saved to cleaned_pages/2024 Aleppo University Hospital airstrike.txt\n",
            "[FETCH]... ↓ https://en.wikipedia.org/wiki/2024_North_Indian_Oc... | Status: True | Time: 0.01s\n",
            "[COMPLETE] ● https://en.wikipedia.org/wiki/2024_North_Indian_Oc... | Status: True | Total: 0.07s\n",
            "✓ Valid: 2024 North Indian Ocean cyclone season - Cleaned content saved to cleaned_pages/2024 North Indian Ocean cyclone season.txt\n",
            "[FETCH]... ↓ https://en.wikipedia.org/wiki/2024_Nz%C3%A9r%C3%A9... | Status: True | Time: 0.01s\n",
            "[COMPLETE] ● https://en.wikipedia.org/wiki/2024_Nz%C3%A9r%C3%A9... | Status: True | Total: 0.08s\n",
            "✓ Valid: 2024 Nzérékoré stampede - Cleaned content saved to cleaned_pages/2024 Nzérékoré stampede.txt\n",
            "[FETCH]... ↓ https://en.wikipedia.org/wiki/2024_Icelandic_parli... | Status: True | Time: 0.01s\n",
            "[COMPLETE] ● https://en.wikipedia.org/wiki/2024_Icelandic_parli... | Status: True | Total: 0.07s\n",
            "✓ Valid: 2024 Icelandic parliamentary election - Cleaned content saved to cleaned_pages/2024 Icelandic parliamentary election.txt\n",
            "[FETCH]... ↓ https://en.wikipedia.org/wiki/2024_Liechtenstein_r... | Status: True | Time: 0.01s\n",
            "[COMPLETE] ● https://en.wikipedia.org/wiki/2024_Liechtenstein_r... | Status: True | Total: 0.07s\n",
            "✓ Valid: 2024 Liechtenstein referendums - Cleaned content saved to cleaned_pages/2024 Liechtenstein referendums.txt\n",
            "[FETCH]... ↓ https://en.wikipedia.org/wiki/2024_Romanian_parlia... | Status: True | Time: 0.01s\n",
            "[COMPLETE] ● https://en.wikipedia.org/wiki/2024_Romanian_parlia... | Status: True | Total: 0.09s\n",
            "✓ Valid: 2024 Romanian parliamentary election - Cleaned content saved to cleaned_pages/2024 Romanian parliamentary election.txt\n",
            "[FETCH]... ↓ https://en.wikipedia.org/wiki/2024_Israel%E2%80%93... | Status: True | Time: 0.01s\n",
            "[COMPLETE] ● https://en.wikipedia.org/wiki/2024_Israel%E2%80%93... | Status: True | Total: 0.08s\n",
            "✓ Valid: ceasefire - Cleaned content saved to cleaned_pages/ceasefire.txt\n",
            "[FETCH]... ↓ https://en.wikipedia.org/wiki/2024_Georgian_post-e... | Status: True | Time: 0.02s\n",
            "[COMPLETE] ● https://en.wikipedia.org/wiki/2024_Georgian_post-e... | Status: True | Total: 0.07s\n",
            "✓ Valid: 2024 Georgian post-election protests - Cleaned content saved to cleaned_pages/2024 Georgian post-election protests.txt\n",
            "[FETCH]... ↓ https://en.wikipedia.org/wiki/2024_Irish_general_e... | Status: True | Time: 0.02s\n",
            "[COMPLETE] ● https://en.wikipedia.org/wiki/2024_Irish_general_e... | Status: True | Total: 0.07s\n",
            "✓ Valid: 2024 Irish general election - Cleaned content saved to cleaned_pages/2024 Irish general election.txt\n",
            "[FETCH]... ↓ https://en.wikipedia.org/wiki/2024_Romanian_presid... | Status: True | Time: 0.05s\n",
            "[COMPLETE] ● https://en.wikipedia.org/wiki/2024_Romanian_presid... | Status: True | Total: 0.11s\n",
            "✓ Valid: 2024 Romanian presidential election - Cleaned content saved to cleaned_pages/2024 Romanian presidential election.txt\n",
            "[FETCH]... ↓ https://en.wikipedia.org/wiki/2024_Hama_offensive... | Status: True | Time: 0.03s\n",
            "[COMPLETE] ● https://en.wikipedia.org/wiki/2024_Hama_offensive... | Status: True | Total: 0.09s\n",
            "✓ Valid: 2024 Hama offensive - Cleaned content saved to cleaned_pages/2024 Hama offensive.txt\n",
            "[FETCH]... ↓ https://en.wikipedia.org/wiki/Deir_ez-Zor_offensiv... | Status: True | Time: 0.02s\n",
            "[COMPLETE] ● https://en.wikipedia.org/wiki/Deir_ez-Zor_offensiv... | Status: True | Total: 0.11s\n",
            "✓ Valid: Deir ez-Zor offensive - Cleaned content saved to cleaned_pages/Deir ez-Zor offensive.txt\n",
            "[FETCH]... ↓ https://en.wikipedia.org/wiki/2024%E2%80%932025_fl... | Status: True | Time: 0.01s\n",
            "[COMPLETE] ● https://en.wikipedia.org/wiki/2024%E2%80%932025_fl... | Status: True | Total: 0.06s\n",
            "✓ Valid: 2024–2025 floods in Southeast Asia and South Asia - Cleaned content saved to cleaned_pages/20242025 floods in Southeast Asia and South Asia.txt\n",
            "[FETCH]... ↓ https://en.wikipedia.org/wiki/2024_Kwango_province... | Status: True | Time: 0.01s\n",
            "[COMPLETE] ● https://en.wikipedia.org/wiki/2024_Kwango_province... | Status: True | Total: 0.07s\n",
            "✓ Valid: 2024 Kwango province disease outbreak - Cleaned content saved to cleaned_pages/2024 Kwango province disease outbreak.txt\n",
            "[FETCH]... ↓ https://en.wikipedia.org/wiki/2024_South_Korean_ma... | Status: True | Time: 0.04s\n",
            "[COMPLETE] ● https://en.wikipedia.org/wiki/2024_South_Korean_ma... | Status: True | Total: 0.08s\n",
            "✓ Valid: 2024 South Korean martial law crisis - Cleaned content saved to cleaned_pages/2024 South Korean martial law crisis.txt\n",
            "[FETCH]... ↓ https://en.wikipedia.org/wiki/4_December_2024_al-M... | Status: True | Time: 0.01s\n",
            "[COMPLETE] ● https://en.wikipedia.org/wiki/4_December_2024_al-M... | Status: True | Total: 0.11s\n",
            "✓ Valid: 4 December 2024 al-Mawasi attack - Cleaned content saved to cleaned_pages/4 December 2024 al-Mawasi attack.txt\n",
            "[FETCH]... ↓ https://en.wikipedia.org/wiki/2024_Cuba_blackouts... | Status: True | Time: 0.01s\n",
            "[COMPLETE] ● https://en.wikipedia.org/wiki/2024_Cuba_blackouts... | Status: True | Total: 0.07s\n",
            "✓ Valid: 2024 Cuba blackouts - Cleaned content saved to cleaned_pages/2024 Cuba blackouts.txt\n",
            "[FETCH]... ↓ https://en.wikipedia.org/wiki/2024_South_Korean_ma... | Status: True | Time: 0.02s\n",
            "[COMPLETE] ● https://en.wikipedia.org/wiki/2024_South_Korean_ma... | Status: True | Total: 0.08s\n",
            "✓ Valid: martial law - Cleaned content saved to cleaned_pages/martial law.txt\n",
            "[FETCH]... ↓ https://en.wikipedia.org/wiki/2024_French_politica... | Status: True | Time: 0.01s\n",
            "[COMPLETE] ● https://en.wikipedia.org/wiki/2024_French_politica... | Status: True | Total: 0.08s\n",
            "✓ Valid: 2024 French political crisis - Cleaned content saved to cleaned_pages/2024 French political crisis.txt\n",
            "[FETCH]... ↓ https://en.wikipedia.org/wiki/2024_Namibian_genera... | Status: True | Time: 0.01s\n",
            "[COMPLETE] ● https://en.wikipedia.org/wiki/2024_Namibian_genera... | Status: True | Total: 0.07s\n",
            "✓ Valid: 2024 Namibian general election - Cleaned content saved to cleaned_pages/2024 Namibian general election.txt\n",
            "[FETCH]... ↓ https://en.wikipedia.org/wiki/2024_Homs_offensive... | Status: True | Time: 0.01s\n",
            "[COMPLETE] ● https://en.wikipedia.org/wiki/2024_Homs_offensive... | Status: True | Total: 0.08s\n",
            "✓ Valid: 2024 Homs offensive - Cleaned content saved to cleaned_pages/2024 Homs offensive.txt\n",
            "[FETCH]... ↓ https://en.wikipedia.org/wiki/2024_Cape_Mendocino_... | Status: True | Time: 0.03s\n",
            "[COMPLETE] ● https://en.wikipedia.org/wiki/2024_Cape_Mendocino_... | Status: True | Total: 0.09s\n",
            "✓ Valid: 2024 Cape Mendocino earthquake - Cleaned content saved to cleaned_pages/2024 Cape Mendocino earthquake.txt\n",
            "[FETCH]... ↓ https://en.wikipedia.org/wiki/Winter_of_2024%E2%80... | Status: True | Time: 0.01s\n",
            "[COMPLETE] ● https://en.wikipedia.org/wiki/Winter_of_2024%E2%80... | Status: True | Total: 0.08s\n",
            "✓ Valid: Winter of 2024–25 in the Gaza Strip - Cleaned content saved to cleaned_pages/Winter of 202425 in the Gaza Strip.txt\n",
            "[FETCH]... ↓ https://en.wikipedia.org/wiki/Southern_Syria_offen... | Status: True | Time: 0.01s\n",
            "[COMPLETE] ● https://en.wikipedia.org/wiki/Southern_Syria_offen... | Status: True | Total: 0.07s\n",
            "✓ Valid: Southern Syria offensive - Cleaned content saved to cleaned_pages/Southern Syria offensive.txt\n",
            "[FETCH]... ↓ https://en.wikipedia.org/wiki/2024%E2%80%9325_Euro... | Status: True | Time: 0.02s\n",
            "[COMPLETE] ● https://en.wikipedia.org/wiki/2024%E2%80%9325_Euro... | Status: True | Total: 0.08s\n",
            "✓ Valid: 2024–25 European windstorm season - Cleaned content saved to cleaned_pages/202425 European windstorm season.txt\n",
            "[FETCH]... ↓ https://en.wikipedia.org/wiki/2024_Aruban_general_... | Status: True | Time: 0.01s\n",
            "[COMPLETE] ● https://en.wikipedia.org/wiki/2024_Aruban_general_... | Status: True | Total: 0.05s\n",
            "✓ Valid: 2024 Aruban general election - Cleaned content saved to cleaned_pages/2024 Aruban general election.txt\n",
            "[FETCH]... ↓ https://en.wikipedia.org/wiki/2024_Mauritian_presi... | Status: True | Time: 0.01s\n",
            "[COMPLETE] ● https://en.wikipedia.org/wiki/2024_Mauritian_presi... | Status: True | Total: 0.05s\n",
            "✓ Valid: 2024 Mauritian presidential election - Cleaned content saved to cleaned_pages/2024 Mauritian presidential election.txt\n",
            "[FETCH]... ↓ https://en.wikipedia.org/wiki/2024_Manbij_offensiv... | Status: True | Time: 0.02s\n",
            "[COMPLETE] ● https://en.wikipedia.org/wiki/2024_Manbij_offensiv... | Status: True | Total: 0.07s\n",
            "✓ Valid: 2024 Manbij offensive - Cleaned content saved to cleaned_pages/2024 Manbij offensive.txt\n",
            "[FETCH]... ↓ https://en.wikipedia.org/wiki/Palmyra_offensive_(2... | Status: True | Time: 0.01s\n",
            "[COMPLETE] ● https://en.wikipedia.org/wiki/Palmyra_offensive_(2... | Status: True | Total: 0.08s\n",
            "✓ Valid: Palmyra offensive - Cleaned content saved to cleaned_pages/Palmyra offensive.txt\n",
            "[FETCH]... ↓ https://en.wikipedia.org/wiki/2024_The_Hague_explo... | Status: True | Time: 0.01s\n",
            "[COMPLETE] ● https://en.wikipedia.org/wiki/2024_The_Hague_explo... | Status: True | Total: 0.06s\n",
            "✓ Valid: 2024 The Hague explosion - Cleaned content saved to cleaned_pages/2024 The Hague explosion.txt\n",
            "[FETCH]... ↓ https://en.wikipedia.org/wiki/2024_Indian_farmers%... | Status: True | Time: 0.01s\n",
            "[COMPLETE] ● https://en.wikipedia.org/wiki/2024_Indian_farmers%... | Status: True | Total: 0.07s\n",
            "✓ Valid: 2024 Indian farmers' protest - Cleaned content saved to cleaned_pages/2024 Indian farmers protest.txt\n",
            "[FETCH]... ↓ https://en.wikipedia.org/wiki/2024_Ghanaian_genera... | Status: True | Time: 0.01s\n",
            "[COMPLETE] ● https://en.wikipedia.org/wiki/2024_Ghanaian_genera... | Status: True | Total: 0.07s\n",
            "✓ Valid: 2024 Ghanaian general election - Cleaned content saved to cleaned_pages/2024 Ghanaian general election.txt\n",
            "[FETCH]... ↓ https://en.wikipedia.org/wiki/MLS_Cup_2024... | Status: True | Time: 0.01s\n",
            "[COMPLETE] ● https://en.wikipedia.org/wiki/MLS_Cup_2024... | Status: True | Total: 0.07s\n",
            "✓ Valid: MLS Cup 2024 - Cleaned content saved to cleaned_pages/MLS Cup 2024.txt\n",
            "[FETCH]... ↓ https://en.wikipedia.org/wiki/Israeli_invasion_of_... | Status: True | Time: 0.02s\n",
            "[COMPLETE] ● https://en.wikipedia.org/wiki/Israeli_invasion_of_... | Status: True | Total: 0.08s\n",
            "✓ Valid: Israeli invasion of Syria (2024–present) - Cleaned content saved to cleaned_pages/Israeli invasion of Syria 2024present.txt\n",
            "[FETCH]... ↓ https://en.wikipedia.org/wiki/2024_Formula_One_Wor... | Status: True | Time: 0.02s\n",
            "[COMPLETE] ● https://en.wikipedia.org/wiki/2024_Formula_One_Wor... | Status: True | Total: 0.08s\n",
            "✓ Valid: 2024 Formula One World Championship - Cleaned content saved to cleaned_pages/2024 Formula One World Championship.txt\n",
            "[FETCH]... ↓ https://en.wikipedia.org/wiki/2024_Abu_Dhabi_Grand... | Status: True | Time: 0.01s\n",
            "[COMPLETE] ● https://en.wikipedia.org/wiki/2024_Abu_Dhabi_Grand... | Status: True | Total: 0.07s\n",
            "✓ Valid: Abu Dhabi Grand Prix - Cleaned content saved to cleaned_pages/Abu Dhabi Grand Prix.txt\n",
            "[FETCH]... ↓ https://en.wikipedia.org/wiki/2024_Al-Mustariha_ma... | Status: True | Time: 0.01s\n",
            "[COMPLETE] ● https://en.wikipedia.org/wiki/2024_Al-Mustariha_ma... | Status: True | Total: 0.07s\n",
            "✓ Valid: 2024 Al-Mustariha massacre - Cleaned content saved to cleaned_pages/2024 Al-Mustariha massacre.txt\n",
            "[FETCH]... ↓ https://en.wikipedia.org/wiki/2024_Kanlaon_eruptio... | Status: True | Time: 0.01s\n",
            "[COMPLETE] ● https://en.wikipedia.org/wiki/2024_Kanlaon_eruptio... | Status: True | Total: 0.07s\n",
            "✓ Valid: 2024 Kanlaon eruption - Cleaned content saved to cleaned_pages/2024 Kanlaon eruption.txt\n",
            "[FETCH]... ↓ https://en.wikipedia.org/wiki/2024_Indian_bomb_hoa... | Status: True | Time: 0.01s\n",
            "[COMPLETE] ● https://en.wikipedia.org/wiki/2024_Indian_bomb_hoa... | Status: True | Total: 0.08s\n",
            "✓ Valid: 2024 Indian bomb hoaxes - Cleaned content saved to cleaned_pages/2024 Indian bomb hoaxes.txt\n",
            "[FETCH]... ↓ https://en.wikipedia.org/wiki/2024_Azad_Kashmir_pr... | Status: True | Time: 0.01s\n",
            "[COMPLETE] ● https://en.wikipedia.org/wiki/2024_Azad_Kashmir_pr... | Status: True | Total: 0.06s\n",
            "✓ Valid: 2024 Azad Kashmir protests - Cleaned content saved to cleaned_pages/2024 Azad Kashmir protests.txt\n",
            "[FETCH]... ↓ https://en.wikipedia.org/wiki/2024_California_wild... | Status: True | Time: 0.01s\n",
            "[COMPLETE] ● https://en.wikipedia.org/wiki/2024_California_wild... | Status: True | Total: 0.07s\n",
            "✓ Valid: 2024 California wildfires - Cleaned content saved to cleaned_pages/2024 California wildfires.txt\n",
            "[FETCH]... ↓ https://en.wikipedia.org/wiki/2024_Jubaland_presid... | Status: True | Time: 0.01s\n",
            "[COMPLETE] ● https://en.wikipedia.org/wiki/2024_Jubaland_presid... | Status: True | Total: 0.07s\n",
            "✓ Valid: 2024 Jubaland presidential election - Cleaned content saved to cleaned_pages/2024 Jubaland presidential election.txt\n",
            "[FETCH]... ↓ https://en.wikipedia.org/wiki/Battle_of_Ras_Kambon... | Status: True | Time: 0.01s\n",
            "[COMPLETE] ● https://en.wikipedia.org/wiki/Battle_of_Ras_Kambon... | Status: True | Total: 0.09s\n",
            "✓ Valid: Battle of Ras Kamboni - Cleaned content saved to cleaned_pages/Battle of Ras Kamboni.txt\n",
            "[FETCH]... ↓ https://en.wikipedia.org/wiki/2024_Israel%E2%80%93... | Status: True | Time: 0.03s\n",
            "[COMPLETE] ● https://en.wikipedia.org/wiki/2024_Israel%E2%80%93... | Status: True | Total: 0.08s\n",
            "✓ Valid: agreed ceasefire - Cleaned content saved to cleaned_pages/agreed ceasefire.txt\n",
            "[FETCH]... ↓ https://en.wikipedia.org/wiki/November_2024_United... | Status: True | Time: 0.01s\n",
            "[COMPLETE] ● https://en.wikipedia.org/wiki/November_2024_United... | Status: True | Total: 0.08s\n",
            "✓ Valid: 2024 United Kingdom farmers' protests - Cleaned content saved to cleaned_pages/2024 United Kingdom farmers protests.txt\n",
            "[FETCH]... ↓ https://en.wikipedia.org/wiki/2024_Kobani_clashes... | Status: True | Time: 0.02s\n",
            "[COMPLETE] ● https://en.wikipedia.org/wiki/2024_Kobani_clashes... | Status: True | Total: 0.07s\n",
            "✓ Valid: 2024 Kobani clashes - Cleaned content saved to cleaned_pages/2024 Kobani clashes.txt\n",
            "[FETCH]... ↓ https://en.wikipedia.org/wiki/December_2024_Nuseir... | Status: True | Time: 0.01s\n",
            "[COMPLETE] ● https://en.wikipedia.org/wiki/December_2024_Nuseir... | Status: True | Total: 0.07s\n",
            "✓ Valid: December 2024 Nuseirat refugee camp attack - Cleaned content saved to cleaned_pages/December 2024 Nuseirat refugee camp attack.txt\n",
            "[FETCH]... ↓ https://en.wikipedia.org/wiki/The_Game_Awards_2024... | Status: True | Time: 0.02s\n",
            "[COMPLETE] ● https://en.wikipedia.org/wiki/The_Game_Awards_2024... | Status: True | Total: 0.08s\n",
            "✓ Valid: The Game Awards 2024 - Cleaned content saved to cleaned_pages/The Game Awards 2024.txt\n",
            "[FETCH]... ↓ https://en.wikipedia.org/wiki/2024%E2%80%9325_Sout... | Status: True | Time: 0.02s\n",
            "[COMPLETE] ● https://en.wikipedia.org/wiki/2024%E2%80%9325_Sout... | Status: True | Total: 0.10s\n",
            "✓ Valid: 2024–25 South-West Indian Ocean cyclone season - Cleaned content saved to cleaned_pages/202425 South-West Indian Ocean cyclone season.txt\n",
            "[FETCH]... ↓ https://en.wikipedia.org/wiki/2024_Venezuelan_prot... | Status: True | Time: 0.02s\n",
            "[COMPLETE] ● https://en.wikipedia.org/wiki/2024_Venezuelan_prot... | Status: True | Total: 0.07s\n",
            "✓ Valid: protests - Cleaned content saved to cleaned_pages/protests.txt\n",
            "[FETCH]... ↓ https://en.wikipedia.org/wiki/2024_Venezuelan_pres... | Status: True | Time: 0.04s\n",
            "[COMPLETE] ● https://en.wikipedia.org/wiki/2024_Venezuelan_pres... | Status: True | Total: 0.10s\n",
            "✓ Valid: presidential election - Cleaned content saved to cleaned_pages/presidential election.txt\n",
            "[FETCH]... ↓ https://en.wikipedia.org/wiki/World_Chess_Champion... | Status: True | Time: 0.02s\n",
            "[COMPLETE] ● https://en.wikipedia.org/wiki/World_Chess_Champion... | Status: True | Total: 0.09s\n",
            "✓ Valid: World Chess Championship 2024 - Cleaned content saved to cleaned_pages/World Chess Championship 2024.txt\n",
            "[FETCH]... ↓ https://en.wikipedia.org/wiki/2024_New_Jersey_dron... | Status: True | Time: 0.01s\n",
            "[COMPLETE] ● https://en.wikipedia.org/wiki/2024_New_Jersey_dron... | Status: True | Total: 0.08s\n",
            "✓ Valid: 2024 New Jersey drone sightings - Cleaned content saved to cleaned_pages/2024 New Jersey drone sightings.txt\n",
            "[FETCH]... ↓ https://en.wikipedia.org/wiki/2024_Nord_Department... | Status: True | Time: 0.01s\n",
            "[COMPLETE] ● https://en.wikipedia.org/wiki/2024_Nord_Department... | Status: True | Total: 0.07s\n",
            "✓ Valid: 2024 Nord Department killings - Cleaned content saved to cleaned_pages/2024 Nord Department killings.txt\n",
            "[FETCH]... ↓ https://en.wikipedia.org/wiki/2024_Georgian_presid... | Status: True | Time: 0.01s\n",
            "[COMPLETE] ● https://en.wikipedia.org/wiki/2024_Georgian_presid... | Status: True | Total: 0.07s\n",
            "✓ Valid: 2024 Georgian presidential election - Cleaned content saved to cleaned_pages/2024 Georgian presidential election.txt\n",
            "[FETCH]... ↓ https://en.wikipedia.org/wiki/2024_Georgian_parlia... | Status: True | Time: 0.05s\n",
            "[COMPLETE] ● https://en.wikipedia.org/wiki/2024_Georgian_parlia... | Status: True | Total: 0.11s\n",
            "✓ Valid: parliamentary election - Cleaned content saved to cleaned_pages/parliamentary election.txt\n",
            "[FETCH]... ↓ https://en.wikipedia.org/wiki/2024_South_Korean_ma... | Status: True | Time: 0.03s\n",
            "[COMPLETE] ● https://en.wikipedia.org/wiki/2024_South_Korean_ma... | Status: True | Total: 0.08s\n",
            "✓ Valid: recent attempt - Cleaned content saved to cleaned_pages/recent attempt.txt\n",
            "[FETCH]... ↓ https://en.wikipedia.org/wiki/2024_Kerch_Strait_oi... | Status: True | Time: 0.01s\n",
            "[COMPLETE] ● https://en.wikipedia.org/wiki/2024_Kerch_Strait_oi... | Status: True | Total: 0.06s\n",
            "✓ Valid: 2024 Kerch Strait oil spill - Cleaned content saved to cleaned_pages/2024 Kerch Strait oil spill.txt\n",
            "[FETCH]... ↓ https://en.wikipedia.org/wiki/2024_Northeastern_Un... | Status: True | Time: 0.01s\n",
            "[COMPLETE] ● https://en.wikipedia.org/wiki/2024_Northeastern_Un... | Status: True | Total: 0.06s\n",
            "✓ Valid: 2024 Northeastern United States drone sightings - Cleaned content saved to cleaned_pages/2024 Northeastern United States drone sightings.txt\n",
            "[FETCH]... ↓ https://en.wikipedia.org/wiki/2024_Australia_heat_... | Status: True | Time: 0.01s\n",
            "[COMPLETE] ● https://en.wikipedia.org/wiki/2024_Australia_heat_... | Status: True | Total: 0.06s\n",
            "✓ Valid: 2024 Australia heat wave - Cleaned content saved to cleaned_pages/2024 Australia heat wave.txt\n",
            "[FETCH]... ↓ https://en.wikipedia.org/wiki/2024_German_governme... | Status: True | Time: 0.01s\n",
            "[COMPLETE] ● https://en.wikipedia.org/wiki/2024_German_governme... | Status: True | Total: 0.05s\n",
            "✓ Valid: 2024 German government crisis - Cleaned content saved to cleaned_pages/2024 German government crisis.txt\n",
            "[FETCH]... ↓ https://en.wikipedia.org/wiki/2024_Indonesian_pres... | Status: True | Time: 0.04s\n",
            "[COMPLETE] ● https://en.wikipedia.org/wiki/2024_Indonesian_pres... | Status: True | Total: 0.09s\n",
            "✓ Valid: 2024 election - Cleaned content saved to cleaned_pages/2024 election.txt\n",
            "[FETCH]... ↓ https://en.wikipedia.org/wiki/2024_Port_Vila_earth... | Status: True | Time: 0.01s\n",
            "[COMPLETE] ● https://en.wikipedia.org/wiki/2024_Port_Vila_earth... | Status: True | Total: 0.08s\n",
            "✓ Valid: 2024 Port Vila earthquake - Cleaned content saved to cleaned_pages/2024 Port Vila earthquake.txt\n",
            "[FETCH]... ↓ https://en.wikipedia.org/wiki/2024_Kwango_province... | Status: True | Time: 0.01s\n",
            "[COMPLETE] ● https://en.wikipedia.org/wiki/2024_Kwango_province... | Status: True | Total: 0.07s\n",
            "✓ Valid: 2024 Kwango province malaria outbreak - Cleaned content saved to cleaned_pages/2024 Kwango province malaria outbreak.txt\n",
            "[FETCH]... ↓ https://en.wikipedia.org/wiki/2024_United_States_p... | Status: True | Time: 0.05s\n",
            "[COMPLETE] ● https://en.wikipedia.org/wiki/2024_United_States_p... | Status: True | Total: 0.11s\n",
            "✓ Valid: 2024 United States presidential election - Cleaned content saved to cleaned_pages/2024 United States presidential election.txt\n",
            "[FETCH]... ↓ https://en.wikipedia.org/wiki/2024_Mumbai_boat_acc... | Status: True | Time: 0.01s\n",
            "[COMPLETE] ● https://en.wikipedia.org/wiki/2024_Mumbai_boat_acc... | Status: True | Total: 0.07s\n",
            "✓ Valid: 2024 Mumbai boat accident - Cleaned content saved to cleaned_pages/2024 Mumbai boat accident.txt\n",
            "[FETCH]... ↓ https://en.wikipedia.org/wiki/2024_San_Fernando_Ai... | Status: True | Time: 0.01s\n",
            "[COMPLETE] ● https://en.wikipedia.org/wiki/2024_San_Fernando_Ai... | Status: True | Total: 0.07s\n",
            "✓ Valid: 2024 San Fernando Airport runway excursion - Cleaned content saved to cleaned_pages/2024 San Fernando Airport runway excursion.txt\n",
            "[FETCH]... ↓ https://en.wikipedia.org/wiki/2024_Georgian_parlia... | Status: True | Time: 0.04s\n",
            "[COMPLETE] ● https://en.wikipedia.org/wiki/2024_Georgian_parlia... | Status: True | Total: 0.11s\n",
            "✓ Valid: 2024 Georgian parliamentary election - Cleaned content saved to cleaned_pages/2024 Georgian parliamentary election.txt\n",
            "[FETCH]... ↓ https://en.wikipedia.org/wiki/2024_Georgian_parlia... | Status: True | Time: 0.03s\n",
            "[COMPLETE] ● https://en.wikipedia.org/wiki/2024_Georgian_parlia... | Status: True | Total: 0.09s\n",
            "✓ Valid: recent elections - Cleaned content saved to cleaned_pages/recent elections.txt\n",
            "[FETCH]... ↓ https://en.wikipedia.org/wiki/2024_FIFA_Interconti... | Status: True | Time: 0.01s\n",
            "[COMPLETE] ● https://en.wikipedia.org/wiki/2024_FIFA_Interconti... | Status: True | Total: 0.07s\n",
            "✓ Valid: 2024 FIFA Intercontinental Cup - Cleaned content saved to cleaned_pages/2024 FIFA Intercontinental Cup.txt\n",
            "[FETCH]... ↓ https://en.wikipedia.org/wiki/2024_FIFA_Interconti... | Status: True | Time: 0.01s\n",
            "[COMPLETE] ● https://en.wikipedia.org/wiki/2024_FIFA_Interconti... | Status: True | Total: 0.05s\n",
            "✓ Valid: final - Cleaned content saved to cleaned_pages/final.txt\n",
            "[FETCH]... ↓ https://en.wikipedia.org/wiki/December_2024_Israel... | Status: True | Time: 0.02s\n",
            "[COMPLETE] ● https://en.wikipedia.org/wiki/December_2024_Israel... | Status: True | Total: 0.09s\n",
            "✓ Valid: December 2024 Israeli airstrikes in Yemen - Cleaned content saved to cleaned_pages/December 2024 Israeli airstrikes in Yemen.txt\n",
            "[FETCH]... ↓ https://en.wikipedia.org/wiki/2024_Parliament_of_A... | Status: True | Time: 0.01s\n",
            "[COMPLETE] ● https://en.wikipedia.org/wiki/2024_Parliament_of_A... | Status: True | Total: 0.10s\n",
            "✓ Valid: 2024 Parliament of Abkhazia shooting - Cleaned content saved to cleaned_pages/2024 Parliament of Abkhazia shooting.txt\n",
            "[FETCH]... ↓ https://en.wikipedia.org/wiki/2024_Kursk_offensive... | Status: True | Time: 0.10s\n",
            "[COMPLETE] ● https://en.wikipedia.org/wiki/2024_Kursk_offensive... | Status: True | Total: 0.15s\n",
            "✓ Valid: 2024 Kursk offensive - Cleaned content saved to cleaned_pages/2024 Kursk offensive.txt\n",
            "[FETCH]... ↓ https://en.wikipedia.org/wiki/2024_Magdeburg_car_a... | Status: True | Time: 0.02s\n",
            "[COMPLETE] ● https://en.wikipedia.org/wiki/2024_Magdeburg_car_a... | Status: True | Total: 0.07s\n",
            "✓ Valid: 2024 Magdeburg car attack - Cleaned content saved to cleaned_pages/2024 Magdeburg car attack.txt\n",
            "[FETCH]... ↓ https://en.wikipedia.org/wiki/2024_Zagreb_school_s... | Status: True | Time: 0.02s\n",
            "[COMPLETE] ● https://en.wikipedia.org/wiki/2024_Zagreb_school_s... | Status: True | Total: 0.06s\n",
            "✓ Valid: 2024 Zagreb school stabbing - Cleaned content saved to cleaned_pages/2024 Zagreb school stabbing.txt\n",
            "[FETCH]... ↓ https://en.wikipedia.org/wiki/2024_Gramado_Piper_P... | Status: True | Time: 0.01s\n",
            "[COMPLETE] ● https://en.wikipedia.org/wiki/2024_Gramado_Piper_P... | Status: True | Total: 0.06s\n",
            "✓ Valid: 2024 Gramado Piper PA-42 crash - Cleaned content saved to cleaned_pages/2024 Gramado Piper PA-42 crash.txt\n",
            "[FETCH]... ↓ https://en.wikipedia.org/wiki/2024_Serbian_anti-co... | Status: True | Time: 0.01s\n",
            "[COMPLETE] ● https://en.wikipedia.org/wiki/2024_Serbian_anti-co... | Status: True | Total: 0.07s\n",
            "✓ Valid: 2024 Serbian anti-corruption protests - Cleaned content saved to cleaned_pages/2024 Serbian anti-corruption protests.txt\n",
            "[FETCH]... ↓ https://en.wikipedia.org/wiki/Manbij_offensive_(20... | Status: True | Time: 0.02s\n",
            "[COMPLETE] ● https://en.wikipedia.org/wiki/Manbij_offensive_(20... | Status: True | Total: 0.07s\n",
            "✓ Valid: Manbij offensive - Cleaned content saved to cleaned_pages/Manbij offensive.txt\n",
            "[FETCH]... ↓ https://en.wikipedia.org/wiki/2024_Cit%C3%A9_Solei... | Status: True | Time: 0.01s\n",
            "[COMPLETE] ● https://en.wikipedia.org/wiki/2024_Cit%C3%A9_Solei... | Status: True | Total: 0.07s\n",
            "✓ Valid: 2024 Cité Soleil massacre - Cleaned content saved to cleaned_pages/2024 Cité Soleil massacre.txt\n",
            "[FETCH]... ↓ https://en.wikipedia.org/wiki/2024_famine_in_Sudan... | Status: True | Time: 0.01s\n",
            "[COMPLETE] ● https://en.wikipedia.org/wiki/2024_famine_in_Sudan... | Status: True | Total: 0.07s\n",
            "✓ Valid: 2024 famine in Sudan - Cleaned content saved to cleaned_pages/2024 famine in Sudan.txt\n",
            "[FETCH]... ↓ https://en.wikipedia.org/wiki/2024_Changde_car_att... | Status: True | Time: 0.01s\n",
            "[COMPLETE] ● https://en.wikipedia.org/wiki/2024_Changde_car_att... | Status: True | Total: 0.07s\n",
            "✓ Valid: 2024 Changde car attack - Cleaned content saved to cleaned_pages/2024 Changde car attack.txt\n",
            "[FETCH]... ↓ https://en.wikipedia.org/wiki/2024_New_York_City_S... | Status: True | Time: 0.01s\n",
            "[COMPLETE] ● https://en.wikipedia.org/wiki/2024_New_York_City_S... | Status: True | Total: 0.07s\n",
            "✓ Valid: 2024 New York City Subway immolation - Cleaned content saved to cleaned_pages/2024 New York City Subway immolation.txt\n",
            "[FETCH]... ↓ https://en.wikipedia.org/wiki/2024_Afghanistan%E2%... | Status: True | Time: 0.01s\n",
            "[COMPLETE] ● https://en.wikipedia.org/wiki/2024_Afghanistan%E2%... | Status: True | Total: 0.07s\n",
            "✓ Valid: 2024 Afghanistan–Pakistan skirmishes - Cleaned content saved to cleaned_pages/2024 AfghanistanPakistan skirmishes.txt\n",
            "[FETCH]... ↓ https://en.wikipedia.org/wiki/2024%E2%80%9325_Aust... | Status: True | Time: 0.01s\n",
            "[COMPLETE] ● https://en.wikipedia.org/wiki/2024%E2%80%9325_Aust... | Status: True | Total: 0.07s\n",
            "✓ Valid: 2024–25 Australian bushfire season - Cleaned content saved to cleaned_pages/202425 Australian bushfire season.txt\n",
            "[FETCH]... ↓ https://en.wikipedia.org/wiki/2024_Lobitos_oil_spi... | Status: True | Time: 0.01s\n",
            "[COMPLETE] ● https://en.wikipedia.org/wiki/2024_Lobitos_oil_spi... | Status: True | Total: 0.07s\n",
            "✓ Valid: 2024 Lobitos oil spill - Cleaned content saved to cleaned_pages/2024 Lobitos oil spill.txt\n",
            "[FETCH]... ↓ https://en.wikipedia.org/wiki/2024_Israeli_invasio... | Status: True | Time: 0.02s\n",
            "[COMPLETE] ● https://en.wikipedia.org/wiki/2024_Israeli_invasio... | Status: True | Total: 0.09s\n",
            "✓ Valid: 2024 Israeli invasion of Lebanon - Cleaned content saved to cleaned_pages/2024 Israeli invasion of Lebanon.txt\n",
            "[FETCH]... ↓ https://en.wikipedia.org/wiki/2024_Mozambican_gene... | Status: True | Time: 0.01s\n",
            "[COMPLETE] ● https://en.wikipedia.org/wiki/2024_Mozambican_gene... | Status: True | Total: 0.06s\n",
            "✓ Valid: the recent election - Cleaned content saved to cleaned_pages/the recent election.txt\n",
            "[FETCH]... ↓ https://en.wikipedia.org/wiki/November_2024_Amster... | Status: True | Time: 0.02s\n",
            "[COMPLETE] ● https://en.wikipedia.org/wiki/November_2024_Amster... | Status: True | Total: 0.08s\n",
            "✓ Valid: November 2024 Amsterdam riots - Cleaned content saved to cleaned_pages/November 2024 Amsterdam riots.txt\n",
            "[FETCH]... ↓ https://en.wikipedia.org/wiki/Battle_of_Ras_Kambon... | Status: True | Time: 0.01s\n",
            "[COMPLETE] ● https://en.wikipedia.org/wiki/Battle_of_Ras_Kambon... | Status: True | Total: 0.07s\n",
            "✓ Valid: Ras Kamboni - Cleaned content saved to cleaned_pages/Ras Kamboni.txt\n",
            "[FETCH]... ↓ https://en.wikipedia.org/wiki/Western_Syria_clashe... | Status: True | Time: 0.02s\n",
            "[COMPLETE] ● https://en.wikipedia.org/wiki/Western_Syria_clashe... | Status: True | Total: 0.06s\n",
            "✓ Valid: Western Syria clashes - Cleaned content saved to cleaned_pages/Western Syria clashes.txt\n",
            "[FETCH]... ↓ https://en.wikipedia.org/wiki/2024_Estlink_2_incid... | Status: True | Time: 0.01s\n",
            "[COMPLETE] ● https://en.wikipedia.org/wiki/2024_Estlink_2_incid... | Status: True | Total: 0.07s\n",
            "✓ Valid: 2024 Estlink 2 incident - Cleaned content saved to cleaned_pages/2024 Estlink 2 incident.txt\n",
            "[FETCH]... ↓ https://en.wikipedia.org/wiki/2024_Israel%E2%80%93... | Status: True | Time: 0.02s\n",
            "[COMPLETE] ● https://en.wikipedia.org/wiki/2024_Israel%E2%80%93... | Status: True | Total: 0.06s\n",
            "✓ Valid: ceasefire violations - Cleaned content saved to cleaned_pages/ceasefire violations.txt\n",
            "[FETCH]... ↓ https://en.wikipedia.org/wiki/2024_in_archosaur_pa... | Status: True | Time: 0.03s\n",
            "[COMPLETE] ● https://en.wikipedia.org/wiki/2024_in_archosaur_pa... | Status: True | Total: 0.09s\n",
            "✓ Valid: 2024 in archosaur paleontology - Cleaned content saved to cleaned_pages/2024 in archosaur paleontology.txt\n",
            "[FETCH]... ↓ https://en.wikipedia.org/wiki/2024_Baltic_Sea_subm... | Status: True | Time: 0.01s\n",
            "[COMPLETE] ● https://en.wikipedia.org/wiki/2024_Baltic_Sea_subm... | Status: True | Total: 0.07s\n",
            "✓ Valid: 2024 Baltic Sea submarine cable disruptions - Cleaned content saved to cleaned_pages/2024 Baltic Sea submarine cable disruptions.txt\n",
            "[FETCH]... ↓ https://en.wikipedia.org/wiki/2024_Ethiopia%E2%80%... | Status: True | Time: 0.01s\n",
            "[COMPLETE] ● https://en.wikipedia.org/wiki/2024_Ethiopia%E2%80%... | Status: True | Total: 0.05s\n",
            "✓ Valid: 2024 Ethiopia–Somaliland memorandum of understanding - Cleaned content saved to cleaned_pages/2024 EthiopiaSomaliland memorandum of understanding.txt\n",
            "[FETCH]... ↓ https://en.wikipedia.org/wiki/2023%E2%80%932024_mp... | Status: True | Time: 0.02s\n",
            "[COMPLETE] ● https://en.wikipedia.org/wiki/2023%E2%80%932024_mp... | Status: True | Total: 0.08s\n",
            "✓ Valid: 2023–2024 mpox epidemic - Cleaned content saved to cleaned_pages/20232024 mpox epidemic.txt\n",
            "[FETCH]... ↓ https://en.wikipedia.org/wiki/2024_Zhuhai_car_atta... | Status: True | Time: 0.01s\n",
            "[COMPLETE] ● https://en.wikipedia.org/wiki/2024_Zhuhai_car_atta... | Status: True | Total: 0.07s\n",
            "✓ Valid: 2024 Zhuhai car attack - Cleaned content saved to cleaned_pages/2024 Zhuhai car attack.txt\n",
            "[FETCH]... ↓ https://en.wikipedia.org/wiki/Tornado_outbreak_of_... | Status: True | Time: 0.01s\n",
            "[COMPLETE] ● https://en.wikipedia.org/wiki/Tornado_outbreak_of_... | Status: True | Total: 0.07s\n",
            "✓ Valid: Tornado outbreak of December 26–29, 2024 - Cleaned content saved to cleaned_pages/Tornado outbreak of December 2629 2024.txt\n",
            "[FETCH]... ↓ https://en.wikipedia.org/wiki/2024_Mozambican_gene... | Status: True | Time: 0.01s\n",
            "[COMPLETE] ● https://en.wikipedia.org/wiki/2024_Mozambican_gene... | Status: True | Total: 0.06s\n",
            "✓ Valid: 2024 Mozambican general election - Cleaned content saved to cleaned_pages/2024 Mozambican general election.txt\n",
            "[FETCH]... ↓ https://en.wikipedia.org/wiki/2024_Mozambican_prot... | Status: True | Time: 0.01s\n",
            "[COMPLETE] ● https://en.wikipedia.org/wiki/2024_Mozambican_prot... | Status: True | Total: 0.07s\n",
            "✓ Valid: 2024 Mozambican protests - Cleaned content saved to cleaned_pages/2024 Mozambican protests.txt\n",
            "[FETCH]... ↓ https://en.wikipedia.org/wiki/2024_Sidama_truck_cr... | Status: True | Time: 0.01s\n",
            "[COMPLETE] ● https://en.wikipedia.org/wiki/2024_Sidama_truck_cr... | Status: True | Total: 0.07s\n",
            "✓ Valid: 2024 Sidama truck crash - Cleaned content saved to cleaned_pages/2024 Sidama truck crash.txt\n",
            "[FETCH]... ↓ https://en.wikipedia.org/wiki/2024_Chadian_parliam... | Status: True | Time: 0.01s\n",
            "[COMPLETE] ● https://en.wikipedia.org/wiki/2024_Chadian_parliam... | Status: True | Total: 0.08s\n",
            "✓ Valid: 2024 Chadian parliamentary election - Cleaned content saved to cleaned_pages/2024 Chadian parliamentary election.txt\n",
            "[FETCH]... ↓ https://en.wikipedia.org/wiki/2024_Croatian_presid... | Status: True | Time: 0.01s\n",
            "[COMPLETE] ● https://en.wikipedia.org/wiki/2024_Croatian_presid... | Status: True | Total: 0.07s\n",
            "✓ Valid: 2024 Croatian presidential election - Cleaned content saved to cleaned_pages/2024 Croatian presidential election.txt\n",
            "[FETCH]... ↓ https://en.wikipedia.org/wiki/2024_Venezuelan_prot... | Status: True | Time: 0.02s\n",
            "[COMPLETE] ● https://en.wikipedia.org/wiki/2024_Venezuelan_prot... | Status: True | Total: 0.07s\n",
            "✓ Valid: 2024 Venezuelan protests - Cleaned content saved to cleaned_pages/2024 Venezuelan protests.txt\n",
            "[FETCH]... ↓ https://en.wikipedia.org/wiki/2024_Ecuadorian_conf... | Status: True | Time: 0.01s\n",
            "[COMPLETE] ● https://en.wikipedia.org/wiki/2024_Ecuadorian_conf... | Status: True | Total: 0.07s\n",
            "✓ Valid: 2024 Ecuadorian conflict - Cleaned content saved to cleaned_pages/2024 Ecuadorian conflict.txt\n",
            "\n",
            "Validation Summary:\n",
            "Total links: 109\n",
            "Valid links: 109\n",
            "Invalid/broken links: 0\n",
            "Content saved to: /content/pages\n"
          ]
        }
      ]
    },
    {
      "cell_type": "code",
      "source": [
        "len(valid_links)"
      ],
      "metadata": {
        "colab": {
          "base_uri": "https://localhost:8080/"
        },
        "id": "VfXRKbPM7kmT",
        "outputId": "1693483a-5771-4525-f0a1-04131308ed0d"
      },
      "execution_count": null,
      "outputs": [
        {
          "output_type": "execute_result",
          "data": {
            "text/plain": [
              "109"
            ]
          },
          "metadata": {},
          "execution_count": 69
        }
      ]
    },
    {
      "cell_type": "code",
      "source": [
        "valid_links"
      ],
      "metadata": {
        "colab": {
          "base_uri": "https://localhost:8080/"
        },
        "id": "rovYGbgl7ksP",
        "outputId": "2048e275-81a6-4721-f495-43705caa8149"
      },
      "execution_count": null,
      "outputs": [
        {
          "output_type": "execute_result",
          "data": {
            "text/plain": [
              "{'2024': 'https://en.wikipedia.org/wiki/2024',\n",
              " '2024 Syrian opposition offensives': 'https://en.wikipedia.org/wiki/2024_Syrian_opposition_offensives',\n",
              " 'Battle of Aleppo': 'https://en.wikipedia.org/wiki/Battle_of_Aleppo_(2024)',\n",
              " '2024 Aleppo University Hospital airstrike': 'https://en.wikipedia.org/wiki/2024_Aleppo_University_Hospital_airstrike',\n",
              " '2024 North Indian Ocean cyclone season': 'https://en.wikipedia.org/wiki/2024_North_Indian_Ocean_cyclone_season',\n",
              " '2024 Nzérékoré stampede': 'https://en.wikipedia.org/wiki/2024_Nz%C3%A9r%C3%A9kor%C3%A9_stampede',\n",
              " '2024 Icelandic parliamentary election': 'https://en.wikipedia.org/wiki/2024_Icelandic_parliamentary_election',\n",
              " '2024 Liechtenstein referendums': 'https://en.wikipedia.org/wiki/2024_Liechtenstein_referendums#1_December',\n",
              " '2024 Romanian parliamentary election': 'https://en.wikipedia.org/wiki/2024_Romanian_parliamentary_election',\n",
              " 'ceasefire': 'https://en.wikipedia.org/wiki/2024_Israel%E2%80%93Lebanon_ceasefire_agreement',\n",
              " '2024 Georgian post-election protests': 'https://en.wikipedia.org/wiki/2024_Georgian_post-election_protests',\n",
              " '2024 Irish general election': 'https://en.wikipedia.org/wiki/2024_Irish_general_election',\n",
              " '2024 Romanian presidential election': 'https://en.wikipedia.org/wiki/2024_Romanian_presidential_election',\n",
              " '2024 Hama offensive': 'https://en.wikipedia.org/wiki/2024_Hama_offensive',\n",
              " 'Deir ez-Zor offensive': 'https://en.wikipedia.org/wiki/Deir_ez-Zor_offensive_(2024)',\n",
              " '2024–2025 floods in Southeast Asia and South Asia': 'https://en.wikipedia.org/wiki/2024%E2%80%932025_floods_in_Southeast_Asia_and_South_Asia',\n",
              " '2024 Kwango province disease outbreak': 'https://en.wikipedia.org/wiki/2024_Kwango_province_disease_outbreak',\n",
              " '2024 South Korean martial law crisis': 'https://en.wikipedia.org/wiki/2024_South_Korean_martial_law_crisis',\n",
              " '4 December 2024 al-Mawasi attack': 'https://en.wikipedia.org/wiki/4_December_2024_al-Mawasi_attack',\n",
              " '2024 Cuba blackouts': 'https://en.wikipedia.org/wiki/2024_Cuba_blackouts',\n",
              " 'martial law': 'https://en.wikipedia.org/wiki/2024_South_Korean_martial_law_crisis',\n",
              " '2024 French political crisis': 'https://en.wikipedia.org/wiki/2024_French_political_crisis',\n",
              " '2024 Namibian general election': 'https://en.wikipedia.org/wiki/2024_Namibian_general_election',\n",
              " '2024 Homs offensive': 'https://en.wikipedia.org/wiki/2024_Homs_offensive',\n",
              " '2024 Cape Mendocino earthquake': 'https://en.wikipedia.org/wiki/2024_Cape_Mendocino_earthquake',\n",
              " 'Winter of 2024–25 in the Gaza Strip': 'https://en.wikipedia.org/wiki/Winter_of_2024%E2%80%9325_in_the_Gaza_Strip',\n",
              " 'Southern Syria offensive': 'https://en.wikipedia.org/wiki/Southern_Syria_offensive_(2024)',\n",
              " '2024–25 European windstorm season': 'https://en.wikipedia.org/wiki/2024%E2%80%9325_European_windstorm_season',\n",
              " '2024 Aruban general election': 'https://en.wikipedia.org/wiki/2024_Aruban_general_election',\n",
              " '2024 Mauritian presidential election': 'https://en.wikipedia.org/wiki/2024_Mauritian_presidential_election',\n",
              " '2024 Manbij offensive': 'https://en.wikipedia.org/wiki/2024_Manbij_offensive',\n",
              " 'Palmyra offensive': 'https://en.wikipedia.org/wiki/Palmyra_offensive_(2024)',\n",
              " '2024 The Hague explosion': 'https://en.wikipedia.org/wiki/2024_The_Hague_explosion',\n",
              " \"2024 Indian farmers' protest\": 'https://en.wikipedia.org/wiki/2024_Indian_farmers%27_protest',\n",
              " '2024 Ghanaian general election': 'https://en.wikipedia.org/wiki/2024_Ghanaian_general_election',\n",
              " 'MLS Cup 2024': 'https://en.wikipedia.org/wiki/MLS_Cup_2024',\n",
              " 'Israeli invasion of Syria (2024–present)': 'https://en.wikipedia.org/wiki/Israeli_invasion_of_Syria_(2024%E2%80%93present)',\n",
              " '2024 Formula One World Championship': 'https://en.wikipedia.org/wiki/2024_Formula_One_World_Championship',\n",
              " 'Abu Dhabi Grand Prix': 'https://en.wikipedia.org/wiki/2024_Abu_Dhabi_Grand_Prix',\n",
              " '2024 Al-Mustariha massacre': 'https://en.wikipedia.org/wiki/2024_Al-Mustariha_massacre',\n",
              " '2024 Kanlaon eruption': 'https://en.wikipedia.org/wiki/2024_Kanlaon_eruption',\n",
              " '2024 Indian bomb hoaxes': 'https://en.wikipedia.org/wiki/2024_Indian_bomb_hoaxes',\n",
              " '2024 Azad Kashmir protests': 'https://en.wikipedia.org/wiki/2024_Azad_Kashmir_protests',\n",
              " '2024 California wildfires': 'https://en.wikipedia.org/wiki/2024_California_wildfires',\n",
              " '2024 Jubaland presidential election': 'https://en.wikipedia.org/wiki/2024_Jubaland_presidential_election',\n",
              " 'Battle of Ras Kamboni': 'https://en.wikipedia.org/wiki/Battle_of_Ras_Kamboni_(2024)',\n",
              " 'agreed ceasefire': 'https://en.wikipedia.org/wiki/2024_Israel%E2%80%93Lebanon_ceasefire_agreement',\n",
              " \"2024 United Kingdom farmers' protests\": 'https://en.wikipedia.org/wiki/November_2024_United_Kingdom_farmers%27_protests',\n",
              " '2024 Kobani clashes': 'https://en.wikipedia.org/wiki/2024_Kobani_clashes',\n",
              " 'December 2024 Nuseirat refugee camp attack': 'https://en.wikipedia.org/wiki/December_2024_Nuseirat_refugee_camp_attack',\n",
              " 'The Game Awards 2024': 'https://en.wikipedia.org/wiki/The_Game_Awards_2024',\n",
              " '2024–25 South-West Indian Ocean cyclone season': 'https://en.wikipedia.org/wiki/2024%E2%80%9325_South-West_Indian_Ocean_cyclone_season',\n",
              " 'protests': 'https://en.wikipedia.org/wiki/2024_Venezuelan_protests',\n",
              " 'presidential election': 'https://en.wikipedia.org/wiki/2024_Venezuelan_presidential_election',\n",
              " 'World Chess Championship 2024': 'https://en.wikipedia.org/wiki/World_Chess_Championship_2024',\n",
              " '2024 New Jersey drone sightings': 'https://en.wikipedia.org/wiki/2024_New_Jersey_drone_sightings',\n",
              " '2024 Nord Department killings': 'https://en.wikipedia.org/wiki/2024_Nord_Department_killings',\n",
              " '2024 Georgian presidential election': 'https://en.wikipedia.org/wiki/2024_Georgian_presidential_election',\n",
              " 'parliamentary election': 'https://en.wikipedia.org/wiki/2024_Georgian_parliamentary_election',\n",
              " 'recent attempt': 'https://en.wikipedia.org/wiki/2024_South_Korean_martial_law_crisis',\n",
              " '2024 Kerch Strait oil spill': 'https://en.wikipedia.org/wiki/2024_Kerch_Strait_oil_spill',\n",
              " '2024 Northeastern United States drone sightings': 'https://en.wikipedia.org/wiki/2024_Northeastern_United_States_drone_sightings',\n",
              " '2024 Australia heat wave': 'https://en.wikipedia.org/wiki/2024_Australia_heat_wave',\n",
              " '2024 German government crisis': 'https://en.wikipedia.org/wiki/2024_German_government_crisis',\n",
              " '2024 election': 'https://en.wikipedia.org/wiki/2024_Indonesian_presidential_election',\n",
              " '2024 Port Vila earthquake': 'https://en.wikipedia.org/wiki/2024_Port_Vila_earthquake',\n",
              " '2024 Kwango province malaria outbreak': 'https://en.wikipedia.org/wiki/2024_Kwango_province_malaria_outbreak',\n",
              " '2024 United States presidential election': 'https://en.wikipedia.org/wiki/2024_United_States_presidential_election',\n",
              " '2024 Mumbai boat accident': 'https://en.wikipedia.org/wiki/2024_Mumbai_boat_accident',\n",
              " '2024 San Fernando Airport runway excursion': 'https://en.wikipedia.org/wiki/2024_San_Fernando_Airport_runway_excursion',\n",
              " '2024 Georgian parliamentary election': 'https://en.wikipedia.org/wiki/2024_Georgian_parliamentary_election',\n",
              " 'recent elections': 'https://en.wikipedia.org/wiki/2024_Georgian_parliamentary_election',\n",
              " '2024 FIFA Intercontinental Cup': 'https://en.wikipedia.org/wiki/2024_FIFA_Intercontinental_Cup',\n",
              " 'final': 'https://en.wikipedia.org/wiki/2024_FIFA_Intercontinental_Cup_final',\n",
              " 'December 2024 Israeli airstrikes in Yemen': 'https://en.wikipedia.org/wiki/December_2024_Israeli_airstrikes_in_Yemen',\n",
              " '2024 Parliament of Abkhazia shooting': 'https://en.wikipedia.org/wiki/2024_Parliament_of_Abkhazia_shooting',\n",
              " '2024 Kursk offensive': 'https://en.wikipedia.org/wiki/2024_Kursk_offensive',\n",
              " '2024 Magdeburg car attack': 'https://en.wikipedia.org/wiki/2024_Magdeburg_car_attack',\n",
              " '2024 Zagreb school stabbing': 'https://en.wikipedia.org/wiki/2024_Zagreb_school_stabbing',\n",
              " '2024 Gramado Piper PA-42 crash': 'https://en.wikipedia.org/wiki/2024_Gramado_Piper_PA-42_crash',\n",
              " '2024 Serbian anti-corruption protests': 'https://en.wikipedia.org/wiki/2024_Serbian_anti-corruption_protests',\n",
              " 'Manbij offensive': 'https://en.wikipedia.org/wiki/Manbij_offensive_(2024)',\n",
              " '2024 Cité Soleil massacre': 'https://en.wikipedia.org/wiki/2024_Cit%C3%A9_Soleil_massacre',\n",
              " '2024 famine in Sudan': 'https://en.wikipedia.org/wiki/2024_famine_in_Sudan',\n",
              " '2024 Changde car attack': 'https://en.wikipedia.org/wiki/2024_Changde_car_attack',\n",
              " '2024 New York City Subway immolation': 'https://en.wikipedia.org/wiki/2024_New_York_City_Subway_immolation',\n",
              " '2024 Afghanistan–Pakistan skirmishes': 'https://en.wikipedia.org/wiki/2024_Afghanistan%E2%80%93Pakistan_skirmishes',\n",
              " '2024–25 Australian bushfire season': 'https://en.wikipedia.org/wiki/2024%E2%80%9325_Australian_bushfire_season',\n",
              " '2024 Lobitos oil spill': 'https://en.wikipedia.org/wiki/2024_Lobitos_oil_spill',\n",
              " '2024 Israeli invasion of Lebanon': 'https://en.wikipedia.org/wiki/2024_Israeli_invasion_of_Lebanon',\n",
              " 'the recent election': 'https://en.wikipedia.org/wiki/2024_Mozambican_general_election',\n",
              " 'November 2024 Amsterdam riots': 'https://en.wikipedia.org/wiki/November_2024_Amsterdam_riots',\n",
              " 'Ras Kamboni': 'https://en.wikipedia.org/wiki/Battle_of_Ras_Kamboni_(2024)',\n",
              " 'Western Syria clashes': 'https://en.wikipedia.org/wiki/Western_Syria_clashes_(December_2024%E2%80%93present)',\n",
              " '2024 Estlink 2 incident': 'https://en.wikipedia.org/wiki/2024_Estlink_2_incident',\n",
              " 'ceasefire violations': 'https://en.wikipedia.org/wiki/2024_Israel%E2%80%93Lebanon_ceasefire_agreement#By_Israel',\n",
              " '2024 in archosaur paleontology': 'https://en.wikipedia.org/wiki/2024_in_archosaur_paleontology',\n",
              " '2024 Baltic Sea submarine cable disruptions': 'https://en.wikipedia.org/wiki/2024_Baltic_Sea_submarine_cable_disruptions',\n",
              " '2024 Ethiopia–Somaliland memorandum of understanding': 'https://en.wikipedia.org/wiki/2024_Ethiopia%E2%80%93Somaliland_memorandum_of_understanding',\n",
              " '2023–2024 mpox epidemic': 'https://en.wikipedia.org/wiki/2023%E2%80%932024_mpox_epidemic',\n",
              " '2024 Zhuhai car attack': 'https://en.wikipedia.org/wiki/2024_Zhuhai_car_attack',\n",
              " 'Tornado outbreak of December 26–29, 2024': 'https://en.wikipedia.org/wiki/Tornado_outbreak_of_December_26%E2%80%9329,_2024',\n",
              " '2024 Mozambican general election': 'https://en.wikipedia.org/wiki/2024_Mozambican_general_election',\n",
              " '2024 Mozambican protests': 'https://en.wikipedia.org/wiki/2024_Mozambican_protests',\n",
              " '2024 Sidama truck crash': 'https://en.wikipedia.org/wiki/2024_Sidama_truck_crash',\n",
              " '2024 Chadian parliamentary election': 'https://en.wikipedia.org/wiki/2024_Chadian_parliamentary_election',\n",
              " '2024 Croatian presidential election': 'https://en.wikipedia.org/wiki/2024_Croatian_presidential_election',\n",
              " '2024 Venezuelan protests': 'https://en.wikipedia.org/wiki/2024_Venezuelan_protests',\n",
              " '2024 Ecuadorian conflict': 'https://en.wikipedia.org/wiki/2024_Ecuadorian_conflict'}"
            ]
          },
          "metadata": {},
          "execution_count": 66
        }
      ]
    },
    {
      "cell_type": "code",
      "source": [],
      "metadata": {
        "id": "M9bawwYI7ktO"
      },
      "execution_count": null,
      "outputs": []
    },
    {
      "cell_type": "code",
      "source": [],
      "metadata": {
        "id": "F3cPaT3R7kus"
      },
      "execution_count": null,
      "outputs": []
    },
    {
      "cell_type": "code",
      "source": [],
      "metadata": {
        "id": "5uwUts9Z7kxN"
      },
      "execution_count": null,
      "outputs": []
    },
    {
      "cell_type": "code",
      "source": [],
      "metadata": {
        "id": "woXsTBJ_7k1j"
      },
      "execution_count": null,
      "outputs": []
    },
    {
      "cell_type": "code",
      "source": [
        "import os\n",
        "\n",
        "os.environ[\"OPENAI_API_KEY\"] = \"\""
      ],
      "metadata": {
        "id": "QTavuXdsCXRN"
      },
      "execution_count": null,
      "outputs": []
    },
    {
      "cell_type": "markdown",
      "source": [],
      "metadata": {
        "id": "n4_19reyC1iY"
      }
    },
    {
      "cell_type": "code",
      "source": [
        "pip install datasets"
      ],
      "metadata": {
        "colab": {
          "base_uri": "https://localhost:8080/"
        },
        "id": "uZqeMKllC10u",
        "outputId": "93b307d8-275f-48c7-9087-75bd0475802b"
      },
      "execution_count": null,
      "outputs": [
        {
          "output_type": "stream",
          "name": "stdout",
          "text": [
            "Collecting datasets\n",
            "  Downloading datasets-3.2.0-py3-none-any.whl.metadata (20 kB)\n",
            "Requirement already satisfied: filelock in /usr/local/lib/python3.10/dist-packages (from datasets) (3.16.1)\n",
            "Requirement already satisfied: numpy>=1.17 in /usr/local/lib/python3.10/dist-packages (from datasets) (1.26.4)\n",
            "Requirement already satisfied: pyarrow>=15.0.0 in /usr/local/lib/python3.10/dist-packages (from datasets) (17.0.0)\n",
            "Collecting dill<0.3.9,>=0.3.0 (from datasets)\n",
            "  Downloading dill-0.3.8-py3-none-any.whl.metadata (10 kB)\n",
            "Requirement already satisfied: pandas in /usr/local/lib/python3.10/dist-packages (from datasets) (2.2.2)\n",
            "Requirement already satisfied: requests>=2.32.2 in /usr/local/lib/python3.10/dist-packages (from datasets) (2.32.3)\n",
            "Requirement already satisfied: tqdm>=4.66.3 in /usr/local/lib/python3.10/dist-packages (from datasets) (4.67.1)\n",
            "Requirement already satisfied: xxhash in /usr/local/lib/python3.10/dist-packages (from datasets) (3.5.0)\n",
            "Collecting multiprocess<0.70.17 (from datasets)\n",
            "  Downloading multiprocess-0.70.16-py310-none-any.whl.metadata (7.2 kB)\n",
            "Collecting fsspec<=2024.9.0,>=2023.1.0 (from fsspec[http]<=2024.9.0,>=2023.1.0->datasets)\n",
            "  Downloading fsspec-2024.9.0-py3-none-any.whl.metadata (11 kB)\n",
            "Requirement already satisfied: aiohttp in /usr/local/lib/python3.10/dist-packages (from datasets) (3.11.11)\n",
            "Requirement already satisfied: huggingface-hub>=0.23.0 in /usr/local/lib/python3.10/dist-packages (from datasets) (0.27.1)\n",
            "Requirement already satisfied: packaging in /usr/local/lib/python3.10/dist-packages (from datasets) (24.2)\n",
            "Requirement already satisfied: pyyaml>=5.1 in /usr/local/lib/python3.10/dist-packages (from datasets) (6.0.2)\n",
            "Requirement already satisfied: aiohappyeyeballs>=2.3.0 in /usr/local/lib/python3.10/dist-packages (from aiohttp->datasets) (2.4.4)\n",
            "Requirement already satisfied: aiosignal>=1.1.2 in /usr/local/lib/python3.10/dist-packages (from aiohttp->datasets) (1.3.2)\n",
            "Requirement already satisfied: async-timeout<6.0,>=4.0 in /usr/local/lib/python3.10/dist-packages (from aiohttp->datasets) (4.0.3)\n",
            "Requirement already satisfied: attrs>=17.3.0 in /usr/local/lib/python3.10/dist-packages (from aiohttp->datasets) (24.3.0)\n",
            "Requirement already satisfied: frozenlist>=1.1.1 in /usr/local/lib/python3.10/dist-packages (from aiohttp->datasets) (1.5.0)\n",
            "Requirement already satisfied: multidict<7.0,>=4.5 in /usr/local/lib/python3.10/dist-packages (from aiohttp->datasets) (6.1.0)\n",
            "Requirement already satisfied: propcache>=0.2.0 in /usr/local/lib/python3.10/dist-packages (from aiohttp->datasets) (0.2.1)\n",
            "Requirement already satisfied: yarl<2.0,>=1.17.0 in /usr/local/lib/python3.10/dist-packages (from aiohttp->datasets) (1.18.3)\n",
            "Requirement already satisfied: typing-extensions>=3.7.4.3 in /usr/local/lib/python3.10/dist-packages (from huggingface-hub>=0.23.0->datasets) (4.12.2)\n",
            "Requirement already satisfied: charset-normalizer<4,>=2 in /usr/local/lib/python3.10/dist-packages (from requests>=2.32.2->datasets) (3.4.1)\n",
            "Requirement already satisfied: idna<4,>=2.5 in /usr/local/lib/python3.10/dist-packages (from requests>=2.32.2->datasets) (3.10)\n",
            "Requirement already satisfied: urllib3<3,>=1.21.1 in /usr/local/lib/python3.10/dist-packages (from requests>=2.32.2->datasets) (2.3.0)\n",
            "Requirement already satisfied: certifi>=2017.4.17 in /usr/local/lib/python3.10/dist-packages (from requests>=2.32.2->datasets) (2024.12.14)\n",
            "Requirement already satisfied: python-dateutil>=2.8.2 in /usr/local/lib/python3.10/dist-packages (from pandas->datasets) (2.8.2)\n",
            "Requirement already satisfied: pytz>=2020.1 in /usr/local/lib/python3.10/dist-packages (from pandas->datasets) (2024.2)\n",
            "Requirement already satisfied: tzdata>=2022.7 in /usr/local/lib/python3.10/dist-packages (from pandas->datasets) (2024.2)\n",
            "Requirement already satisfied: six>=1.5 in /usr/local/lib/python3.10/dist-packages (from python-dateutil>=2.8.2->pandas->datasets) (1.17.0)\n",
            "Downloading datasets-3.2.0-py3-none-any.whl (480 kB)\n",
            "   ━━━━━━━━━━━━━━━━━━━━━━━━━━━━━━━━━━━━━━━━ 480.6/480.6 kB 7.4 MB/s eta 0:00:00\n",
            "\u001b[?25hDownloading dill-0.3.8-py3-none-any.whl (116 kB)\n",
            "   ━━━━━━━━━━━━━━━━━━━━━━━━━━━━━━━━━━━━━━━━ 116.3/116.3 kB 10.5 MB/s eta 0:00:00\n",
            "\u001b[?25hDownloading fsspec-2024.9.0-py3-none-any.whl (179 kB)\n",
            "   ━━━━━━━━━━━━━━━━━━━━━━━━━━━━━━━━━━━━━━━━ 179.3/179.3 kB 15.7 MB/s eta 0:00:00\n",
            "\u001b[?25hDownloading multiprocess-0.70.16-py310-none-any.whl (134 kB)\n",
            "   ━━━━━━━━━━━━━━━━━━━━━━━━━━━━━━━━━━━━━━━━ 134.8/134.8 kB 12.2 MB/s eta 0:00:00\n",
            "\u001b[?25hInstalling collected packages: fsspec, dill, multiprocess, datasets\n",
            "  Attempting uninstall: fsspec\n",
            "    Found existing installation: fsspec 2024.10.0\n",
            "    Uninstalling fsspec-2024.10.0:\n",
            "      Successfully uninstalled fsspec-2024.10.0\n",
            "ERROR: pip's dependency resolver does not currently take into account all the packages that are installed. This behaviour is the source of the following dependency conflicts.\n",
            "gcsfs 2024.10.0 requires fsspec==2024.10.0, but you have fsspec 2024.9.0 which is incompatible.\n",
            "Successfully installed datasets-3.2.0 dill-0.3.8 fsspec-2024.9.0 multiprocess-0.70.16\n"
          ]
        }
      ]
    },
    {
      "cell_type": "code",
      "source": [
        "!pip install langchain openai tqdm langchain_community"
      ],
      "metadata": {
        "colab": {
          "base_uri": "https://localhost:8080/"
        },
        "id": "xD9yv3dsDCWF",
        "outputId": "425e3268-9c75-44a8-d409-a5ac6f30f0a5"
      },
      "execution_count": null,
      "outputs": [
        {
          "output_type": "stream",
          "name": "stdout",
          "text": [
            "Requirement already satisfied: langchain in /usr/local/lib/python3.10/dist-packages (0.3.14)\n",
            "Requirement already satisfied: openai in /usr/local/lib/python3.10/dist-packages (1.59.4)\n",
            "Requirement already satisfied: tqdm in /usr/local/lib/python3.10/dist-packages (4.67.1)\n",
            "Collecting langchain_community\n",
            "  Downloading langchain_community-0.3.14-py3-none-any.whl.metadata (2.9 kB)\n",
            "Requirement already satisfied: PyYAML>=5.3 in /usr/local/lib/python3.10/dist-packages (from langchain) (6.0.2)\n",
            "Requirement already satisfied: SQLAlchemy<3,>=1.4 in /usr/local/lib/python3.10/dist-packages (from langchain) (2.0.36)\n",
            "Requirement already satisfied: aiohttp<4.0.0,>=3.8.3 in /usr/local/lib/python3.10/dist-packages (from langchain) (3.11.11)\n",
            "Requirement already satisfied: async-timeout<5.0.0,>=4.0.0 in /usr/local/lib/python3.10/dist-packages (from langchain) (4.0.3)\n",
            "Requirement already satisfied: langchain-core<0.4.0,>=0.3.29 in /usr/local/lib/python3.10/dist-packages (from langchain) (0.3.29)\n",
            "Requirement already satisfied: langchain-text-splitters<0.4.0,>=0.3.3 in /usr/local/lib/python3.10/dist-packages (from langchain) (0.3.5)\n",
            "Requirement already satisfied: langsmith<0.3,>=0.1.17 in /usr/local/lib/python3.10/dist-packages (from langchain) (0.2.10)\n",
            "Requirement already satisfied: numpy<2,>=1.22.4 in /usr/local/lib/python3.10/dist-packages (from langchain) (1.26.4)\n",
            "Requirement already satisfied: pydantic<3.0.0,>=2.7.4 in /usr/local/lib/python3.10/dist-packages (from langchain) (2.10.4)\n",
            "Requirement already satisfied: requests<3,>=2 in /usr/local/lib/python3.10/dist-packages (from langchain) (2.32.3)\n",
            "Requirement already satisfied: tenacity!=8.4.0,<10,>=8.1.0 in /usr/local/lib/python3.10/dist-packages (from langchain) (9.0.0)\n",
            "Requirement already satisfied: anyio<5,>=3.5.0 in /usr/local/lib/python3.10/dist-packages (from openai) (3.7.1)\n",
            "Requirement already satisfied: distro<2,>=1.7.0 in /usr/local/lib/python3.10/dist-packages (from openai) (1.9.0)\n",
            "Requirement already satisfied: httpx<1,>=0.23.0 in /usr/local/lib/python3.10/dist-packages (from openai) (0.27.2)\n",
            "Requirement already satisfied: jiter<1,>=0.4.0 in /usr/local/lib/python3.10/dist-packages (from openai) (0.8.2)\n",
            "Requirement already satisfied: sniffio in /usr/local/lib/python3.10/dist-packages (from openai) (1.3.1)\n",
            "Requirement already satisfied: typing-extensions<5,>=4.11 in /usr/local/lib/python3.10/dist-packages (from openai) (4.12.2)\n",
            "Collecting dataclasses-json<0.7,>=0.5.7 (from langchain_community)\n",
            "  Downloading dataclasses_json-0.6.7-py3-none-any.whl.metadata (25 kB)\n",
            "Collecting httpx-sse<0.5.0,>=0.4.0 (from langchain_community)\n",
            "  Downloading httpx_sse-0.4.0-py3-none-any.whl.metadata (9.0 kB)\n",
            "Collecting pydantic-settings<3.0.0,>=2.4.0 (from langchain_community)\n",
            "  Downloading pydantic_settings-2.7.1-py3-none-any.whl.metadata (3.5 kB)\n",
            "Requirement already satisfied: aiohappyeyeballs>=2.3.0 in /usr/local/lib/python3.10/dist-packages (from aiohttp<4.0.0,>=3.8.3->langchain) (2.4.4)\n",
            "Requirement already satisfied: aiosignal>=1.1.2 in /usr/local/lib/python3.10/dist-packages (from aiohttp<4.0.0,>=3.8.3->langchain) (1.3.2)\n",
            "Requirement already satisfied: attrs>=17.3.0 in /usr/local/lib/python3.10/dist-packages (from aiohttp<4.0.0,>=3.8.3->langchain) (24.3.0)\n",
            "Requirement already satisfied: frozenlist>=1.1.1 in /usr/local/lib/python3.10/dist-packages (from aiohttp<4.0.0,>=3.8.3->langchain) (1.5.0)\n",
            "Requirement already satisfied: multidict<7.0,>=4.5 in /usr/local/lib/python3.10/dist-packages (from aiohttp<4.0.0,>=3.8.3->langchain) (6.1.0)\n",
            "Requirement already satisfied: propcache>=0.2.0 in /usr/local/lib/python3.10/dist-packages (from aiohttp<4.0.0,>=3.8.3->langchain) (0.2.1)\n",
            "Requirement already satisfied: yarl<2.0,>=1.17.0 in /usr/local/lib/python3.10/dist-packages (from aiohttp<4.0.0,>=3.8.3->langchain) (1.18.3)\n",
            "Requirement already satisfied: idna>=2.8 in /usr/local/lib/python3.10/dist-packages (from anyio<5,>=3.5.0->openai) (3.10)\n",
            "Requirement already satisfied: exceptiongroup in /usr/local/lib/python3.10/dist-packages (from anyio<5,>=3.5.0->openai) (1.2.2)\n",
            "Collecting marshmallow<4.0.0,>=3.18.0 (from dataclasses-json<0.7,>=0.5.7->langchain_community)\n",
            "  Downloading marshmallow-3.25.0-py3-none-any.whl.metadata (7.1 kB)\n",
            "Collecting typing-inspect<1,>=0.4.0 (from dataclasses-json<0.7,>=0.5.7->langchain_community)\n",
            "  Downloading typing_inspect-0.9.0-py3-none-any.whl.metadata (1.5 kB)\n",
            "Requirement already satisfied: certifi in /usr/local/lib/python3.10/dist-packages (from httpx<1,>=0.23.0->openai) (2024.12.14)\n",
            "Requirement already satisfied: httpcore==1.* in /usr/local/lib/python3.10/dist-packages (from httpx<1,>=0.23.0->openai) (1.0.7)\n",
            "Requirement already satisfied: h11<0.15,>=0.13 in /usr/local/lib/python3.10/dist-packages (from httpcore==1.*->httpx<1,>=0.23.0->openai) (0.14.0)\n",
            "Requirement already satisfied: jsonpatch<2.0,>=1.33 in /usr/local/lib/python3.10/dist-packages (from langchain-core<0.4.0,>=0.3.29->langchain) (1.33)\n",
            "Requirement already satisfied: packaging<25,>=23.2 in /usr/local/lib/python3.10/dist-packages (from langchain-core<0.4.0,>=0.3.29->langchain) (24.2)\n",
            "Requirement already satisfied: orjson<4.0.0,>=3.9.14 in /usr/local/lib/python3.10/dist-packages (from langsmith<0.3,>=0.1.17->langchain) (3.10.13)\n",
            "Requirement already satisfied: requests-toolbelt<2.0.0,>=1.0.0 in /usr/local/lib/python3.10/dist-packages (from langsmith<0.3,>=0.1.17->langchain) (1.0.0)\n",
            "Requirement already satisfied: annotated-types>=0.6.0 in /usr/local/lib/python3.10/dist-packages (from pydantic<3.0.0,>=2.7.4->langchain) (0.7.0)\n",
            "Requirement already satisfied: pydantic-core==2.27.2 in /usr/local/lib/python3.10/dist-packages (from pydantic<3.0.0,>=2.7.4->langchain) (2.27.2)\n",
            "Requirement already satisfied: python-dotenv>=0.21.0 in /usr/local/lib/python3.10/dist-packages (from pydantic-settings<3.0.0,>=2.4.0->langchain_community) (1.0.1)\n",
            "Requirement already satisfied: charset-normalizer<4,>=2 in /usr/local/lib/python3.10/dist-packages (from requests<3,>=2->langchain) (3.4.1)\n",
            "Requirement already satisfied: urllib3<3,>=1.21.1 in /usr/local/lib/python3.10/dist-packages (from requests<3,>=2->langchain) (2.3.0)\n",
            "Requirement already satisfied: greenlet!=0.4.17 in /usr/local/lib/python3.10/dist-packages (from SQLAlchemy<3,>=1.4->langchain) (3.1.1)\n",
            "Requirement already satisfied: jsonpointer>=1.9 in /usr/local/lib/python3.10/dist-packages (from jsonpatch<2.0,>=1.33->langchain-core<0.4.0,>=0.3.29->langchain) (3.0.0)\n",
            "Collecting mypy-extensions>=0.3.0 (from typing-inspect<1,>=0.4.0->dataclasses-json<0.7,>=0.5.7->langchain_community)\n",
            "  Downloading mypy_extensions-1.0.0-py3-none-any.whl.metadata (1.1 kB)\n",
            "Downloading langchain_community-0.3.14-py3-none-any.whl (2.5 MB)\n",
            "   ━━━━━━━━━━━━━━━━━━━━━━━━━━━━━━━━━━━━━━━━ 2.5/2.5 MB 21.6 MB/s eta 0:00:00\n",
            "\u001b[?25hDownloading dataclasses_json-0.6.7-py3-none-any.whl (28 kB)\n",
            "Downloading httpx_sse-0.4.0-py3-none-any.whl (7.8 kB)\n",
            "Downloading pydantic_settings-2.7.1-py3-none-any.whl (29 kB)\n",
            "Downloading marshmallow-3.25.0-py3-none-any.whl (49 kB)\n",
            "   ━━━━━━━━━━━━━━━━━━━━━━━━━━━━━━━━━━━━━━━━ 49.5/49.5 kB 2.3 MB/s eta 0:00:00\n",
            "\u001b[?25hDownloading typing_inspect-0.9.0-py3-none-any.whl (8.8 kB)\n",
            "Downloading mypy_extensions-1.0.0-py3-none-any.whl (4.7 kB)\n",
            "Installing collected packages: mypy-extensions, marshmallow, httpx-sse, typing-inspect, pydantic-settings, dataclasses-json, langchain_community\n",
            "Successfully installed dataclasses-json-0.6.7 httpx-sse-0.4.0 langchain_community-0.3.14 marshmallow-3.25.0 mypy-extensions-1.0.0 pydantic-settings-2.7.1 typing-inspect-0.9.0\n"
          ]
        }
      ]
    },
    {
      "cell_type": "code",
      "source": [
        "pip install langchain-openai"
      ],
      "metadata": {
        "colab": {
          "base_uri": "https://localhost:8080/"
        },
        "id": "nJi5WIg4WfWp",
        "outputId": "9319c063-adfa-4d2a-8735-eb80472bcee9"
      },
      "execution_count": null,
      "outputs": [
        {
          "output_type": "stream",
          "name": "stdout",
          "text": [
            "Collecting langchain-openai\n",
            "  Downloading langchain_openai-0.3.0-py3-none-any.whl.metadata (2.7 kB)\n",
            "Requirement already satisfied: langchain-core<0.4.0,>=0.3.29 in /usr/local/lib/python3.10/dist-packages (from langchain-openai) (0.3.29)\n",
            "Requirement already satisfied: openai<2.0.0,>=1.58.1 in /usr/local/lib/python3.10/dist-packages (from langchain-openai) (1.59.4)\n",
            "Requirement already satisfied: tiktoken<1,>=0.7 in /usr/local/lib/python3.10/dist-packages (from langchain-openai) (0.8.0)\n",
            "Requirement already satisfied: PyYAML>=5.3 in /usr/local/lib/python3.10/dist-packages (from langchain-core<0.4.0,>=0.3.29->langchain-openai) (6.0.2)\n",
            "Requirement already satisfied: jsonpatch<2.0,>=1.33 in /usr/local/lib/python3.10/dist-packages (from langchain-core<0.4.0,>=0.3.29->langchain-openai) (1.33)\n",
            "Requirement already satisfied: langsmith<0.3,>=0.1.125 in /usr/local/lib/python3.10/dist-packages (from langchain-core<0.4.0,>=0.3.29->langchain-openai) (0.2.10)\n",
            "Requirement already satisfied: packaging<25,>=23.2 in /usr/local/lib/python3.10/dist-packages (from langchain-core<0.4.0,>=0.3.29->langchain-openai) (24.2)\n",
            "Requirement already satisfied: pydantic<3.0.0,>=2.5.2 in /usr/local/lib/python3.10/dist-packages (from langchain-core<0.4.0,>=0.3.29->langchain-openai) (2.10.4)\n",
            "Requirement already satisfied: tenacity!=8.4.0,<10.0.0,>=8.1.0 in /usr/local/lib/python3.10/dist-packages (from langchain-core<0.4.0,>=0.3.29->langchain-openai) (9.0.0)\n",
            "Requirement already satisfied: typing-extensions>=4.7 in /usr/local/lib/python3.10/dist-packages (from langchain-core<0.4.0,>=0.3.29->langchain-openai) (4.12.2)\n",
            "Requirement already satisfied: anyio<5,>=3.5.0 in /usr/local/lib/python3.10/dist-packages (from openai<2.0.0,>=1.58.1->langchain-openai) (3.7.1)\n",
            "Requirement already satisfied: distro<2,>=1.7.0 in /usr/local/lib/python3.10/dist-packages (from openai<2.0.0,>=1.58.1->langchain-openai) (1.9.0)\n",
            "Requirement already satisfied: httpx<1,>=0.23.0 in /usr/local/lib/python3.10/dist-packages (from openai<2.0.0,>=1.58.1->langchain-openai) (0.27.2)\n",
            "Requirement already satisfied: jiter<1,>=0.4.0 in /usr/local/lib/python3.10/dist-packages (from openai<2.0.0,>=1.58.1->langchain-openai) (0.8.2)\n",
            "Requirement already satisfied: sniffio in /usr/local/lib/python3.10/dist-packages (from openai<2.0.0,>=1.58.1->langchain-openai) (1.3.1)\n",
            "Requirement already satisfied: tqdm>4 in /usr/local/lib/python3.10/dist-packages (from openai<2.0.0,>=1.58.1->langchain-openai) (4.67.1)\n",
            "Requirement already satisfied: regex>=2022.1.18 in /usr/local/lib/python3.10/dist-packages (from tiktoken<1,>=0.7->langchain-openai) (2024.11.6)\n",
            "Requirement already satisfied: requests>=2.26.0 in /usr/local/lib/python3.10/dist-packages (from tiktoken<1,>=0.7->langchain-openai) (2.32.3)\n",
            "Requirement already satisfied: idna>=2.8 in /usr/local/lib/python3.10/dist-packages (from anyio<5,>=3.5.0->openai<2.0.0,>=1.58.1->langchain-openai) (3.10)\n",
            "Requirement already satisfied: exceptiongroup in /usr/local/lib/python3.10/dist-packages (from anyio<5,>=3.5.0->openai<2.0.0,>=1.58.1->langchain-openai) (1.2.2)\n",
            "Requirement already satisfied: certifi in /usr/local/lib/python3.10/dist-packages (from httpx<1,>=0.23.0->openai<2.0.0,>=1.58.1->langchain-openai) (2024.12.14)\n",
            "Requirement already satisfied: httpcore==1.* in /usr/local/lib/python3.10/dist-packages (from httpx<1,>=0.23.0->openai<2.0.0,>=1.58.1->langchain-openai) (1.0.7)\n",
            "Requirement already satisfied: h11<0.15,>=0.13 in /usr/local/lib/python3.10/dist-packages (from httpcore==1.*->httpx<1,>=0.23.0->openai<2.0.0,>=1.58.1->langchain-openai) (0.14.0)\n",
            "Requirement already satisfied: jsonpointer>=1.9 in /usr/local/lib/python3.10/dist-packages (from jsonpatch<2.0,>=1.33->langchain-core<0.4.0,>=0.3.29->langchain-openai) (3.0.0)\n",
            "Requirement already satisfied: orjson<4.0.0,>=3.9.14 in /usr/local/lib/python3.10/dist-packages (from langsmith<0.3,>=0.1.125->langchain-core<0.4.0,>=0.3.29->langchain-openai) (3.10.13)\n",
            "Requirement already satisfied: requests-toolbelt<2.0.0,>=1.0.0 in /usr/local/lib/python3.10/dist-packages (from langsmith<0.3,>=0.1.125->langchain-core<0.4.0,>=0.3.29->langchain-openai) (1.0.0)\n",
            "Requirement already satisfied: annotated-types>=0.6.0 in /usr/local/lib/python3.10/dist-packages (from pydantic<3.0.0,>=2.5.2->langchain-core<0.4.0,>=0.3.29->langchain-openai) (0.7.0)\n",
            "Requirement already satisfied: pydantic-core==2.27.2 in /usr/local/lib/python3.10/dist-packages (from pydantic<3.0.0,>=2.5.2->langchain-core<0.4.0,>=0.3.29->langchain-openai) (2.27.2)\n",
            "Requirement already satisfied: charset-normalizer<4,>=2 in /usr/local/lib/python3.10/dist-packages (from requests>=2.26.0->tiktoken<1,>=0.7->langchain-openai) (3.4.1)\n",
            "Requirement already satisfied: urllib3<3,>=1.21.1 in /usr/local/lib/python3.10/dist-packages (from requests>=2.26.0->tiktoken<1,>=0.7->langchain-openai) (2.3.0)\n",
            "Downloading langchain_openai-0.3.0-py3-none-any.whl (54 kB)\n",
            "   ━━━━━━━━━━━━━━━━━━━━━━━━━━━━━━━━━━━━━━━━ 54.2/54.2 kB 2.1 MB/s eta 0:00:00\n",
            "\u001b[?25hInstalling collected packages: langchain-openai\n",
            "Successfully installed langchain-openai-0.3.0\n"
          ]
        }
      ]
    },
    {
      "cell_type": "code",
      "source": [
        "from langchain_openai import ChatOpenAI"
      ],
      "metadata": {
        "id": "Y-BjGEBmoydl"
      },
      "execution_count": null,
      "outputs": []
    },
    {
      "cell_type": "code",
      "source": [
        "from langchain.text_splitter import RecursiveCharacterTextSplitter\n",
        "from langchain.llms import OpenAI\n",
        "from langchain.prompts import PromptTemplate\n",
        "import os\n",
        "import json\n",
        "from tqdm import tqdm\n",
        "\n",
        "def read_file_with_name(file_path):\n",
        "    \"\"\"Read file content and extract title from filename.\"\"\"\n",
        "    with open(file_path, 'r', encoding='utf-8') as file:\n",
        "        content = file.read()\n",
        "\n",
        "    # Extract title from filename (remove .txt and replace underscores/hyphens with spaces)\n",
        "    title = os.path.basename(file_path).replace('.txt', '').replace('_', ' ').replace('-', ' ')\n",
        "\n",
        "    return content, title\n",
        "\n",
        "def create_chunks(text, chunk_size=1000, chunk_overlap=200):\n",
        "    \"\"\"Create chunks from text with specified size and overlap.\"\"\"\n",
        "    text_splitter = RecursiveCharacterTextSplitter(\n",
        "        chunk_size=chunk_size,\n",
        "        chunk_overlap=chunk_overlap,\n",
        "        length_function=len,\n",
        "        is_separator_regex=False\n",
        "    )\n",
        "    return text_splitter.split_text(text)\n",
        "\n",
        "def get_dynamic_prompt(title: str) -> PromptTemplate:\n",
        "    \"\"\"Generate a dynamic prompt template based on the article title.\"\"\"\n",
        "    prompt_template = f\"\"\"\n",
        "    You are processing a Wikipedia article about {title}. Your primary goal is to preserve valuable information while improving readability and discarding non-informative content.\n",
        "\n",
        "    Please analyze the following text chunk and determine if it contains meaningful information. Then provide:\n",
        "\n",
        "    1. An assessment of the content quality:\n",
        "       - Does it contain actual information about {title}?\n",
        "       - Is it more than just links, references, or navigation elements?\n",
        "       - Does it provide meaningful context or details?\n",
        "\n",
        "    2. If the content is meaningful, provide:\n",
        "       - A clear, well-written version that MUST:\n",
        "         * Preserve all important facts, details, and specific information\n",
        "         * Maintain all dates, numbers, names, and technical details\n",
        "         * Remove Wikipedia-specific formatting and reference links\n",
        "         * Use appropriate tone for the subject matter\n",
        "       - A relevant instruction or question that tests understanding\n",
        "\n",
        "    Critical Guidelines:\n",
        "    - If the chunk contains mostly links, navigation, or non-informative content, mark it for discarding\n",
        "    - For meaningful content, preserve ALL important information\n",
        "    - Remove only Wikipedia elements like [1], [2] or reference links\n",
        "    - Maintain technical accuracy and detail level\n",
        "    - Keep important quotes and attributions\n",
        "\n",
        "    Format your response as a JSON object with these exact keys:\n",
        "    - \"is_meaningful\": boolean indicating if the content contains valuable information\n",
        "    - \"enhanced_text\": The improved text if meaningful, null if not\n",
        "    - \"question\": A specific question that:\n",
        "        * Uses clear context from the content\n",
        "        * Includes the title only if it adds clarity (e.g., \"Jeju Air Flight 2216\" for flight-specific details)\n",
        "        * Avoids the title if the context is clear without it\n",
        "        * References specific details, numbers, or events from the text\n",
        "    - \"reasoning\": Brief explanation of why the content was kept or discarded\n",
        "\n",
        "    Example questions:\n",
        "    Good: \"How many passengers were on board Jeju Air Flight 2216 when the incident occurred?\"\n",
        "    Good: \"What was the initial police assessment of casualties in the New Orleans attack?\"\n",
        "    Bad: \"What happened next?\" (too vague, no context)\n",
        "    Bad: \"Describe the events of the 2024 incident.\" (too general)\n",
        "\n",
        "    Text to process: {{text}}\n",
        "\n",
        "    Respond only with the JSON object.\n",
        "    \"\"\"\n",
        "\n",
        "    return PromptTemplate(\n",
        "        input_variables=[\"text\"],\n",
        "        template=prompt_template\n",
        "    )\n",
        "\n",
        "def parse_llm_response(response_text):\n",
        "    \"\"\"Parse LLM response and handle various JSON formats.\"\"\"\n",
        "    try:\n",
        "        # Clean up the response text\n",
        "        response_text = response_text.strip()\n",
        "        if response_text.startswith(\"```json\"):\n",
        "            response_text = response_text[7:]\n",
        "        if response_text.endswith(\"```\"):\n",
        "            response_text = response_text[:-3]\n",
        "\n",
        "        # Parse JSON\n",
        "        parsed = json.loads(response_text.strip())\n",
        "\n",
        "        # Validate required fields\n",
        "        required_fields = [\"is_meaningful\", \"enhanced_text\", \"question\", \"reasoning\"]\n",
        "        if not all(field in parsed for field in required_fields):\n",
        "            raise ValueError(\"Missing required fields in JSON response\")\n",
        "\n",
        "        # Validate question format\n",
        "        if parsed[\"is_meaningful\"] and parsed[\"question\"]:\n",
        "            if len(parsed[\"question\"]) < 20:  # Basic length check\n",
        "                raise ValueError(\"Question too short or lacks context\")\n",
        "            if parsed[\"question\"].startswith(\"What is\") and len(parsed[\"question\"]) < 30:\n",
        "                raise ValueError(\"Question too generic\")\n",
        "\n",
        "        return parsed\n",
        "    except Exception as e:\n",
        "        print(f\"Error parsing LLM response: {e}\")\n",
        "        return None\n",
        "\n",
        "def process_chunks(chunks, title, llm):\n",
        "    \"\"\"Process text chunks through LLM with quality filtering.\"\"\"\n",
        "    dataset_dict = {}\n",
        "    prompt = get_dynamic_prompt(title)\n",
        "\n",
        "    for idx, chunk in enumerate(tqdm(chunks)):\n",
        "        # Create full prompt\n",
        "        full_prompt = prompt.format(text=chunk)\n",
        "\n",
        "        # Get LLM response\n",
        "        try:\n",
        "            llm_response = llm(full_prompt)\n",
        "\n",
        "            parsed_response = parse_llm_response(llm_response.content)\n",
        "            print(parsed_response)\n",
        "\n",
        "            if parsed_response and parsed_response[\"is_meaningful\"]:\n",
        "                dataset_dict[f\"chunk_{idx}\"] = {\n",
        "                    \"original_text\": chunk,\n",
        "                    \"enhanced_text\": parsed_response[\"enhanced_text\"],\n",
        "                    \"question\": parsed_response[\"question\"],  # Updated from instruction to question\n",
        "                    \"title\": title,\n",
        "                    \"reasoning\": parsed_response[\"reasoning\"]\n",
        "                }\n",
        "                print(f\"\\n✓ Chunk {idx} processed and kept\")\n",
        "                print(f\"Question: {parsed_response['question']}\")  # Display the generated question\n",
        "            else:\n",
        "                print(f\"\\n✗ Chunk {idx} discarded - not meaningful\")\n",
        "                print(chunk)\n",
        "\n",
        "        except Exception as e:\n",
        "            print(f\"\\n✗ Error processing chunk {idx}: {e}\")\n",
        "            continue\n",
        "\n",
        "    return dataset_dict\n",
        "\n",
        "def save_dataset(dataset_dict, output_file):\n",
        "    \"\"\"Save the processed dataset to a JSON file.\"\"\"\n",
        "    with open(output_file, 'w', encoding='utf-8') as f:\n",
        "        json.dump(dataset_dict, f, ensure_ascii=False, indent=4)\n",
        "\n",
        "def main(pages_dir=\"cleaned_pages\"):\n",
        "    \"\"\"Main function to process all cleaned Wikipedia pages.\"\"\"\n",
        "    all_datasets = {}\n",
        "\n",
        "    # Process each file in the cleaned pages directory\n",
        "    for filename in os.listdir(pages_dir):\n",
        "        if filename.endswith(\".txt\"):\n",
        "            print(\"============\")\n",
        "            print(filename)\n",
        "            print(\"============\")\n",
        "            file_path = os.path.join(pages_dir, filename)\n",
        "            print(f\"\\nProcessing {filename}...\")\n",
        "\n",
        "            # Read and process the file\n",
        "            text, title = read_file_with_name(file_path)\n",
        "            chunks = create_chunks(text)\n",
        "\n",
        "            # Setup LLM\n",
        "            llm = ChatOpenAI(temperature=0.3, model_name=\"gpt-4o\")\n",
        "\n",
        "            # Process chunks\n",
        "            file_dataset = process_chunks(chunks, title, llm)\n",
        "\n",
        "            # Add to main dataset\n",
        "            all_datasets.update(file_dataset)\n",
        "        break\n",
        "\n",
        "    # Save the complete dataset\n",
        "    save_dataset(all_datasets, \"enhanced_wiki_dataset.json\")\n",
        "    print(f\"\\nDataset created with {len(all_datasets)} entries\")\n",
        "\n",
        "    # Create Hugging Face dataset\n",
        "    dataset_dict_hf = {\n",
        "        \"original_text\": [],\n",
        "        \"enhanced_text\": [],\n",
        "        \"question\": [],  # Updated from instruction to question\n",
        "        \"title\": [],\n",
        "        \"reasoning\": []\n",
        "    }\n",
        "\n",
        "    for chunk_data in all_datasets.values():\n",
        "        for key in dataset_dict_hf.keys():\n",
        "            dataset_dict_hf[key].append(chunk_data.get(key, None))\n",
        "\n",
        "    from datasets import Dataset\n",
        "    dataset = Dataset.from_dict(dataset_dict_hf)\n",
        "\n",
        "    return dataset"
      ],
      "metadata": {
        "id": "L53UL5cB-YtA"
      },
      "execution_count": null,
      "outputs": []
    },
    {
      "cell_type": "code",
      "source": [
        "dataset = main()"
      ],
      "metadata": {
        "colab": {
          "base_uri": "https://localhost:8080/"
        },
        "id": "-cdJGh_OnwWV",
        "outputId": "10016906-1855-49e1-eceb-98b7cf5da53e"
      },
      "execution_count": null,
      "outputs": [
        {
          "output_type": "stream",
          "name": "stdout",
          "text": [
            "============\n",
            "2024 Cape Mendocino earthquake.txt\n",
            "============\n",
            "\n",
            "Processing 2024 Cape Mendocino earthquake.txt...\n"
          ]
        },
        {
          "output_type": "stream",
          "name": "stderr",
          "text": [
            "\r  0%|          | 0/265 [00:00<?, ?it/s]"
          ]
        },
        {
          "output_type": "stream",
          "name": "stdout",
          "text": [
            "{'is_meaningful': False, 'enhanced_text': None, 'question': None, 'reasoning': 'The provided text is primarily a navigation element indicating a redirect from a Wikipedia page. It does not contain any actual information about the 2024 Cape Mendocino earthquake, such as details, context, or facts. Therefore, it is marked for discarding as it lacks meaningful content.'}\n",
            "\n",
            "✗ Chunk 0 discarded - not meaningful\n",
            "(Redirected from [2024 Cape Mendocino earthquake](https://en.wikipedia.org/wiki/</w/index.php?title=2024_Cape_Mendocino_earthquake&redirect=no> \"2024 Cape Mendocino earthquake\"))\n"
          ]
        },
        {
          "output_type": "stream",
          "name": "stderr",
          "text": [
            "\r  0%|          | 1/265 [00:01<08:45,  1.99s/it]"
          ]
        },
        {
          "output_type": "stream",
          "name": "stdout",
          "text": [
            "{'is_meaningful': False, 'enhanced_text': None, 'question': None, 'reasoning': 'The text provided consists primarily of links, images, and navigation elements related to a list of earthquakes in 2024. It does not contain any specific information or details about the 2024 Cape Mendocino earthquake or any other earthquake events. Therefore, it lacks meaningful content and is marked for discarding.'}\n",
            "\n",
            "✗ Chunk 1 discarded - not meaningful\n",
            "Earthquakes in 2024[![List of earthquakes in 2024 is located in Earth](https://upload.wikimedia.org/wikipedia/commons/thumb/b/b0/World_location_map_%28equirectangular_180%29.svg/300px-World_location_map_%28equirectangular_180%29.svg.png)](https://en.wikipedia.org/wiki/</wiki/File:World_location_map_\\(equirectangular_180\\).svg> \"List of earthquakes in 2024 is located in Earth\")![List of earthquakes in 2024](https://upload.wikimedia.org/wikipedia/commons/thumb/a/ab/Green_pog.svg/8px-Green_pog.svg.png)![List of earthquakes in 2024](https://upload.wikimedia.org/wikipedia/commons/thumb/a/ab/Green_pog.svg/8px-Green_pog.svg.png)![List of earthquakes in 2024](https://upload.wikimedia.org/wikipedia/commons/thumb/a/ab/Green_pog.svg/8px-Green_pog.svg.png)![List of earthquakes in 2024](https://upload.wikimedia.org/wikipedia/commons/thumb/a/ab/Green_pog.svg/8px-Green_pog.svg.png)![List of earthquakes in\n"
          ]
        },
        {
          "output_type": "stream",
          "name": "stderr",
          "text": [
            "\r  1%|          | 2/265 [00:03<07:33,  1.72s/it]"
          ]
        },
        {
          "output_type": "stream",
          "name": "stdout",
          "text": [
            "{'is_meaningful': False, 'enhanced_text': None, 'question': None, 'reasoning': 'The text chunk consists entirely of repeated links and navigation elements related to a list of earthquakes in 2024. It does not contain any actual information or context about the 2024 Cape Mendocino earthquake or any other specific event. Therefore, it is marked for discarding.'}\n",
            "\n",
            "✗ Chunk 2 discarded - not meaningful\n",
            "of earthquakes in 2024](https://upload.wikimedia.org/wikipedia/commons/thumb/a/ab/Green_pog.svg/8px-Green_pog.svg.png)![List of earthquakes in 2024](https://upload.wikimedia.org/wikipedia/commons/thumb/a/ab/Green_pog.svg/8px-Green_pog.svg.png)![List of earthquakes in 2024](https://upload.wikimedia.org/wikipedia/commons/thumb/a/ab/Green_pog.svg/8px-Green_pog.svg.png)![List of earthquakes in 2024](https://upload.wikimedia.org/wikipedia/commons/thumb/a/ab/Green_pog.svg/8px-Green_pog.svg.png)![List of earthquakes in 2024](https://upload.wikimedia.org/wikipedia/commons/thumb/a/ab/Green_pog.svg/8px-Green_pog.svg.png)![List of earthquakes in 2024](https://upload.wikimedia.org/wikipedia/commons/thumb/a/ab/Green_pog.svg/8px-Green_pog.svg.png)![List of earthquakes in 2024](https://upload.wikimedia.org/wikipedia/commons/thumb/a/ab/Green_pog.svg/8px-Green_pog.svg.png)![List of earthquakes in 2024](https://upload.wikimedia.org/wikipedia/commons/thumb/a/ab/Green_pog.svg/8px-Green_pog.svg.png)![List\n"
          ]
        },
        {
          "output_type": "stream",
          "name": "stderr",
          "text": [
            "\r  1%|          | 3/265 [00:04<06:53,  1.58s/it]"
          ]
        },
        {
          "output_type": "stream",
          "name": "stdout",
          "text": [
            "{'is_meaningful': False, 'enhanced_text': None, 'question': None, 'reasoning': 'The content consists entirely of repeated links and navigation elements related to a list of earthquakes in 2024, without providing any specific information or context about the 2024 Cape Mendocino earthquake. Therefore, it does not contain meaningful information and is marked for discarding.'}\n",
            "\n",
            "✗ Chunk 3 discarded - not meaningful\n",
            "of earthquakes in 2024](https://upload.wikimedia.org/wikipedia/commons/thumb/a/ab/Green_pog.svg/8px-Green_pog.svg.png)![List of earthquakes in 2024](https://upload.wikimedia.org/wikipedia/commons/thumb/a/ab/Green_pog.svg/8px-Green_pog.svg.png)![List of earthquakes in 2024](https://upload.wikimedia.org/wikipedia/commons/thumb/a/ab/Green_pog.svg/8px-Green_pog.svg.png)![List of earthquakes in 2024](https://upload.wikimedia.org/wikipedia/commons/thumb/a/ab/Green_pog.svg/8px-Green_pog.svg.png)![List of earthquakes in 2024](https://upload.wikimedia.org/wikipedia/commons/thumb/a/ab/Green_pog.svg/8px-Green_pog.svg.png)![List of earthquakes in 2024](https://upload.wikimedia.org/wikipedia/commons/thumb/a/ab/Green_pog.svg/8px-Green_pog.svg.png)![List of earthquakes in 2024](https://upload.wikimedia.org/wikipedia/commons/thumb/a/ab/Green_pog.svg/8px-Green_pog.svg.png)![List of earthquakes in 2024](https://upload.wikimedia.org/wikipedia/commons/thumb/a/ab/Green_pog.svg/8px-Green_pog.svg.png)![List\n"
          ]
        },
        {
          "output_type": "stream",
          "name": "stderr",
          "text": [
            "\r  2%|▏         | 4/265 [00:06<06:40,  1.53s/it]"
          ]
        },
        {
          "output_type": "stream",
          "name": "stdout",
          "text": [
            "{'is_meaningful': False, 'enhanced_text': None, 'question': None, 'reasoning': 'The text chunk consists entirely of repetitive links and navigation elements related to a list of earthquakes in 2024. It does not contain any actual information or context about the 2024 Cape Mendocino earthquake or any other specific event. Therefore, it is marked for discarding as it lacks meaningful content.'}\n",
            "\n",
            "✗ Chunk 4 discarded - not meaningful\n",
            "of earthquakes in 2024](https://upload.wikimedia.org/wikipedia/commons/thumb/a/ab/Green_pog.svg/8px-Green_pog.svg.png)![List of earthquakes in 2024](https://upload.wikimedia.org/wikipedia/commons/thumb/a/ab/Green_pog.svg/8px-Green_pog.svg.png)![List of earthquakes in 2024](https://upload.wikimedia.org/wikipedia/commons/thumb/a/ab/Green_pog.svg/8px-Green_pog.svg.png)![List of earthquakes in 2024](https://upload.wikimedia.org/wikipedia/commons/thumb/a/ab/Green_pog.svg/8px-Green_pog.svg.png)![List of earthquakes in 2024](https://upload.wikimedia.org/wikipedia/commons/thumb/a/ab/Green_pog.svg/8px-Green_pog.svg.png)![List of earthquakes in 2024](https://upload.wikimedia.org/wikipedia/commons/thumb/a/ab/Green_pog.svg/8px-Green_pog.svg.png)![List of earthquakes in 2024](https://upload.wikimedia.org/wikipedia/commons/thumb/a/ab/Green_pog.svg/8px-Green_pog.svg.png)![List of earthquakes in 2024](https://upload.wikimedia.org/wikipedia/commons/thumb/a/ab/Green_pog.svg/8px-Green_pog.svg.png)![List\n"
          ]
        },
        {
          "output_type": "stream",
          "name": "stderr",
          "text": [
            "\r  2%|▏         | 5/265 [00:07<06:40,  1.54s/it]"
          ]
        },
        {
          "output_type": "stream",
          "name": "stdout",
          "text": [
            "{'is_meaningful': False, 'enhanced_text': None, 'question': None, 'reasoning': 'The text chunk consists entirely of repetitive image links and does not contain any actual information about the 2024 Cape Mendocino earthquake or any other meaningful content. It is purely navigational and non-informative, thus marked for discarding.'}\n",
            "\n",
            "✗ Chunk 5 discarded - not meaningful\n",
            "of earthquakes in 2024](https://upload.wikimedia.org/wikipedia/commons/thumb/a/ab/Green_pog.svg/8px-Green_pog.svg.png)![List of earthquakes in 2024](https://upload.wikimedia.org/wikipedia/commons/thumb/a/ab/Green_pog.svg/8px-Green_pog.svg.png)![List of earthquakes in 2024](https://upload.wikimedia.org/wikipedia/commons/thumb/a/ab/Green_pog.svg/8px-Green_pog.svg.png)![List of earthquakes in 2024](https://upload.wikimedia.org/wikipedia/commons/thumb/a/ab/Green_pog.svg/8px-Green_pog.svg.png)![List of earthquakes in 2024](https://upload.wikimedia.org/wikipedia/commons/thumb/a/ab/Green_pog.svg/8px-Green_pog.svg.png)![List of earthquakes in 2024](https://upload.wikimedia.org/wikipedia/commons/thumb/a/ab/Green_pog.svg/8px-Green_pog.svg.png)![List of earthquakes in 2024](https://upload.wikimedia.org/wikipedia/commons/thumb/a/ab/Green_pog.svg/8px-Green_pog.svg.png)![List of earthquakes in 2024](https://upload.wikimedia.org/wikipedia/commons/thumb/a/ab/Green_pog.svg/8px-Green_pog.svg.png)![List\n"
          ]
        },
        {
          "output_type": "stream",
          "name": "stderr",
          "text": [
            "\r  2%|▏         | 6/265 [00:09<06:22,  1.48s/it]"
          ]
        },
        {
          "output_type": "stream",
          "name": "stdout",
          "text": [
            "{'is_meaningful': False, 'enhanced_text': None, 'question': None, 'reasoning': 'The text chunk consists entirely of repeated links and image references related to a list of earthquakes in 2024. It does not contain any actual information about the 2024 Cape Mendocino earthquake or any meaningful context or details. Therefore, it is marked for discarding.'}\n",
            "\n",
            "✗ Chunk 6 discarded - not meaningful\n",
            "of earthquakes in 2024](https://upload.wikimedia.org/wikipedia/commons/thumb/a/ab/Green_pog.svg/8px-Green_pog.svg.png)![List of earthquakes in 2024](https://upload.wikimedia.org/wikipedia/commons/thumb/a/ab/Green_pog.svg/8px-Green_pog.svg.png)![List of earthquakes in 2024](https://upload.wikimedia.org/wikipedia/commons/thumb/a/ab/Green_pog.svg/8px-Green_pog.svg.png)![List of earthquakes in 2024](https://upload.wikimedia.org/wikipedia/commons/thumb/a/ab/Green_pog.svg/8px-Green_pog.svg.png)![List of earthquakes in 2024](https://upload.wikimedia.org/wikipedia/commons/thumb/a/ab/Green_pog.svg/8px-Green_pog.svg.png)![List of earthquakes in 2024](https://upload.wikimedia.org/wikipedia/commons/thumb/a/ab/Green_pog.svg/8px-Green_pog.svg.png)![List of earthquakes in 2024](https://upload.wikimedia.org/wikipedia/commons/thumb/a/ab/Green_pog.svg/8px-Green_pog.svg.png)![List of earthquakes in 2024](https://upload.wikimedia.org/wikipedia/commons/thumb/a/ab/Green_pog.svg/8px-Green_pog.svg.png)![List\n"
          ]
        },
        {
          "output_type": "stream",
          "name": "stderr",
          "text": [
            "\r  3%|▎         | 7/265 [00:10<06:02,  1.41s/it]"
          ]
        },
        {
          "output_type": "stream",
          "name": "stdout",
          "text": [
            "{'is_meaningful': False, 'enhanced_text': None, 'question': None, 'reasoning': 'The content consists solely of repeated image links and does not provide any meaningful information about the 2024 Cape Mendocino earthquake or any other relevant details. It lacks context, facts, or any informative content, making it suitable for discarding.'}\n",
            "\n",
            "✗ Chunk 7 discarded - not meaningful\n",
            "of earthquakes in 2024](https://upload.wikimedia.org/wikipedia/commons/thumb/a/ab/Green_pog.svg/8px-Green_pog.svg.png)![List of earthquakes in 2024](https://upload.wikimedia.org/wikipedia/commons/thumb/a/ab/Green_pog.svg/8px-Green_pog.svg.png)![List of earthquakes in 2024](https://upload.wikimedia.org/wikipedia/commons/thumb/a/ab/Green_pog.svg/8px-Green_pog.svg.png)![List of earthquakes in 2024](https://upload.wikimedia.org/wikipedia/commons/thumb/a/ab/Green_pog.svg/8px-Green_pog.svg.png)![List of earthquakes in 2024](https://upload.wikimedia.org/wikipedia/commons/thumb/a/ab/Green_pog.svg/8px-Green_pog.svg.png)![List of earthquakes in 2024](https://upload.wikimedia.org/wikipedia/commons/thumb/a/ab/Green_pog.svg/8px-Green_pog.svg.png)![List of earthquakes in 2024](https://upload.wikimedia.org/wikipedia/commons/thumb/a/ab/Green_pog.svg/8px-Green_pog.svg.png)![List of earthquakes in 2024](https://upload.wikimedia.org/wikipedia/commons/thumb/a/ab/Green_pog.svg/8px-Green_pog.svg.png)![List\n"
          ]
        },
        {
          "output_type": "stream",
          "name": "stderr",
          "text": [
            "\r  3%|▎         | 8/265 [00:11<05:46,  1.35s/it]"
          ]
        },
        {
          "output_type": "stream",
          "name": "stdout",
          "text": [
            "{'is_meaningful': False, 'enhanced_text': None, 'question': None, 'reasoning': 'The text chunk consists entirely of repeated image links and navigation elements related to a list of earthquakes in 2024. It does not contain any actual information about the 2024 Cape Mendocino earthquake or any other meaningful content. Therefore, it is marked for discarding.'}\n",
            "\n",
            "✗ Chunk 8 discarded - not meaningful\n",
            "of earthquakes in 2024](https://upload.wikimedia.org/wikipedia/commons/thumb/a/ab/Green_pog.svg/8px-Green_pog.svg.png)![List of earthquakes in 2024](https://upload.wikimedia.org/wikipedia/commons/thumb/a/ab/Green_pog.svg/8px-Green_pog.svg.png)![List of earthquakes in 2024](https://upload.wikimedia.org/wikipedia/commons/thumb/a/ab/Green_pog.svg/8px-Green_pog.svg.png)![List of earthquakes in 2024](https://upload.wikimedia.org/wikipedia/commons/thumb/a/ab/Green_pog.svg/8px-Green_pog.svg.png)![List of earthquakes in 2024](https://upload.wikimedia.org/wikipedia/commons/thumb/a/ab/Green_pog.svg/8px-Green_pog.svg.png)![List of earthquakes in 2024](https://upload.wikimedia.org/wikipedia/commons/thumb/a/ab/Green_pog.svg/8px-Green_pog.svg.png)![List of earthquakes in 2024](https://upload.wikimedia.org/wikipedia/commons/thumb/a/ab/Green_pog.svg/8px-Green_pog.svg.png)![List of earthquakes in 2024](https://upload.wikimedia.org/wikipedia/commons/thumb/a/ab/Green_pog.svg/8px-Green_pog.svg.png)![List\n"
          ]
        },
        {
          "output_type": "stream",
          "name": "stderr",
          "text": [
            "\r  3%|▎         | 9/265 [00:13<06:06,  1.43s/it]"
          ]
        },
        {
          "output_type": "stream",
          "name": "stdout",
          "text": [
            "{'is_meaningful': False, 'enhanced_text': None, 'question': None, 'reasoning': 'The text chunk consists entirely of repetitive links and image references related to a list of earthquakes in 2024. It does not contain any actual information about the 2024 Cape Mendocino earthquake or any meaningful context or details. Therefore, it is marked for discarding.'}\n",
            "\n",
            "✗ Chunk 9 discarded - not meaningful\n",
            "of earthquakes in 2024](https://upload.wikimedia.org/wikipedia/commons/thumb/a/ab/Green_pog.svg/8px-Green_pog.svg.png)![List of earthquakes in 2024](https://upload.wikimedia.org/wikipedia/commons/thumb/a/ab/Green_pog.svg/8px-Green_pog.svg.png)![List of earthquakes in 2024](https://upload.wikimedia.org/wikipedia/commons/thumb/a/ab/Green_pog.svg/8px-Green_pog.svg.png)![List of earthquakes in 2024](https://upload.wikimedia.org/wikipedia/commons/thumb/a/ab/Green_pog.svg/8px-Green_pog.svg.png)![List of earthquakes in 2024](https://upload.wikimedia.org/wikipedia/commons/thumb/a/ab/Green_pog.svg/8px-Green_pog.svg.png)![List of earthquakes in 2024](https://upload.wikimedia.org/wikipedia/commons/thumb/a/ab/Green_pog.svg/8px-Green_pog.svg.png)![List of earthquakes in 2024](https://upload.wikimedia.org/wikipedia/commons/thumb/a/ab/Green_pog.svg/8px-Green_pog.svg.png)![List of earthquakes in 2024](https://upload.wikimedia.org/wikipedia/commons/thumb/a/ab/Green_pog.svg/8px-Green_pog.svg.png)![List\n"
          ]
        },
        {
          "output_type": "stream",
          "name": "stderr",
          "text": [
            "\r  4%|▍         | 10/265 [00:14<06:02,  1.42s/it]"
          ]
        },
        {
          "output_type": "stream",
          "name": "stdout",
          "text": [
            "{'is_meaningful': False, 'enhanced_text': None, 'question': None, 'reasoning': \"The text consists entirely of repeated image links and navigation elements related to the 'List of earthquakes in 2024.' It does not contain any actual information or context about the 2024 Cape Mendocino earthquake or any other event. Therefore, it is marked for discarding.\"}\n",
            "\n",
            "✗ Chunk 10 discarded - not meaningful\n",
            "of earthquakes in 2024](https://upload.wikimedia.org/wikipedia/commons/thumb/a/ab/Green_pog.svg/8px-Green_pog.svg.png)![List of earthquakes in 2024](https://upload.wikimedia.org/wikipedia/commons/thumb/a/ab/Green_pog.svg/8px-Green_pog.svg.png)![List of earthquakes in 2024](https://upload.wikimedia.org/wikipedia/commons/thumb/a/ab/Green_pog.svg/8px-Green_pog.svg.png)![List of earthquakes in 2024](https://upload.wikimedia.org/wikipedia/commons/thumb/a/ab/Green_pog.svg/8px-Green_pog.svg.png)![List of earthquakes in 2024](https://upload.wikimedia.org/wikipedia/commons/thumb/a/ab/Green_pog.svg/8px-Green_pog.svg.png)![List of earthquakes in 2024](https://upload.wikimedia.org/wikipedia/commons/thumb/a/ab/Green_pog.svg/8px-Green_pog.svg.png)![List of earthquakes in 2024](https://upload.wikimedia.org/wikipedia/commons/thumb/a/ab/Green_pog.svg/8px-Green_pog.svg.png)![List of earthquakes in 2024](https://upload.wikimedia.org/wikipedia/commons/thumb/a/ab/Green_pog.svg/8px-Green_pog.svg.png)![List\n"
          ]
        },
        {
          "output_type": "stream",
          "name": "stderr",
          "text": [
            "\r  4%|▍         | 11/265 [00:16<05:50,  1.38s/it]"
          ]
        },
        {
          "output_type": "stream",
          "name": "stdout",
          "text": [
            "{'is_meaningful': False, 'enhanced_text': None, 'question': None, 'reasoning': 'The text chunk consists entirely of repetitive links and image references related to a list of earthquakes in 2024. It does not contain any actual information or context about the 2024 Cape Mendocino earthquake or any other specific event. Therefore, it is marked for discarding.'}\n",
            "\n",
            "✗ Chunk 11 discarded - not meaningful\n",
            "of earthquakes in 2024](https://upload.wikimedia.org/wikipedia/commons/thumb/a/ab/Green_pog.svg/8px-Green_pog.svg.png)![List of earthquakes in 2024](https://upload.wikimedia.org/wikipedia/commons/thumb/a/ab/Green_pog.svg/8px-Green_pog.svg.png)![List of earthquakes in 2024](https://upload.wikimedia.org/wikipedia/commons/thumb/a/ab/Green_pog.svg/8px-Green_pog.svg.png)![List of earthquakes in 2024](https://upload.wikimedia.org/wikipedia/commons/thumb/a/ab/Green_pog.svg/8px-Green_pog.svg.png)![List of earthquakes in 2024](https://upload.wikimedia.org/wikipedia/commons/thumb/a/ab/Green_pog.svg/8px-Green_pog.svg.png)![List of earthquakes in 2024](https://upload.wikimedia.org/wikipedia/commons/thumb/a/ab/Green_pog.svg/8px-Green_pog.svg.png)![List of earthquakes in 2024](https://upload.wikimedia.org/wikipedia/commons/thumb/a/ab/Green_pog.svg/8px-Green_pog.svg.png)![List of earthquakes in 2024](https://upload.wikimedia.org/wikipedia/commons/thumb/a/ab/Green_pog.svg/8px-Green_pog.svg.png)![List\n"
          ]
        },
        {
          "output_type": "stream",
          "name": "stderr",
          "text": [
            "\r  5%|▍         | 12/265 [00:17<05:39,  1.34s/it]"
          ]
        },
        {
          "output_type": "stream",
          "name": "stdout",
          "text": [
            "{'is_meaningful': False, 'enhanced_text': None, 'question': None, 'reasoning': 'The content consists entirely of repetitive links and navigation elements related to a list of earthquakes in 2024, without providing any actual information or context about the 2024 Cape Mendocino earthquake or any other specific event. Therefore, it lacks meaningful information and is marked for discarding.'}\n",
            "\n",
            "✗ Chunk 12 discarded - not meaningful\n",
            "of earthquakes in 2024](https://upload.wikimedia.org/wikipedia/commons/thumb/a/ab/Green_pog.svg/8px-Green_pog.svg.png)![List of earthquakes in 2024](https://upload.wikimedia.org/wikipedia/commons/thumb/a/ab/Green_pog.svg/8px-Green_pog.svg.png)![List of earthquakes in 2024](https://upload.wikimedia.org/wikipedia/commons/thumb/a/ab/Green_pog.svg/8px-Green_pog.svg.png)![List of earthquakes in 2024](https://upload.wikimedia.org/wikipedia/commons/thumb/a/ab/Green_pog.svg/8px-Green_pog.svg.png)![List of earthquakes in 2024](https://upload.wikimedia.org/wikipedia/commons/thumb/a/ab/Green_pog.svg/8px-Green_pog.svg.png)![List of earthquakes in 2024](https://upload.wikimedia.org/wikipedia/commons/thumb/a/ab/Green_pog.svg/8px-Green_pog.svg.png)![List of earthquakes in 2024](https://upload.wikimedia.org/wikipedia/commons/thumb/a/ab/Green_pog.svg/8px-Green_pog.svg.png)![List of earthquakes in 2024](https://upload.wikimedia.org/wikipedia/commons/thumb/a/ab/Green_pog.svg/8px-Green_pog.svg.png)![List\n"
          ]
        },
        {
          "output_type": "stream",
          "name": "stderr",
          "text": [
            "\r  5%|▍         | 13/265 [00:18<05:26,  1.29s/it]"
          ]
        },
        {
          "output_type": "stream",
          "name": "stdout",
          "text": [
            "{'is_meaningful': False, 'enhanced_text': None, 'question': None, 'reasoning': 'The text chunk consists entirely of links and image references related to a list of earthquakes in 2024. It does not contain any substantive information about the 2024 Cape Mendocino earthquake or any other event. Therefore, it is non-informative and should be discarded.'}\n",
            "\n",
            "✗ Chunk 13 discarded - not meaningful\n",
            "of earthquakes in 2024](https://upload.wikimedia.org/wikipedia/commons/thumb/a/ab/Green_pog.svg/8px-Green_pog.svg.png)![List of earthquakes in 2024](https://upload.wikimedia.org/wikipedia/commons/thumb/a/ab/Green_pog.svg/8px-Green_pog.svg.png)![List of earthquakes in 2024](https://upload.wikimedia.org/wikipedia/commons/thumb/a/ab/Green_pog.svg/8px-Green_pog.svg.png)![List of earthquakes in 2024](https://upload.wikimedia.org/wikipedia/commons/thumb/a/ab/Green_pog.svg/8px-Green_pog.svg.png)![List of earthquakes in 2024](https://upload.wikimedia.org/wikipedia/commons/thumb/a/ab/Green_pog.svg/8px-Green_pog.svg.png)![List of earthquakes in 2024](https://upload.wikimedia.org/wikipedia/commons/thumb/a/ab/Green_pog.svg/8px-Green_pog.svg.png)![List of earthquakes in 2024](https://upload.wikimedia.org/wikipedia/commons/thumb/9/9d/Yellow_pog.svg/8px-Yellow_pog.svg.png)![List of earthquakes in\n"
          ]
        },
        {
          "output_type": "stream",
          "name": "stderr",
          "text": [
            "\r  5%|▌         | 14/265 [00:20<05:49,  1.39s/it]"
          ]
        },
        {
          "output_type": "stream",
          "name": "stdout",
          "text": [
            "{'is_meaningful': False, 'enhanced_text': None, 'question': None, 'reasoning': 'The text provided consists entirely of repetitive links and image references related to a list of earthquakes in 2024. It does not contain any actual information, context, or details about the 2024 Cape Mendocino earthquake or any other event. Therefore, it is marked for discarding as it does not meet the criteria for meaningful content.'}\n",
            "\n",
            "✗ Chunk 14 discarded - not meaningful\n",
            "of earthquakes in 2024](https://upload.wikimedia.org/wikipedia/commons/thumb/9/9d/Yellow_pog.svg/8px-Yellow_pog.svg.png)![List of earthquakes in 2024](https://upload.wikimedia.org/wikipedia/commons/thumb/9/9d/Yellow_pog.svg/8px-Yellow_pog.svg.png)![List of earthquakes in 2024](https://upload.wikimedia.org/wikipedia/commons/thumb/9/9d/Yellow_pog.svg/8px-Yellow_pog.svg.png)![List of earthquakes in 2024](https://upload.wikimedia.org/wikipedia/commons/thumb/9/9d/Yellow_pog.svg/8px-Yellow_pog.svg.png)![List of earthquakes in 2024](https://upload.wikimedia.org/wikipedia/commons/thumb/9/9d/Yellow_pog.svg/8px-Yellow_pog.svg.png)![List of earthquakes in 2024](https://upload.wikimedia.org/wikipedia/commons/thumb/9/9d/Yellow_pog.svg/8px-Yellow_pog.svg.png)![List of earthquakes in 2024](https://upload.wikimedia.org/wikipedia/commons/thumb/9/9d/Yellow_pog.svg/8px-Yellow_pog.svg.png)![List of earthquakes in\n"
          ]
        },
        {
          "output_type": "stream",
          "name": "stderr",
          "text": [
            "\r  6%|▌         | 15/265 [00:22<06:29,  1.56s/it]"
          ]
        },
        {
          "output_type": "stream",
          "name": "stdout",
          "text": [
            "{'is_meaningful': False, 'enhanced_text': None, 'question': None, 'reasoning': 'The text provided consists entirely of repetitive links and navigation elements related to a list of earthquakes in 2024, without any actual information or context about the 2024 Cape Mendocino earthquake. Therefore, it lacks meaningful content and is marked for discarding.'}\n",
            "\n",
            "✗ Chunk 15 discarded - not meaningful\n",
            "of earthquakes in 2024](https://upload.wikimedia.org/wikipedia/commons/thumb/9/9d/Yellow_pog.svg/8px-Yellow_pog.svg.png)![List of earthquakes in 2024](https://upload.wikimedia.org/wikipedia/commons/thumb/9/9d/Yellow_pog.svg/8px-Yellow_pog.svg.png)![List of earthquakes in 2024](https://upload.wikimedia.org/wikipedia/commons/thumb/9/9d/Yellow_pog.svg/8px-Yellow_pog.svg.png)![List of earthquakes in 2024](https://upload.wikimedia.org/wikipedia/commons/thumb/9/9d/Yellow_pog.svg/8px-Yellow_pog.svg.png)![List of earthquakes in 2024](https://upload.wikimedia.org/wikipedia/commons/thumb/9/9d/Yellow_pog.svg/8px-Yellow_pog.svg.png)![List of earthquakes in 2024](https://upload.wikimedia.org/wikipedia/commons/thumb/9/9d/Yellow_pog.svg/8px-Yellow_pog.svg.png)![List of earthquakes in 2024](https://upload.wikimedia.org/wikipedia/commons/thumb/9/9d/Yellow_pog.svg/8px-Yellow_pog.svg.png)![List of earthquakes in\n"
          ]
        },
        {
          "output_type": "stream",
          "name": "stderr",
          "text": [
            "\r  6%|▌         | 16/265 [00:24<07:43,  1.86s/it]"
          ]
        },
        {
          "output_type": "stream",
          "name": "stdout",
          "text": [
            "{'is_meaningful': False, 'enhanced_text': None, 'question': None, 'reasoning': 'The text chunk consists entirely of repeated links and navigation elements related to a list of earthquakes in 2024. It does not contain any actual information or context about the 2024 Cape Mendocino earthquake or any other specific event. Therefore, it is marked for discarding.'}\n",
            "\n",
            "✗ Chunk 16 discarded - not meaningful\n",
            "of earthquakes in 2024](https://upload.wikimedia.org/wikipedia/commons/thumb/9/9d/Yellow_pog.svg/8px-Yellow_pog.svg.png)![List of earthquakes in 2024](https://upload.wikimedia.org/wikipedia/commons/thumb/9/9d/Yellow_pog.svg/8px-Yellow_pog.svg.png)![List of earthquakes in 2024](https://upload.wikimedia.org/wikipedia/commons/thumb/9/9d/Yellow_pog.svg/8px-Yellow_pog.svg.png)![List of earthquakes in 2024](https://upload.wikimedia.org/wikipedia/commons/thumb/9/9d/Yellow_pog.svg/8px-Yellow_pog.svg.png)![List of earthquakes in 2024](https://upload.wikimedia.org/wikipedia/commons/thumb/9/9d/Yellow_pog.svg/8px-Yellow_pog.svg.png)![List of earthquakes in 2024](https://upload.wikimedia.org/wikipedia/commons/thumb/9/9d/Yellow_pog.svg/8px-Yellow_pog.svg.png)![List of earthquakes in 2024](https://upload.wikimedia.org/wikipedia/commons/thumb/9/9d/Yellow_pog.svg/8px-Yellow_pog.svg.png)![List of earthquakes in\n"
          ]
        },
        {
          "output_type": "stream",
          "name": "stderr",
          "text": [
            "\r  6%|▋         | 17/265 [00:25<07:02,  1.70s/it]"
          ]
        },
        {
          "output_type": "stream",
          "name": "stdout",
          "text": [
            "{'is_meaningful': False, 'enhanced_text': None, 'question': None, 'reasoning': 'The content consists entirely of links and navigation elements related to a list of earthquakes in 2024. It does not provide any actual information or context about the 2024 Cape Mendocino earthquake or any other specific event. Therefore, it is marked for discarding.'}\n",
            "\n",
            "✗ Chunk 17 discarded - not meaningful\n",
            "of earthquakes in 2024](https://upload.wikimedia.org/wikipedia/commons/thumb/9/9d/Yellow_pog.svg/8px-Yellow_pog.svg.png)![List of earthquakes in 2024](https://upload.wikimedia.org/wikipedia/commons/thumb/9/9d/Yellow_pog.svg/8px-Yellow_pog.svg.png)![List of earthquakes in 2024](https://upload.wikimedia.org/wikipedia/commons/thumb/9/9d/Yellow_pog.svg/8px-Yellow_pog.svg.png)![List of earthquakes in 2024](https://upload.wikimedia.org/wikipedia/commons/thumb/9/9d/Yellow_pog.svg/8px-Yellow_pog.svg.png)![List of earthquakes in 2024](https://upload.wikimedia.org/wikipedia/commons/thumb/9/9d/Yellow_pog.svg/8px-Yellow_pog.svg.png)![List of earthquakes in 2024](https://upload.wikimedia.org/wikipedia/commons/thumb/9/9d/Yellow_pog.svg/8px-Yellow_pog.svg.png)![List of earthquakes in 2024](https://upload.wikimedia.org/wikipedia/commons/thumb/9/9d/Yellow_pog.svg/8px-Yellow_pog.svg.png)![List of earthquakes in\n"
          ]
        },
        {
          "output_type": "stream",
          "name": "stderr",
          "text": [
            "\r  7%|▋         | 18/265 [00:27<07:05,  1.72s/it]"
          ]
        },
        {
          "output_type": "stream",
          "name": "stdout",
          "text": [
            "{'is_meaningful': False, 'enhanced_text': None, 'question': None, 'reasoning': 'The text consists entirely of repetitive links and navigation elements related to a list of earthquakes in 2024. It does not contain any actual information or context about the 2024 Cape Mendocino earthquake or any other specific event. Therefore, it is marked for discarding.'}\n",
            "\n",
            "✗ Chunk 18 discarded - not meaningful\n",
            "of earthquakes in 2024](https://upload.wikimedia.org/wikipedia/commons/thumb/9/9d/Yellow_pog.svg/8px-Yellow_pog.svg.png)![List of earthquakes in 2024](https://upload.wikimedia.org/wikipedia/commons/thumb/9/9d/Yellow_pog.svg/8px-Yellow_pog.svg.png)![List of earthquakes in 2024](https://upload.wikimedia.org/wikipedia/commons/thumb/9/9d/Yellow_pog.svg/8px-Yellow_pog.svg.png)![List of earthquakes in 2024](https://upload.wikimedia.org/wikipedia/commons/thumb/9/9d/Yellow_pog.svg/8px-Yellow_pog.svg.png)![List of earthquakes in 2024](https://upload.wikimedia.org/wikipedia/commons/thumb/9/9d/Yellow_pog.svg/8px-Yellow_pog.svg.png)![List of earthquakes in 2024](https://upload.wikimedia.org/wikipedia/commons/thumb/9/9d/Yellow_pog.svg/8px-Yellow_pog.svg.png)![List of earthquakes in 2024](https://upload.wikimedia.org/wikipedia/commons/thumb/9/9d/Yellow_pog.svg/8px-Yellow_pog.svg.png)![List of earthquakes in\n"
          ]
        },
        {
          "output_type": "stream",
          "name": "stderr",
          "text": [
            "\r  7%|▋         | 19/265 [00:29<06:42,  1.63s/it]"
          ]
        },
        {
          "output_type": "stream",
          "name": "stdout",
          "text": [
            "{'is_meaningful': False, 'enhanced_text': None, 'question': None, 'reasoning': 'The content consists solely of repetitive links and navigation elements related to a list of earthquakes in 2024. It does not contain any actual information or context about the 2024 Cape Mendocino earthquake or any other specific event. Therefore, it is marked for discarding.'}\n",
            "\n",
            "✗ Chunk 19 discarded - not meaningful\n",
            "of earthquakes in 2024](https://upload.wikimedia.org/wikipedia/commons/thumb/9/9d/Yellow_pog.svg/8px-Yellow_pog.svg.png)![List of earthquakes in 2024](https://upload.wikimedia.org/wikipedia/commons/thumb/9/9d/Yellow_pog.svg/8px-Yellow_pog.svg.png)![List of earthquakes in 2024](https://upload.wikimedia.org/wikipedia/commons/thumb/9/9d/Yellow_pog.svg/8px-Yellow_pog.svg.png)![List of earthquakes in 2024](https://upload.wikimedia.org/wikipedia/commons/thumb/9/9d/Yellow_pog.svg/8px-Yellow_pog.svg.png)![List of earthquakes in 2024](https://upload.wikimedia.org/wikipedia/commons/thumb/9/9d/Yellow_pog.svg/8px-Yellow_pog.svg.png)![List of earthquakes in 2024](https://upload.wikimedia.org/wikipedia/commons/thumb/9/9d/Yellow_pog.svg/8px-Yellow_pog.svg.png)![List of earthquakes in 2024](https://upload.wikimedia.org/wikipedia/commons/thumb/9/9d/Yellow_pog.svg/8px-Yellow_pog.svg.png)![List of earthquakes in\n"
          ]
        },
        {
          "output_type": "stream",
          "name": "stderr",
          "text": [
            "\r  8%|▊         | 20/265 [00:30<06:14,  1.53s/it]"
          ]
        },
        {
          "output_type": "stream",
          "name": "stdout",
          "text": [
            "{'is_meaningful': False, 'enhanced_text': None, 'question': None, 'reasoning': 'The content consists entirely of repeated image links and navigation elements related to a list of earthquakes in 2024. It does not contain any actual information or context about the 2024 Cape Mendocino earthquake or any other specific event. Therefore, it is marked for discarding.'}\n",
            "\n",
            "✗ Chunk 20 discarded - not meaningful\n",
            "of earthquakes in 2024](https://upload.wikimedia.org/wikipedia/commons/thumb/9/9d/Yellow_pog.svg/8px-Yellow_pog.svg.png)![List of earthquakes in 2024](https://upload.wikimedia.org/wikipedia/commons/thumb/9/9d/Yellow_pog.svg/8px-Yellow_pog.svg.png)![List of earthquakes in 2024](https://upload.wikimedia.org/wikipedia/commons/thumb/9/9d/Yellow_pog.svg/8px-Yellow_pog.svg.png)![List of earthquakes in 2024](https://upload.wikimedia.org/wikipedia/commons/thumb/9/9d/Yellow_pog.svg/8px-Yellow_pog.svg.png)![List of earthquakes in 2024](https://upload.wikimedia.org/wikipedia/commons/thumb/9/9d/Yellow_pog.svg/8px-Yellow_pog.svg.png)![List of earthquakes in 2024](https://upload.wikimedia.org/wikipedia/commons/thumb/9/9d/Yellow_pog.svg/8px-Yellow_pog.svg.png)![List of earthquakes in 2024](https://upload.wikimedia.org/wikipedia/commons/thumb/9/9d/Yellow_pog.svg/8px-Yellow_pog.svg.png)![List of earthquakes in\n"
          ]
        },
        {
          "output_type": "stream",
          "name": "stderr",
          "text": [
            "\r  8%|▊         | 21/265 [00:32<06:37,  1.63s/it]"
          ]
        },
        {
          "output_type": "stream",
          "name": "stdout",
          "text": [
            "{'is_meaningful': False, 'enhanced_text': None, 'question': None, 'reasoning': 'The text chunk consists entirely of repeated links and image references related to a list of earthquakes in 2024. It does not contain any actual information, context, or details about the 2024 Cape Mendocino earthquake or any other event. Therefore, it is marked for discarding as it lacks meaningful content.'}\n",
            "\n",
            "✗ Chunk 21 discarded - not meaningful\n",
            "of earthquakes in 2024](https://upload.wikimedia.org/wikipedia/commons/thumb/9/9d/Yellow_pog.svg/8px-Yellow_pog.svg.png)![List of earthquakes in 2024](https://upload.wikimedia.org/wikipedia/commons/thumb/9/9d/Yellow_pog.svg/8px-Yellow_pog.svg.png)![List of earthquakes in 2024](https://upload.wikimedia.org/wikipedia/commons/thumb/9/9d/Yellow_pog.svg/8px-Yellow_pog.svg.png)![List of earthquakes in 2024](https://upload.wikimedia.org/wikipedia/commons/thumb/9/9d/Yellow_pog.svg/8px-Yellow_pog.svg.png)![List of earthquakes in 2024](https://upload.wikimedia.org/wikipedia/commons/thumb/9/9d/Yellow_pog.svg/8px-Yellow_pog.svg.png)![List of earthquakes in 2024](https://upload.wikimedia.org/wikipedia/commons/thumb/9/9d/Yellow_pog.svg/8px-Yellow_pog.svg.png)![List of earthquakes in 2024](https://upload.wikimedia.org/wikipedia/commons/thumb/9/9d/Yellow_pog.svg/8px-Yellow_pog.svg.png)![List of earthquakes in\n"
          ]
        },
        {
          "output_type": "stream",
          "name": "stderr",
          "text": [
            "\r  8%|▊         | 22/265 [00:34<06:44,  1.66s/it]"
          ]
        },
        {
          "output_type": "stream",
          "name": "stdout",
          "text": [
            "{'is_meaningful': False, 'enhanced_text': None, 'question': None, 'reasoning': 'The text chunk consists entirely of repeated links and navigation elements related to a list of earthquakes in 2024. It does not contain any actual information or details about the 2024 Cape Mendocino earthquake or any other event. Therefore, it is marked for discarding.'}\n",
            "\n",
            "✗ Chunk 22 discarded - not meaningful\n",
            "of earthquakes in 2024](https://upload.wikimedia.org/wikipedia/commons/thumb/9/9d/Yellow_pog.svg/8px-Yellow_pog.svg.png)![List of earthquakes in 2024](https://upload.wikimedia.org/wikipedia/commons/thumb/9/9d/Yellow_pog.svg/8px-Yellow_pog.svg.png)![List of earthquakes in 2024](https://upload.wikimedia.org/wikipedia/commons/thumb/9/9d/Yellow_pog.svg/8px-Yellow_pog.svg.png)![List of earthquakes in 2024](https://upload.wikimedia.org/wikipedia/commons/thumb/9/9d/Yellow_pog.svg/8px-Yellow_pog.svg.png)![List of earthquakes in 2024](https://upload.wikimedia.org/wikipedia/commons/thumb/9/9d/Yellow_pog.svg/8px-Yellow_pog.svg.png)![List of earthquakes in 2024](https://upload.wikimedia.org/wikipedia/commons/thumb/9/9d/Yellow_pog.svg/8px-Yellow_pog.svg.png)![List of earthquakes in 2024](https://upload.wikimedia.org/wikipedia/commons/thumb/9/9d/Yellow_pog.svg/8px-Yellow_pog.svg.png)![List of earthquakes in\n"
          ]
        },
        {
          "output_type": "stream",
          "name": "stderr",
          "text": [
            "\r  9%|▊         | 23/265 [00:35<06:20,  1.57s/it]"
          ]
        },
        {
          "output_type": "stream",
          "name": "stdout",
          "text": [
            "{'is_meaningful': False, 'enhanced_text': None, 'question': None, 'reasoning': 'The provided text chunk contains only repetitive links and image references related to a list of earthquakes in 2024, without any actual informative content or context about the 2024 Cape Mendocino earthquake. Therefore, it is marked for discarding as it does not provide any meaningful information.'}\n",
            "\n",
            "✗ Chunk 23 discarded - not meaningful\n",
            "of earthquakes in 2024](https://upload.wikimedia.org/wikipedia/commons/thumb/9/9d/Yellow_pog.svg/8px-Yellow_pog.svg.png)![List of earthquakes in 2024](https://upload.wikimedia.org/wikipedia/commons/thumb/9/9d/Yellow_pog.svg/8px-Yellow_pog.svg.png)![List of earthquakes in 2024](https://upload.wikimedia.org/wikipedia/commons/thumb/9/9d/Yellow_pog.svg/8px-Yellow_pog.svg.png)![List of earthquakes in 2024](https://upload.wikimedia.org/wikipedia/commons/thumb/9/9d/Yellow_pog.svg/8px-Yellow_pog.svg.png)![List of earthquakes in 2024](https://upload.wikimedia.org/wikipedia/commons/thumb/9/9d/Yellow_pog.svg/8px-Yellow_pog.svg.png)![List of earthquakes in 2024](https://upload.wikimedia.org/wikipedia/commons/thumb/9/9d/Yellow_pog.svg/8px-Yellow_pog.svg.png)![List of earthquakes in 2024](https://upload.wikimedia.org/wikipedia/commons/thumb/9/9d/Yellow_pog.svg/8px-Yellow_pog.svg.png)![List of earthquakes in\n"
          ]
        },
        {
          "output_type": "stream",
          "name": "stderr",
          "text": [
            "\r  9%|▉         | 24/265 [00:37<06:22,  1.59s/it]"
          ]
        },
        {
          "output_type": "stream",
          "name": "stdout",
          "text": [
            "{'is_meaningful': False, 'enhanced_text': None, 'question': None, 'reasoning': 'The content consists entirely of repetitive links and navigation elements related to a list of earthquakes in 2024. It does not contain any actual information or meaningful context about the 2024 Cape Mendocino earthquake or any other specific event.'}\n",
            "\n",
            "✗ Chunk 24 discarded - not meaningful\n",
            "of earthquakes in 2024](https://upload.wikimedia.org/wikipedia/commons/thumb/9/9d/Yellow_pog.svg/8px-Yellow_pog.svg.png)![List of earthquakes in 2024](https://upload.wikimedia.org/wikipedia/commons/thumb/9/9d/Yellow_pog.svg/8px-Yellow_pog.svg.png)![List of earthquakes in 2024](https://upload.wikimedia.org/wikipedia/commons/thumb/9/9d/Yellow_pog.svg/8px-Yellow_pog.svg.png)![List of earthquakes in 2024](https://upload.wikimedia.org/wikipedia/commons/thumb/9/9d/Yellow_pog.svg/8px-Yellow_pog.svg.png)![List of earthquakes in 2024](https://upload.wikimedia.org/wikipedia/commons/thumb/9/9d/Yellow_pog.svg/8px-Yellow_pog.svg.png)![List of earthquakes in 2024](https://upload.wikimedia.org/wikipedia/commons/thumb/9/9d/Yellow_pog.svg/8px-Yellow_pog.svg.png)![List of earthquakes in 2024](https://upload.wikimedia.org/wikipedia/commons/thumb/9/9d/Yellow_pog.svg/8px-Yellow_pog.svg.png)![List of earthquakes in\n"
          ]
        },
        {
          "output_type": "stream",
          "name": "stderr",
          "text": [
            "\r  9%|▉         | 25/265 [00:38<06:01,  1.50s/it]"
          ]
        },
        {
          "output_type": "stream",
          "name": "stdout",
          "text": [
            "{'is_meaningful': False, 'enhanced_text': None, 'question': None, 'reasoning': 'The text consists entirely of repeated links and image references related to a list of earthquakes in 2024, without any actual information or context about the 2024 Cape Mendocino earthquake. It lacks meaningful content and details, making it non-informative and suitable for discarding.'}\n",
            "\n",
            "✗ Chunk 25 discarded - not meaningful\n",
            "of earthquakes in 2024](https://upload.wikimedia.org/wikipedia/commons/thumb/9/9d/Yellow_pog.svg/8px-Yellow_pog.svg.png)![List of earthquakes in 2024](https://upload.wikimedia.org/wikipedia/commons/thumb/9/9d/Yellow_pog.svg/8px-Yellow_pog.svg.png)![List of earthquakes in 2024](https://upload.wikimedia.org/wikipedia/commons/thumb/9/9d/Yellow_pog.svg/8px-Yellow_pog.svg.png)![List of earthquakes in 2024](https://upload.wikimedia.org/wikipedia/commons/thumb/9/9d/Yellow_pog.svg/8px-Yellow_pog.svg.png)![List of earthquakes in 2024](https://upload.wikimedia.org/wikipedia/commons/thumb/9/9d/Yellow_pog.svg/8px-Yellow_pog.svg.png)![List of earthquakes in 2024](https://upload.wikimedia.org/wikipedia/commons/thumb/9/9d/Yellow_pog.svg/8px-Yellow_pog.svg.png)![List of earthquakes in 2024](https://upload.wikimedia.org/wikipedia/commons/thumb/9/9d/Yellow_pog.svg/8px-Yellow_pog.svg.png)![List of earthquakes in\n"
          ]
        },
        {
          "output_type": "stream",
          "name": "stderr",
          "text": [
            "\r 10%|▉         | 26/265 [00:40<06:16,  1.58s/it]"
          ]
        },
        {
          "output_type": "stream",
          "name": "stdout",
          "text": [
            "{'is_meaningful': False, 'enhanced_text': None, 'question': None, 'reasoning': 'The content consists solely of repeated links and navigation elements related to a list of earthquakes in 2024. It lacks any specific information or context about the 2024 Cape Mendocino earthquake or any other event. Therefore, it is marked for discarding.'}\n",
            "\n",
            "✗ Chunk 26 discarded - not meaningful\n",
            "of earthquakes in 2024](https://upload.wikimedia.org/wikipedia/commons/thumb/9/9d/Yellow_pog.svg/8px-Yellow_pog.svg.png)![List of earthquakes in 2024](https://upload.wikimedia.org/wikipedia/commons/thumb/9/9d/Yellow_pog.svg/8px-Yellow_pog.svg.png)![List of earthquakes in 2024](https://upload.wikimedia.org/wikipedia/commons/thumb/9/9d/Yellow_pog.svg/8px-Yellow_pog.svg.png)![List of earthquakes in 2024](https://upload.wikimedia.org/wikipedia/commons/thumb/9/9d/Yellow_pog.svg/8px-Yellow_pog.svg.png)![List of earthquakes in 2024](https://upload.wikimedia.org/wikipedia/commons/thumb/9/9d/Yellow_pog.svg/8px-Yellow_pog.svg.png)![List of earthquakes in 2024](https://upload.wikimedia.org/wikipedia/commons/thumb/9/9d/Yellow_pog.svg/8px-Yellow_pog.svg.png)![List of earthquakes in 2024](https://upload.wikimedia.org/wikipedia/commons/thumb/9/9d/Yellow_pog.svg/8px-Yellow_pog.svg.png)![List of earthquakes in\n"
          ]
        },
        {
          "output_type": "stream",
          "name": "stderr",
          "text": [
            "\r 10%|█         | 27/265 [00:42<06:41,  1.69s/it]"
          ]
        },
        {
          "output_type": "stream",
          "name": "stdout",
          "text": [
            "{'is_meaningful': False, 'enhanced_text': None, 'question': None, 'reasoning': 'The text chunk consists entirely of repetitive links and image references related to a list of earthquakes in 2024. It does not contain any actual information about the 2024 Cape Mendocino earthquake or any meaningful context or details. Therefore, it is marked for discarding.'}\n",
            "\n",
            "✗ Chunk 27 discarded - not meaningful\n",
            "of earthquakes in 2024](https://upload.wikimedia.org/wikipedia/commons/thumb/9/9d/Yellow_pog.svg/8px-Yellow_pog.svg.png)![List of earthquakes in 2024](https://upload.wikimedia.org/wikipedia/commons/thumb/9/9d/Yellow_pog.svg/8px-Yellow_pog.svg.png)![List of earthquakes in 2024](https://upload.wikimedia.org/wikipedia/commons/thumb/9/9d/Yellow_pog.svg/8px-Yellow_pog.svg.png)![List of earthquakes in 2024](https://upload.wikimedia.org/wikipedia/commons/thumb/9/9d/Yellow_pog.svg/8px-Yellow_pog.svg.png)![List of earthquakes in 2024](https://upload.wikimedia.org/wikipedia/commons/thumb/9/9d/Yellow_pog.svg/8px-Yellow_pog.svg.png)![List of earthquakes in 2024](https://upload.wikimedia.org/wikipedia/commons/thumb/9/9d/Yellow_pog.svg/8px-Yellow_pog.svg.png)![List of earthquakes in 2024](https://upload.wikimedia.org/wikipedia/commons/thumb/9/9d/Yellow_pog.svg/8px-Yellow_pog.svg.png)![List of earthquakes in\n"
          ]
        },
        {
          "output_type": "stream",
          "name": "stderr",
          "text": [
            "\r 11%|█         | 28/265 [00:44<06:58,  1.77s/it]"
          ]
        },
        {
          "output_type": "stream",
          "name": "stdout",
          "text": [
            "{'is_meaningful': False, 'enhanced_text': None, 'question': None, 'reasoning': 'The content consists entirely of repetitive links and navigation elements related to a list of earthquakes in 2024, without providing any actual information or context about the 2024 Cape Mendocino earthquake or any other event. Therefore, it is marked for discarding.'}\n",
            "\n",
            "✗ Chunk 28 discarded - not meaningful\n",
            "of earthquakes in 2024](https://upload.wikimedia.org/wikipedia/commons/thumb/9/9d/Yellow_pog.svg/8px-Yellow_pog.svg.png)![List of earthquakes in 2024](https://upload.wikimedia.org/wikipedia/commons/thumb/9/9d/Yellow_pog.svg/8px-Yellow_pog.svg.png)![List of earthquakes in 2024](https://upload.wikimedia.org/wikipedia/commons/thumb/9/9d/Yellow_pog.svg/8px-Yellow_pog.svg.png)![List of earthquakes in 2024](https://upload.wikimedia.org/wikipedia/commons/thumb/9/9d/Yellow_pog.svg/8px-Yellow_pog.svg.png)![List of earthquakes in 2024](https://upload.wikimedia.org/wikipedia/commons/thumb/9/9d/Yellow_pog.svg/8px-Yellow_pog.svg.png)![List of earthquakes in 2024](https://upload.wikimedia.org/wikipedia/commons/thumb/9/9d/Yellow_pog.svg/8px-Yellow_pog.svg.png)![List of earthquakes in 2024](https://upload.wikimedia.org/wikipedia/commons/thumb/9/9d/Yellow_pog.svg/8px-Yellow_pog.svg.png)![List of earthquakes in\n"
          ]
        },
        {
          "output_type": "stream",
          "name": "stderr",
          "text": [
            "\r 11%|█         | 29/265 [00:47<08:52,  2.26s/it]"
          ]
        },
        {
          "output_type": "stream",
          "name": "stdout",
          "text": [
            "{'is_meaningful': False, 'enhanced_text': None, 'question': None, 'reasoning': 'The content consists entirely of image links related to a list of earthquakes in 2024 and does not provide any meaningful information about the 2024 Cape Mendocino earthquake or any other specific event. It lacks context, details, and informative content, making it suitable for discarding.'}\n",
            "\n",
            "✗ Chunk 29 discarded - not meaningful\n",
            "of earthquakes in 2024](https://upload.wikimedia.org/wikipedia/commons/thumb/9/9d/Yellow_pog.svg/8px-Yellow_pog.svg.png)![List of earthquakes in 2024](https://upload.wikimedia.org/wikipedia/commons/thumb/e/e0/Orange_pog.svg/8px-Orange_pog.svg.png)![List of earthquakes in 2024](https://upload.wikimedia.org/wikipedia/commons/thumb/e/e0/Orange_pog.svg/8px-Orange_pog.svg.png)![List of earthquakes in 2024](https://upload.wikimedia.org/wikipedia/commons/thumb/e/e0/Orange_pog.svg/8px-Orange_pog.svg.png)![List of earthquakes in 2024](https://upload.wikimedia.org/wikipedia/commons/thumb/e/e0/Orange_pog.svg/8px-Orange_pog.svg.png)![List of earthquakes in 2024](https://upload.wikimedia.org/wikipedia/commons/thumb/e/e0/Orange_pog.svg/8px-Orange_pog.svg.png)![List of earthquakes in 2024](https://upload.wikimedia.org/wikipedia/commons/thumb/e/e0/Orange_pog.svg/8px-Orange_pog.svg.png)![List of earthquakes in\n"
          ]
        },
        {
          "output_type": "stream",
          "name": "stderr",
          "text": [
            "\r 11%|█▏        | 30/265 [00:50<09:31,  2.43s/it]"
          ]
        },
        {
          "output_type": "stream",
          "name": "stdout",
          "text": [
            "{'is_meaningful': False, 'enhanced_text': None, 'question': None, 'reasoning': 'The content provided is primarily composed of links, image references, and navigation elements without any substantial information about the 2024 Cape Mendocino earthquake. It lacks context, details, or any informative content that could be enhanced or used to generate a meaningful question.'}\n",
            "\n",
            "✗ Chunk 30 discarded - not meaningful\n",
            "of earthquakes in 2024](https://upload.wikimedia.org/wikipedia/commons/thumb/e/e0/Orange_pog.svg/8px-Orange_pog.svg.png)![List of earthquakes in 2024](https://upload.wikimedia.org/wikipedia/commons/thumb/e/e0/Orange_pog.svg/8px-Orange_pog.svg.png)![List of earthquakes in 2024](https://upload.wikimedia.org/wikipedia/commons/thumb/e/e0/Orange_pog.svg/8px-Orange_pog.svg.png)![List of earthquakes in 2024](https://upload.wikimedia.org/wikipedia/commons/thumb/e/e0/Orange_pog.svg/8px-Orange_pog.svg.png)![List of earthquakes in 2024](https://upload.wikimedia.org/wikipedia/commons/thumb/e/e0/Orange_pog.svg/8px-Orange_pog.svg.png)[class=notpageimage| ](https://en.wikipedia.org/wiki/</wiki/File:World_location_map_\\(equirectangular_180\\).svg> \"File:World location map \\(equirectangular 180\\).svg\")Approximate epicenters of the earthquakes in 2024  |\n"
          ]
        },
        {
          "output_type": "stream",
          "name": "stderr",
          "text": [
            "\r 12%|█▏        | 31/265 [00:52<09:03,  2.32s/it]"
          ]
        },
        {
          "output_type": "stream",
          "name": "stdout",
          "text": [
            "{'is_meaningful': False, 'enhanced_text': None, 'question': None, 'reasoning': 'The text provided consists solely of image links and magnitude ranges without any context or specific information about the 2024 Cape Mendocino earthquake. It lacks meaningful content or details that could be enhanced or used to form a question.'}\n",
            "\n",
            "✗ Chunk 31 discarded - not meaningful\n",
            "* ![](https://upload.wikimedia.org/wikipedia/commons/thumb/a/ab/Green_pog.svg/10px-Green_pog.svg.png) 4.0–5.9 magnitude\n",
            "  * ![](https://upload.wikimedia.org/wikipedia/commons/thumb/9/9d/Yellow_pog.svg/10px-Yellow_pog.svg.png) 6.0–6.9 magnitude\n"
          ]
        },
        {
          "output_type": "stream",
          "name": "stderr",
          "text": [
            "\r 12%|█▏        | 32/265 [00:54<08:24,  2.17s/it]"
          ]
        },
        {
          "output_type": "stream",
          "name": "stdout",
          "text": [
            "{'is_meaningful': False, 'enhanced_text': None, 'question': None, 'reasoning': 'The text chunk provided consists solely of image links and magnitude scale icons without any context or information about the 2024 Cape Mendocino earthquake. It does not contain any meaningful content, details, or narrative that can be enhanced or used to form a question.'}\n",
            "\n",
            "✗ Chunk 32 discarded - not meaningful\n",
            "| \n",
            "  * ![](https://upload.wikimedia.org/wikipedia/commons/thumb/e/e0/Orange_pog.svg/10px-Orange_pog.svg.png) 7.0–7.9 magnitude\n",
            "  * ![](https://upload.wikimedia.org/wikipedia/commons/thumb/0/0c/Red_pog.svg/10px-Red_pog.svg.png) 8.0+ magnitude\n"
          ]
        },
        {
          "output_type": "stream",
          "name": "stderr",
          "text": [
            "\r 12%|█▏        | 33/265 [00:55<07:47,  2.01s/it]"
          ]
        },
        {
          "output_type": "stream",
          "name": "stdout",
          "text": [
            "{'is_meaningful': False, 'enhanced_text': None, 'question': None, 'reasoning': 'The content primarily consists of numerical data and references related to earthquake magnitudes and fatalities, without specific context or details about the 2024 Cape Mendocino earthquake. It includes Wikipedia-specific links and navigation elements, which do not provide meaningful information about the event itself.'}\n",
            "\n",
            "✗ Chunk 33 discarded - not meaningful\n",
            "---|---  \n",
            "Strongest magnitude| 7.5 [Mw](https://en.wikipedia.org/wiki/</wiki/Seismic_magnitude_scales#Mw> \"Seismic magnitude scales\") ![](https://upload.wikimedia.org/wikipedia/en/thumb/9/9e/Flag_of_Japan.svg/23px-Flag_of_Japan.svg.png) [Japan](https://en.wikipedia.org/wiki/</wiki/Japan> \"Japan\")  \n",
            "Deadliest| 7.5 [Mw](https://en.wikipedia.org/wiki/</wiki/Seismic_magnitude_scales#Mw> \"Seismic magnitude scales\") ![](https://upload.wikimedia.org/wikipedia/en/thumb/9/9e/Flag_of_Japan.svg/23px-Flag_of_Japan.svg.png) [Japan](https://en.wikipedia.org/wiki/</wiki/Japan> \"Japan\")505 deaths  \n",
            "Total fatalities| 562  \n",
            "Number by magnitude  \n",
            "9.0+| 0  \n",
            "8.0–8.9| 0  \n",
            "7.0–7.9| 10  \n",
            "6.0–6.9| 90  \n",
            "5.0–5.9| 1,403  \n",
            "4.0–4.9| 12,169  \n",
            "← [2023](https://en.wikipedia.org/wiki/</wiki/List_of_earthquakes_in_2023> \"List of earthquakes in 2023\")[2025](https://en.wikipedia.org/wiki/</wiki/List_of_earthquakes_in_2025> \"List of earthquakes in 2025\") →\n"
          ]
        },
        {
          "output_type": "stream",
          "name": "stderr",
          "text": [
            "\r 13%|█▎        | 34/265 [00:58<08:01,  2.08s/it]"
          ]
        },
        {
          "output_type": "stream",
          "name": "stdout",
          "text": [
            "{'is_meaningful': False, 'enhanced_text': None, 'question': None, 'reasoning': 'The text primarily consists of general information about the criteria for listing earthquakes in 2024, including the magnitude threshold and data sources. It does not contain specific details about the 2024 Cape Mendocino earthquake or any other event. Therefore, it lacks meaningful content specific to the earthquake in question and is marked for discarding.'}\n",
            "\n",
            "✗ Chunk 34 discarded - not meaningful\n",
            "This is a **list of earthquakes in 2024**. Only [earthquakes](https://en.wikipedia.org/wiki/</wiki/Earthquake> \"Earthquake\") of magnitude 6 or above are included, unless they result in significant damage and/or casualties. All dates are listed according to [UTC](https://en.wikipedia.org/wiki/</wiki/UTC> \"UTC\") time. The maximum intensities are based on the [Modified Mercalli intensity scale](https://en.wikipedia.org/wiki/</wiki/Modified_Mercalli_intensity_scale> \"Modified Mercalli intensity scale\"). Earthquake magnitudes are based on data from the [USGS](https://en.wikipedia.org/wiki/</wiki/United_States_Geological_Survey> \"United States Geological Survey\").\n"
          ]
        },
        {
          "output_type": "stream",
          "name": "stderr",
          "text": [
            "\r 13%|█▎        | 35/265 [00:59<07:45,  2.02s/it]"
          ]
        },
        {
          "output_type": "stream",
          "name": "stdout",
          "text": [
            "{'is_meaningful': True, 'enhanced_text': 'In 2024, seismic activity was notably lower compared to other years in the 21st century, with only 100 earthquakes exceeding a magnitude of six, marking the lowest number since 1982. Additionally, for the third consecutive year, there were no earthquakes exceeding a magnitude of eight. Throughout the year, earthquakes resulted in 561 fatalities, making 2024 the least deadly year for earthquakes since 2020. Nearly all of these fatalities were due to a magnitude 7.5 earthquake that struck the west coast of Honshu, Japan.', 'question': 'How many earthquakes exceeded magnitude six in 2024, and how does this compare to previous years in the 21st century?', 'reasoning': 'The content provides meaningful information about the seismic activity in 2024, including specific data on the number and magnitude of earthquakes, as well as the impact in terms of fatalities. This information is relevant and informative, making it valuable to retain and enhance for readability.'}\n",
            "\n",
            "✓ Chunk 35 processed and kept\n",
            "Question: How many earthquakes exceeded magnitude six in 2024, and how does this compare to previous years in the 21st century?\n"
          ]
        },
        {
          "output_type": "stream",
          "name": "stderr",
          "text": [
            "\r 14%|█▎        | 36/265 [01:04<10:50,  2.84s/it]"
          ]
        },
        {
          "output_type": "stream",
          "name": "stdout",
          "text": [
            "{'is_meaningful': True, 'enhanced_text': 'The 2024 Noto earthquake struck the west coast of Honshu in Japan immediately after the year began. It was the strongest earthquake of 2024 and the deadliest in Japan since the 2011 Tōhoku earthquake and tsunami. Other significant and deadly earthquakes also occurred in Taiwan, Indonesia, Papua New Guinea, China, the United States, and Vanuatu.', 'question': 'What was the deadliest earthquake in Japan since 2011, and when did it occur?', 'reasoning': 'The content provides specific information about the 2024 Noto earthquake, including its timing, location, and significance compared to past events. It also mentions other regions affected by earthquakes in 2024, offering a broader context. This information is valuable for understanding the seismic activity of that year.'}\n",
            "\n",
            "✓ Chunk 36 processed and kept\n",
            "Question: What was the deadliest earthquake in Japan since 2011, and when did it occur?\n"
          ]
        },
        {
          "output_type": "stream",
          "name": "stderr",
          "text": [
            "\r 14%|█▍        | 37/265 [01:07<10:58,  2.89s/it]"
          ]
        },
        {
          "output_type": "stream",
          "name": "stdout",
          "text": [
            "{'is_meaningful': False, 'enhanced_text': None, 'question': None, 'reasoning': 'The text chunk provided is primarily a navigation element with a link to edit a section on a Wikipedia page. It does not contain any actual information about the 2024 Cape Mendocino earthquake or provide meaningful context or details. Therefore, it is marked for discarding.'}\n",
            "\n",
            "✗ Chunk 37 discarded - not meaningful\n",
            "## Compared to other years\n",
            "[[edit](https://en.wikipedia.org/wiki/</w/index.php?title=List_of_earthquakes_in_2024&action=edit&section=1> \"Edit section: Compared to other years\")]\n"
          ]
        },
        {
          "output_type": "stream",
          "name": "stderr",
          "text": [
            "\r 14%|█▍        | 38/265 [01:09<09:28,  2.51s/it]"
          ]
        },
        {
          "output_type": "stream",
          "name": "stdout",
          "text": [
            "{'is_meaningful': False, 'enhanced_text': None, 'question': None, 'reasoning': 'The text primarily consists of links to Wikipedia articles about earthquakes from 2014 to 2022. It does not provide any specific information about the 2024 Cape Mendocino earthquake or any meaningful context or details. Therefore, it is marked for discarding.'}\n",
            "\n",
            "✗ Chunk 38 discarded - not meaningful\n",
            "Number of earthquakes worldwide for 2014–2024  Magnitude  | [2014](https://en.wikipedia.org/wiki/</wiki/List_of_earthquakes_in_2014> \"List of earthquakes in 2014\") | [2015](https://en.wikipedia.org/wiki/</wiki/List_of_earthquakes_in_2015> \"List of earthquakes in 2015\") | [2016](https://en.wikipedia.org/wiki/</wiki/List_of_earthquakes_in_2016> \"List of earthquakes in 2016\") | [2017](https://en.wikipedia.org/wiki/</wiki/List_of_earthquakes_in_2017> \"List of earthquakes in 2017\") | [2018](https://en.wikipedia.org/wiki/</wiki/List_of_earthquakes_in_2018> \"List of earthquakes in 2018\") | [2019](https://en.wikipedia.org/wiki/</wiki/List_of_earthquakes_in_2019> \"List of earthquakes in 2019\") | [2020](https://en.wikipedia.org/wiki/</wiki/List_of_earthquakes_in_2020> \"List of earthquakes in 2020\") | [2021](https://en.wikipedia.org/wiki/</wiki/List_of_earthquakes_in_2021> \"List of earthquakes in 2021\") | [2022](https://en.wikipedia.org/wiki/</wiki/List_of_earthquakes_in_2022> \"List of\n"
          ]
        },
        {
          "output_type": "stream",
          "name": "stderr",
          "text": [
            "\r 15%|█▍        | 39/265 [01:11<09:01,  2.39s/it]"
          ]
        },
        {
          "output_type": "stream",
          "name": "stdout",
          "text": [
            "{'is_meaningful': False, 'enhanced_text': None, 'question': None, 'reasoning': 'The text consists solely of links to lists of earthquakes from previous years and a placeholder for 2024. It does not contain any specific information about the 2024 Cape Mendocino earthquake or any other meaningful context or details. Therefore, it is marked for discarding.'}\n",
            "\n",
            "✗ Chunk 39 discarded - not meaningful\n",
            "in 2020\") | [2021](https://en.wikipedia.org/wiki/</wiki/List_of_earthquakes_in_2021> \"List of earthquakes in 2021\") | [2022](https://en.wikipedia.org/wiki/</wiki/List_of_earthquakes_in_2022> \"List of earthquakes in 2022\") | [2023](https://en.wikipedia.org/wiki/</wiki/List_of_earthquakes_in_2023> \"List of earthquakes in 2023\") | _2024_\n"
          ]
        },
        {
          "output_type": "stream",
          "name": "stderr",
          "text": [
            "\r 15%|█▌        | 40/265 [01:12<07:50,  2.09s/it]"
          ]
        },
        {
          "output_type": "stream",
          "name": "stdout",
          "text": [
            "{'is_meaningful': False, 'enhanced_text': None, 'question': None, 'reasoning': 'The text chunk consists mainly of numerical data and table headers without any context or explanation. It appears to be part of a table listing earthquake occurrences by magnitude and death toll, but it lacks any specific information about the 2024 Cape Mendocino earthquake. Additionally, it contains Wikipedia-specific elements like edit links, which are not informative. Therefore, it does not provide meaningful content that can be improved or used to generate a question.'}\n",
            "\n",
            "✗ Chunk 40 discarded - not meaningful\n",
            "---|---|---|---|---|---|---|---|---|---|---|---  \n",
            "8.0–9.9  | 1  | 1  | 0  | 1  | 1  | 1  | 0  | 3  | 0  | 0  | 0   \n",
            "7.0–7.9  | 11  | 18  | 16  | 6  | 16  | 9  | 9  | 16  | 11  | 19  | 10   \n",
            "6.0–6.9  | 143  | 127  | 131  | 104  | 118  | 135  | 111  | 141  | 117  | 128  | 90   \n",
            "5.0–5.9  | 1,580  | 1,413  | 1,550  | 1,447  | 1,671  | 1,484  | 1,315  | 2,046  | 1,603  | 1,637  | 1,403   \n",
            "4.0–4.9  | 15,817  | 13,777  | 13,700  | 10,544  | 12,782  | 11,897  | 12,135  | 14,643  | 13,707  | 13,816  | 12,169   \n",
            "Total  | 17,552  | 15,336  | 15,397  | 12,102  | 14,588  | 13,526  | 13,570  | 16,849  | 15,438  | 15,600  | 13,672   \n",
            "## By death toll\n",
            "[[edit](https://en.wikipedia.org/wiki/</w/index.php?title=List_of_earthquakes_in_2024&action=edit&section=2> \"Edit section: By death toll\")]\n",
            "Rank  | Death toll  | Magnitude  | Location  | [MMI](https://en.wikipedia.org/wiki/</wiki/Modified_Mercalli_intensity_scale> \"Modified Mercalli intensity scale\") | Depth (km)  | Date  | Event\n"
          ]
        },
        {
          "output_type": "stream",
          "name": "stderr",
          "text": [
            "\r 15%|█▌        | 41/265 [01:14<07:23,  1.98s/it]"
          ]
        },
        {
          "output_type": "stream",
          "name": "stdout",
          "text": [
            "{'is_meaningful': False, 'enhanced_text': None, 'question': None, 'reasoning': 'The content provided is a table with links and navigation elements related to various earthquakes, including the 2024 Noto earthquake, but it does not contain specific information about the 2024 Cape Mendocino earthquake. It primarily consists of structured data and references, which are not informative in the context of the requested analysis.'}\n",
            "\n",
            "✗ Chunk 41 discarded - not meaningful\n",
            "Rank  | Death toll  | Magnitude  | Location  | [MMI](https://en.wikipedia.org/wiki/</wiki/Modified_Mercalli_intensity_scale> \"Modified Mercalli intensity scale\") | Depth (km)  | Date  | Event   \n",
            "---|---|---|---|---|---|---|---  \n",
            "1  | 505  | 7.5  | ![](https://upload.wikimedia.org/wikipedia/en/thumb/9/9e/Flag_of_Japan.svg/23px-Flag_of_Japan.svg.png) [Japan](https://en.wikipedia.org/wiki/</wiki/Japan> \"Japan\"), [Ishikawa](https://en.wikipedia.org/wiki/</wiki/Ishikawa_Prefecture> \"Ishikawa Prefecture\") | XI (_Extreme_)  | 10.0  | January 1 | **[2024 Noto earthquake](https://en.wikipedia.org/wiki/</wiki/2024_Noto_earthquake> \"2024 Noto earthquake\")**\n"
          ]
        },
        {
          "output_type": "stream",
          "name": "stderr",
          "text": [
            "\r 16%|█▌        | 42/265 [01:19<10:27,  2.81s/it]"
          ]
        },
        {
          "output_type": "stream",
          "name": "stdout",
          "text": [
            "{'is_meaningful': False, 'enhanced_text': None, 'question': None, 'reasoning': 'The text primarily consists of links, navigation elements, and non-informative content related to other earthquakes, not the 2024 Cape Mendocino earthquake. It lacks context, details, and specific information about the Cape Mendocino event, making it irrelevant for the intended purpose.'}\n",
            "\n",
            "✗ Chunk 42 discarded - not meaningful\n",
            "2  | 18  | 7.4  | ![](https://upload.wikimedia.org/wikipedia/commons/thumb/7/72/Flag_of_the_Republic_of_China.svg/23px-Flag_of_the_Republic_of_China.svg.png) [Taiwan](https://en.wikipedia.org/wiki/</wiki/Taiwan> \"Taiwan\"), [Hualien](https://en.wikipedia.org/wiki/</wiki/Hualien_County> \"Hualien County\") | VIII (_Severe_)  | 40.0  | April 2 | **[2024 Hualien earthquake](https://en.wikipedia.org/wiki/</wiki/2024_Hualien_earthquake> \"2024 Hualien earthquake\")**  \n",
            "3  | 14  | 7.3  | ![](https://upload.wikimedia.org/wikipedia/commons/thumb/b/bc/Flag_of_Vanuatu.svg/23px-Flag_of_Vanuatu.svg.png) [Vanuatu](https://en.wikipedia.org/wiki/</wiki/Vanuatu> \"Vanuatu\"), [Shefa](https://en.wikipedia.org/wiki/</wiki/Shefa_Province> \"Shefa Province\") offshore  | IX (_Violent_)  | 57.1  | December 17 | **[2024 Port Vila earthquake](https://en.wikipedia.org/wiki/</wiki/2024_Port_Vila_earthquake> \"2024 Port Vila earthquake\")**  \n",
            "Listed are earthquakes with at least 10 dead. \n",
            "## By magnitude\n"
          ]
        },
        {
          "output_type": "stream",
          "name": "stderr",
          "text": [
            "\r 16%|█▌        | 43/265 [01:20<09:00,  2.44s/it]"
          ]
        },
        {
          "output_type": "stream",
          "name": "stdout",
          "text": [
            "{'is_meaningful': False, 'enhanced_text': None, 'question': None, 'reasoning': 'The content primarily consists of a table listing earthquakes by magnitude, with links and navigation elements. It does not provide specific details or context about the 2024 Cape Mendocino earthquake, and therefore lacks meaningful information relevant to the task.'}\n",
            "\n",
            "✗ Chunk 43 discarded - not meaningful\n",
            "Listed are earthquakes with at least 10 dead. \n",
            "## By magnitude\n",
            "[[edit](https://en.wikipedia.org/wiki/</w/index.php?title=List_of_earthquakes_in_2024&action=edit&section=3> \"Edit section: By magnitude\")]\n",
            "Rank  | Magnitude  | Death toll  | Location  | [MMI](https://en.wikipedia.org/wiki/</wiki/Modified_Mercalli_intensity_scale> \"Modified Mercalli intensity scale\") | Depth (km)  | Date  | Event   \n",
            "---|---|---|---|---|---|---|---  \n",
            "1  | 7.5  | 505  | ![](https://upload.wikimedia.org/wikipedia/en/thumb/9/9e/Flag_of_Japan.svg/23px-Flag_of_Japan.svg.png) [Japan](https://en.wikipedia.org/wiki/</wiki/Japan> \"Japan\"), [Ishikawa](https://en.wikipedia.org/wiki/</wiki/Ishikawa_Prefecture> \"Ishikawa Prefecture\") | XI (_Extreme_)  | 10.0  | January 1 | **[2024 Noto earthquake](https://en.wikipedia.org/wiki/</wiki/2024_Noto_earthquake> \"2024 Noto earthquake\")**\n"
          ]
        },
        {
          "output_type": "stream",
          "name": "stderr",
          "text": [
            "\r 17%|█▋        | 44/265 [01:25<11:48,  3.20s/it]"
          ]
        },
        {
          "output_type": "stream",
          "name": "stdout",
          "text": [
            "{'is_meaningful': False, 'enhanced_text': None, 'question': None, 'reasoning': 'The provided text is primarily composed of links, navigation elements, and non-informative content related to different earthquakes in Taiwan and Chile. It lacks meaningful context or details specifically about the 2024 Cape Mendocino earthquake. Therefore, it does not contain valuable information for the specified topic.'}\n",
            "\n",
            "✗ Chunk 44 discarded - not meaningful\n",
            "2  | 7.4  | 18  | ![](https://upload.wikimedia.org/wikipedia/commons/thumb/7/72/Flag_of_the_Republic_of_China.svg/23px-Flag_of_the_Republic_of_China.svg.png) [Taiwan](https://en.wikipedia.org/wiki/</wiki/Taiwan> \"Taiwan\"), [Hualien](https://en.wikipedia.org/wiki/</wiki/Hualien_County> \"Hualien County\") | VIII (_Severe_)  | 40.0  | April 2 | **[2024 Hualien earthquake](https://en.wikipedia.org/wiki/</wiki/2024_Hualien_earthquake> \"2024 Hualien earthquake\")**  \n",
            "2  | 7.4  | 1  | ![](https://upload.wikimedia.org/wikipedia/commons/thumb/7/78/Flag_of_Chile.svg/23px-Flag_of_Chile.svg.png) [Chile](https://en.wikipedia.org/wiki/</wiki/Chile> \"Chile\"), [Antofagasta](https://en.wikipedia.org/wiki/</wiki/Antofagasta_Region> \"Antofagasta Region\") | VII (_Very strong_)  | 127.3  | July 19 | -\n"
          ]
        },
        {
          "output_type": "stream",
          "name": "stderr",
          "text": [
            "\r 17%|█▋        | 45/265 [01:27<10:22,  2.83s/it]"
          ]
        },
        {
          "output_type": "stream",
          "name": "stdout",
          "text": [
            "{'is_meaningful': False, 'enhanced_text': None, 'question': None, 'reasoning': 'The text primarily consists of fragmented data points and links related to various earthquakes, including their magnitudes, locations, and dates. It lacks cohesive narrative or detailed information specifically about the 2024 Cape Mendocino earthquake. The content is more akin to a list or table of earthquake data rather than a descriptive passage, making it non-informative in the context of the task.'}\n",
            "\n",
            "✗ Chunk 45 discarded - not meaningful\n",
            "4  | 7.3  | 14  | ![](https://upload.wikimedia.org/wikipedia/commons/thumb/b/bc/Flag_of_Vanuatu.svg/23px-Flag_of_Vanuatu.svg.png) [Vanuatu](https://en.wikipedia.org/wiki/</wiki/Vanuatu> \"Vanuatu\"), [Shefa](https://en.wikipedia.org/wiki/</wiki/Shefa_Province> \"Shefa Province\") offshore  | IX (_Violent_)  | 57.1  | December 17 | **[2024 Port Vila earthquake](https://en.wikipedia.org/wiki/</wiki/2024_Port_Vila_earthquake> \"2024 Port Vila earthquake\")**  \n",
            "5  | 7.2  | 0  | ![](https://upload.wikimedia.org/wikipedia/commons/thumb/c/cf/Flag_of_Peru.svg/23px-Flag_of_Peru.svg.png) [Peru](https://en.wikipedia.org/wiki/</wiki/Peru> \"Peru\"), [Arequipa](https://en.wikipedia.org/wiki/</wiki/Department_of_Arequipa> \"Department of Arequipa\") offshore  | VI (_Strong_)  | 24.0  | June 28 | -\n"
          ]
        },
        {
          "output_type": "stream",
          "name": "stderr",
          "text": [
            "\r 17%|█▋        | 46/265 [01:29<09:28,  2.59s/it]"
          ]
        },
        {
          "output_type": "stream",
          "name": "stdout",
          "text": [
            "{'is_meaningful': False, 'enhanced_text': None, 'question': None, 'reasoning': 'The text primarily consists of links, navigation elements, and non-informative content. It does not provide meaningful context or details about the 2024 Cape Mendocino earthquake, and instead lists unrelated earthquake events with minimal information.'}\n",
            "\n",
            "✗ Chunk 46 discarded - not meaningful\n",
            "6  | 7.1  | 0  | ![](https://upload.wikimedia.org/wikipedia/en/thumb/9/9e/Flag_of_Japan.svg/23px-Flag_of_Japan.svg.png) [Japan](https://en.wikipedia.org/wiki/</wiki/Japan> \"Japan\"), [Miyazaki](https://en.wikipedia.org/wiki/</wiki/Miyazaki_Prefecture> \"Miyazaki Prefecture\") offshore  | VIII (_Severe_)  | 24.0  | August 8 | **[2024 Hyūga-nada earthquake](https://en.wikipedia.org/wiki/</wiki/2024_Hy%C5%ABga-nada_earthquake> \"2024 Hyūga-nada earthquake\")**  \n",
            "6  | 7.1  | 0  | ![](https://upload.wikimedia.org/wikipedia/commons/thumb/9/99/Flag_of_the_Philippines.svg/23px-Flag_of_the_Philippines.svg.png) [Philippines](https://en.wikipedia.org/wiki/</wiki/Philippines> \"Philippines\"), [Soccsksargen](https://en.wikipedia.org/wiki/</wiki/Soccsksargen> \"Soccsksargen\") offshore  | III (_Weak_)  | 639.5  | July 11 | -\n"
          ]
        },
        {
          "output_type": "stream",
          "name": "stderr",
          "text": [
            "\r 18%|█▊        | 47/265 [01:31<08:06,  2.23s/it]"
          ]
        },
        {
          "output_type": "stream",
          "name": "stdout",
          "text": [
            "{'is_meaningful': False, 'enhanced_text': None, 'question': None, 'reasoning': 'The content primarily consists of structured data with links, flags, and references to other Wikipedia articles. It lacks narrative context or detailed information about the 2024 Cape Mendocino earthquake, focusing instead on a list of earthquake events with basic data points. This makes it non-informative for the purpose of providing a comprehensive understanding of the specific earthquake event.'}\n",
            "\n",
            "✗ Chunk 47 discarded - not meaningful\n",
            "8  | 7.0  | 3  | ![](https://upload.wikimedia.org/wikipedia/commons/thumb/f/fa/Flag_of_the_People%27s_Republic_of_China.svg/23px-Flag_of_the_People%27s_Republic_of_China.svg.png) [China](https://en.wikipedia.org/wiki/</wiki/China> \"China\"), [Xinjiang](https://en.wikipedia.org/wiki/</wiki/Xinjiang> \"Xinjiang\") | IX (_Violent_)  | 13.0  | January 22 | **[2024 Uqturpan earthquake](https://en.wikipedia.org/wiki/</wiki/2024_Uqturpan_earthquake> \"2024 Uqturpan earthquake\")**  \n",
            "8  | 7.0  | 0  | ![](https://upload.wikimedia.org/wikipedia/en/thumb/a/a4/Flag_of_the_United_States.svg/23px-Flag_of_the_United_States.svg.png) [United States](https://en.wikipedia.org/wiki/</wiki/United_States> \"United States\"), [California](https://en.wikipedia.org/wiki/</wiki/California> \"California\") offshore  | VIII (_Severe_)  | 10.0  | December 5 | -\n"
          ]
        },
        {
          "output_type": "stream",
          "name": "stderr",
          "text": [
            "\r 18%|█▊        | 48/265 [01:32<07:26,  2.06s/it]"
          ]
        },
        {
          "output_type": "stream",
          "name": "stdout",
          "text": [
            "{'is_meaningful': False, 'enhanced_text': None, 'question': None, 'reasoning': 'The content primarily consists of links, navigation elements, and a list format without providing specific information about the 2024 Cape Mendocino earthquake. It lacks meaningful context or details relevant to the topic and is mostly structured as a navigation or reference guide, which does not contribute to the understanding of the earthquake event itself.'}\n",
            "\n",
            "✗ Chunk 48 discarded - not meaningful\n",
            "8  | 7.0  | 0  | ![](https://upload.wikimedia.org/wikipedia/en/thumb/f/f3/Flag_of_Russia.svg/23px-Flag_of_Russia.svg.png) [Russia](https://en.wikipedia.org/wiki/</wiki/Russia> \"Russia\"), [Kamchatka Krai](https://en.wikipedia.org/wiki/</wiki/Kamchatka_Krai> \"Kamchatka Krai\") offshore  | VI (_Strong_)  | 29.0  | August 17 | -   \n",
            "Listed are earthquakes with at least 7.0 magnitude. \n",
            "## By month\n",
            "[[edit](https://en.wikipedia.org/wiki/</w/index.php?title=List_of_earthquakes_in_2024&action=edit&section=4> \"Edit section: By month\")]\n",
            "### January\n",
            "[[edit](https://en.wikipedia.org/wiki/</w/index.php?title=List_of_earthquakes_in_2024&action=edit&section=5> \"Edit section: January\")]\n",
            "JanuaryStrongest magnitude| 7.5 [Mw](https://en.wikipedia.org/wiki/</wiki/Seismic_magnitude_scales#Mw> \"Seismic magnitude scales\") ![](https://upload.wikimedia.org/wikipedia/en/thumb/9/9e/Flag_of_Japan.svg/23px-Flag_of_Japan.svg.png) [Japan](https://en.wikipedia.org/wiki/</wiki/Japan> \"Japan\")  \n",
            "---|---\n"
          ]
        },
        {
          "output_type": "stream",
          "name": "stderr",
          "text": [
            "\r 18%|█▊        | 49/265 [01:37<09:55,  2.76s/it]"
          ]
        },
        {
          "output_type": "stream",
          "name": "stdout",
          "text": [
            "{'is_meaningful': True, 'enhanced_text': 'The deadliest earthquake in the series was a 7.5 magnitude event in Japan, resulting in 505 deaths. In total, there were 510 fatalities. The earthquakes were categorized by magnitude as follows: none were 9.0 or higher, none were between 8.0 and 8.9, two were between 7.0 and 7.9, ten were between 6.0 and 6.9, 121 were between 5.0 and 5.9, and 1,256 were between 4.0 and 4.9.', 'question': 'How many earthquakes were recorded with a magnitude between 5.0 and 5.9?', 'reasoning': 'The content provides specific and detailed information about the number of earthquakes by magnitude and the fatalities resulting from the deadliest event. This information is valuable for understanding the impact and scale of the earthquakes, making it meaningful to retain.'}\n",
            "\n",
            "✓ Chunk 49 processed and kept\n",
            "Question: How many earthquakes were recorded with a magnitude between 5.0 and 5.9?\n"
          ]
        },
        {
          "output_type": "stream",
          "name": "stderr",
          "text": [
            "\r 19%|█▉        | 50/265 [01:41<11:53,  3.32s/it]"
          ]
        },
        {
          "output_type": "stream",
          "name": "stdout",
          "text": [
            "{'is_meaningful': True, 'enhanced_text': 'The 2024 Cape Mendocino earthquake resulted in a total of 510 fatalities. The earthquake activity was categorized by magnitude as follows: two earthquakes measured between 7.0 and 7.9, ten earthquakes between 6.0 and 6.9, 121 earthquakes between 5.0 and 5.9, and 1,256 earthquakes between 4.0 and 4.9. In the aftermath, significant damage and fires occurred in Wajima, Japan.', 'question': 'How many earthquakes measuring between 5.0 and 5.9 occurred during the 2024 Cape Mendocino earthquake?', 'reasoning': \"The content provides detailed information about the number of earthquakes by magnitude and the total fatalities resulting from the 2024 Cape Mendocino earthquake. It also mentions the aftermath in Wajima, Japan, which adds context to the event's impact. The information is valuable and informative, thus it is retained and reformulated for clarity.\"}\n",
            "\n",
            "✓ Chunk 50 processed and kept\n",
            "Question: How many earthquakes measuring between 5.0 and 5.9 occurred during the 2024 Cape Mendocino earthquake?\n"
          ]
        },
        {
          "output_type": "stream",
          "name": "stderr",
          "text": [
            "\r 19%|█▉        | 51/265 [01:44<11:22,  3.19s/it]"
          ]
        },
        {
          "output_type": "stream",
          "name": "stdout",
          "text": [
            "{'is_meaningful': False, 'enhanced_text': None, 'question': None, 'reasoning': 'The content primarily consists of links, references, and navigation elements without providing coherent or detailed information about the 2024 Cape Mendocino earthquake. It lacks context and narrative necessary for meaningful understanding.'}\n",
            "\n",
            "✗ Chunk 51 discarded - not meaningful\n",
            "---|---|---|---|---|---|---  \n",
            "Dead | Injured  \n",
            "1[[2]](https://en.wikipedia.org/wiki/<#cite_note-2>) | ![](https://upload.wikimedia.org/wikipedia/en/thumb/9/9e/Flag_of_Japan.svg/23px-Flag_of_Japan.svg.png) [Japan](https://en.wikipedia.org/wiki/</wiki/Japan> \"Japan\"), [Ishikawa](https://en.wikipedia.org/wiki/</wiki/Ishikawa_Prefecture> \"Ishikawa Prefecture\"), 43 km (27 mi) northeast of [Anamizu](https://en.wikipedia.org/wiki/</wiki/Anamizu,_Ishikawa> \"Anamizu, Ishikawa\") | 7.5  | 10.0  | XI[[3]](https://en.wikipedia.org/wiki/<#cite_note-Ishikawa24-3>) | Further information: [2024 Noto earthquake](https://en.wikipedia.org/wiki/</wiki/2024_Noto_earthquake> \"2024 Noto earthquake\") | 505  | 1,389\n"
          ]
        },
        {
          "output_type": "stream",
          "name": "stderr",
          "text": [
            "\r 20%|█▉        | 52/265 [01:46<09:18,  2.62s/it]"
          ]
        },
        {
          "output_type": "stream",
          "name": "stdout",
          "text": [
            "{'is_meaningful': True, 'enhanced_text': 'An earthquake with a magnitude of 6.2 occurred 8 km (5.0 mi) southwest of Anamizu, Ishikawa Prefecture, Japan. This event was an aftershock following a larger 7.5 magnitude earthquake that had occurred nine minutes earlier. The earthquake had a depth of 10.0 km and was felt with an intensity of VII on the Modified Mercalli Intensity scale.', 'question': 'What was the magnitude and depth of the aftershock that occurred near Anamizu, Ishikawa Prefecture, Japan?', 'reasoning': 'The content provides specific details about the location, magnitude, depth, and intensity of an aftershock related to an earlier earthquake. These are valuable and relevant details regarding the seismic activity in the region, making the content meaningful.'}\n",
            "\n",
            "✓ Chunk 52 processed and kept\n",
            "Question: What was the magnitude and depth of the aftershock that occurred near Anamizu, Ishikawa Prefecture, Japan?\n"
          ]
        },
        {
          "output_type": "stream",
          "name": "stderr",
          "text": [
            "\r 20%|██        | 53/265 [01:48<09:02,  2.56s/it]"
          ]
        },
        {
          "output_type": "stream",
          "name": "stdout",
          "text": [
            "{'is_meaningful': True, 'enhanced_text': 'A 4.5 magnitude earthquake struck 25 kilometers northeast of Lembang, West Java, Indonesia. The earthquake occurred at a depth of 10.0 kilometers and was classified as intensity V. It resulted in the destruction of sixty-nine homes and damage to 416 structures in the Sumedang area.', 'question': 'How many homes were destroyed by the earthquake near Lembang, West Java?', 'reasoning': 'The content provides specific details about the location, magnitude, depth, and impact of an earthquake in West Java, Indonesia. It includes important information about the damage caused, making it valuable and informative.'}\n",
            "\n",
            "✓ Chunk 53 processed and kept\n",
            "Question: How many homes were destroyed by the earthquake near Lembang, West Java?\n"
          ]
        },
        {
          "output_type": "stream",
          "name": "stderr",
          "text": [
            "\r 20%|██        | 54/265 [01:50<08:54,  2.53s/it]"
          ]
        },
        {
          "output_type": "stream",
          "name": "stdout",
          "text": [
            "{'is_meaningful': True, 'enhanced_text': 'An earthquake with a magnitude of 4.8 occurred offshore of West Java, Indonesia, 44 km southwest of Pelabuhanratu. The earthquake had an intensity of VI on the Mercalli scale. It resulted in the collapse of four homes and caused damage to 17 other homes and three schools in the Lebak, Sukabumi, and Bogor areas.', 'question': 'What was the magnitude of the earthquake that struck offshore of West Java, Indonesia, and what were the consequences in the surrounding areas?', 'reasoning': \"The content provides specific information about an earthquake event, including its magnitude, location, and the impact it had on nearby structures. This is valuable information for understanding the event's significance and effects.\"}\n",
            "\n",
            "✓ Chunk 54 processed and kept\n",
            "Question: What was the magnitude of the earthquake that struck offshore of West Java, Indonesia, and what were the consequences in the surrounding areas?\n"
          ]
        },
        {
          "output_type": "stream",
          "name": "stderr",
          "text": [
            "\r 21%|██        | 55/265 [01:53<08:38,  2.47s/it]"
          ]
        },
        {
          "output_type": "stream",
          "name": "stdout",
          "text": [
            "{'is_meaningful': True, 'enhanced_text': 'In Lower Silesia, Poland, approximately 3 kilometers (1.9 miles) south-southwest of Rudna, a mine collapse occurred in Lubin. This incident resulted in injuries to six people. The seismic activity was recorded with magnitudes of 4.2 and 5.0, and an intensity of V on the Mercalli scale.', 'question': 'How many people were injured in the mine collapse near Rudna, Lower Silesia, Poland?', 'reasoning': 'The content provides specific details about a mine collapse in Lower Silesia, Poland, including the location, the number of injured individuals, and seismic measurements. This information is valuable and informative, making it suitable for preservation and enhancement.'}\n",
            "\n",
            "✓ Chunk 55 processed and kept\n",
            "Question: How many people were injured in the mine collapse near Rudna, Lower Silesia, Poland?\n"
          ]
        },
        {
          "output_type": "stream",
          "name": "stderr",
          "text": [
            "\r 21%|██        | 56/265 [01:55<08:23,  2.41s/it]"
          ]
        },
        {
          "output_type": "stream",
          "name": "stdout",
          "text": [
            "{'is_meaningful': True, 'enhanced_text': 'An earthquake with a magnitude of 6.7 occurred offshore in North Sulawesi, Indonesia, approximately 93 km (58 miles) southeast of Sarangani, Philippines. The earthquake resulted in the destruction of one home and damage to another in the Talaud Islands Regency.', 'question': 'What was the magnitude of the earthquake that affected the Talaud Islands Regency?', 'reasoning': 'The content provides specific and meaningful information about an earthquake event, including its magnitude, location, and the impact on local infrastructure. It is not just links or navigation elements, and it offers valuable context about the event.'}\n",
            "\n",
            "✓ Chunk 56 processed and kept\n",
            "Question: What was the magnitude of the earthquake that affected the Talaud Islands Regency?\n"
          ]
        },
        {
          "output_type": "stream",
          "name": "stderr",
          "text": [
            "\r 22%|██▏       | 57/265 [01:58<08:46,  2.53s/it]"
          ]
        },
        {
          "output_type": "stream",
          "name": "stdout",
          "text": [
            "{'is_meaningful': True, 'enhanced_text': 'On [date], a 6.4 magnitude earthquake occurred 45 km (28 mi) south-southwest of Jurm in Badakhshan Province, Afghanistan. The earthquake had a depth of 204.0 km and was felt with an intensity of IV. It caused minor damage to several houses in Jurm.', 'question': 'What was the magnitude of the earthquake that occurred near Jurm in Badakhshan Province, Afghanistan?', 'reasoning': \"The content provides specific information about an earthquake event, including its magnitude, location, depth, and the impact it had on the area. This information is valuable for understanding the event's significance and effects, making it meaningful content.\"}\n",
            "\n",
            "✓ Chunk 57 processed and kept\n",
            "Question: What was the magnitude of the earthquake that occurred near Jurm in Badakhshan Province, Afghanistan?\n"
          ]
        },
        {
          "output_type": "stream",
          "name": "stderr",
          "text": [
            "\r 22%|██▏       | 58/265 [02:01<08:56,  2.59s/it]"
          ]
        },
        {
          "output_type": "stream",
          "name": "stdout",
          "text": [
            "{'is_meaningful': True, 'enhanced_text': 'In Albania, near Fier, approximately 7 kilometers (4.3 miles) northeast of Lushnjë, an earthquake with a magnitude of 4.5 and a depth of 28.6 kilometers occurred. The intensity was measured at IV on the Mercalli scale. Tragically, one person died in a fall in Lushnjë as a result of the earthquake.', 'question': 'What was the magnitude of the earthquake that occurred near Lushnjë, Albania, and what was its impact?', 'reasoning': 'The content provides specific information about an earthquake in Albania, including its location, magnitude, depth, and the unfortunate casualty it caused. This information is valuable and informative, making it suitable for preservation and enhancement.'}\n",
            "\n",
            "✓ Chunk 58 processed and kept\n",
            "Question: What was the magnitude of the earthquake that occurred near Lushnjë, Albania, and what was its impact?\n"
          ]
        },
        {
          "output_type": "stream",
          "name": "stderr",
          "text": [
            "\r 22%|██▏       | 59/265 [02:04<09:19,  2.71s/it]"
          ]
        },
        {
          "output_type": "stream",
          "name": "stdout",
          "text": [
            "{'is_meaningful': True, 'enhanced_text': 'On [date], an earthquake with a magnitude of 4.9 occurred in Central Sulawesi, Indonesia, located 91 km east-northeast of Poso. The earthquake had a depth of 10.0 km and was felt at an intensity of IV. As a result, several homes collapsed in Tojo Una-Una Regency.', 'question': 'What was the magnitude of the earthquake that struck Central Sulawesi, Indonesia, and what was its impact on Tojo Una-Una Regency?', 'reasoning': 'The content provides specific information about an earthquake in Central Sulawesi, including its magnitude, location, depth, intensity, and the impact on local infrastructure. This information is valuable and informative, making it suitable for retention and enhancement.'}\n",
            "\n",
            "✓ Chunk 59 processed and kept\n",
            "Question: What was the magnitude of the earthquake that struck Central Sulawesi, Indonesia, and what was its impact on Tojo Una-Una Regency?\n"
          ]
        },
        {
          "output_type": "stream",
          "name": "stderr",
          "text": [
            "\r 23%|██▎       | 60/265 [02:06<09:16,  2.71s/it]"
          ]
        },
        {
          "output_type": "stream",
          "name": "stdout",
          "text": [
            "{'is_meaningful': False, 'enhanced_text': None, 'question': None, 'reasoning': 'The content primarily consists of links, navigation elements, and non-informative data points without any context or details about the 2024 Cape Mendocino earthquake. It lacks meaningful information and is not suitable for enhancing readability or understanding.'}\n",
            "\n",
            "✗ Chunk 60 discarded - not meaningful\n",
            "18[[21]](https://en.wikipedia.org/wiki/<#cite_note-21>) | ![](https://upload.wikimedia.org/wikipedia/commons/thumb/9/9a/Flag_of_Tonga.svg/23px-Flag_of_Tonga.svg.png) [Tonga](https://en.wikipedia.org/wiki/</wiki/Tonga> \"Tonga\"), [Vavaʻu](https://en.wikipedia.org/wiki/</wiki/Vava%CA%BBu> \"Vavaʻu\") offshore, 148 km (92 mi) northwest of [Fangaleʻounga](https://en.wikipedia.org/wiki/</wiki/Fangale%CA%BBounga> \"Fangaleʻounga\") | 6.4  | 211.0  | IV  | -  | -  | -\n"
          ]
        },
        {
          "output_type": "stream",
          "name": "stderr",
          "text": [
            "\r 23%|██▎       | 61/265 [02:08<07:58,  2.34s/it]"
          ]
        },
        {
          "output_type": "stream",
          "name": "stdout",
          "text": [
            "{'is_meaningful': True, 'enhanced_text': 'In Colombia, a 5.6 magnitude earthquake struck 7 km (4.3 mi) east of Cartago in the Valle del Cauca Department. The quake resulted in the death of one person from a heart attack in El Águila and injured another individual in Ansermanuevo. Significant damage was reported to homes and buildings across Valle del Cauca, Quindío, and Caldas Departments.', 'question': 'What was the magnitude of the earthquake that struck near Cartago in Valle del Cauca, Colombia, and what were the consequences?', 'reasoning': 'The content provides specific and valuable information about an earthquake event in Colombia, including its magnitude, location, and the impact on people and infrastructure. It is not merely a collection of links or navigation elements, thus it is meaningful and retained.'}\n",
            "\n",
            "✓ Chunk 61 processed and kept\n",
            "Question: What was the magnitude of the earthquake that struck near Cartago in Valle del Cauca, Colombia, and what were the consequences?\n"
          ]
        },
        {
          "output_type": "stream",
          "name": "stderr",
          "text": [
            "\r 23%|██▎       | 62/265 [02:11<08:21,  2.47s/it]"
          ]
        },
        {
          "output_type": "stream",
          "name": "stdout",
          "text": [
            "{'is_meaningful': False, 'enhanced_text': None, 'question': None, 'reasoning': 'The text chunk consists primarily of links and references to Wikipedia pages, with no actual information about the 2024 Cape Mendocino earthquake. It lacks context, details, or any meaningful content related to the earthquake, making it non-informative and suitable for discarding.'}\n",
            "\n",
            "✗ Chunk 62 discarded - not meaningful\n",
            "del Cauca, [Quindío](https://en.wikipedia.org/wiki/</wiki/Quind%C3%ADo_Department> \"Quindío Department\"), [Caldas](https://en.wikipedia.org/wiki/</wiki/Caldas_Department> \"Caldas Department\") and [Risaralda Departments](https://en.wikipedia.org/wiki/</wiki/Risaralda_Department> \"Risaralda Department\").[[23]](https://en.wikipedia.org/wiki/<#cite_note-23>)[[24]](https://en.wikipedia.org/wiki/<#cite_note-24>) | 1  | 1\n"
          ]
        },
        {
          "output_type": "stream",
          "name": "stderr",
          "text": [
            "\r 24%|██▍       | 63/265 [02:12<07:23,  2.20s/it]"
          ]
        },
        {
          "output_type": "stream",
          "name": "stdout",
          "text": [
            "{'is_meaningful': False, 'enhanced_text': None, 'question': None, 'reasoning': 'The content is primarily composed of links, navigation elements, and non-informative data. It does not provide any meaningful context or details about the 2024 Cape Mendocino earthquake. The information appears to be a part of a table or list with no explanatory text or narrative.'}\n",
            "\n",
            "✗ Chunk 63 discarded - not meaningful\n",
            "20[[25]](https://en.wikipedia.org/wiki/<#cite_note-25>) | ![](https://upload.wikimedia.org/wikipedia/commons/thumb/e/e0/Flag_of_the_Northern_Mariana_Islands.svg/23px-Flag_of_the_Northern_Mariana_Islands.svg.png) [Northern Mariana Islands](https://en.wikipedia.org/wiki/</wiki/Northern_Mariana_Islands> \"Northern Mariana Islands\"), [Pagan](https://en.wikipedia.org/wiki/</wiki/Pagan_\\(island\\)> \"Pagan \\(island\\)\") region offshore, 368 km (229 mi) north of [Saipan](https://en.wikipedia.org/wiki/</wiki/Saipan> \"Saipan\") | 6.1  | 184.0  | IV  | -  | -  | -\n"
          ]
        },
        {
          "output_type": "stream",
          "name": "stderr",
          "text": [
            "\r 24%|██▍       | 64/265 [02:14<06:49,  2.04s/it]"
          ]
        },
        {
          "output_type": "stream",
          "name": "stdout",
          "text": [
            "{'is_meaningful': False, 'enhanced_text': None, 'question': None, 'reasoning': 'The text chunk primarily contains links, navigation elements, and numerical data without context or explanation. It lacks meaningful information about the 2024 Cape Mendocino earthquake and does not provide any narrative or detailed content that would be useful for understanding the event. Therefore, it is marked for discarding.'}\n",
            "\n",
            "✗ Chunk 64 discarded - not meaningful\n",
            "20[[26]](https://en.wikipedia.org/wiki/<#cite_note-26>) | ![](https://upload.wikimedia.org/wikipedia/en/thumb/0/05/Flag_of_Brazil.svg/22px-Flag_of_Brazil.svg.png) [Brazil](https://en.wikipedia.org/wiki/</wiki/Brazil> \"Brazil\"), [Amazonas](https://en.wikipedia.org/wiki/</wiki/Amazonas_\\(Brazilian_state\\)> \"Amazonas \\(Brazilian state\\)\"), 123 km (76 mi) northwest of [Tarauacá](https://en.wikipedia.org/wiki/</wiki/Tarauac%C3%A1> \"Tarauacá\") | 6.6  | 607.0  | III  | -  | -  | -   \n",
            "20[[27]](https://en.wikipedia.org/wiki/<#cite_note-27>) | [Southwest Indian Ridge](https://en.wikipedia.org/wiki/</wiki/Southwest_Indian_Ridge> \"Southwest Indian Ridge\") | 6.2  | 10.0  | -  | -  | -  | -\n"
          ]
        },
        {
          "output_type": "stream",
          "name": "stderr",
          "text": [
            "\r 25%|██▍       | 65/265 [02:15<06:24,  1.92s/it]"
          ]
        },
        {
          "output_type": "stream",
          "name": "stdout",
          "text": [
            "{'is_meaningful': False, 'enhanced_text': None, 'question': None, 'reasoning': 'The content primarily consists of links, navigation elements, and lacks substantial information about the 2024 Cape Mendocino earthquake. It appears to be a list of references or related links rather than a detailed description or analysis of the event.'}\n",
            "\n",
            "✗ Chunk 65 discarded - not meaningful\n",
            "22[[28]](https://en.wikipedia.org/wiki/<#cite_note-28>) | ![](https://upload.wikimedia.org/wikipedia/commons/thumb/f/fa/Flag_of_the_People%27s_Republic_of_China.svg/23px-Flag_of_the_People%27s_Republic_of_China.svg.png) [China](https://en.wikipedia.org/wiki/</wiki/China> \"China\"), [Xinjiang](https://en.wikipedia.org/wiki/</wiki/Xinjiang> \"Xinjiang\"), 128 km (80 mi) west-northwest of [Aykol](https://en.wikipedia.org/wiki/</wiki/Aykol> \"Aykol\") | 7.0  | 13.0  | IX  | Further information: [2024 Uqturpan earthquake](https://en.wikipedia.org/wiki/</wiki/2024_Uqturpan_earthquake> \"2024 Uqturpan earthquake\") | 3  | 74\n"
          ]
        },
        {
          "output_type": "stream",
          "name": "stderr",
          "text": [
            "\r 25%|██▍       | 66/265 [02:17<05:58,  1.80s/it]"
          ]
        },
        {
          "output_type": "stream",
          "name": "stdout",
          "text": [
            "{'is_meaningful': False, 'enhanced_text': None, 'question': None, 'reasoning': 'The content consists primarily of links, navigation elements, and non-informative data points without context or details about the 2024 Cape Mendocino earthquake. It lacks meaningful information that can be enhanced or used to generate a question.'}\n",
            "\n",
            "✗ Chunk 66 discarded - not meaningful\n",
            "23[[29]](https://en.wikipedia.org/wiki/<#cite_note-29>) | ![](https://upload.wikimedia.org/wikipedia/commons/thumb/b/bc/Flag_of_Vanuatu.svg/23px-Flag_of_Vanuatu.svg.png) [Vanuatu](https://en.wikipedia.org/wiki/</wiki/Vanuatu> \"Vanuatu\"), [Shefa](https://en.wikipedia.org/wiki/</wiki/Shefa_Province> \"Shefa Province\") offshore, 39 km (24 mi) southwest of [Port Vila](https://en.wikipedia.org/wiki/</wiki/Port_Vila> \"Port Vila\") | 6.3  | 31.0  | V  | -  | -  | -\n"
          ]
        },
        {
          "output_type": "stream",
          "name": "stderr",
          "text": [
            "\r 25%|██▌       | 67/265 [02:18<05:27,  1.65s/it]"
          ]
        },
        {
          "output_type": "stream",
          "name": "stdout",
          "text": [
            "{'is_meaningful': False, 'enhanced_text': None, 'question': None, 'reasoning': 'The text primarily contains links, navigation elements, and references to other Wikipedia articles, with minimal context or details about the 2024 Cape Mendocino earthquake. It does not provide substantial information relevant to the topic at hand.'}\n",
            "\n",
            "✗ Chunk 67 discarded - not meaningful\n",
            "25[[30]](https://en.wikipedia.org/wiki/<#cite_note-30>) | ![](https://upload.wikimedia.org/wikipedia/commons/thumb/b/b4/Flag_of_Turkey.svg/23px-Flag_of_Turkey.svg.png) [Turkey](https://en.wikipedia.org/wiki/</wiki/Turkey> \"Turkey\"), [Adıyaman](https://en.wikipedia.org/wiki/</wiki/Ad%C4%B1yaman_Province> \"Adıyaman Province\"), 19 km (12 mi) west-northwest of [Sincik](https://en.wikipedia.org/wiki/</wiki/Sincik> \"Sincik\") | 5.0  | 16.2  | VII  | [Aftershock](https://en.wikipedia.org/wiki/</wiki/Aftershock> \"Aftershock\") of the [2023 Turkey–Syria earthquakes](https://en.wikipedia.org/wiki/</wiki/2023_Turkey%E2%80%93Syria_earthquakes> \"2023 Turkey–Syria earthquakes\"). One person injured, one home collapsed and many others damaged in the [Akçadağ](https://en.wikipedia.org/wiki/</wiki/Ak%C3%A7ada%C4%9F> \"Akçadağ\")-[Malatya](https://en.wikipedia.org/wiki/</wiki/Malatya> \"Malatya\")\n"
          ]
        },
        {
          "output_type": "stream",
          "name": "stderr",
          "text": [
            "\r 26%|██▌       | 68/265 [02:20<05:07,  1.56s/it]"
          ]
        },
        {
          "output_type": "stream",
          "name": "stdout",
          "text": [
            "{'is_meaningful': True, 'enhanced_text': 'One home collapsed and many others were damaged in the Akçadağ-Malatya area.', 'question': 'What was the extent of the damage in the Akçadağ-Malatya area during the 2024 Cape Mendocino earthquake?', 'reasoning': \"The content provides specific information about the impact of the earthquake in a particular area, mentioning the collapse of one home and damage to others. This is valuable information about the earthquake's effects and is not merely links or navigation elements.\"}\n",
            "\n",
            "✓ Chunk 68 processed and kept\n",
            "Question: What was the extent of the damage in the Akçadağ-Malatya area during the 2024 Cape Mendocino earthquake?\n"
          ]
        },
        {
          "output_type": "stream",
          "name": "stderr",
          "text": [
            "\r 26%|██▌       | 69/265 [02:21<05:25,  1.66s/it]"
          ]
        },
        {
          "output_type": "stream",
          "name": "stdout",
          "text": [
            "{'is_meaningful': True, 'enhanced_text': 'In Guatemala, specifically 15 km west of Taxisco in the Santa Rosa Department, a 6.1 magnitude earthquake occurred. The earthquake had a depth of 90.0 km and was classified with an intensity of V. As a result, three people were injured by a landslide in the Sololá Department. Additionally, a church was damaged in San Pablo Jocopilas, a home collapsed in Quetzaltenango, and a building was damaged in La Gomera.', 'question': 'What were the consequences of the earthquake in the Sololá Department?', 'reasoning': 'The content provides specific details about the location, magnitude, depth, and effects of the earthquake, including injuries and structural damage. This information is valuable for understanding the impact of the earthquake, making it meaningful to preserve and enhance.'}\n",
            "\n",
            "✓ Chunk 69 processed and kept\n",
            "Question: What were the consequences of the earthquake in the Sololá Department?\n"
          ]
        },
        {
          "output_type": "stream",
          "name": "stderr",
          "text": [
            "\r 26%|██▋       | 70/265 [02:24<06:26,  1.98s/it]"
          ]
        },
        {
          "output_type": "stream",
          "name": "stdout",
          "text": [
            "{'is_meaningful': False, 'enhanced_text': None, 'question': None, 'reasoning': 'The text primarily consists of links and reference markers without providing substantial information about the 2024 Cape Mendocino earthquake. It lacks context, details, or any meaningful content that can be improved or analyzed.'}\n",
            "\n",
            "✗ Chunk 70 discarded - not meaningful\n",
            "[Quetzaltenango](https://en.wikipedia.org/wiki/</wiki/Quetzaltenango> \"Quetzaltenango\"), and one building damaged in [La Gomera](https://en.wikipedia.org/wiki/</wiki/La_Gomera,_Escuintla> \"La Gomera, Escuintla\").[[35]](https://en.wikipedia.org/wiki/<#cite_note-35>)[[36]](https://en.wikipedia.org/wiki/<#cite_note-36>) | -  | 3\n"
          ]
        },
        {
          "output_type": "stream",
          "name": "stderr",
          "text": [
            "\r 27%|██▋       | 71/265 [02:25<05:42,  1.76s/it]"
          ]
        },
        {
          "output_type": "stream",
          "name": "stdout",
          "text": [
            "{'is_meaningful': False, 'enhanced_text': None, 'question': None, 'reasoning': 'The text primarily consists of links, navigation elements, and non-informative content. It does not provide any meaningful information about the 2024 Cape Mendocino earthquake, lacking context, details, or specific information relevant to the event.'}\n",
            "\n",
            "✗ Chunk 71 discarded - not meaningful\n",
            "28[[37]](https://en.wikipedia.org/wiki/<#cite_note-37>) | ![](https://upload.wikimedia.org/wikipedia/en/thumb/0/05/Flag_of_Brazil.svg/22px-Flag_of_Brazil.svg.png) [Brazil](https://en.wikipedia.org/wiki/</wiki/Brazil> \"Brazil\"), [Acre](https://en.wikipedia.org/wiki/</wiki/Acre_\\(state\\)> \"Acre \\(state\\)\"), 70 km (43 mi) west of [Tarauacá](https://en.wikipedia.org/wiki/</wiki/Tarauac%C3%A1> \"Tarauacá\") | 6.5  | 621.1  | II  | -  | -  | -   \n",
            "### February\n",
            "[[edit](https://en.wikipedia.org/wiki/</w/index.php?title=List_of_earthquakes_in_2024&action=edit&section=6> \"Edit section: February\")]\n",
            "FebruaryStrongest magnitude| 6.3 [Mw](https://en.wikipedia.org/wiki/</wiki/Seismic_magnitude_scales#Mw> \"Seismic magnitude scales\") southern [East Pacific Rise](https://en.wikipedia.org/wiki/</wiki/East_Pacific_Rise> \"East Pacific Rise\")  \n",
            "---|---\n"
          ]
        },
        {
          "output_type": "stream",
          "name": "stderr",
          "text": [
            "\r 27%|██▋       | 72/265 [02:27<05:12,  1.62s/it]"
          ]
        },
        {
          "output_type": "stream",
          "name": "stdout",
          "text": [
            "{'is_meaningful': False, 'enhanced_text': None, 'question': None, 'reasoning': 'The text primarily consists of a table format with links, navigation elements, and incomplete data points. It lacks coherent information or context about the 2024 Cape Mendocino earthquake, making it non-informative and unsuitable for meaningful content extraction.'}\n",
            "\n",
            "✗ Chunk 72 discarded - not meaningful\n",
            "---|---  \n",
            "Deadliest| 2.8 [Mw](https://en.wikipedia.org/wiki/</wiki/Seismic_magnitude_scales#Mw> \"Seismic magnitude scales\") ![](https://upload.wikimedia.org/wikipedia/commons/thumb/9/9f/Flag_of_Indonesia.svg/23px-Flag_of_Indonesia.svg.png) [Indonesia](https://en.wikipedia.org/wiki/</wiki/Indonesia> \"Indonesia\")1 death  \n",
            "Total fatalities| 1  \n",
            "Number by magnitude  \n",
            "9.0+| 0  \n",
            "8.0–8.9| 0  \n",
            "7.0–7.9| 0  \n",
            "6.0–6.9| 4  \n",
            "5.0–5.9| 100  \n",
            "4.0–4.9| 1,042  \n",
            "Date | Country and location | Mw | Depth (km) | [MMI](https://en.wikipedia.org/wiki/</wiki/Modified_Mercalli_intensity_scale> \"Modified Mercalli intensity scale\") | Notes | Casualties  \n",
            "---|---|---|---|---|---|---  \n",
            "Dead | Injured\n"
          ]
        },
        {
          "output_type": "stream",
          "name": "stderr",
          "text": [
            "\r 28%|██▊       | 73/265 [02:29<05:59,  1.87s/it]"
          ]
        },
        {
          "output_type": "stream",
          "name": "stdout",
          "text": [
            "{'is_meaningful': False, 'enhanced_text': None, 'question': None, 'reasoning': 'The content primarily consists of links, references, and non-informative elements such as images and navigation links. It lacks coherent and meaningful information about the 2024 Cape Mendocino earthquake, providing no context or details about the event itself.'}\n",
            "\n",
            "✗ Chunk 73 discarded - not meaningful\n",
            "---|---|---|---|---|---|---  \n",
            "Dead | Injured  \n",
            "1[[38]](https://en.wikipedia.org/wiki/<#cite_note-38>) | ![](https://upload.wikimedia.org/wikipedia/commons/thumb/4/41/Flag_of_Austria.svg/23px-Flag_of_Austria.svg.png) [Austria](https://en.wikipedia.org/wiki/</wiki/Austria> \"Austria\"), [Lower Austria](https://en.wikipedia.org/wiki/</wiki/Lower_Austria> \"Lower Austria\"), 0 km (0 mi) north-northeast of [Semmering](https://en.wikipedia.org/wiki/</wiki/Semmering,_Austria> \"Semmering, Austria\") | 4.0  | 5.0  | V  | Over 100 buildings damaged in the Semmering area.[[39]](https://en.wikipedia.org/wiki/<#cite_note-39>) | -  | -\n"
          ]
        },
        {
          "output_type": "stream",
          "name": "stderr",
          "text": [
            "\r 28%|██▊       | 74/265 [02:31<05:25,  1.70s/it]"
          ]
        },
        {
          "output_type": "stream",
          "name": "stdout",
          "text": [
            "{'is_meaningful': True, 'enhanced_text': 'In the Philippines, a 5.4 magnitude earthquake occurred 16 kilometers (9.9 miles) southwest of Claveria in the Cagayan Valley. The earthquake had a depth of 44.0 kilometers and was felt with an intensity of IV. As a result, one home was destroyed and 133 others were damaged in the Pagudpud-Tadian area.', 'question': 'What was the magnitude and depth of the earthquake that affected the Pagudpud-Tadian area in the Philippines?', 'reasoning': 'The content provides specific details about an earthquake event, including its location, magnitude, depth, and the impact on local structures. This information is valuable for understanding the effects of the earthquake and is not merely navigational or referential.'}\n",
            "\n",
            "✓ Chunk 74 processed and kept\n",
            "Question: What was the magnitude and depth of the earthquake that affected the Pagudpud-Tadian area in the Philippines?\n"
          ]
        },
        {
          "output_type": "stream",
          "name": "stderr",
          "text": [
            "\r 28%|██▊       | 75/265 [02:33<06:09,  1.95s/it]"
          ]
        },
        {
          "output_type": "stream",
          "name": "stdout",
          "text": [
            "{'is_meaningful': False, 'enhanced_text': None, 'question': None, 'reasoning': 'The text chunk primarily consists of links, images, and numerical data without any context or narrative. It lacks meaningful information about the 2024 Cape Mendocino earthquake and does not provide any details or context that would be valuable to a reader. Therefore, it is marked for discarding.'}\n",
            "\n",
            "✗ Chunk 75 discarded - not meaningful\n",
            "9[[43]](https://en.wikipedia.org/wiki/<#cite_note-43>) | ![](https://upload.wikimedia.org/wikipedia/commons/thumb/3/3e/Flag_of_New_Zealand.svg/23px-Flag_of_New_Zealand.svg.png) [New Zealand](https://en.wikipedia.org/wiki/</wiki/New_Zealand> \"New Zealand\"), [Kermadec Islands](https://en.wikipedia.org/wiki/</wiki/Kermadec_Islands> \"Kermadec Islands\") offshore  | 6.1  | 13.0  | IV  | -  | -  | -   \n",
            "12[[44]](https://en.wikipedia.org/wiki/<#cite_note-44>) | ![](https://upload.wikimedia.org/wikipedia/en/thumb/9/9e/Flag_of_Japan.svg/23px-Flag_of_Japan.svg.png) [Japan](https://en.wikipedia.org/wiki/</wiki/Japan> \"Japan\"), [Volcano Islands](https://en.wikipedia.org/wiki/</wiki/Volcano_Islands> \"Volcano Islands\") offshore  | 6.1  | 236.0  | I  | -  | -  | -\n"
          ]
        },
        {
          "output_type": "stream",
          "name": "stderr",
          "text": [
            "\r 29%|██▊       | 76/265 [02:35<05:46,  1.83s/it]"
          ]
        },
        {
          "output_type": "stream",
          "name": "stdout",
          "text": [
            "{'is_meaningful': True, 'enhanced_text': 'An earthquake with a magnitude of 4.9 occurred 25 km (16 mi) northeast of Martapura, South Kalimantan, Indonesia. The earthquake caused significant damage, with many homes in Banjar Regency experiencing collapsed roofs or ceilings. Additionally, one school in Banjarmasin was damaged.', 'question': 'What was the magnitude of the earthquake that struck near Martapura, South Kalimantan, and what kind of damage did it cause?', 'reasoning': 'The content provides specific details about the location, magnitude, and impact of an earthquake in South Kalimantan, Indonesia. It includes important information about the damage caused, making it valuable and informative.'}\n",
            "\n",
            "✓ Chunk 76 processed and kept\n",
            "Question: What was the magnitude of the earthquake that struck near Martapura, South Kalimantan, and what kind of damage did it cause?\n"
          ]
        },
        {
          "output_type": "stream",
          "name": "stderr",
          "text": [
            "\r 29%|██▉       | 77/265 [02:37<06:31,  2.08s/it]"
          ]
        },
        {
          "output_type": "stream",
          "name": "stdout",
          "text": [
            "{'is_meaningful': False, 'enhanced_text': None, 'question': None, 'reasoning': 'The content primarily consists of links, navigation elements, and non-informative data such as coordinates and flags. It lacks meaningful information or context about the 2024 Cape Mendocino earthquake.'}\n",
            "\n",
            "✗ Chunk 77 discarded - not meaningful\n",
            "14[[47]](https://en.wikipedia.org/wiki/<#cite_note-47>) | ![](https://upload.wikimedia.org/wikipedia/commons/thumb/e/e4/Flag_of_the_Federated_States_of_Micronesia.svg/23px-Flag_of_the_Federated_States_of_Micronesia.svg.png) [Federated States of Micronesia](https://en.wikipedia.org/wiki/</wiki/Federated_States_of_Micronesia> \"Federated States of Micronesia\"), [Yap](https://en.wikipedia.org/wiki/</wiki/Yap_State> \"Yap State\") offshore, 171 km (106 mi) north-northeast of [Colonia](https://en.wikipedia.org/wiki/</wiki/Colonia,_Federated_States_of_Micronesia> \"Colonia, Federated States of Micronesia\") | 6.0  | 14.0  | IV  | -  | -  | -\n"
          ]
        },
        {
          "output_type": "stream",
          "name": "stderr",
          "text": [
            "\r 29%|██▉       | 78/265 [02:39<05:41,  1.82s/it]"
          ]
        },
        {
          "output_type": "stream",
          "name": "stdout",
          "text": [
            "{'is_meaningful': True, 'enhanced_text': 'On the date in question, an earthquake with a magnitude of 5.2 occurred 13 km (8.1 mi) north-northwest of Chancay, Peru, in the Lima Region. The earthquake resulted in significant damage, including the collapse of ten homes in the Rimac District and serious damage to two homes in the Huaral District. Additionally, landslides caused road blockages in the epicentral area.', 'question': 'What were the effects of the earthquake in the Rimac and Huaral districts?', 'reasoning': 'The content contains specific and valuable information about the location, magnitude, and impact of an earthquake in Peru, including details about structural damage and landslides. This information is relevant and informative, making it suitable for preservation and enhancement.'}\n",
            "\n",
            "✓ Chunk 78 processed and kept\n",
            "Question: What were the effects of the earthquake in the Rimac and Huaral districts?\n"
          ]
        },
        {
          "output_type": "stream",
          "name": "stderr",
          "text": [
            "\r 30%|██▉       | 79/265 [02:44<08:59,  2.90s/it]"
          ]
        },
        {
          "output_type": "stream",
          "name": "stdout",
          "text": [
            "{'is_meaningful': False, 'enhanced_text': None, 'question': None, 'reasoning': 'The text primarily consists of links, references, and fragmented data without any coherent context or narrative. It lacks meaningful information about the 2024 Cape Mendocino earthquake and does not provide any specific details or context that could be useful for understanding the event.'}\n",
            "\n",
            "✗ Chunk 79 discarded - not meaningful\n",
            "23[[51]](https://en.wikipedia.org/wiki/<#cite_note-51>) | southern [East Pacific Rise](https://en.wikipedia.org/wiki/</wiki/East_Pacific_Rise> \"East Pacific Rise\") | 6.3  | 10.0  | -  | -  | -  | -\n"
          ]
        },
        {
          "output_type": "stream",
          "name": "stderr",
          "text": [
            "\r 30%|███       | 80/265 [02:46<07:49,  2.54s/it]"
          ]
        },
        {
          "output_type": "stream",
          "name": "stdout",
          "text": [
            "{'is_meaningful': True, 'enhanced_text': 'An earthquake with a magnitude of 5.6 occurred offshore in West Java, Indonesia, approximately 79 km (49 mi) west-southwest of Pelabuhanratu. The earthquake had a depth of 34.0 km and was felt with an intensity of IV. In the Pandeglang-Cianjur area, three homes collapsed, and many others were damaged in the Lebak region.', 'question': 'What was the magnitude and depth of the earthquake that occurred offshore in West Java, Indonesia?', 'reasoning': \"The content provides specific details about an earthquake event, including its location, magnitude, depth, and impact on local structures. This information is valuable for understanding the event's significance and effects, making it meaningful content.\"}\n",
            "\n",
            "✓ Chunk 80 processed and kept\n",
            "Question: What was the magnitude and depth of the earthquake that occurred offshore in West Java, Indonesia?\n"
          ]
        },
        {
          "output_type": "stream",
          "name": "stderr",
          "text": [
            "\r 31%|███       | 81/265 [02:49<08:47,  2.87s/it]"
          ]
        },
        {
          "output_type": "stream",
          "name": "stdout",
          "text": [
            "{'is_meaningful': True, 'enhanced_text': 'In West Java, Indonesia, an earthquake occurred 10 km (6.2 mi) northeast of Lembang. The earthquake had a magnitude of 2.8 and a depth of 10.0 km. It resulted in the death of one person and injuries to two others due to a falling tree. Additionally, fourteen homes and a mosque were damaged, and ground cracks appeared in the Subang area.', 'question': 'What were the consequences of the earthquake that occurred northeast of Lembang in West Java, Indonesia?', 'reasoning': 'The content contains specific information about an earthquake in West Java, Indonesia, including its location, magnitude, depth, and the resulting casualties and damages. This information is valuable and provides meaningful context about the event.'}\n",
            "\n",
            "✓ Chunk 81 processed and kept\n",
            "Question: What were the consequences of the earthquake that occurred northeast of Lembang in West Java, Indonesia?\n"
          ]
        },
        {
          "output_type": "stream",
          "name": "stderr",
          "text": [
            "\r 31%|███       | 82/265 [02:52<08:23,  2.75s/it]"
          ]
        },
        {
          "output_type": "stream",
          "name": "stdout",
          "text": [
            "{'is_meaningful': False, 'enhanced_text': None, 'question': None, 'reasoning': 'The text primarily consists of statistical data and links related to earthquakes in March, with no specific information about the 2024 Cape Mendocino earthquake. It lacks detailed context or narrative content that would be informative about the specific event in question.'}\n",
            "\n",
            "✗ Chunk 82 discarded - not meaningful\n",
            "### March\n",
            "[[edit](https://en.wikipedia.org/wiki/</w/index.php?title=List_of_earthquakes_in_2024&action=edit&section=7> \"Edit section: March\")]\n",
            "MarchStrongest magnitude| 6.9 [Mw](https://en.wikipedia.org/wiki/</wiki/Seismic_magnitude_scales#Mw> \"Seismic magnitude scales\") ![](https://upload.wikimedia.org/wikipedia/commons/thumb/e/e3/Flag_of_Papua_New_Guinea.svg/20px-Flag_of_Papua_New_Guinea.svg.png) [Papua New Guinea](https://en.wikipedia.org/wiki/</wiki/Papua_New_Guinea> \"Papua New Guinea\")  \n",
            "---|---  \n",
            "Deadliest| 6.9 [Mw](https://en.wikipedia.org/wiki/</wiki/Seismic_magnitude_scales#Mw> \"Seismic magnitude scales\") ![](https://upload.wikimedia.org/wikipedia/commons/thumb/e/e3/Flag_of_Papua_New_Guinea.svg/20px-Flag_of_Papua_New_Guinea.svg.png) [Papua New Guinea](https://en.wikipedia.org/wiki/</wiki/Papua_New_Guinea> \"Papua New Guinea\")5 deaths  \n",
            "Total fatalities| 6  \n",
            "Number by magnitude  \n",
            "9.0+| 0  \n",
            "8.0–8.9| 0  \n",
            "7.0–7.9| 0  \n",
            "6.0–6.9| 8  \n",
            "5.0–5.9| 114  \n",
            "4.0–4.9| 1,000\n"
          ]
        },
        {
          "output_type": "stream",
          "name": "stderr",
          "text": [
            "\r 31%|███▏      | 83/265 [02:53<07:16,  2.40s/it]"
          ]
        },
        {
          "output_type": "stream",
          "name": "stdout",
          "text": [
            "{'is_meaningful': True, 'enhanced_text': 'The 2024 Cape Mendocino earthquake resulted in a total of 6 fatalities. The distribution of earthquakes by magnitude was as follows: 8 earthquakes with magnitudes between 6.0 and 6.9, 114 earthquakes with magnitudes between 5.0 and 5.9, and 1,000 earthquakes with magnitudes between 4.0 and 4.9. One notable earthquake in the Macquarie Island region had a magnitude of 6.8, occurred at a depth of 23.2 km, and registered a V on the Modified Mercalli Intensity scale. This particular event did not result in any reported casualties.', 'question': 'What was the magnitude and depth of the earthquake in the Macquarie Island region during the 2024 Cape Mendocino earthquake sequence?', 'reasoning': 'The content provides specific and detailed information about the distribution of earthquakes by magnitude, the total number of fatalities, and details about a specific earthquake event in the Macquarie Island region. This information is valuable for understanding the impact and characteristics of the 2024 Cape Mendocino earthquake.'}\n",
            "\n",
            "✓ Chunk 83 processed and kept\n",
            "Question: What was the magnitude and depth of the earthquake in the Macquarie Island region during the 2024 Cape Mendocino earthquake sequence?\n"
          ]
        },
        {
          "output_type": "stream",
          "name": "stderr",
          "text": [
            "\r 32%|███▏      | 84/265 [02:57<08:19,  2.76s/it]"
          ]
        },
        {
          "output_type": "stream",
          "name": "stdout",
          "text": [
            "{'is_meaningful': False, 'enhanced_text': None, 'question': None, 'reasoning': 'The text primarily consists of links, navigation elements, and fragmented data points without any coherent context or detailed information about the 2024 Cape Mendocino earthquake. It does not provide meaningful content that can be improved for readability or understanding.'}\n",
            "\n",
            "✗ Chunk 84 discarded - not meaningful\n",
            "3[[59]](https://en.wikipedia.org/wiki/<#cite_note-59>) | [Macquarie Island](https://en.wikipedia.org/wiki/</wiki/Macquarie_Island> \"Macquarie Island\") region  | 6.8  | 23.2  | V  | -  | -  | -   \n",
            "4[[60]](https://en.wikipedia.org/wiki/<#cite_note-60>) | ![](https://upload.wikimedia.org/wikipedia/commons/thumb/c/c7/Flag_of_Kyrgyzstan.svg/23px-Flag_of_Kyrgyzstan.svg.png) [Kyrgyzstan](https://en.wikipedia.org/wiki/</wiki/Kyrgyzstan> \"Kyrgyzstan\"), [Issyk-Kul](https://en.wikipedia.org/wiki/</wiki/Issyk-Kul_Region> \"Issyk-Kul Region\"), 25 km (16 mi) northwest of [Cholpon-Ata](https://en.wikipedia.org/wiki/</wiki/Cholpon-Ata> \"Cholpon-Ata\") | 4.7  | 28.3  | VI  | One person injured[[61]](https://en.wikipedia.org/wiki/<#cite_note-61>) and many buildings damaged in [Almaty](https://en.wikipedia.org/wiki/</wiki/Almaty> \"Almaty\"), [Kazakhstan](https://en.wikipedia.org/wiki/</wiki/Kazakhstan> \"Kazakhstan\").[[62]](https://en.wikipedia.org/wiki/<#cite_note-62>) | -  | 1\n"
          ]
        },
        {
          "output_type": "stream",
          "name": "stderr",
          "text": [
            "\r 32%|███▏      | 85/265 [02:58<07:10,  2.39s/it]"
          ]
        },
        {
          "output_type": "stream",
          "name": "stdout",
          "text": [
            "{'is_meaningful': False, 'enhanced_text': None, 'question': None, 'reasoning': 'The text primarily consists of links, references, and navigation elements related to different locations and events, not directly providing meaningful information about the 2024 Cape Mendocino earthquake. It lacks context, details, and specific information relevant to the topic.'}\n",
            "\n",
            "✗ Chunk 85 discarded - not meaningful\n",
            "4[[63]](https://en.wikipedia.org/wiki/<#cite_note-63>) | ![](https://upload.wikimedia.org/wikipedia/commons/thumb/b/b4/Flag_of_Turkey.svg/23px-Flag_of_Turkey.svg.png) [Turkey](https://en.wikipedia.org/wiki/</wiki/Turkey> \"Turkey\"), [Çanakkale](https://en.wikipedia.org/wiki/</wiki/%C3%87anakkale_Province> \"Çanakkale Province\"), 21 km (13 mi) northeast of [Hamdibey](https://en.wikipedia.org/wiki/</wiki/Hamdibey> \"Hamdibey\") | 4.3  | 15.0  | IV  | One person killed after jumping from a building in [Nilüfer](https://en.wikipedia.org/wiki/</wiki/Nil%C3%BCfer,_Bursa> \"Nilüfer, Bursa\").[[64]](https://en.wikipedia.org/wiki/<#cite_note-64>) | 1  | -   \n",
            "5[[65]](https://en.wikipedia.org/wiki/<#cite_note-65>) | [Macquarie Island](https://en.wikipedia.org/wiki/</wiki/Macquarie_Island> \"Macquarie Island\") region  | 6.1  | 10.0  | -  | [Aftershock](https://en.wikipedia.org/wiki/</wiki/Aftershock> \"Aftershock\") of the 6.8 earthquake on 3 March.  | -  | -\n"
          ]
        },
        {
          "output_type": "stream",
          "name": "stderr",
          "text": [
            "\r 32%|███▏      | 86/265 [03:00<06:30,  2.18s/it]"
          ]
        },
        {
          "output_type": "stream",
          "name": "stdout",
          "text": [
            "{'is_meaningful': True, 'enhanced_text': 'On the day of the 2024 Cape Mendocino earthquake, a significant seismic event occurred in Peru, specifically in the Department of Ica, 10 km south-southeast of Chincha Alta. The earthquake registered a magnitude of 4.9 and caused severe damage to several structures in Pisco. Additionally, landslides resulting from the quake blocked roads in the Humay District.', 'question': 'What were the consequences of the earthquake in the Department of Ica, Peru, during the 2024 Cape Mendocino earthquake?', 'reasoning': 'The content provides specific information about the impact of the earthquake in Peru, including its magnitude, location, and resulting damage. This is valuable information that contributes to understanding the broader effects of the 2024 Cape Mendocino earthquake.'}\n",
            "\n",
            "✓ Chunk 86 processed and kept\n",
            "Question: What were the consequences of the earthquake in the Department of Ica, Peru, during the 2024 Cape Mendocino earthquake?\n"
          ]
        },
        {
          "output_type": "stream",
          "name": "stderr",
          "text": [
            "\r 33%|███▎      | 87/265 [03:03<07:06,  2.40s/it]"
          ]
        },
        {
          "output_type": "stream",
          "name": "stdout",
          "text": [
            "{'is_meaningful': False, 'enhanced_text': None, 'question': None, 'reasoning': 'The content primarily consists of links, navigation elements, and non-informative data points without context or detailed information about the 2024 Cape Mendocino earthquake. It lacks narrative or descriptive content that could be improved for readability or comprehension.'}\n",
            "\n",
            "✗ Chunk 87 discarded - not meaningful\n",
            "8[[68]](https://en.wikipedia.org/wiki/<#cite_note-68>) | ![](https://upload.wikimedia.org/wikipedia/commons/thumb/9/99/Flag_of_the_Philippines.svg/23px-Flag_of_the_Philippines.svg.png) [Philippines](https://en.wikipedia.org/wiki/</wiki/Philippines> \"Philippines\"), [Davao](https://en.wikipedia.org/wiki/</wiki/Davao_Region> \"Davao Region\") offshore, 103 km (64 mi) southeast of [Pondaguitan](https://en.wikipedia.org/wiki/</wiki/Governor_Generoso> \"Governor Generoso\") | 6.0  | 115.0  | IV  | -  | -  | -\n"
          ]
        },
        {
          "output_type": "stream",
          "name": "stderr",
          "text": [
            "\r 33%|███▎      | 88/265 [03:04<06:05,  2.06s/it]"
          ]
        },
        {
          "output_type": "stream",
          "name": "stdout",
          "text": [
            "{'is_meaningful': True, 'enhanced_text': 'In Peru, specifically in the Department of Huancavelica, an earthquake occurred 22 km (14 mi) north-northwest of Paucarbamba. The earthquake had a magnitude of 4.0 and resulted in one person being injured. Additionally, one home collapsed and 49 structures were damaged in the Tayacaja Province area.', 'question': 'What were the consequences of the earthquake in the Tayacaja Province area in terms of injuries and structural damage?', 'reasoning': 'The content provides specific details about the location, magnitude, and impact of an earthquake in Peru, including human injuries and structural damage. This information is valuable for understanding the effects of the earthquake, making the content meaningful and worth preserving.'}\n",
            "\n",
            "✓ Chunk 88 processed and kept\n",
            "Question: What were the consequences of the earthquake in the Tayacaja Province area in terms of injuries and structural damage?\n"
          ]
        },
        {
          "output_type": "stream",
          "name": "stderr",
          "text": [
            "\r 34%|███▎      | 89/265 [03:07<06:44,  2.30s/it]"
          ]
        },
        {
          "output_type": "stream",
          "name": "stdout",
          "text": [
            "{'is_meaningful': False, 'enhanced_text': None, 'question': None, 'reasoning': 'The content primarily consists of links, navigation elements, and a table-like format with numbers and symbols that lack context. It does not provide any meaningful information or context about the 2024 Cape Mendocino earthquake.'}\n",
            "\n",
            "✗ Chunk 89 discarded - not meaningful\n",
            "13[[71]](https://en.wikipedia.org/wiki/<#cite_note-71>) | ![](https://upload.wikimedia.org/wikipedia/commons/thumb/e/e3/Flag_of_Papua_New_Guinea.svg/20px-Flag_of_Papua_New_Guinea.svg.png) [Papua New Guinea](https://en.wikipedia.org/wiki/</wiki/Papua_New_Guinea> \"Papua New Guinea\"), [West New Britain](https://en.wikipedia.org/wiki/</wiki/West_New_Britain_Province> \"West New Britain Province\"), 68 km (42 mi) east-southeast of [Kimbe](https://en.wikipedia.org/wiki/</wiki/Kimbe> \"Kimbe\") | 6.0  | 44.0  | VI  | -  | -  | -\n"
          ]
        },
        {
          "output_type": "stream",
          "name": "stderr",
          "text": [
            "\r 34%|███▍      | 90/265 [03:09<06:16,  2.15s/it]"
          ]
        },
        {
          "output_type": "stream",
          "name": "stdout",
          "text": [
            "{'is_meaningful': True, 'enhanced_text': 'An earthquake with a magnitude of 5.4 occurred 22 km (14 mi) east-northeast of Bileća, Bosnia and Herzegovina, affecting the region of Plužine in Montenegro. The earthquake resulted in the destruction of one barn and damage to many homes in Golija. Additionally, landslides caused by the quake blocked roads in the Nikšić-Krstac area.', 'question': 'What was the magnitude of the earthquake that affected Plužine, Montenegro, and what were some of the consequences in the surrounding area?', 'reasoning': \"The content provides specific information about an earthquake, including its magnitude, location, and the resulting damage. It is not merely a collection of links or navigation elements, but rather contains valuable details about the event's impact.\"}\n",
            "\n",
            "✓ Chunk 90 processed and kept\n",
            "Question: What was the magnitude of the earthquake that affected Plužine, Montenegro, and what were some of the consequences in the surrounding area?\n"
          ]
        },
        {
          "output_type": "stream",
          "name": "stderr",
          "text": [
            "\r 34%|███▍      | 91/265 [03:12<06:53,  2.38s/it]"
          ]
        },
        {
          "output_type": "stream",
          "name": "stdout",
          "text": [
            "{'is_meaningful': False, 'enhanced_text': None, 'question': None, 'reasoning': 'The text chunk consists primarily of links, navigation elements, and non-informative content. It does not contain any actual information about the 2024 Cape Mendocino earthquake or any meaningful context or details. Therefore, it is marked for discarding.'}\n",
            "\n",
            "✗ Chunk 91 discarded - not meaningful\n",
            "\"Nikšić\")-[Krstac](https://en.wikipedia.org/wiki/</wiki/Krstac_\\(%C4%8Cajni%C4%8De\\)> \"Krstac \\(Čajniče\\)\") area.[[73]](https://en.wikipedia.org/wiki/<#cite_note-73>) | -  | -\n"
          ]
        },
        {
          "output_type": "stream",
          "name": "stderr",
          "text": [
            "\r 35%|███▍      | 92/265 [03:14<06:36,  2.29s/it]"
          ]
        },
        {
          "output_type": "stream",
          "name": "stdout",
          "text": [
            "{'is_meaningful': False, 'enhanced_text': None, 'question': None, 'reasoning': 'The text primarily consists of links, reference numbers, and navigation elements without providing any meaningful information or context about the 2024 Cape Mendocino earthquake. It lacks specific details, dates, or technical information relevant to the earthquake itself.'}\n",
            "\n",
            "✗ Chunk 92 discarded - not meaningful\n",
            "14[[74]](https://en.wikipedia.org/wiki/<#cite_note-74>) | northern [Mid-Atlantic Ridge](https://en.wikipedia.org/wiki/</wiki/Mid-Atlantic_Ridge> \"Mid-Atlantic Ridge\") | 6.2  | 10.0  | -  | -  | -  | -   \n",
            "21[[75]](https://en.wikipedia.org/wiki/<#cite_note-75>) | ![](https://upload.wikimedia.org/wikipedia/en/thumb/4/41/Flag_of_India.svg/23px-Flag_of_India.svg.png) [India](https://en.wikipedia.org/wiki/</wiki/India> \"India\"), [Maharashtra](https://en.wikipedia.org/wiki/</wiki/Maharashtra> \"Maharashtra\"), 20 km (12 mi) north-northeast of [Basmat](https://en.wikipedia.org/wiki/</wiki/Basmath> \"Basmath\") | 4.6  | 10.0  | V  | Many homes collapsed and many others damaged in the [Nanded](https://en.wikipedia.org/wiki/</wiki/Nanded_district> \"Nanded district\") area.[[76]](https://en.wikipedia.org/wiki/<#cite_note-76>) | -  | -\n"
          ]
        },
        {
          "output_type": "stream",
          "name": "stderr",
          "text": [
            "\r 35%|███▌      | 93/265 [03:16<05:55,  2.07s/it]"
          ]
        },
        {
          "output_type": "stream",
          "name": "stdout",
          "text": [
            "{'is_meaningful': True, 'enhanced_text': 'An earthquake with a magnitude of 5.6 occurred offshore of East Java, Indonesia, 117 km (73 mi) north of Paciran. The earthquake had a depth of 10.0 km and an intensity of VII. As a result, ten people were hospitalized due to panic attacks, one person was injured by falling debris, two houses and a village hall were destroyed, and 35 structures were damaged in Bawean.', 'question': 'What were the consequences of the earthquake that occurred offshore of East Java, Indonesia?', 'reasoning': 'The content provides specific details about the location, magnitude, depth, and impact of an earthquake near East Java, Indonesia. It includes valuable information about the damage and injuries caused, making it meaningful and informative.'}\n",
            "\n",
            "✓ Chunk 93 processed and kept\n",
            "Question: What were the consequences of the earthquake that occurred offshore of East Java, Indonesia?\n"
          ]
        },
        {
          "output_type": "stream",
          "name": "stderr",
          "text": [
            "\r 35%|███▌      | 94/265 [03:18<06:24,  2.25s/it]"
          ]
        },
        {
          "output_type": "stream",
          "name": "stdout",
          "text": [
            "{'is_meaningful': True, 'enhanced_text': 'An earthquake with a magnitude of 6.4 occurred offshore of East Java, Indonesia, 110 km (68 mi) north of Paciran. The earthquake resulted in four injuries and caused significant damage, destroying 774 houses and damaging 4,858 structures in the Bawean, Tuban, and Surabaya areas.', 'question': 'How many structures were damaged in the Bawean, Tuban, and Surabaya areas due to the earthquake offshore East Java?', 'reasoning': \"The content provides specific information about an earthquake event, including its magnitude, location, impact in terms of injuries, and structural damage. This information is valuable for understanding the event's consequences, making it meaningful and worth preserving.\"}\n",
            "\n",
            "✓ Chunk 94 processed and kept\n",
            "Question: How many structures were damaged in the Bawean, Tuban, and Surabaya areas due to the earthquake offshore East Java?\n"
          ]
        },
        {
          "output_type": "stream",
          "name": "stderr",
          "text": [
            "\r 36%|███▌      | 95/265 [03:21<06:29,  2.29s/it]"
          ]
        },
        {
          "output_type": "stream",
          "name": "stdout",
          "text": [
            "{'is_meaningful': True, 'enhanced_text': 'An earthquake with a magnitude of 5.3 occurred offshore of Bengkulu, Indonesia, 82 km southwest of Pagar Alam. The earthquake resulted in the collapse of eight homes and damage to 110 structures in South Bengkulu Regency.', 'question': 'What was the magnitude of the earthquake that affected South Bengkulu Regency, and how many homes were reported collapsed?', 'reasoning': \"The content provides specific information about the location, magnitude, and impact of an earthquake in Indonesia, including the number of homes collapsed and structures damaged. This information is valuable for understanding the event's impact and is not merely links or navigation elements.\"}\n",
            "\n",
            "✓ Chunk 95 processed and kept\n",
            "Question: What was the magnitude of the earthquake that affected South Bengkulu Regency, and how many homes were reported collapsed?\n"
          ]
        },
        {
          "output_type": "stream",
          "name": "stderr",
          "text": [
            "\r 36%|███▌      | 96/265 [03:23<06:18,  2.24s/it]"
          ]
        },
        {
          "output_type": "stream",
          "name": "stdout",
          "text": [
            "{'is_meaningful': False, 'enhanced_text': None, 'question': None, 'reasoning': 'The text primarily consists of links, references, and navigation elements without providing substantial information about the 2024 Cape Mendocino earthquake. It mentions another earthquake in East Sepik, Papua New Guinea, but lacks context or details relevant to the primary topic.'}\n",
            "\n",
            "✗ Chunk 96 discarded - not meaningful\n",
            "23[[88]](https://en.wikipedia.org/wiki/<#cite_note-88>) | ![](https://upload.wikimedia.org/wikipedia/commons/thumb/e/e3/Flag_of_Papua_New_Guinea.svg/20px-Flag_of_Papua_New_Guinea.svg.png) [Papua New Guinea](https://en.wikipedia.org/wiki/</wiki/Papua_New_Guinea> \"Papua New Guinea\"), [East Sepik](https://en.wikipedia.org/wiki/</wiki/East_Sepik_Province> \"East Sepik Province\"), 36 km (22 mi) east-northeast of [Ambunti](https://en.wikipedia.org/wiki/</wiki/Ambunti> \"Ambunti\") | 6.9  | 41.5  | VII  | Further information: [2024 East Sepik earthquake](https://en.wikipedia.org/wiki/</wiki/2024_East_Sepik_earthquake> \"2024 East Sepik earthquake\") | 5  | 2\n"
          ]
        },
        {
          "output_type": "stream",
          "name": "stderr",
          "text": [
            "\r 37%|███▋      | 97/265 [03:24<05:39,  2.02s/it]"
          ]
        },
        {
          "output_type": "stream",
          "name": "stdout",
          "text": [
            "{'is_meaningful': False, 'enhanced_text': None, 'question': None, 'reasoning': 'The text primarily consists of links, navigation elements, and fragmented data points without coherent context or detailed information about the 2024 Cape Mendocino earthquake. It lacks a narrative or explanation that would provide meaningful insight into the event, making it unsuitable for retention.'}\n",
            "\n",
            "✗ Chunk 97 discarded - not meaningful\n",
            "25[[89]](https://en.wikipedia.org/wiki/<#cite_note-89>) | ![](https://upload.wikimedia.org/wikipedia/commons/thumb/2/21/Flag_of_Vietnam.svg/23px-Flag_of_Vietnam.svg.png) [Vietnam](https://en.wikipedia.org/wiki/</wiki/Vietnam> \"Vietnam\"), [Hòa Bình](https://en.wikipedia.org/wiki/</wiki/H%C3%B2a_B%C3%ACnh_Province> \"Hòa Bình Province\"), 27 km (17 mi) south of [Xuân Mai](https://en.wikipedia.org/wiki/</wiki/Xu%C3%A2n_Mai> \"Xuân Mai\") | 4.2  | 10.0  | V  | Many homes damaged or destroyed and landslides in the [Mỹ Đức](https://en.wikipedia.org/wiki/</wiki/M%E1%BB%B9_%C4%90%E1%BB%A9c_District> \"Mỹ Đức District\") area.[[90]](https://en.wikipedia.org/wiki/<#cite_note-90>) | -  | -   \n",
            "27[[91]](https://en.wikipedia.org/wiki/<#cite_note-91>) | [Vanuatu](https://en.wikipedia.org/wiki/</wiki/Vanuatu> \"Vanuatu\") region  | 6.4  | 10.0  | IV  | -  | -  | -\n"
          ]
        },
        {
          "output_type": "stream",
          "name": "stderr",
          "text": [
            "\r 37%|███▋      | 98/265 [03:26<05:17,  1.90s/it]"
          ]
        },
        {
          "output_type": "stream",
          "name": "stdout",
          "text": [
            "{'is_meaningful': True, 'enhanced_text': 'On April 29, 2024, an earthquake with a magnitude of 5.8 occurred offshore in the Peloponnese region of Greece, approximately 34 kilometers (21 miles) west-northwest of Filiatra. The earthquake resulted in the collapse of several old homes and caused damage to many buildings and bridges in the Zacharo area.', 'question': 'What was the magnitude of the earthquake that struck offshore Peloponnese, Greece, on April 29, 2024?', 'reasoning': 'The content provides specific information about an earthquake event, including the date, location, magnitude, and impact, which are all valuable details for understanding the event. It is not just links or navigation elements, hence it is meaningful and retained.'}\n",
            "\n",
            "✓ Chunk 98 processed and kept\n",
            "Question: What was the magnitude of the earthquake that struck offshore Peloponnese, Greece, on April 29, 2024?\n"
          ]
        },
        {
          "output_type": "stream",
          "name": "stderr",
          "text": [
            "\r 37%|███▋      | 99/265 [03:30<06:44,  2.43s/it]"
          ]
        },
        {
          "output_type": "stream",
          "name": "stdout",
          "text": [
            "{'is_meaningful': False, 'enhanced_text': None, 'question': None, 'reasoning': 'The content primarily consists of statistical data and links related to earthquakes in April 2024, with no specific information about the 2024 Cape Mendocino earthquake. It lacks context, narrative, or detailed information relevant to the Cape Mendocino event, and is mostly formatted as a table with links and icons, making it non-informative for the specified topic.'}\n",
            "\n",
            "✗ Chunk 99 discarded - not meaningful\n",
            "### April\n",
            "[[edit](https://en.wikipedia.org/wiki/</w/index.php?title=List_of_earthquakes_in_2024&action=edit&section=8> \"Edit section: April\")]\n",
            "AprilStrongest magnitude| 7.4 [Mw](https://en.wikipedia.org/wiki/</wiki/Seismic_magnitude_scales#Mw> \"Seismic magnitude scales\") ![](https://upload.wikimedia.org/wikipedia/commons/thumb/7/72/Flag_of_the_Republic_of_China.svg/23px-Flag_of_the_Republic_of_China.svg.png) [Taiwan](https://en.wikipedia.org/wiki/</wiki/Taiwan> \"Taiwan\")  \n",
            "---|---  \n",
            "Deadliest| 7.4 [Mw](https://en.wikipedia.org/wiki/</wiki/Seismic_magnitude_scales#Mw> \"Seismic magnitude scales\") ![](https://upload.wikimedia.org/wikipedia/commons/thumb/7/72/Flag_of_the_Republic_of_China.svg/23px-Flag_of_the_Republic_of_China.svg.png) [Taiwan](https://en.wikipedia.org/wiki/</wiki/Taiwan> \"Taiwan\")18 deaths  \n",
            "Total fatalities| 19  \n",
            "Number by magnitude  \n",
            "9.0+| 0  \n",
            "8.0–8.9| 0  \n",
            "7.0–7.9| 1  \n",
            "6.0–6.9| 11  \n",
            "5.0–5.9| 169  \n",
            "4.0–4.9| 1,367\n"
          ]
        },
        {
          "output_type": "stream",
          "name": "stderr",
          "text": [
            "\r 38%|███▊      | 100/265 [03:32<06:40,  2.43s/it]"
          ]
        },
        {
          "output_type": "stream",
          "name": "stdout",
          "text": [
            "{'is_meaningful': False, 'enhanced_text': None, 'question': None, 'reasoning': 'The text primarily consists of numerical data without context, image links, and navigation elements related to an earthquake event in Hualien, Taiwan, rather than the 2024 Cape Mendocino earthquake. It lacks coherent information or narrative that can be enhanced for readability or understanding.'}\n",
            "\n",
            "✗ Chunk 100 discarded - not meaningful\n",
            "6.0–6.9| 11  \n",
            "5.0–5.9| 169  \n",
            "4.0–4.9| 1,367  \n",
            "[![](https://upload.wikimedia.org/wikipedia/commons/thumb/0/02/Rescue_workers_near_the_semi-collapsed_ten-story_Uranus_Building_on_Xuanyuan_Road_after_the_2024_Hualien_earthquake.jpg/205px-Rescue_workers_near_the_semi-collapsed_ten-story_Uranus_Building_on_Xuanyuan_Road_after_the_2024_Hualien_earthquake.jpg)](https://en.wikipedia.org/wiki/</wiki/File:Rescue_workers_near_the_semi-collapsed_ten-story_Uranus_Building_on_Xuanyuan_Road_after_the_2024_Hualien_earthquake.jpg>)Rescue workers near the collapsed nine-story [Uranus building](https://en.wikipedia.org/wiki/</wiki/Uranus_building> \"Uranus building\") in [Hualien City](https://en.wikipedia.org/wiki/</wiki/Hualien_City> \"Hualien City\"), [Taiwan](https://en.wikipedia.org/wiki/</wiki/Taiwan> \"Taiwan\") Date | Country and location | Mw | Depth (km) | [MMI](https://en.wikipedia.org/wiki/</wiki/Modified_Mercalli_intensity_scale> \"Modified Mercalli intensity scale\") | Notes | Casualties\n"
          ]
        },
        {
          "output_type": "stream",
          "name": "stderr",
          "text": [
            "\r 38%|███▊      | 101/265 [03:34<06:14,  2.28s/it]"
          ]
        },
        {
          "output_type": "stream",
          "name": "stdout",
          "text": [
            "{'is_meaningful': True, 'enhanced_text': 'The 2024 Cape Mendocino earthquake resulted in one fatality and two injuries. The earthquake occurred 7 km (4.3 mi) southwest of Kuji in Iwate Prefecture, Japan. It registered a magnitude of 5.9 and an intensity of VI. In Aomori Prefecture, two people were injured, and several structures in the Kuji area were damaged.', 'question': 'What was the magnitude and intensity of the 2024 Cape Mendocino earthquake, and how many people were injured in Aomori Prefecture?', 'reasoning': 'The content provides specific details about the earthquake, including its location, magnitude, intensity, and the impact on human life and structures. It is more than just links or navigation elements and offers meaningful context about the event.'}\n",
            "\n",
            "✓ Chunk 101 processed and kept\n",
            "Question: What was the magnitude and intensity of the 2024 Cape Mendocino earthquake, and how many people were injured in Aomori Prefecture?\n"
          ]
        },
        {
          "output_type": "stream",
          "name": "stderr",
          "text": [
            "\r 38%|███▊      | 102/265 [03:37<06:48,  2.51s/it]"
          ]
        },
        {
          "output_type": "stream",
          "name": "stdout",
          "text": [
            "{'is_meaningful': False, 'enhanced_text': None, 'question': None, 'reasoning': 'The content primarily consists of links, navigation elements, and non-informative data such as symbols and placeholders. It lacks meaningful context or details about the 2024 Cape Mendocino earthquake, and therefore does not provide valuable information for the topic at hand.'}\n",
            "\n",
            "✗ Chunk 102 discarded - not meaningful\n",
            "2[[97]](https://en.wikipedia.org/wiki/<#cite_note-97>) | ![](https://upload.wikimedia.org/wikipedia/commons/thumb/e/e0/Flag_of_the_Northern_Mariana_Islands.svg/23px-Flag_of_the_Northern_Mariana_Islands.svg.png) [Northern Mariana Islands](https://en.wikipedia.org/wiki/</wiki/Northern_Mariana_Islands> \"Northern Mariana Islands\"), [Saipan](https://en.wikipedia.org/wiki/</wiki/Saipan> \"Saipan\") offshore, 137 km (85 mi) east-northeast of [Saipan](https://en.wikipedia.org/wiki/</wiki/Saipan> \"Saipan\") | 6.2  | 10.0  | IV  | -  | –  | -\n"
          ]
        },
        {
          "output_type": "stream",
          "name": "stderr",
          "text": [
            "\r 39%|███▉      | 103/265 [03:39<06:04,  2.25s/it]"
          ]
        },
        {
          "output_type": "stream",
          "name": "stdout",
          "text": [
            "{'is_meaningful': False, 'enhanced_text': None, 'question': None, 'reasoning': 'The text primarily consists of links, navigation elements, and reference markers without providing substantial information about the 2024 Cape Mendocino earthquake. It mentions an earthquake near Hualien, Taiwan, but lacks context, details, or narrative that would be informative or relevant to the specified event.'}\n",
            "\n",
            "✗ Chunk 103 discarded - not meaningful\n",
            "2[[98]](https://en.wikipedia.org/wiki/<#cite_note-98>) | ![](https://upload.wikimedia.org/wikipedia/commons/thumb/7/72/Flag_of_the_Republic_of_China.svg/23px-Flag_of_the_Republic_of_China.svg.png) [Taiwan](https://en.wikipedia.org/wiki/</wiki/Taiwan> \"Taiwan\"), [Hualien](https://en.wikipedia.org/wiki/</wiki/Hualien_County> \"Hualien County\") offshore, 15 km (9.3 mi) south of [Hualien City](https://en.wikipedia.org/wiki/</wiki/Hualien_City> \"Hualien City\") | 7.4  | 40.0  | VIII  | Further information: [2024 Hualien earthquake](https://en.wikipedia.org/wiki/</wiki/2024_Hualien_earthquake> \"2024 Hualien earthquake\") | 18  | 1,147\n"
          ]
        },
        {
          "output_type": "stream",
          "name": "stderr",
          "text": [
            "\r 39%|███▉      | 104/265 [03:41<05:49,  2.17s/it]"
          ]
        },
        {
          "output_type": "stream",
          "name": "stdout",
          "text": [
            "{'is_meaningful': True, 'enhanced_text': 'An aftershock of magnitude 6.4 occurred offshore near Taiwan, 15 kilometers (9.3 miles) north-northeast of Hualien City. This aftershock followed a larger 7.4 magnitude earthquake that happened 13 minutes earlier. The intensity of the aftershock was measured at VII on the Mercalli intensity scale.', 'question': 'What was the magnitude and location of the aftershock that followed the 7.4 earthquake near Hualien City?', 'reasoning': 'The content provides specific and valuable information about the aftershock that followed a major earthquake near Hualien City, including its magnitude, location, and timing relative to the initial quake. This information is crucial for understanding the sequence and impact of seismic events in the area.'}\n",
            "\n",
            "✓ Chunk 104 processed and kept\n",
            "Question: What was the magnitude and location of the aftershock that followed the 7.4 earthquake near Hualien City?\n"
          ]
        },
        {
          "output_type": "stream",
          "name": "stderr",
          "text": [
            "\r 40%|███▉      | 105/265 [03:48<09:56,  3.73s/it]"
          ]
        },
        {
          "output_type": "stream",
          "name": "stdout",
          "text": [
            "{'is_meaningful': False, 'enhanced_text': None, 'question': None, 'reasoning': 'The content provided consists mainly of structured data with links, flags, and minimal context about earthquakes in different regions. It lacks narrative details, context, or specific information about the 2024 Cape Mendocino earthquake. Therefore, it does not provide meaningful information that can be enhanced or used to form a comprehensive understanding of the event.'}\n",
            "\n",
            "✗ Chunk 105 discarded - not meaningful\n",
            "4[[100]](https://en.wikipedia.org/wiki/<#cite_note-100>) | ![](https://upload.wikimedia.org/wikipedia/en/thumb/9/9e/Flag_of_Japan.svg/23px-Flag_of_Japan.svg.png) [Japan](https://en.wikipedia.org/wiki/</wiki/Japan> \"Japan\"), [Fukushima](https://en.wikipedia.org/wiki/</wiki/Fukushima_Prefecture> \"Fukushima Prefecture\"), 77 km (48 mi) east of [Minami-Sōma](https://en.wikipedia.org/wiki/</wiki/Minamis%C5%8Dma> \"Minamisōma\") | 6.1  | 29.0  | IV  | -  | -  | -   \n",
            "5[[101]](https://en.wikipedia.org/wiki/<#cite_note-101>) | ![](https://upload.wikimedia.org/wikipedia/commons/thumb/e/e0/Flag_of_the_Northern_Mariana_Islands.svg/23px-Flag_of_the_Northern_Mariana_Islands.svg.png) [Northern Mariana Islands](https://en.wikipedia.org/wiki/</wiki/Northern_Mariana_Islands> \"Northern Mariana Islands\"), [Maug Islands](https://en.wikipedia.org/wiki/</wiki/Maug_Islands> \"Maug Islands\") offshore  | 6.8  | 222.0  | IV  | -  | -  | -\n"
          ]
        },
        {
          "output_type": "stream",
          "name": "stderr",
          "text": [
            "\r 40%|████      | 106/265 [03:50<08:22,  3.16s/it]"
          ]
        },
        {
          "output_type": "stream",
          "name": "stdout",
          "text": [
            "{'is_meaningful': False, 'enhanced_text': None, 'question': None, 'reasoning': 'The text primarily consists of links, references, and navigation elements related to a location in China, rather than providing specific information about the 2024 Cape Mendocino earthquake. It lacks meaningful context or details about the earthquake itself, thus it is marked for discarding.'}\n",
            "\n",
            "✗ Chunk 106 discarded - not meaningful\n",
            "6[[102]](https://en.wikipedia.org/wiki/<#cite_note-5.0LUDIAN-102>) | ![](https://upload.wikimedia.org/wikipedia/commons/thumb/f/fa/Flag_of_the_People%27s_Republic_of_China.svg/23px-Flag_of_the_People%27s_Republic_of_China.svg.png) [China](https://en.wikipedia.org/wiki/</wiki/China> \"China\"), [Yunnan](https://en.wikipedia.org/wiki/</wiki/Yunnan> \"Yunnan\"), 30 km (19 mi) southwest of [Zhaotong](https://en.wikipedia.org/wiki/</wiki/Zhaotong> \"Zhaotong\") | 5.0  | 10.0  | IV  | Two homes destroyed and rockfalls occurred in [Ludian County](https://en.wikipedia.org/wiki/</wiki/Ludian_County> \"Ludian County\").[[102]](https://en.wikipedia.org/wiki/<#cite_note-5.0LUDIAN-102>) | -  | -\n"
          ]
        },
        {
          "output_type": "stream",
          "name": "stderr",
          "text": [
            "\r 40%|████      | 107/265 [03:52<07:23,  2.81s/it]"
          ]
        },
        {
          "output_type": "stream",
          "name": "stdout",
          "text": [
            "{'is_meaningful': False, 'enhanced_text': None, 'question': None, 'reasoning': 'The content primarily consists of links, navigation elements, and a table-like structure with minimal context or details about the 2024 Cape Mendocino earthquake. It lacks narrative or descriptive information that could be improved or used to form a meaningful question.'}\n",
            "\n",
            "✗ Chunk 107 discarded - not meaningful\n",
            "9[[103]](https://en.wikipedia.org/wiki/<#cite_note-103>) | ![](https://upload.wikimedia.org/wikipedia/commons/thumb/9/9f/Flag_of_Indonesia.svg/23px-Flag_of_Indonesia.svg.png) [Indonesia](https://en.wikipedia.org/wiki/</wiki/Indonesia> \"Indonesia\"), [North Maluku](https://en.wikipedia.org/wiki/</wiki/North_Maluku> \"North Maluku\") offshore, 150 km (93 mi) northwest of [Tobelo](https://en.wikipedia.org/wiki/</wiki/Tobelo> \"Tobelo\") | 6.4  | 22.0  | IV  | -  | -  | -\n"
          ]
        },
        {
          "output_type": "stream",
          "name": "stderr",
          "text": [
            "\r 41%|████      | 108/265 [03:53<06:17,  2.41s/it]"
          ]
        },
        {
          "output_type": "stream",
          "name": "stdout",
          "text": [
            "{'is_meaningful': False, 'enhanced_text': None, 'question': None, 'reasoning': 'The content primarily consists of links, navigation elements, and non-informative data such as numerical values without context. It lacks meaningful information about the 2024 Cape Mendocino earthquake and does not provide any explanatory details or context that would be valuable for understanding the event.'}\n",
            "\n",
            "✗ Chunk 108 discarded - not meaningful\n",
            "14[[104]](https://en.wikipedia.org/wiki/<#cite_note-104>) | ![](https://upload.wikimedia.org/wikipedia/commons/thumb/e/e3/Flag_of_Papua_New_Guinea.svg/20px-Flag_of_Papua_New_Guinea.svg.png) [Papua New Guinea](https://en.wikipedia.org/wiki/</wiki/Papua_New_Guinea> \"Papua New Guinea\"), [East New Britain](https://en.wikipedia.org/wiki/</wiki/East_New_Britain_Province> \"East New Britain Province\"), 111 km (69 mi) east-southeast of [Kimbe](https://en.wikipedia.org/wiki/</wiki/Kimbe> \"Kimbe\") | 6.5  | 49.0  | VI  | -  | -  | -\n"
          ]
        },
        {
          "output_type": "stream",
          "name": "stderr",
          "text": [
            "\r 41%|████      | 109/265 [03:55<06:00,  2.31s/it]"
          ]
        },
        {
          "output_type": "stream",
          "name": "stdout",
          "text": [
            "{'is_meaningful': True, 'enhanced_text': 'In Peru, near Cusco, an earthquake measuring 4.3 in magnitude occurred 1 km west-southwest of Oropesa. The quake resulted in the collapse of several homes, damage to 648 structures, and landslides that blocked roads in the Lucre area.', 'question': 'What were the consequences of the earthquake near Cusco in terms of structural damage and road conditions?', 'reasoning': \"The content provides specific information about the location, magnitude, and impact of an earthquake in Peru, including structural damage and road blockages. This information is valuable and relevant to understanding the event's effects.\"}\n",
            "\n",
            "✓ Chunk 109 processed and kept\n",
            "Question: What were the consequences of the earthquake near Cusco in terms of structural damage and road conditions?\n"
          ]
        },
        {
          "output_type": "stream",
          "name": "stderr",
          "text": [
            "\r 42%|████▏     | 110/265 [03:58<06:02,  2.34s/it]"
          ]
        },
        {
          "output_type": "stream",
          "name": "stdout",
          "text": [
            "{'is_meaningful': True, 'enhanced_text': 'An earthquake with a magnitude of 6.3 occurred offshore of Ehime Prefecture, Japan, 18 km (11 mi) west of Uwajima. The earthquake resulted in sixteen people being injured and caused damage to ten homes. Additionally, power poles were toppled, landslides were reported, and water pipes were damaged in Ōita, Ehime, Hiroshima, and Kōchi Prefectures.', 'question': 'What were the reported consequences of the 6.3 magnitude earthquake offshore of Ehime Prefecture, Japan?', 'reasoning': 'The content provides specific details about the location, magnitude, and impact of an earthquake, including injuries and infrastructural damage. It is not merely a collection of links or navigation elements, making it meaningful information.'}\n",
            "\n",
            "✓ Chunk 110 processed and kept\n",
            "Question: What were the reported consequences of the 6.3 magnitude earthquake offshore of Ehime Prefecture, Japan?\n"
          ]
        },
        {
          "output_type": "stream",
          "name": "stderr",
          "text": [
            "\r 42%|████▏     | 111/265 [04:01<06:45,  2.63s/it]"
          ]
        },
        {
          "output_type": "stream",
          "name": "stdout",
          "text": [
            "{'is_meaningful': False, 'enhanced_text': None, 'question': None, 'reasoning': 'The text primarily consists of a broken link and a reference note, which do not provide any meaningful information about the 2024 Cape Mendocino earthquake. There are no details, dates, or context that can be preserved or enhanced for readability.'}\n",
            "\n",
            "✗ Chunk 111 discarded - not meaningful\n",
            "A reactor fitting at the [Ikata Nuclear Power Plant](https://en.wikipedia.org/wiki/</wiki/Ikata_Nuclear_Power_Plant> \"Ikata Nuclear Power Plant\") fell off.[[111]](https://en.wikipedia.org/wiki/<#cite_note-111>) | -  | 16\n"
          ]
        },
        {
          "output_type": "stream",
          "name": "stderr",
          "text": [
            "\r 42%|████▏     | 112/265 [04:03<05:59,  2.35s/it]"
          ]
        },
        {
          "output_type": "stream",
          "name": "stdout",
          "text": [
            "{'is_meaningful': False, 'enhanced_text': None, 'question': None, 'reasoning': 'The content primarily consists of links, references, and navigation elements related to a different event in Turkey, not the 2024 Cape Mendocino earthquake. It lacks meaningful information about the specified earthquake and does not provide context or details relevant to the topic.'}\n",
            "\n",
            "✗ Chunk 112 discarded - not meaningful\n",
            "18[[112]](https://en.wikipedia.org/wiki/<#cite_note-112>) | ![](https://upload.wikimedia.org/wikipedia/commons/thumb/b/b4/Flag_of_Turkey.svg/23px-Flag_of_Turkey.svg.png) [Turkey](https://en.wikipedia.org/wiki/</wiki/Turkey> \"Turkey\"), [Yozgat](https://en.wikipedia.org/wiki/</wiki/Yozgat_Province> \"Yozgat Province\"), 11 km (6.8 mi) west of [Sulusaray](https://en.wikipedia.org/wiki/</wiki/Sulusaray> \"Sulusaray\") | 5.6  | 16.0  | VII  | Five people injured,[[113]](https://en.wikipedia.org/wiki/<#cite_note-113>) 20 houses and two [minarets](https://en.wikipedia.org/wiki/</wiki/Minaret> \"Minaret\") destroyed[[114]](https://en.wikipedia.org/wiki/<#cite_note-114>) and 283 buildings damaged in Tokat Province.[[115]](https://en.wikipedia.org/wiki/<#cite_note-115>) One building collapsed[[116]](https://en.wikipedia.org/wiki/<#cite_note-116>) and 169 others damaged in [Yozgat Province](https://en.wikipedia.org/wiki/</wiki/Yozgat_Province> \"Yozgat\n"
          ]
        },
        {
          "output_type": "stream",
          "name": "stderr",
          "text": [
            "\r 43%|████▎     | 113/265 [04:05<05:33,  2.19s/it]"
          ]
        },
        {
          "output_type": "stream",
          "name": "stdout",
          "text": [
            "{'is_meaningful': True, 'enhanced_text': 'One building collapsed and 169 others were damaged in Yozgat Province.', 'question': 'How many buildings were damaged in Yozgat Province during the 2024 Cape Mendocino earthquake?', 'reasoning': 'The content provides specific information about the impact of the earthquake in Yozgat Province, including the number of buildings affected. It is not just links or navigation elements, making it meaningful and informative.'}\n",
            "\n",
            "✓ Chunk 113 processed and kept\n",
            "Question: How many buildings were damaged in Yozgat Province during the 2024 Cape Mendocino earthquake?\n"
          ]
        },
        {
          "output_type": "stream",
          "name": "stderr",
          "text": [
            "\r 43%|████▎     | 114/265 [04:07<05:21,  2.13s/it]"
          ]
        },
        {
          "output_type": "stream",
          "name": "stdout",
          "text": [
            "{'is_meaningful': True, 'enhanced_text': \"An aftershock of the 2024 Hualien earthquake occurred offshore, 29 km (18 mi) south of Hualien City, Taiwan. The earthquake had a magnitude of 6.1 and an intensity of VII. It resulted in the destruction of five buildings in Hualien County, with two buildings destroyed in Hualien City and two in Ji'an.\", 'question': 'How many buildings were destroyed in Hualien County as a result of the aftershock of the 2024 Hualien earthquake?', 'reasoning': 'The content provides specific information about the location, magnitude, and impact of an aftershock related to the 2024 Hualien earthquake, including the number of buildings destroyed. It is not merely a collection of links or navigation elements, thus it contains meaningful information.'}\n",
            "\n",
            "✓ Chunk 114 processed and kept\n",
            "Question: How many buildings were destroyed in Hualien County as a result of the aftershock of the 2024 Hualien earthquake?\n"
          ]
        },
        {
          "output_type": "stream",
          "name": "stderr",
          "text": [
            "\r 43%|████▎     | 115/265 [04:10<06:25,  2.57s/it]"
          ]
        },
        {
          "output_type": "stream",
          "name": "stdout",
          "text": [
            "{'is_meaningful': False, 'enhanced_text': None, 'question': None, 'reasoning': 'The text chunk primarily consists of links and reference markers without providing any substantial information about the 2024 Cape Mendocino earthquake. It lacks context, details, or any informative content that would be valuable for understanding the event.'}\n",
            "\n",
            "✗ Chunk 115 discarded - not meaningful\n",
            "two in [Ji'an](https://en.wikipedia.org/wiki/</wiki/Ji%27an,_Hualien> \"Ji'an, Hualien\")[[120]](https://en.wikipedia.org/wiki/<#cite_note-120>) and another in [Shoufeng](https://en.wikipedia.org/wiki/</wiki/Shoufeng> \"Shoufeng\").[[121]](https://en.wikipedia.org/wiki/<#cite_note-121>) | -  | -\n"
          ]
        },
        {
          "output_type": "stream",
          "name": "stderr",
          "text": [
            "\r 44%|████▍     | 116/265 [04:12<05:38,  2.27s/it]"
          ]
        },
        {
          "output_type": "stream",
          "name": "stdout",
          "text": [
            "{'is_meaningful': False, 'enhanced_text': None, 'question': None, 'reasoning': 'The text primarily consists of links, navigation elements, and a list of seismic events without any specific context or detailed information about the 2024 Cape Mendocino earthquake. It lacks meaningful narrative or context, making it non-informative for the intended purpose.'}\n",
            "\n",
            "✗ Chunk 116 discarded - not meaningful\n",
            "22[[122]](https://en.wikipedia.org/wiki/<#cite_note-122>) | ![](https://upload.wikimedia.org/wikipedia/commons/thumb/7/72/Flag_of_the_Republic_of_China.svg/23px-Flag_of_the_Republic_of_China.svg.png) [Taiwan](https://en.wikipedia.org/wiki/</wiki/Taiwan> \"Taiwan\"), [Hualien](https://en.wikipedia.org/wiki/</wiki/Hualien_County> \"Hualien County\") offshore, 13 km (8.1 mi) south-southwest of [Hualien City](https://en.wikipedia.org/wiki/</wiki/Hualien_City> \"Hualien City\") | 6.1  | 10.0  | VIII  | -  | -   \n",
            "27[[123]](https://en.wikipedia.org/wiki/<#cite_note-123>) | ![](https://upload.wikimedia.org/wikipedia/en/thumb/9/9e/Flag_of_Japan.svg/23px-Flag_of_Japan.svg.png) [Japan](https://en.wikipedia.org/wiki/</wiki/Japan> \"Japan\"), [Bonin Islands](https://en.wikipedia.org/wiki/</wiki/Bonin_Islands> \"Bonin Islands\") offshore  | 6.5  | 496.0  | II  | -  | -  | -\n"
          ]
        },
        {
          "output_type": "stream",
          "name": "stderr",
          "text": [
            "\r 44%|████▍     | 117/265 [04:16<07:15,  2.94s/it]"
          ]
        },
        {
          "output_type": "stream",
          "name": "stdout",
          "text": [
            "{'is_meaningful': True, 'enhanced_text': 'An earthquake with a magnitude of 6.1 occurred offshore in West Java, Indonesia, 91 km (57 mi) south of Banjar. The earthquake had a depth of 59.7 km and an intensity of V. In Bandung, one person died of a heart attack, and six people were injured. In Garut Regency, 16 structures collapsed, 496 others were damaged, and six people were injured. Additionally, in Bandung, three people were injured and 24 houses were damaged.', 'question': 'What was the magnitude and depth of the earthquake that occurred offshore in West Java, Indonesia, and what were the reported casualties and damages in Bandung and Garut Regency?', 'reasoning': \"The content provides specific and detailed information about the earthquake, including its magnitude, location, depth, and the impact on human life and infrastructure. It is not merely a collection of links or references, making it valuable for understanding the event's consequences.\"}\n",
            "\n",
            "✓ Chunk 117 processed and kept\n",
            "Question: What was the magnitude and depth of the earthquake that occurred offshore in West Java, Indonesia, and what were the reported casualties and damages in Bandung and Garut Regency?\n"
          ]
        },
        {
          "output_type": "stream",
          "name": "stderr",
          "text": [
            "\r 45%|████▍     | 118/265 [04:24<11:04,  4.52s/it]"
          ]
        },
        {
          "output_type": "stream",
          "name": "stdout",
          "text": [
            "{'is_meaningful': True, 'enhanced_text': 'In Garut Regency, three people were injured and 24 houses were damaged. In Bandung Regency, two people were injured, two structures collapsed, and 117 others were damaged. In Ciamis Regency, one person was injured, 13 houses collapsed, 28 other houses, two schools, a hospital, and five mosques were damaged, leading to power outages. In Tasikmalaya, one home was destroyed and 17 others were damaged.', 'question': 'How many houses collapsed in Ciamis Regency during the 2024 Cape Mendocino earthquake?', 'reasoning': \"The content provides specific details about the impact of the earthquake in various regions, including the number of injuries, structural damages, and power outages. This information is valuable for understanding the extent of the earthquake's effects, making it meaningful and worth preserving.\"}\n",
            "\n",
            "✓ Chunk 118 processed and kept\n",
            "Question: How many houses collapsed in Ciamis Regency during the 2024 Cape Mendocino earthquake?\n"
          ]
        },
        {
          "output_type": "stream",
          "name": "stderr",
          "text": [
            "\r 45%|████▍     | 119/265 [04:28<10:36,  4.36s/it]"
          ]
        },
        {
          "output_type": "stream",
          "name": "stdout",
          "text": [
            "{'is_meaningful': True, 'enhanced_text': 'The 2024 Cape Mendocino earthquake caused significant damage in various regions. In Tasikmalaya, power outages were reported. In Sukabumi, one home was destroyed and 17 others were damaged. Cianjur Regency saw damage to three homes and one school. In Cimahi, three buildings were damaged. Additionally, 17 homes were damaged in Majalengka Regency, and ten houses were damaged in Bogor Regency.', 'question': 'How many homes were damaged in Majalengka Regency due to the 2024 Cape Mendocino earthquake?', 'reasoning': \"The content provides specific information about the impact of the earthquake in different regions, including the number of homes and buildings damaged. This information is valuable for understanding the extent of the earthquake's effects.\"}\n",
            "\n",
            "✓ Chunk 119 processed and kept\n",
            "Question: How many homes were damaged in Majalengka Regency due to the 2024 Cape Mendocino earthquake?\n"
          ]
        },
        {
          "output_type": "stream",
          "name": "stderr",
          "text": [
            "\r 45%|████▌     | 120/265 [04:33<10:29,  4.34s/it]"
          ]
        },
        {
          "output_type": "stream",
          "name": "stdout",
          "text": [
            "{'is_meaningful': False, 'enhanced_text': None, 'question': None, 'reasoning': 'The text consists primarily of links and reference markers without providing any meaningful information or context about the 2024 Cape Mendocino earthquake. It lacks details, dates, or any specific content that would contribute to understanding the event.'}\n",
            "\n",
            "✗ Chunk 120 discarded - not meaningful\n",
            "Regency](https://en.wikipedia.org/wiki/</wiki/Majalengka_Regency> \"Majalengka Regency\") and ten houses damaged in [Bogor Regency](https://en.wikipedia.org/wiki/</wiki/Bogor_Regency> \"Bogor Regency\").[[136]](https://en.wikipedia.org/wiki/<#cite_note-136>)[[137]](https://en.wikipedia.org/wiki/<#cite_note-137>) | 1  | 12\n"
          ]
        },
        {
          "output_type": "stream",
          "name": "stderr",
          "text": [
            "\r 46%|████▌     | 121/265 [04:35<08:59,  3.75s/it]"
          ]
        },
        {
          "output_type": "stream",
          "name": "stdout",
          "text": [
            "{'is_meaningful': True, 'enhanced_text': 'On May 30, 2024, an earthquake with a magnitude of 4.8 occurred 10 km (6.2 miles) southwest of Urcos in the Department of Cusco, Peru. The earthquake resulted in seven people being injured and two homes collapsing. Additionally, 752 other structures and nine buildings, including a church, were damaged in the Acomayo, Paucartambo, and Quispicanchi provinces.', 'question': 'How many people were injured in the earthquake near Urcos, Peru, on May 30, 2024?', 'reasoning': \"The content provides specific information about an earthquake event, including its magnitude, location, and impact, such as injuries and structural damage. This information is valuable and relevant to understanding the 2024 Cape Mendocino earthquake's effects in Peru. Therefore, it is preserved and reformatted for clarity.\"}\n",
            "\n",
            "✓ Chunk 121 processed and kept\n",
            "Question: How many people were injured in the earthquake near Urcos, Peru, on May 30, 2024?\n"
          ]
        },
        {
          "output_type": "stream",
          "name": "stderr",
          "text": [
            "\r 46%|████▌     | 122/265 [04:43<12:16,  5.15s/it]"
          ]
        },
        {
          "output_type": "stream",
          "name": "stdout",
          "text": [
            "{'is_meaningful': False, 'enhanced_text': None, 'question': None, 'reasoning': 'The text primarily consists of a table format with links, navigation elements, and general data about earthquakes in May 2024, including a reference to an earthquake in Tonga. It lacks specific information about the 2024 Cape Mendocino earthquake and does not provide meaningful context or details relevant to that event.'}\n",
            "\n",
            "✗ Chunk 122 discarded - not meaningful\n",
            "### May\n",
            "[[edit](https://en.wikipedia.org/wiki/</w/index.php?title=List_of_earthquakes_in_2024&action=edit&section=9> \"Edit section: May\")]\n",
            "MayStrongest magnitude| 6.6 [Mw](https://en.wikipedia.org/wiki/</wiki/Seismic_magnitude_scales#Mw> \"Seismic magnitude scales\") ![](https://upload.wikimedia.org/wikipedia/commons/thumb/9/9a/Flag_of_Tonga.svg/23px-Flag_of_Tonga.svg.png) [Tonga](https://en.wikipedia.org/wiki/</wiki/Tonga> \"Tonga\")  \n",
            "---|---  \n",
            "Total fatalities| 0  \n",
            "Number by magnitude  \n",
            "9.0+| 0  \n",
            "8.0–8.9| 0  \n",
            "7.0–7.9| 0  \n",
            "6.0–6.9| 8  \n",
            "5.0–5.9| 121  \n",
            "4.0–4.9| 1,079  \n",
            "Date | Country and location | Mw | Depth (km) | [MMI](https://en.wikipedia.org/wiki/</wiki/Modified_Mercalli_intensity_scale> \"Modified Mercalli intensity scale\") | Notes | Casualties  \n",
            "---|---|---|---|---|---|---  \n",
            "Dead | Injured\n"
          ]
        },
        {
          "output_type": "stream",
          "name": "stderr",
          "text": [
            "\r 46%|████▋     | 123/265 [04:45<09:55,  4.20s/it]"
          ]
        },
        {
          "output_type": "stream",
          "name": "stdout",
          "text": [
            "{'is_meaningful': True, 'enhanced_text': 'The 2024 Cape Mendocino earthquake resulted in three fatalities. It occurred offshore in the Philippines, specifically 27 kilometers (17 miles) south-southwest of Balangiga in the Eastern Visayas region. The earthquake had a magnitude of 5.7 and a depth of 10.2 kilometers. The intensity was recorded as V. Additionally, two people were injured in Dulag, Leyte.', 'question': 'What was the magnitude and depth of the 2024 Cape Mendocino earthquake?', 'reasoning': 'The content provides specific and valuable information about the 2024 Cape Mendocino earthquake, including the number of casualties, location, magnitude, depth, and intensity. It is not just links or navigation elements, and it offers meaningful context and details.'}\n",
            "\n",
            "✓ Chunk 123 processed and kept\n",
            "Question: What was the magnitude and depth of the 2024 Cape Mendocino earthquake?\n"
          ]
        },
        {
          "output_type": "stream",
          "name": "stderr",
          "text": [
            "\r 47%|████▋     | 124/265 [04:49<09:28,  4.03s/it]"
          ]
        },
        {
          "output_type": "stream",
          "name": "stdout",
          "text": [
            "{'is_meaningful': False, 'enhanced_text': None, 'question': None, 'reasoning': 'The text primarily consists of links, navigation elements, and non-informative content such as flags and coordinates. It does not provide any meaningful information or context about the 2024 Cape Mendocino earthquake. Therefore, it should be discarded.'}\n",
            "\n",
            "✗ Chunk 124 discarded - not meaningful\n",
            "5[[143]](https://en.wikipedia.org/wiki/<#cite_note-143>) | ![](https://upload.wikimedia.org/wikipedia/commons/thumb/9/9f/Flag_of_Indonesia.svg/23px-Flag_of_Indonesia.svg.png) [Indonesia](https://en.wikipedia.org/wiki/</wiki/Indonesia> \"Indonesia\"), [Maluku](https://en.wikipedia.org/wiki/</wiki/Maluku_\\(province\\)> \"Maluku \\(province\\)\") offshore, 154 km (96 mi) west-southwest of [Fakfak](https://en.wikipedia.org/wiki/</wiki/Fakfak> \"Fakfak\") | 6.1  | 16.0  | VI  | -  | -  | -   \n",
            "8[[144]](https://en.wikipedia.org/wiki/<#cite_note-144>) | ![](https://upload.wikimedia.org/wikipedia/commons/thumb/b/bc/Flag_of_Vanuatu.svg/23px-Flag_of_Vanuatu.svg.png) [Vanuatu](https://en.wikipedia.org/wiki/</wiki/Vanuatu> \"Vanuatu\"), [Penama](https://en.wikipedia.org/wiki/</wiki/Penama_Province> \"Penama Province\") offshore, 101 km (63 mi) east-northeast of [Luganville](https://en.wikipedia.org/wiki/</wiki/Luganville> \"Luganville\") | 6.1  | 19.2  | VI  | -  | -  | -\n"
          ]
        },
        {
          "output_type": "stream",
          "name": "stderr",
          "text": [
            "\r 47%|████▋     | 125/265 [04:51<07:35,  3.25s/it]"
          ]
        },
        {
          "output_type": "stream",
          "name": "stdout",
          "text": [
            "{'is_meaningful': True, 'enhanced_text': 'An earthquake with a magnitude of 4.8 occurred 70 km southwest of Gerash in the Fars province of Iran. The earthquake, which had a depth of 10.0 km, resulted in a shaking intensity of VI on the Mercalli intensity scale. The event caused injuries to two people and led to the destruction of three homes, with an additional 300 homes damaged in the Ahel area.', 'question': 'What was the magnitude and impact of the earthquake that occurred southwest of Gerash in the Fars province of Iran?', 'reasoning': 'The content provides specific and valuable information about an earthquake, including its magnitude, location, depth, intensity, and the resulting damage and injuries. It is not merely links or navigation elements, making it meaningful and worth preserving.'}\n",
            "\n",
            "✓ Chunk 125 processed and kept\n",
            "Question: What was the magnitude and impact of the earthquake that occurred southwest of Gerash in the Fars province of Iran?\n"
          ]
        },
        {
          "output_type": "stream",
          "name": "stderr",
          "text": [
            "\r 48%|████▊     | 126/265 [04:53<07:13,  3.12s/it]"
          ]
        },
        {
          "output_type": "stream",
          "name": "stdout",
          "text": [
            "{'is_meaningful': True, 'enhanced_text': 'A 6.4 magnitude earthquake occurred offshore, 28 km west-southwest of Brisas Barra de Suchiate, Chiapas, Mexico. The earthquake resulted in minor damage and landslides in Tapachula. Several homes collapsed, and three structures were damaged in the San Marcos-Quetzaltenango area of Guatemala.', 'question': 'What was the magnitude of the earthquake that affected the San Marcos-Quetzaltenango area in Guatemala?', 'reasoning': \"The content provides specific information about the location, magnitude, and impact of an earthquake, which includes details about the damage in specific areas. This information is valuable and relevant to understanding the event's impact.\"}\n",
            "\n",
            "✓ Chunk 126 processed and kept\n",
            "Question: What was the magnitude of the earthquake that affected the San Marcos-Quetzaltenango area in Guatemala?\n"
          ]
        },
        {
          "output_type": "stream",
          "name": "stderr",
          "text": [
            "\r 48%|████▊     | 127/265 [04:56<06:59,  3.04s/it]"
          ]
        },
        {
          "output_type": "stream",
          "name": "stdout",
          "text": [
            "{'is_meaningful': False, 'enhanced_text': None, 'question': None, 'reasoning': 'The text primarily consists of links and navigation elements without providing any meaningful information or context about the 2024 Cape Mendocino earthquake. It lacks details, facts, or any substantive content that could be improved or preserved.'}\n",
            "\n",
            "✗ Chunk 127 discarded - not meaningful\n",
            "\"San Marcos, Guatemala\")-[Quetzaltenango](https://en.wikipedia.org/wiki/</wiki/Quetzaltenango> \"Quetzaltenango\") area, [Guatemala](https://en.wikipedia.org/wiki/</wiki/Guatemala> \"Guatemala\").[[150]](https://en.wikipedia.org/wiki/<#cite_note-150>) | -  | -\n"
          ]
        },
        {
          "output_type": "stream",
          "name": "stderr",
          "text": [
            "\r 48%|████▊     | 128/265 [04:58<06:21,  2.79s/it]"
          ]
        },
        {
          "output_type": "stream",
          "name": "stdout",
          "text": [
            "{'is_meaningful': True, 'enhanced_text': 'An earthquake with a magnitude of 5.3 occurred offshore of West Nusa Tenggara, Indonesia, approximately 15 km (9.3 mi) north-northwest of Gili Trawangan. The earthquake resulted in one person being injured and three homes collapsing in Tanjung. Additionally, one home collapsed and a wantilan was damaged in Karangasem Regency.', 'question': 'What was the magnitude of the earthquake that occurred near Gili Trawangan, and what were the consequences in Tanjung?', 'reasoning': 'The content provides specific details about an earthquake event, including its magnitude, location, and the resulting damage and injuries. This information is valuable for understanding the impact of the earthquake, making it meaningful content to preserve.'}\n",
            "\n",
            "✓ Chunk 128 processed and kept\n",
            "Question: What was the magnitude of the earthquake that occurred near Gili Trawangan, and what were the consequences in Tanjung?\n"
          ]
        },
        {
          "output_type": "stream",
          "name": "stderr",
          "text": [
            "\r 49%|████▊     | 129/265 [05:02<06:55,  3.05s/it]"
          ]
        },
        {
          "output_type": "stream",
          "name": "stdout",
          "text": [
            "{'is_meaningful': True, 'enhanced_text': 'One home collapsed and a wantilan, a traditional Balinese pavilion, was damaged in Karangasem Regency.', 'question': 'What type of structure was damaged in Karangasem Regency during the earthquake?', 'reasoning': \"The content provides specific details about the impact of the earthquake in Karangasem Regency, including the collapse of a home and damage to a wantilan. These are meaningful details that contribute to understanding the earthquake's effects.\"}\n",
            "\n",
            "✓ Chunk 129 processed and kept\n",
            "Question: What type of structure was damaged in Karangasem Regency during the earthquake?\n"
          ]
        },
        {
          "output_type": "stream",
          "name": "stderr",
          "text": [
            "\r 49%|████▉     | 130/265 [05:04<06:19,  2.81s/it]"
          ]
        },
        {
          "output_type": "stream",
          "name": "stdout",
          "text": [
            "{'is_meaningful': False, 'enhanced_text': None, 'question': None, 'reasoning': 'The text primarily consists of links, navigation elements, and data that do not pertain to the 2024 Cape Mendocino earthquake. It includes information about other locations and earthquakes, which is not relevant to the specified topic. Therefore, it lacks meaningful content about the 2024 Cape Mendocino earthquake and should be discarded.'}\n",
            "\n",
            "✗ Chunk 130 discarded - not meaningful\n",
            "19[[155]](https://en.wikipedia.org/wiki/<#cite_note-155>) | ![](https://upload.wikimedia.org/wikipedia/en/thumb/a/a4/Flag_of_the_United_States.svg/23px-Flag_of_the_United_States.svg.png) [United States](https://en.wikipedia.org/wiki/</wiki/United_States> \"United States\"), [Alaska](https://en.wikipedia.org/wiki/</wiki/Alaska> \"Alaska\") offshore, 169 km (105 mi) southwest of [Nikolski](https://en.wikipedia.org/wiki/</wiki/Nikolski,_Alaska> \"Nikolski, Alaska\") | 6.0  | 28.0  | IV  | -  | -  | -   \n",
            "25[[156]](https://en.wikipedia.org/wiki/<#cite_note-156>) | ![](https://upload.wikimedia.org/wikipedia/commons/thumb/b/bc/Flag_of_Vanuatu.svg/23px-Flag_of_Vanuatu.svg.png) [Vanuatu](https://en.wikipedia.org/wiki/</wiki/Vanuatu> \"Vanuatu\"), [Shefa](https://en.wikipedia.org/wiki/</wiki/Shefa_Province> \"Shefa Province\") offshore, 83 km (52 mi) northwest of [Port Vila](https://en.wikipedia.org/wiki/</wiki/Port_Vila> \"Port Vila\") | 6.3  | 22.0  | V  | -  | -  | -\n"
          ]
        },
        {
          "output_type": "stream",
          "name": "stderr",
          "text": [
            "\r 49%|████▉     | 131/265 [05:07<05:53,  2.64s/it]"
          ]
        },
        {
          "output_type": "stream",
          "name": "stdout",
          "text": [
            "{'is_meaningful': False, 'enhanced_text': None, 'question': None, 'reasoning': 'The content primarily consists of links, navigation elements, and a table-like structure with minimal context or detailed information about the 2024 Cape Mendocino earthquake. It lacks narrative or explanatory content that would provide meaningful insights or details relevant to the earthquake event.'}\n",
            "\n",
            "✗ Chunk 131 discarded - not meaningful\n",
            "26[[157]](https://en.wikipedia.org/wiki/<#cite_note-157>) | ![](https://upload.wikimedia.org/wikipedia/commons/thumb/9/9a/Flag_of_Tonga.svg/23px-Flag_of_Tonga.svg.png) [Tonga](https://en.wikipedia.org/wiki/</wiki/Tonga> \"Tonga\"), [Ha‘apai](https://en.wikipedia.org/wiki/</wiki/Ha%E2%80%98apai> \"Ha‘apai\") offshore, 70 km (43 mi) northwest of [Fangaleʻounga](https://en.wikipedia.org/wiki/</wiki/Fangale%CA%BBounga> \"Fangaleʻounga\") | 6.6  | 137.0  | VI  | -  | -  | -\n"
          ]
        },
        {
          "output_type": "stream",
          "name": "stderr",
          "text": [
            "\r 50%|████▉     | 132/265 [05:08<05:00,  2.26s/it]"
          ]
        },
        {
          "output_type": "stream",
          "name": "stdout",
          "text": [
            "{'is_meaningful': True, 'enhanced_text': 'An earthquake with a magnitude of 5.0 occurred offshore in Central Sulawesi, Indonesia, 148 km (92 mi) north-northwest of Kendari. The earthquake resulted in five people being injured, one home collapsing, and 36 buildings being damaged in the Morowali area.', 'question': 'How many buildings were damaged in the Morowali area due to the earthquake in Central Sulawesi?', 'reasoning': 'The content provides specific information about the location, magnitude, and impact of an earthquake in Central Sulawesi, Indonesia. It includes details about injuries and structural damage, making it valuable and informative.'}\n",
            "\n",
            "✓ Chunk 132 processed and kept\n",
            "Question: How many buildings were damaged in the Morowali area due to the earthquake in Central Sulawesi?\n"
          ]
        },
        {
          "output_type": "stream",
          "name": "stderr",
          "text": [
            "\r 50%|█████     | 133/265 [05:10<05:04,  2.30s/it]"
          ]
        },
        {
          "output_type": "stream",
          "name": "stdout",
          "text": [
            "{'is_meaningful': False, 'enhanced_text': None, 'question': None, 'reasoning': 'The text primarily consists of links, navigation elements, and non-informative content related to earthquake listings without specific details about the 2024 Cape Mendocino earthquake. It lacks meaningful context or detailed information about the event in question.'}\n",
            "\n",
            "✗ Chunk 133 discarded - not meaningful\n",
            "31[[161]](https://en.wikipedia.org/wiki/<#cite_note-161>) | ![](https://upload.wikimedia.org/wikipedia/commons/thumb/a/af/Flag_of_South_Africa.svg/23px-Flag_of_South_Africa.svg.png) [South Africa](https://en.wikipedia.org/wiki/</wiki/South_Africa> \"South Africa\") offshore, [Prince Edward Islands](https://en.wikipedia.org/wiki/</wiki/Prince_Edward_Islands> \"Prince Edward Islands\") region  | 6.2  | 10.0  | -  | -  | -  | -   \n",
            "31[[162]](https://en.wikipedia.org/wiki/<#cite_note-162>) | ![](https://upload.wikimedia.org/wikipedia/commons/thumb/3/3e/Flag_of_New_Zealand.svg/23px-Flag_of_New_Zealand.svg.png) [New Zealand](https://en.wikipedia.org/wiki/</wiki/New_Zealand> \"New Zealand\"), [Kermadec Islands](https://en.wikipedia.org/wiki/</wiki/Kermadec_Islands> \"Kermadec Islands\") offshore  | 6.2  | 16.0  | IV  | -  | -  | -   \n",
            "### June\n",
            "[[edit](https://en.wikipedia.org/wiki/</w/index.php?title=List_of_earthquakes_in_2024&action=edit&section=10> \"Edit section: June\")]\n"
          ]
        },
        {
          "output_type": "stream",
          "name": "stderr",
          "text": [
            "\r 51%|█████     | 134/265 [05:12<04:27,  2.04s/it]"
          ]
        },
        {
          "output_type": "stream",
          "name": "stdout",
          "text": [
            "{'is_meaningful': False, 'enhanced_text': None, 'question': None, 'reasoning': 'The content primarily consists of a list of earthquake statistics for June 2024, including magnitudes and fatalities, but it does not provide specific information about the 2024 Cape Mendocino earthquake. It lacks context, narrative, or detailed information about any particular event, making it non-informative for the specified topic.'}\n",
            "\n",
            "✗ Chunk 134 discarded - not meaningful\n",
            "### June\n",
            "[[edit](https://en.wikipedia.org/wiki/</w/index.php?title=List_of_earthquakes_in_2024&action=edit&section=10> \"Edit section: June\")]\n",
            "JuneStrongest magnitude| 7.2 [Mw](https://en.wikipedia.org/wiki/</wiki/Seismic_magnitude_scales#Mw> \"Seismic magnitude scales\") ![](https://upload.wikimedia.org/wikipedia/commons/thumb/c/cf/Flag_of_Peru.svg/23px-Flag_of_Peru.svg.png) [Peru](https://en.wikipedia.org/wiki/</wiki/Peru> \"Peru\")  \n",
            "---|---  \n",
            "Deadliest| 4.9 [Mw](https://en.wikipedia.org/wiki/</wiki/Seismic_magnitude_scales#Mw> \"Seismic magnitude scales\") ![](https://upload.wikimedia.org/wikipedia/commons/thumb/c/ca/Flag_of_Iran.svg/23px-Flag_of_Iran.svg.png) [Iran](https://en.wikipedia.org/wiki/</wiki/Iran> \"Iran\")4 deaths  \n",
            "Total fatalities| 4  \n",
            "Number by magnitude  \n",
            "9.0+| 0  \n",
            "8.0–8.9| 0  \n",
            "7.0–7.9| 1  \n",
            "6.0–6.9| 6  \n",
            "5.0–5.9| 102  \n",
            "4.0–4.9| 1,000\n"
          ]
        },
        {
          "output_type": "stream",
          "name": "stderr",
          "text": [
            "\r 51%|█████     | 135/265 [05:14<04:20,  2.01s/it]"
          ]
        },
        {
          "output_type": "stream",
          "name": "stdout",
          "text": [
            "{'is_meaningful': False, 'enhanced_text': None, 'question': None, 'reasoning': 'The content primarily consists of a table with earthquake magnitude data and a non-informative image link. It lacks detailed context or narrative about the 2024 Cape Mendocino earthquake, such as its impact, location specifics, or aftermath. The information is fragmented and does not provide a coherent or comprehensive account of the event.'}\n",
            "\n",
            "✗ Chunk 135 discarded - not meaningful\n",
            "Total fatalities| 4  \n",
            "Number by magnitude  \n",
            "9.0+| 0  \n",
            "8.0–8.9| 0  \n",
            "7.0–7.9| 1  \n",
            "6.0–6.9| 6  \n",
            "5.0–5.9| 102  \n",
            "4.0–4.9| 1,000  \n",
            "[![](https://upload.wikimedia.org/wikipedia/commons/thumb/d/d8/2024_Kashmar_earthquake_-_Mehr_News_Agency_2.jpg/205px-2024_Kashmar_earthquake_-_Mehr_News_Agency_2.jpg)](https://en.wikipedia.org/wiki/</wiki/File:2024_Kashmar_earthquake_-_Mehr_News_Agency_2.jpg>)Ruined houses in [Zendeh Jan, Iran](https://en.wikipedia.org/wiki/</wiki/Zendeh_Jan,_Iran> \"Zendeh Jan, Iran\") Date | Country and location | Mw | Depth (km) | [MMI](https://en.wikipedia.org/wiki/</wiki/Modified_Mercalli_intensity_scale> \"Modified Mercalli intensity scale\") | Notes | Casualties  \n",
            "---|---|---|---|---|---|---  \n",
            "Dead | Injured\n"
          ]
        },
        {
          "output_type": "stream",
          "name": "stderr",
          "text": [
            "\r 51%|█████▏    | 136/265 [05:15<04:09,  1.94s/it]"
          ]
        },
        {
          "output_type": "stream",
          "name": "stdout",
          "text": [
            "{'is_meaningful': True, 'enhanced_text': 'An aftershock of the 2024 Noto earthquake occurred 40 km (25 mi) northeast of Anamizu, Ishikawa Prefecture, Japan. The aftershock had magnitudes of 5.7 and 9.0, and was rated VIII on the intensity scale. Three people were injured, two in Ishikawa and one in Toyama. Additionally, six houses collapsed in Wajima, and four buildings were damaged in Niigata.', 'question': 'How many people were injured in the aftershock of the 2024 Noto earthquake, and where did these injuries occur?', 'reasoning': \"The content provides specific details about the aftershock of the 2024 Noto earthquake, including its location, magnitude, intensity, and the impact on people and structures. This information is valuable for understanding the event's effects and is more than just links or navigation elements.\"}\n",
            "\n",
            "✓ Chunk 136 processed and kept\n",
            "Question: How many people were injured in the aftershock of the 2024 Noto earthquake, and where did these injuries occur?\n"
          ]
        },
        {
          "output_type": "stream",
          "name": "stderr",
          "text": [
            "\r 52%|█████▏    | 137/265 [05:18<04:45,  2.23s/it]"
          ]
        },
        {
          "output_type": "stream",
          "name": "stdout",
          "text": [
            "{'is_meaningful': False, 'enhanced_text': None, 'question': None, 'reasoning': 'The text primarily consists of links and reference markers without providing any substantive information about the 2024 Cape Mendocino earthquake. It lacks context, details, or any meaningful content that could be improved or used for understanding the event.'}\n",
            "\n",
            "✗ Chunk 137 discarded - not meaningful\n",
            "in [Wajima](https://en.wikipedia.org/wiki/</wiki/Wajima,_Ishikawa> \"Wajima, Ishikawa\") and four buildings damaged in [Niigata](https://en.wikipedia.org/wiki/</wiki/Niigata_Prefecture> \"Niigata Prefecture\").[[165]](https://en.wikipedia.org/wiki/<#cite_note-165>)[[166]](https://en.wikipedia.org/wiki/<#cite_note-166>) | -  | 3\n"
          ]
        },
        {
          "output_type": "stream",
          "name": "stderr",
          "text": [
            "\r 52%|█████▏    | 138/265 [05:20<04:07,  1.95s/it]"
          ]
        },
        {
          "output_type": "stream",
          "name": "stdout",
          "text": [
            "{'is_meaningful': False, 'enhanced_text': None, 'question': None, 'reasoning': 'The text primarily consists of links, references, and navigation elements without providing meaningful information about the 2024 Cape Mendocino earthquake. It mentions an earthquake in Angola, which is unrelated to the specified topic. Therefore, it lacks relevant content and context about the 2024 Cape Mendocino earthquake.'}\n",
            "\n",
            "✗ Chunk 138 discarded - not meaningful\n",
            "5[[167]](https://en.wikipedia.org/wiki/<#cite_note-167>) | ![](https://upload.wikimedia.org/wikipedia/commons/thumb/9/9d/Flag_of_Angola.svg/23px-Flag_of_Angola.svg.png) [Angola](https://en.wikipedia.org/wiki/</wiki/Angola> \"Angola\"), [Benguela](https://en.wikipedia.org/wiki/</wiki/Benguela_Province> \"Benguela Province\"), 87 km (54 mi) west of [Caconda](https://en.wikipedia.org/wiki/</wiki/Caconda> \"Caconda\") | 5.1  | 10.0  | VII  | Largest earthquake in Angola since 2001.[[168]](https://en.wikipedia.org/wiki/<#cite_note-168>) Forty-three people hospitalized and several buildings damaged in the Benguela-[Huambo](https://en.wikipedia.org/wiki/</wiki/Huambo_Province> \"Huambo Province\") area.[[169]](https://en.wikipedia.org/wiki/<#cite_note-169>)[[170]](https://en.wikipedia.org/wiki/<#cite_note-170>) | -  | 43\n"
          ]
        },
        {
          "output_type": "stream",
          "name": "stderr",
          "text": [
            "\r 52%|█████▏    | 139/265 [05:21<04:00,  1.91s/it]"
          ]
        },
        {
          "output_type": "stream",
          "name": "stdout",
          "text": [
            "{'is_meaningful': False, 'enhanced_text': None, 'question': None, 'reasoning': 'The text chunk primarily consists of links, navigation elements, and non-informative content without providing specific details or context about the 2024 Cape Mendocino earthquake. It lacks meaningful information that could be preserved or enhanced.'}\n",
            "\n",
            "✗ Chunk 139 discarded - not meaningful\n",
            "9[[171]](https://en.wikipedia.org/wiki/<#cite_note-171>) | [Pacific-Antarctic Ridge](https://en.wikipedia.org/wiki/</wiki/Pacific-Antarctic_Ridge> \"Pacific-Antarctic Ridge\") | 6.2  | 10.0  | I  | -  | -  | -   \n",
            "11[[172]](https://en.wikipedia.org/wiki/<#cite_note-172>) | ![](https://upload.wikimedia.org/wikipedia/commons/thumb/0/09/Flag_of_South_Korea.svg/23px-Flag_of_South_Korea.svg.png) [South Korea](https://en.wikipedia.org/wiki/</wiki/South_Korea> \"South Korea\"), [North Jeolla](https://en.wikipedia.org/wiki/</wiki/North_Jeolla_Province> \"North Jeolla Province\"), 3 km (1.9 mi) northwest of [Puan](https://en.wikipedia.org/wiki/</wiki/Buan_County> \"Buan County\") | 4.4  | 10.0  | VII  | At least 285 structures damaged in the Buan–[Gochang](https://en.wikipedia.org/wiki/</wiki/Gochang_County> \"Gochang County\") area,[[173]](https://en.wikipedia.org/wiki/<#cite_note-173>) including one severely damaged temple.[[174]](https://en.wikipedia.org/wiki/<#cite_note-174>) | -  | -\n"
          ]
        },
        {
          "output_type": "stream",
          "name": "stderr",
          "text": [
            "\r 53%|█████▎    | 140/265 [05:23<03:44,  1.80s/it]"
          ]
        },
        {
          "output_type": "stream",
          "name": "stdout",
          "text": [
            "{'is_meaningful': False, 'enhanced_text': None, 'question': None, 'reasoning': 'The content primarily consists of links, navigation elements, and numerical data without context. It lacks meaningful information about the 2024 Cape Mendocino earthquake, such as details about the event, its impact, or any specific narrative. Therefore, it is marked for discarding.'}\n",
            "\n",
            "✗ Chunk 140 discarded - not meaningful\n",
            "16[[175]](https://en.wikipedia.org/wiki/<#cite_note-175>) | west of [Macquarie Island](https://en.wikipedia.org/wiki/</wiki/Macquarie_Island> \"Macquarie Island\") | 6.0  | 7.7  | -  | -  | -  | -\n"
          ]
        },
        {
          "output_type": "stream",
          "name": "stderr",
          "text": [
            "\r 53%|█████▎    | 141/265 [05:27<05:10,  2.50s/it]"
          ]
        },
        {
          "output_type": "stream",
          "name": "stdout",
          "text": [
            "{'is_meaningful': True, 'enhanced_text': 'On June 28, a foreshock with a magnitude of 6.0 occurred offshore, 10 km southwest of Atiquipa, in the Department of Arequipa, Peru. The earthquake reached a depth of 27.0 km and was classified as intensity VI. This event was a precursor to a larger 7.2 magnitude earthquake. During the evacuation in Camaná, one child was injured. The tremor caused some houses to collapse and triggered landslides in the Caravelí-Yauca area, blocking sections of the Pan-American Highway.', 'question': 'What was the magnitude of the foreshock that occurred on June 28 near Atiquipa, Peru?', 'reasoning': 'The content provides specific details about a foreshock event related to the 2024 Cape Mendocino earthquake, including location, magnitude, depth, and impacts. It contains valuable information beyond mere links or navigation elements, making it meaningful for preservation and enhancement.'}\n",
            "\n",
            "✓ Chunk 141 processed and kept\n",
            "Question: What was the magnitude of the foreshock that occurred on June 28 near Atiquipa, Peru?\n"
          ]
        },
        {
          "output_type": "stream",
          "name": "stderr",
          "text": [
            "\r 54%|█████▎    | 142/265 [05:31<06:14,  3.05s/it]"
          ]
        },
        {
          "output_type": "stream",
          "name": "stdout",
          "text": [
            "{'is_meaningful': True, 'enhanced_text': 'In the Caravelí-Yauca area, some landslides blocked sections of the Pan-American Highway. A stadium and a school were damaged in Chala, with additional damage reported in Atiquipa.', 'question': 'What infrastructure was affected in the Caravelí-Yauca area during the 2024 Cape Mendocino earthquake?', 'reasoning': 'The content provides specific details about the impact of the earthquake on infrastructure, including locations and types of damage. This information is valuable and relevant to understanding the effects of the earthquake.'}\n",
            "\n",
            "✓ Chunk 142 processed and kept\n",
            "Question: What infrastructure was affected in the Caravelí-Yauca area during the 2024 Cape Mendocino earthquake?\n"
          ]
        },
        {
          "output_type": "stream",
          "name": "stderr",
          "text": [
            "\r 54%|█████▍    | 143/265 [05:34<06:09,  3.03s/it]"
          ]
        },
        {
          "output_type": "stream",
          "name": "stdout",
          "text": [
            "{'is_meaningful': True, 'enhanced_text': 'An earthquake occurred in Razavi Khorasan province, Iran, 6 km southeast of Kashmar. It registered a magnitude of 4.9 and a depth of 10.0 km, with an intensity of VIII on the Mercalli scale. The earthquake resulted in the deaths of four people and injured 120 others. Additionally, 300 houses were destroyed, and 600 more along with several historical buildings were damaged in the Kashmar-Zendeh Jan area.', 'question': 'What was the magnitude and intensity of the earthquake that struck near Kashmar, Iran?', 'reasoning': \"The content provides specific information about an earthquake in Iran, including its location, magnitude, depth, intensity, and the impact on people and infrastructure. This information is valuable for understanding the event's severity and consequences, making it meaningful and worth preserving.\"}\n",
            "\n",
            "✓ Chunk 143 processed and kept\n",
            "Question: What was the magnitude and intensity of the earthquake that struck near Kashmar, Iran?\n"
          ]
        },
        {
          "output_type": "stream",
          "name": "stderr",
          "text": [
            "\r 54%|█████▍    | 144/265 [05:39<06:53,  3.41s/it]"
          ]
        },
        {
          "output_type": "stream",
          "name": "stdout",
          "text": [
            "{'is_meaningful': True, 'enhanced_text': 'On [date], a 6.0 magnitude earthquake occurred 20 km (12 mi) northeast of Yaguaraparo in Sucre, Venezuela. The quake resulted in some buildings being damaged in the epicentral area and one building in Ciudad Guayana. Additionally, power outages were reported in parts of Trinidad and Tobago.', 'question': 'What magnitude was the earthquake that struck near Yaguaraparo, Venezuela, and what were some of its impacts?', 'reasoning': \"The content provides specific information about the location, magnitude, and effects of an earthquake near Yaguaraparo, Venezuela, including structural damage and power outages. This information is valuable for understanding the event's impact.\"}\n",
            "\n",
            "✓ Chunk 144 processed and kept\n",
            "Question: What magnitude was the earthquake that struck near Yaguaraparo, Venezuela, and what were some of its impacts?\n"
          ]
        },
        {
          "output_type": "stream",
          "name": "stderr",
          "text": [
            "\r 55%|█████▍    | 145/265 [05:42<06:28,  3.24s/it]"
          ]
        },
        {
          "output_type": "stream",
          "name": "stdout",
          "text": [
            "{'is_meaningful': False, 'enhanced_text': None, 'question': None, 'reasoning': 'The text primarily consists of links, navigation elements, and a brief mention of an earthquake without any detailed context or information specific to the 2024 Cape Mendocino earthquake. It lacks meaningful content or context that would be valuable for understanding the event.'}\n",
            "\n",
            "✗ Chunk 145 discarded - not meaningful\n",
            "24[[186]](https://en.wikipedia.org/wiki/<#cite_note-186>) | ![](https://upload.wikimedia.org/wikipedia/commons/thumb/b/bc/Flag_of_Vanuatu.svg/23px-Flag_of_Vanuatu.svg.png) [Vanuatu](https://en.wikipedia.org/wiki/</wiki/Vanuatu> \"Vanuatu\"), [Sanma](https://en.wikipedia.org/wiki/</wiki/Sanma_Province> \"Sanma Province\") offshore, 49 km (30 mi) north-northeast of [Port-Olry](https://en.wikipedia.org/wiki/</wiki/Port-Olry> \"Port-Olry\") | 6.3  | 149.0  | IV  | -  | -  | -\n"
          ]
        },
        {
          "output_type": "stream",
          "name": "stderr",
          "text": [
            "\r 55%|█████▌    | 146/265 [05:43<05:18,  2.68s/it]"
          ]
        },
        {
          "output_type": "stream",
          "name": "stdout",
          "text": [
            "{'is_meaningful': False, 'enhanced_text': None, 'question': None, 'reasoning': 'The text primarily consists of links, navigation elements, and a brief mention of an unrelated event in Turkey, which does not provide meaningful information about the 2024 Cape Mendocino earthquake. It lacks context, details, and relevance to the specified topic.'}\n",
            "\n",
            "✗ Chunk 146 discarded - not meaningful\n",
            "24[[187]](https://en.wikipedia.org/wiki/<#cite_note-187>) | ![](https://upload.wikimedia.org/wikipedia/commons/thumb/b/b4/Flag_of_Turkey.svg/23px-Flag_of_Turkey.svg.png) [Turkey](https://en.wikipedia.org/wiki/</wiki/Turkey> \"Turkey\"), [Manisa](https://en.wikipedia.org/wiki/</wiki/Manisa_Province> \"Manisa Province\"), 11 km (6.8 mi) north-northwest of [Soma](https://en.wikipedia.org/wiki/</wiki/Soma,_Manisa> \"Soma, Manisa\") | 4.7  | 11.8  | III  | One person injured in [Savaştepe](https://en.wikipedia.org/wiki/</wiki/Sava%C5%9Ftepe> \"Savaştepe\").[[188]](https://en.wikipedia.org/wiki/<#cite_note-188>) | -  | 1\n"
          ]
        },
        {
          "output_type": "stream",
          "name": "stderr",
          "text": [
            "\r 55%|█████▌    | 147/265 [05:44<04:35,  2.33s/it]"
          ]
        },
        {
          "output_type": "stream",
          "name": "stdout",
          "text": [
            "{'is_meaningful': True, 'enhanced_text': 'On the 28th, a 7.2 magnitude earthquake struck offshore Peru, 10 km (6.2 mi) west-southwest of Atiquipa in the Department of Arequipa. The earthquake resulted in thirty people being injured and caused significant damage, including the destruction of 11 houses. Additionally, 3,000 other structures, six schools, five health centers, and two bridges were damaged. The Caravelí Province experienced power outages as a result of the earthquake.', 'question': 'What was the magnitude of the earthquake that struck offshore Peru near Atiquipa, and what were some of the impacts on infrastructure?', 'reasoning': \"The content contains specific and valuable information about the earthquake's magnitude, location, and the extent of damage caused, making it meaningful. It provides a clear context and details necessary for understanding the event's impact.\"}\n",
            "\n",
            "✓ Chunk 147 processed and kept\n",
            "Question: What was the magnitude of the earthquake that struck offshore Peru near Atiquipa, and what were some of the impacts on infrastructure?\n"
          ]
        },
        {
          "output_type": "stream",
          "name": "stderr",
          "text": [
            "\r 56%|█████▌    | 148/265 [05:48<04:59,  2.56s/it]"
          ]
        },
        {
          "output_type": "stream",
          "name": "stdout",
          "text": [
            "{'is_meaningful': True, 'enhanced_text': 'In the aftermath of the 2024 Cape Mendocino earthquake, significant damage was reported in various regions. In Caravelí Province, Arequipa, 3,000 other structures, six schools, five health centers, and two bridges were damaged, and power outages occurred. In the Santiago-Changuillo area of the Ica Department, twelve people were injured, and ten houses were destroyed. Additionally, in the Department of Ayacucho, some houses were destroyed, eleven health facilities were damaged, and rockfalls were reported.', 'question': 'How many health facilities were damaged in the Department of Ayacucho following the 2024 Cape Mendocino earthquake?', 'reasoning': \"The content provides detailed information about the impact of the 2024 Cape Mendocino earthquake, including specific numbers of structures damaged and people injured in various regions. This information is valuable for understanding the extent of the earthquake's effects and is not merely a collection of links or references.\"}\n",
            "\n",
            "✓ Chunk 148 processed and kept\n",
            "Question: How many health facilities were damaged in the Department of Ayacucho following the 2024 Cape Mendocino earthquake?\n"
          ]
        },
        {
          "output_type": "stream",
          "name": "stderr",
          "text": [
            "\r 56%|█████▌    | 149/265 [05:51<05:42,  2.95s/it]"
          ]
        },
        {
          "output_type": "stream",
          "name": "stdout",
          "text": [
            "{'is_meaningful': True, 'enhanced_text': 'The 2024 Cape Mendocino earthquake resulted in the destruction of some houses and damage to 11 health facilities. Additionally, rockfalls occurred in the Ayacucho region. In Lima, one health center was damaged. A tsunami with a height of 20 cm (7.9 inches) was recorded in the Chala area.', 'question': 'What was the height of the tsunami recorded in the Chala area following the 2024 Cape Mendocino earthquake?', 'reasoning': 'The content provides specific details about the impact of the 2024 Cape Mendocino earthquake, including damage to infrastructure and the occurrence of a tsunami. These details are informative and relevant to understanding the effects of the earthquake, making the content meaningful.'}\n",
            "\n",
            "✓ Chunk 149 processed and kept\n",
            "Question: What was the height of the tsunami recorded in the Chala area following the 2024 Cape Mendocino earthquake?\n"
          ]
        },
        {
          "output_type": "stream",
          "name": "stderr",
          "text": [
            "\r 57%|█████▋    | 150/265 [05:55<06:01,  3.14s/it]"
          ]
        },
        {
          "output_type": "stream",
          "name": "stdout",
          "text": [
            "{'is_meaningful': False, 'enhanced_text': None, 'question': None, 'reasoning': 'The text primarily consists of links, navigation elements, and non-specific details about earthquakes in Peru and Chile, without providing meaningful information about the 2024 Cape Mendocino earthquake. It lacks context, specific details, or informative content related to the topic in question.'}\n",
            "\n",
            "✗ Chunk 150 discarded - not meaningful\n",
            "29[[198]](https://en.wikipedia.org/wiki/<#cite_note-198>) | ![](https://upload.wikimedia.org/wikipedia/commons/thumb/c/cf/Flag_of_Peru.svg/23px-Flag_of_Peru.svg.png) [Peru](https://en.wikipedia.org/wiki/</wiki/Peru> \"Peru\"), [Arequipa](https://en.wikipedia.org/wiki/</wiki/Department_of_Arequipa> \"Department of Arequipa\") offshore, 34 km (21 mi) southwest of [Atiquipa](https://en.wikipedia.org/wiki/</wiki/Atiquipa_District> \"Atiquipa District\") | 6.1  | 18.0  | VI  | Aftershock of the 7.2 earthquake on 28 June.  | -  | -   \n",
            "### July\n",
            "[[edit](https://en.wikipedia.org/wiki/</w/index.php?title=List_of_earthquakes_in_2024&action=edit&section=11> \"Edit section: July\")]\n",
            "JulyStrongest magnitude| 7.4 [Mw](https://en.wikipedia.org/wiki/</wiki/Seismic_magnitude_scales#Mw> \"Seismic magnitude scales\") ![](https://upload.wikimedia.org/wikipedia/commons/thumb/7/78/Flag_of_Chile.svg/23px-Flag_of_Chile.svg.png) [Chile](https://en.wikipedia.org/wiki/</wiki/Chile> \"Chile\")  \n",
            "---|---\n"
          ]
        },
        {
          "output_type": "stream",
          "name": "stderr",
          "text": [
            "\r 57%|█████▋    | 151/265 [05:57<05:12,  2.74s/it]"
          ]
        },
        {
          "output_type": "stream",
          "name": "stdout",
          "text": [
            "{'is_meaningful': False, 'enhanced_text': None, 'question': None, 'reasoning': 'The text primarily consists of a table structure with links, icons, and non-informative content. It lacks coherent narrative or context about the 2024 Cape Mendocino earthquake, focusing instead on unrelated seismic data and formatting elements. Therefore, it does not contain valuable information for the topic at hand.'}\n",
            "\n",
            "✗ Chunk 151 discarded - not meaningful\n",
            "---|---  \n",
            "Deadliest| 2.9 [Mw](https://en.wikipedia.org/wiki/</wiki/Seismic_magnitude_scales#Mw> \"Seismic magnitude scales\") ![](https://upload.wikimedia.org/wikipedia/en/thumb/1/12/Flag_of_Poland.svg/23px-Flag_of_Poland.svg.png) [Poland](https://en.wikipedia.org/wiki/</wiki/Poland> \"Poland\")1 death7.4 [Mw](https://en.wikipedia.org/wiki/</wiki/Seismic_magnitude_scales#Mw> \"Seismic magnitude scales\") ![](https://upload.wikimedia.org/wikipedia/commons/thumb/7/78/Flag_of_Chile.svg/23px-Flag_of_Chile.svg.png) [Chile](https://en.wikipedia.org/wiki/</wiki/Chile> \"Chile\")1 death  \n",
            "Total fatalities| 2  \n",
            "Number by magnitude  \n",
            "9.0+| 0  \n",
            "8.0–8.9| 0  \n",
            "7.0–7.9| 2  \n",
            "6.0–6.9| 7  \n",
            "5.0–5.9| 105  \n",
            "4.0–4.9| 982  \n",
            "Date | Country and location | Mw | Depth (km) | [MMI](https://en.wikipedia.org/wiki/</wiki/Modified_Mercalli_intensity_scale> \"Modified Mercalli intensity scale\") | Notes | Casualties  \n",
            "---|---|---|---|---|---|---  \n",
            "Dead | Injured\n"
          ]
        },
        {
          "output_type": "stream",
          "name": "stderr",
          "text": [
            "\r 57%|█████▋    | 152/265 [05:59<04:41,  2.49s/it]"
          ]
        },
        {
          "output_type": "stream",
          "name": "stdout",
          "text": [
            "{'is_meaningful': True, 'enhanced_text': 'In the 2024 Cape Mendocino earthquake, one person was injured, and two structures collapsed with two others damaged. The earthquake also caused landslides and power outages in the Quito area. The epicenter was located 8 km (5.0 mi) northeast of Oyambarillo in Pichincha Province, Ecuador.', 'question': 'What were the consequences of the 2024 Cape Mendocino earthquake in the Quito area?', 'reasoning': 'The content provides specific details about the impact of the 2024 Cape Mendocino earthquake, including the number of injuries, structural damage, and geographical location. It contains valuable information beyond just links or navigation elements, making it meaningful for preservation.'}\n",
            "\n",
            "✓ Chunk 152 processed and kept\n",
            "Question: What were the consequences of the 2024 Cape Mendocino earthquake in the Quito area?\n"
          ]
        },
        {
          "output_type": "stream",
          "name": "stderr",
          "text": [
            "\r 58%|█████▊    | 153/265 [06:02<05:02,  2.70s/it]"
          ]
        },
        {
          "output_type": "stream",
          "name": "stdout",
          "text": [
            "{'is_meaningful': True, 'enhanced_text': 'An earthquake occurred offshore of Central Java, Indonesia, 7 km (4.3 mi) east-northeast of Pekalongan. The earthquake had a magnitude of 4.5 and a depth of 11.1 km, with an intensity of VI. As a result, twelve people were slightly injured, 13 houses were destroyed, and 287 buildings were damaged in the Batang-Pekalongan area.', 'question': 'What was the magnitude and depth of the earthquake that affected the Batang-Pekalongan area in Central Java, Indonesia?', 'reasoning': 'The content provides specific details about the location, magnitude, depth, and impact of an earthquake in Central Java, Indonesia. It includes important information such as the number of injuries, houses destroyed, and buildings damaged, making it meaningful and informative.'}\n",
            "\n",
            "✓ Chunk 153 processed and kept\n",
            "Question: What was the magnitude and depth of the earthquake that affected the Batang-Pekalongan area in Central Java, Indonesia?\n"
          ]
        },
        {
          "output_type": "stream",
          "name": "stderr",
          "text": [
            "\r 58%|█████▊    | 154/265 [06:04<04:48,  2.60s/it]"
          ]
        },
        {
          "output_type": "stream",
          "name": "stdout",
          "text": [
            "{'is_meaningful': False, 'enhanced_text': None, 'question': None, 'reasoning': 'The text chunk primarily consists of links, references, and navigation elements with minimal context or details about the 2024 Cape Mendocino earthquake. It lacks meaningful information or narrative that would provide valuable insights into the event. Therefore, it is marked for discarding.'}\n",
            "\n",
            "✗ Chunk 154 discarded - not meaningful\n",
            "7[[205]](https://en.wikipedia.org/wiki/<#cite_note-205>) | ![](https://upload.wikimedia.org/wikipedia/en/thumb/9/9e/Flag_of_Japan.svg/23px-Flag_of_Japan.svg.png) [Japan](https://en.wikipedia.org/wiki/</wiki/Japan> \"Japan\"), [Bonin Islands](https://en.wikipedia.org/wiki/</wiki/Bonin_Islands> \"Bonin Islands\") offshore  | 6.2  | 546.0  | II  | -  | -  | -   \n",
            "10[[206]](https://en.wikipedia.org/wiki/<#cite_note-206>) | south of Africa  | 6.6  | 4.0  | -  | -  | -  | -   \n",
            "11[[207]](https://en.wikipedia.org/wiki/<#cite_note-207>) | ![](https://upload.wikimedia.org/wikipedia/commons/thumb/9/99/Flag_of_the_Philippines.svg/23px-Flag_of_the_Philippines.svg.png) [Philippines](https://en.wikipedia.org/wiki/</wiki/Philippines> \"Philippines\"), [Soccsksargen](https://en.wikipedia.org/wiki/</wiki/Soccsksargen> \"Soccsksargen\") offshore, 106 km (66 mi) west-southwest of [Sangay](https://en.wikipedia.org/wiki/</wiki/Kalamansig> \"Kalamansig\") | 7.1  | 639.5  | III  | -  | -  | -\n"
          ]
        },
        {
          "output_type": "stream",
          "name": "stderr",
          "text": [
            "\r 58%|█████▊    | 155/265 [06:06<04:03,  2.21s/it]"
          ]
        },
        {
          "output_type": "stream",
          "name": "stdout",
          "text": [
            "{'is_meaningful': False, 'enhanced_text': None, 'question': None, 'reasoning': 'The text primarily consists of links, references, and navigation elements related to a location in Turkey and does not contain any information about the 2024 Cape Mendocino earthquake. It lacks meaningful context or details relevant to the specified event.'}\n",
            "\n",
            "✗ Chunk 155 discarded - not meaningful\n",
            "11[[208]](https://en.wikipedia.org/wiki/<#cite_note-208>) | ![](https://upload.wikimedia.org/wikipedia/commons/thumb/b/b4/Flag_of_Turkey.svg/23px-Flag_of_Turkey.svg.png) [Turkey](https://en.wikipedia.org/wiki/</wiki/Turkey> \"Turkey\"), [Afyonkarahisar](https://en.wikipedia.org/wiki/</wiki/Afyonkarahisar_Province> \"Afyonkarahisar Province\"), 2 km (1.2 mi) south-southeast of [Afyonkarahisar](https://en.wikipedia.org/wiki/</wiki/Afyonkarahisar> \"Afyonkarahisar\") | 4.3  | 10.0  | V  | One home collapsed in Kalecik and a road damaged at [Değirmenayvalı](https://en.wikipedia.org/wiki/</wiki/De%C4%9Firmenayval%C4%B1> \"Değirmenayvalı\").[[209]](https://en.wikipedia.org/wiki/<#cite_note-209>) | -  | -\n"
          ]
        },
        {
          "output_type": "stream",
          "name": "stderr",
          "text": [
            "\r 59%|█████▉    | 156/265 [06:08<03:53,  2.14s/it]"
          ]
        },
        {
          "output_type": "stream",
          "name": "stdout",
          "text": [
            "{'is_meaningful': True, 'enhanced_text': \"In Poland's Silesian Voivodeship, approximately 4 kilometers (2.5 miles) north of Jejkowice, a mine collapse occurred in Rydułtowy. The incident resulted in the death of one miner and injuries to 17 others.\", 'question': 'How many miners were injured in the Rydułtowy mine collapse in Silesian Voivodeship, Poland?', 'reasoning': 'The content provides specific details about a mine collapse in Poland, including the location, the number of casualties, and the number of injuries. This information is valuable and informative, making it suitable for preservation and enhancement.'}\n",
            "\n",
            "✓ Chunk 156 processed and kept\n",
            "Question: How many miners were injured in the Rydułtowy mine collapse in Silesian Voivodeship, Poland?\n"
          ]
        },
        {
          "output_type": "stream",
          "name": "stderr",
          "text": [
            "\r 59%|█████▉    | 157/265 [06:10<03:45,  2.09s/it]"
          ]
        },
        {
          "output_type": "stream",
          "name": "stdout",
          "text": [
            "{'is_meaningful': True, 'enhanced_text': 'The 2024 Cape Mendocino earthquake occurred offshore of British Columbia, Canada, 209 kilometers (130 miles) west-southwest of Tofino. The earthquake had a magnitude of 6.4 and a depth of 10.0 kilometers. It registered an intensity of IV on the Mercalli intensity scale.', 'question': 'What was the magnitude and depth of the 2024 Cape Mendocino earthquake?', 'reasoning': 'The content provides specific and valuable information about the location, magnitude, and depth of the 2024 Cape Mendocino earthquake, which is essential for understanding the event. It is not merely links or navigation elements, thus it is meaningful and should be preserved.'}\n",
            "\n",
            "✓ Chunk 157 processed and kept\n",
            "Question: What was the magnitude and depth of the 2024 Cape Mendocino earthquake?\n"
          ]
        },
        {
          "output_type": "stream",
          "name": "stderr",
          "text": [
            "\r 60%|█████▉    | 158/265 [06:12<04:01,  2.25s/it]"
          ]
        },
        {
          "output_type": "stream",
          "name": "stdout",
          "text": [
            "{'is_meaningful': True, 'enhanced_text': 'An earthquake with a magnitude of 7.4 occurred 41 km east-southeast of San Pedro de Atacama in the Antofagasta Region of Chile. The earthquake resulted in the death of one person in Calama. It caused minor damage to buildings in the epicentral area, power outages, and landslides in San Pedro de Atacama. Additionally, a bridge was damaged in Quillagua.', 'question': 'What were the consequences of the 7.4 magnitude earthquake near San Pedro de Atacama in terms of casualties and infrastructure damage?', 'reasoning': 'The content provides specific details about the location, magnitude, and impact of an earthquake, including casualties and damage to infrastructure. This information is valuable and relevant, making it necessary to preserve and enhance for readability.'}\n",
            "\n",
            "✓ Chunk 158 processed and kept\n",
            "Question: What were the consequences of the 7.4 magnitude earthquake near San Pedro de Atacama in terms of casualties and infrastructure damage?\n"
          ]
        },
        {
          "output_type": "stream",
          "name": "stderr",
          "text": [
            "\r 60%|██████    | 159/265 [06:16<04:38,  2.63s/it]"
          ]
        },
        {
          "output_type": "stream",
          "name": "stdout",
          "text": [
            "{'is_meaningful': False, 'enhanced_text': None, 'question': None, 'reasoning': 'The content primarily consists of links, references, and navigation elements with minimal context or details about the 2024 Cape Mendocino earthquake. It lacks substantive information and is not informative on its own.'}\n",
            "\n",
            "✗ Chunk 159 discarded - not meaningful\n",
            "\"Quillagua\").[[215]](https://en.wikipedia.org/wiki/<#cite_note-215>)[[216]](https://en.wikipedia.org/wiki/<#cite_note-216>) Some buildings damaged in the [Cochabamba](https://en.wikipedia.org/wiki/</wiki/Cochabamba> \"Cochabamba\")-[Santa Cruz de la Sierra](https://en.wikipedia.org/wiki/</wiki/Santa_Cruz_de_la_Sierra> \"Santa Cruz de la Sierra\")-[Sucre](https://en.wikipedia.org/wiki/</wiki/Sucre> \"Sucre\") area, [Bolivia](https://en.wikipedia.org/wiki/</wiki/Bolivia> \"Bolivia\").[[217]](https://en.wikipedia.org/wiki/<#cite_note-217>) | 1  | -\n"
          ]
        },
        {
          "output_type": "stream",
          "name": "stderr",
          "text": [
            "\r 60%|██████    | 160/265 [06:18<04:15,  2.44s/it]"
          ]
        },
        {
          "output_type": "stream",
          "name": "stdout",
          "text": [
            "{'is_meaningful': False, 'enhanced_text': None, 'question': None, 'reasoning': 'The content primarily consists of links, navigation elements, and non-informative data points without any meaningful context or details about the 2024 Cape Mendocino earthquake. It lacks narrative or descriptive information that could be preserved or enhanced for readability.'}\n",
            "\n",
            "✗ Chunk 160 discarded - not meaningful\n",
            "19[[218]](https://en.wikipedia.org/wiki/<#cite_note-218>) | ![](https://upload.wikimedia.org/wikipedia/en/thumb/a/a4/Flag_of_the_United_States.svg/23px-Flag_of_the_United_States.svg.png) [United States](https://en.wikipedia.org/wiki/</wiki/United_States> \"United States\"), [Alaska](https://en.wikipedia.org/wiki/</wiki/Alaska> \"Alaska\") offshore, 168 km (104 mi) southwest of [Nikolski](https://en.wikipedia.org/wiki/</wiki/Nikolski,_Alaska> \"Nikolski, Alaska\") | 6.0  | 41.0  | IV  | -  | -  | -   \n",
            "21[[219]](https://en.wikipedia.org/wiki/<#cite_note-219>) | ![](https://upload.wikimedia.org/wikipedia/commons/thumb/e/ec/Flag_of_Guatemala.svg/23px-Flag_of_Guatemala.svg.png) [Guatemala](https://en.wikipedia.org/wiki/</wiki/Guatemala> \"Guatemala\"), [Jalapa](https://en.wikipedia.org/wiki/</wiki/Jalapa_Department> \"Jalapa Department\"), 6 km (3.7 mi) east of [Jalapa](https://en.wikipedia.org/wiki/</wiki/Jalapa> \"Jalapa\") | 6.2  | 272.0  | IV  | -  | -  | -\n"
          ]
        },
        {
          "output_type": "stream",
          "name": "stderr",
          "text": [
            "\r 61%|██████    | 161/265 [06:19<03:43,  2.15s/it]"
          ]
        },
        {
          "output_type": "stream",
          "name": "stdout",
          "text": [
            "{'is_meaningful': False, 'enhanced_text': None, 'question': None, 'reasoning': 'The content primarily consists of links, references, and navigation elements without providing any meaningful information or context about the 2024 Cape Mendocino earthquake. It lacks substantive details or narrative that could be preserved or enhanced for readability.'}\n",
            "\n",
            "✗ Chunk 161 discarded - not meaningful\n",
            "22[[220]](https://en.wikipedia.org/wiki/<#cite_note-220>) | ![](https://upload.wikimedia.org/wikipedia/commons/thumb/b/bc/Flag_of_Vanuatu.svg/23px-Flag_of_Vanuatu.svg.png) [Vanuatu](https://en.wikipedia.org/wiki/</wiki/Vanuatu> \"Vanuatu\"), [Malampa](https://en.wikipedia.org/wiki/</wiki/Malampa_Province> \"Malampa Province\") offshore, 99 km (62 mi) northeast of [Norsup](https://en.wikipedia.org/wiki/</wiki/Norsup> \"Norsup\") | 6.1  | 4.0  | VII  | -  | -  | -\n"
          ]
        },
        {
          "output_type": "stream",
          "name": "stderr",
          "text": [
            "\r 61%|██████    | 162/265 [06:21<03:21,  1.95s/it]"
          ]
        },
        {
          "output_type": "stream",
          "name": "stdout",
          "text": [
            "{'is_meaningful': True, 'enhanced_text': 'On the 25th, an earthquake occurred in Indonesia, specifically in West Java, 12 kilometers (7.5 miles) south-southwest of Sumber. The earthquake had a magnitude of 4.4 and a depth of 12.8 kilometers. It registered a V on the intensity scale. As a result, three homes and a mosque collapsed, and 14 other structures were damaged in the Kuningan area.', 'question': 'What was the magnitude and depth of the earthquake that affected the Kuningan area in West Java?', 'reasoning': \"The content provides specific details about an earthquake event, including location, magnitude, depth, and the impact on structures. This information is valuable for understanding the event's significance and effects, making it meaningful content.\"}\n",
            "\n",
            "✓ Chunk 162 processed and kept\n",
            "Question: What was the magnitude and depth of the earthquake that affected the Kuningan area in West Java?\n"
          ]
        },
        {
          "output_type": "stream",
          "name": "stderr",
          "text": [
            "\r 62%|██████▏   | 163/265 [06:25<04:41,  2.76s/it]"
          ]
        },
        {
          "output_type": "stream",
          "name": "stdout",
          "text": [
            "{'is_meaningful': True, 'enhanced_text': 'An earthquake with a magnitude of 4.8 occurred 51 kilometers east-southeast of Sarpol-e Zahab in Kermanshah province, Iran. The quake resulted in one person being injured and caused damage to several buildings in Dalaho County.', 'question': 'What was the magnitude of the earthquake that struck near Sarpol-e Zahab in Kermanshah province, Iran?', 'reasoning': 'The content provides specific information about an earthquake, including its magnitude, location, and the impact it had on people and structures. This information is valuable and relevant to understanding the event.'}\n",
            "\n",
            "✓ Chunk 163 processed and kept\n",
            "Question: What was the magnitude of the earthquake that struck near Sarpol-e Zahab in Kermanshah province, Iran?\n"
          ]
        },
        {
          "output_type": "stream",
          "name": "stderr",
          "text": [
            "\r 62%|██████▏   | 164/265 [06:28<04:23,  2.61s/it]"
          ]
        },
        {
          "output_type": "stream",
          "name": "stdout",
          "text": [
            "{'is_meaningful': False, 'enhanced_text': None, 'question': None, 'reasoning': 'The text primarily consists of links, navigation elements, and a table-like structure with minimal context or detailed information about the 2024 Cape Mendocino earthquake. It lacks meaningful content or specific details that would contribute to understanding the event.'}\n",
            "\n",
            "✗ Chunk 164 discarded - not meaningful\n",
            "29[[226]](https://en.wikipedia.org/wiki/<#cite_note-226>) | ![](https://upload.wikimedia.org/wikipedia/commons/thumb/9/9a/Flag_of_Tonga.svg/23px-Flag_of_Tonga.svg.png) [Tonga](https://en.wikipedia.org/wiki/</wiki/Tonga> \"Tonga\"), [Haʻapai](https://en.wikipedia.org/wiki/</wiki/Ha%CA%BBapai> \"Haʻapai\") offshore, 73 km (45 mi) south-southeast of [Pangai](https://en.wikipedia.org/wiki/</wiki/Pangai> \"Pangai\") | 6.0  | 9.0  | IV  | -  | -  | -\n"
          ]
        },
        {
          "output_type": "stream",
          "name": "stderr",
          "text": [
            "\r 62%|██████▏   | 165/265 [06:29<03:42,  2.23s/it]"
          ]
        },
        {
          "output_type": "stream",
          "name": "stdout",
          "text": [
            "{'is_meaningful': True, 'enhanced_text': 'On August 29, 2024, an earthquake with a magnitude of 4.7 occurred 31 km (19 mi) south-southeast of Fannuj in the Sistan and Baluchistan province of Iran. The earthquake had a depth of 10.0 km and was classified with an intensity of V. It resulted in the destruction of more than 400 homes in Nikshahr County.', 'question': 'How many homes were destroyed in Nikshahr County due to the earthquake on August 29, 2024?', 'reasoning': 'The content provides specific information about an earthquake event, including the date, location, magnitude, depth, intensity, and the impact on housing in Nikshahr County. This information is valuable for understanding the effects of the earthquake and is more than just links or navigation elements.'}\n",
            "\n",
            "✓ Chunk 165 processed and kept\n",
            "Question: How many homes were destroyed in Nikshahr County due to the earthquake on August 29, 2024?\n"
          ]
        },
        {
          "output_type": "stream",
          "name": "stderr",
          "text": [
            "\r 63%|██████▎   | 166/265 [06:32<03:52,  2.35s/it]"
          ]
        },
        {
          "output_type": "stream",
          "name": "stdout",
          "text": [
            "{'is_meaningful': False, 'enhanced_text': None, 'question': None, 'reasoning': 'The content provided is a list of earthquake statistics for August 2024, including magnitudes and fatalities, but it does not contain specific information about the 2024 Cape Mendocino earthquake. It is primarily a tabular representation of data without context or detailed narrative, making it non-informative for the specific topic requested.'}\n",
            "\n",
            "✗ Chunk 166 discarded - not meaningful\n",
            "### August\n",
            "[[edit](https://en.wikipedia.org/wiki/</w/index.php?title=List_of_earthquakes_in_2024&action=edit&section=12> \"Edit section: August\")]\n",
            "AugustStrongest magnitude| 7.1 [Mw](https://en.wikipedia.org/wiki/</wiki/Seismic_magnitude_scales#Mw> \"Seismic magnitude scales\") ![](https://upload.wikimedia.org/wikipedia/en/thumb/9/9e/Flag_of_Japan.svg/23px-Flag_of_Japan.svg.png) [Japan](https://en.wikipedia.org/wiki/</wiki/Japan> \"Japan\")  \n",
            "---|---  \n",
            "Deadliest| 5.2 [Mw](https://en.wikipedia.org/wiki/</wiki/Seismic_magnitude_scales#Mw> \"Seismic magnitude scales\") ![](https://upload.wikimedia.org/wikipedia/commons/thumb/e/e1/Flag_of_the_United_Arab_Republic_%281958%E2%80%931971%29%2C_Flag_of_Syria_%281980%E2%80%932024%29.svg/23px-Flag_of_the_United_Arab_Republic_%281958%E2%80%931971%29%2C_Flag_of_Syria_%281980%E2%80%932024%29.svg.png) [Syria](https://en.wikipedia.org/wiki/</wiki/Syria> \"Syria\")2 deaths  \n",
            "Total fatalities| 3  \n",
            "Number by magnitude  \n",
            "9.0+| 0  \n",
            "8.0–8.9| 0  \n",
            "7.0–7.9| 2\n"
          ]
        },
        {
          "output_type": "stream",
          "name": "stderr",
          "text": [
            "\r 63%|██████▎   | 167/265 [06:36<05:06,  3.12s/it]"
          ]
        },
        {
          "output_type": "stream",
          "name": "stdout",
          "text": [
            "{'is_meaningful': True, 'enhanced_text': 'The 2024 Cape Mendocino earthquake resulted in a total of 3 fatalities. The distribution of earthquakes by magnitude was as follows: two earthquakes measured between 7.0 and 7.9, eight earthquakes measured between 6.0 and 6.9, ninety-five earthquakes measured between 5.0 and 5.9, and one thousand and two earthquakes measured between 4.0 and 4.9. Additionally, there was notable subsidence observed in Kagoshima Prefecture, Japan.', 'question': 'How many earthquakes measuring between 5.0 and 5.9 occurred during the 2024 Cape Mendocino earthquake event?', 'reasoning': \"The content provides specific details about the number of earthquakes by magnitude and mentions the total fatalities, which are important factual details about the 2024 Cape Mendocino earthquake. It also includes a reference to subsidence in Kagoshima Prefecture, adding context to the event's impact. Therefore, it is meaningful and should be preserved.\"}\n",
            "\n",
            "✓ Chunk 167 processed and kept\n",
            "Question: How many earthquakes measuring between 5.0 and 5.9 occurred during the 2024 Cape Mendocino earthquake event?\n"
          ]
        },
        {
          "output_type": "stream",
          "name": "stderr",
          "text": [
            "\r 63%|██████▎   | 168/265 [06:39<04:55,  3.05s/it]"
          ]
        },
        {
          "output_type": "stream",
          "name": "stdout",
          "text": [
            "{'is_meaningful': True, 'enhanced_text': 'The 2024 Cape Mendocino earthquake resulted in 2 fatalities. It occurred offshore in the Caraga region of the Philippines, 20 km east of Barcelona, Lingig. The earthquake had a magnitude of 6.8 and a depth of 32.0 km, with an intensity of VII. It was an aftershock of the December 2023 Mindanao earthquake. The earthquake destroyed two homes and damaged 191 others in the Lingig area.', 'question': 'What was the magnitude and depth of the 2024 Cape Mendocino earthquake?', 'reasoning': 'The content provides specific details about the 2024 Cape Mendocino earthquake, including its location, magnitude, depth, intensity, and impact on the local area. This information is valuable and informative, making it worth preserving and enhancing for readability.'}\n",
            "\n",
            "✓ Chunk 168 processed and kept\n",
            "Question: What was the magnitude and depth of the 2024 Cape Mendocino earthquake?\n"
          ]
        },
        {
          "output_type": "stream",
          "name": "stderr",
          "text": [
            "\r 64%|██████▍   | 169/265 [06:43<04:59,  3.12s/it]"
          ]
        },
        {
          "output_type": "stream",
          "name": "stdout",
          "text": [
            "{'is_meaningful': True, 'enhanced_text': 'An aftershock of magnitude 6.3 occurred offshore in the Caraga region of the Philippines, 44 kilometers (27 miles) east of Barcelona. This event followed a 6.8 magnitude earthquake that had taken place six hours earlier. The aftershock was recorded with an intensity of VI.', 'question': 'What was the magnitude of the aftershock that occurred in the Caraga region of the Philippines following the earlier earthquake?', 'reasoning': 'The content provides specific details about the location, magnitude, and timing of an aftershock related to the 2024 Cape Mendocino earthquake. It includes important numerical data and geographical context, making it valuable information.'}\n",
            "\n",
            "✓ Chunk 169 processed and kept\n",
            "Question: What was the magnitude of the aftershock that occurred in the Caraga region of the Philippines following the earlier earthquake?\n"
          ]
        },
        {
          "output_type": "stream",
          "name": "stderr",
          "text": [
            "\r 64%|██████▍   | 170/265 [06:46<05:17,  3.34s/it]"
          ]
        },
        {
          "output_type": "stream",
          "name": "stdout",
          "text": [
            "{'is_meaningful': True, 'enhanced_text': 'An earthquake occurred in Indonesia, specifically in West Java, 26 kilometers (16 miles) southwest of Bogor. The earthquake had a magnitude of 3.5 and a depth of 10.0 kilometers. It resulted in the destruction of three homes and damage to 62 others in Bogor Regency.', 'question': 'What was the magnitude and depth of the earthquake that affected Bogor Regency in West Java, Indonesia?', 'reasoning': 'The content provides specific information about the location, magnitude, depth, and impact of an earthquake in West Java, Indonesia. It includes important details such as the number of homes destroyed and damaged, making it meaningful and informative.'}\n",
            "\n",
            "✓ Chunk 170 processed and kept\n",
            "Question: What was the magnitude and depth of the earthquake that affected Bogor Regency in West Java, Indonesia?\n"
          ]
        },
        {
          "output_type": "stream",
          "name": "stderr",
          "text": [
            "\r 65%|██████▍   | 171/265 [06:49<04:46,  3.05s/it]"
          ]
        },
        {
          "output_type": "stream",
          "name": "stdout",
          "text": [
            "{'is_meaningful': False, 'enhanced_text': None, 'question': None, 'reasoning': 'The text primarily consists of links, navigation elements, and non-informative content without providing any meaningful context or details about the 2024 Cape Mendocino earthquake. It includes references to other locations and events but lacks substantive information relevant to the topic.'}\n",
            "\n",
            "✗ Chunk 171 discarded - not meaningful\n",
            "8[[234]](https://en.wikipedia.org/wiki/<#cite_note-234>) | ![](https://upload.wikimedia.org/wikipedia/en/thumb/9/9e/Flag_of_Japan.svg/23px-Flag_of_Japan.svg.png) [Japan](https://en.wikipedia.org/wiki/</wiki/Japan> \"Japan\"), [Miyazaki](https://en.wikipedia.org/wiki/</wiki/Miyazaki_Prefecture> \"Miyazaki Prefecture\") offshore, 19 km (12 mi) south-southeast of [Miyazaki](https://en.wikipedia.org/wiki/</wiki/Miyazaki_\\(city\\)> \"Miyazaki \\(city\\)\") | 7.1  | 24.0  | VIII  | Further information: [2024 Hyūga-nada earthquake](https://en.wikipedia.org/wiki/</wiki/2024_Hy%C5%ABga-nada_earthquake> \"2024 Hyūga-nada earthquake\") | -  | 16\n"
          ]
        },
        {
          "output_type": "stream",
          "name": "stderr",
          "text": [
            "\r 65%|██████▍   | 172/265 [06:50<03:58,  2.56s/it]"
          ]
        },
        {
          "output_type": "stream",
          "name": "stdout",
          "text": [
            "{'is_meaningful': True, 'enhanced_text': 'In Japan, specifically in Kanagawa Prefecture, an earthquake occurred 1 km north of Isehara. The earthquake registered a magnitude of 5.0 and had an intensity of VI on the scale. As a result, three people were injured, and there were water supply outages in the Isehara-Matsuda-Yokosuka area.', 'question': 'What were the consequences of the earthquake that occurred 1 km north of Isehara in Kanagawa Prefecture?', 'reasoning': 'The content provides specific details about an earthquake event in Japan, including its location, magnitude, intensity, and the impact on people and infrastructure. This information is valuable and informative, making it suitable for retention and enhancement.'}\n",
            "\n",
            "✓ Chunk 172 processed and kept\n",
            "Question: What were the consequences of the earthquake that occurred 1 km north of Isehara in Kanagawa Prefecture?\n"
          ]
        },
        {
          "output_type": "stream",
          "name": "stderr",
          "text": [
            "\r 65%|██████▌   | 173/265 [06:53<03:56,  2.57s/it]"
          ]
        },
        {
          "output_type": "stream",
          "name": "stdout",
          "text": [
            "{'is_meaningful': False, 'enhanced_text': None, 'question': None, 'reasoning': 'The content primarily consists of links, navigation elements, and a table-like structure without any meaningful narrative or context about the 2024 Cape Mendocino earthquake. It lacks descriptive information or details that would provide insight into the event.'}\n",
            "\n",
            "✗ Chunk 173 discarded - not meaningful\n",
            "10[[238]](https://en.wikipedia.org/wiki/<#cite_note-238>) | ![](https://upload.wikimedia.org/wikipedia/en/thumb/f/f3/Flag_of_Russia.svg/23px-Flag_of_Russia.svg.png) [Russia](https://en.wikipedia.org/wiki/</wiki/Russia> \"Russia\"), [Sakhalin](https://en.wikipedia.org/wiki/</wiki/Sakhalin_Oblast> \"Sakhalin Oblast\") offshore, 151 km (94 mi) east of [Dolinsk](https://en.wikipedia.org/wiki/</wiki/Dolinsk,_Sakhalin_Oblast> \"Dolinsk, Sakhalin Oblast\") | 6.5  | 402.2  | III  | -  | -  | -\n"
          ]
        },
        {
          "output_type": "stream",
          "name": "stderr",
          "text": [
            "\r 66%|██████▌   | 174/265 [06:54<03:27,  2.28s/it]"
          ]
        },
        {
          "output_type": "stream",
          "name": "stdout",
          "text": [
            "{'is_meaningful': True, 'enhanced_text': 'An earthquake occurred in Armenia, specifically in the Gegharkunik Province, 4 km (2.5 mi) south-southwest of Lanjaghbyur. The earthquake had a magnitude of 4.2 and an intensity of VII. As a result, some buildings collapsed, and 82 others were damaged in the Yeranos area.', 'question': 'What was the magnitude and intensity of the earthquake that affected the Yeranos area in Armenia?', 'reasoning': 'The text provides specific information about an earthquake in Armenia, including its location, magnitude, intensity, and the impact on buildings. This information is valuable and relevant to understanding the event, so it was preserved and enhanced for clarity.'}\n",
            "\n",
            "✓ Chunk 174 processed and kept\n",
            "Question: What was the magnitude and intensity of the earthquake that affected the Yeranos area in Armenia?\n"
          ]
        },
        {
          "output_type": "stream",
          "name": "stderr",
          "text": [
            "\r 66%|██████▌   | 175/265 [06:57<03:22,  2.25s/it]"
          ]
        },
        {
          "output_type": "stream",
          "name": "stdout",
          "text": [
            "{'is_meaningful': False, 'enhanced_text': None, 'question': None, 'reasoning': 'The text primarily consists of links, navigation elements, and fragmented information without clear context or details about the 2024 Cape Mendocino earthquake. It lacks coherent narrative or specific information related to the earthquake, making it non-informative for the intended purpose.'}\n",
            "\n",
            "✗ Chunk 175 discarded - not meaningful\n",
            "12[[242]](https://en.wikipedia.org/wiki/<#cite_note-242>) | ![](https://upload.wikimedia.org/wikipedia/commons/thumb/e/e1/Flag_of_the_United_Arab_Republic_%281958%E2%80%931971%29%2C_Flag_of_Syria_%281980%E2%80%932024%29.svg/23px-Flag_of_the_United_Arab_Republic_%281958%E2%80%931971%29%2C_Flag_of_Syria_%281980%E2%80%932024%29.svg.png) [Syria](https://en.wikipedia.org/wiki/</wiki/Syria> \"Syria\"), [Hama](https://en.wikipedia.org/wiki/</wiki/Hama_Governorate> \"Hama Governorate\"), 12 km (7.5 mi) north-northwest of [As Salamīyah](https://en.wikipedia.org/wiki/</wiki/Salamiyah> \"Salamiyah\") | 5.2  | 7.3  | VI  | One person killed in [Afrin](https://en.wikipedia.org/wiki/</wiki/Afrin,_Syria> \"Afrin, Syria\") and another in Salamiyah.[[243]](https://en.wikipedia.org/wiki/<#cite_note-243>) At least 132 others hospitalized and many buildings damaged or destroyed in Salamiyah.[[244]](https://en.wikipedia.org/wiki/<#cite_note-244>) Some homes collapsed and several more damaged in the\n"
          ]
        },
        {
          "output_type": "stream",
          "name": "stderr",
          "text": [
            "\r 66%|██████▋   | 176/265 [06:58<03:05,  2.09s/it]"
          ]
        },
        {
          "output_type": "stream",
          "name": "stdout",
          "text": [
            "{'is_meaningful': True, 'enhanced_text': 'At least 132 people were hospitalized, and many buildings were damaged or destroyed in Salamiyah. Some homes collapsed, and several more were damaged in the Beirut area, Lebanon.', 'question': \"How many people were hospitalized due to the earthquake's impact in Salamiyah?\", 'reasoning': \"The content provides specific information about the impact of the earthquake, including the number of people hospitalized and the extent of damage in specific locations. This is valuable information that contributes to understanding the event's consequences.\"}\n",
            "\n",
            "✓ Chunk 176 processed and kept\n",
            "Question: How many people were hospitalized due to the earthquake's impact in Salamiyah?\n"
          ]
        },
        {
          "output_type": "stream",
          "name": "stderr",
          "text": [
            "\r 67%|██████▋   | 177/265 [07:00<02:54,  1.99s/it]"
          ]
        },
        {
          "output_type": "stream",
          "name": "stdout",
          "text": [
            "{'is_meaningful': True, 'enhanced_text': 'In Peru, specifically in the Department of Cusco, an earthquake with a magnitude of 4.7 occurred 5 km (3.1 mi) south-southeast of Caicay. The earthquake had a depth of 35.0 km and was felt with an intensity of IV. As a result, some homes collapsed, several others were damaged, and rockfalls occurred in the Lucre area.', 'question': 'What was the magnitude and depth of the earthquake that affected the Lucre area in the Department of Cusco, Peru?', 'reasoning': 'The content provides specific details about an earthquake event, including its location, magnitude, depth, and effects on the local area. These details are valuable for understanding the impact of the earthquake, making the content meaningful and worth preserving.'}\n",
            "\n",
            "✓ Chunk 177 processed and kept\n",
            "Question: What was the magnitude and depth of the earthquake that affected the Lucre area in the Department of Cusco, Peru?\n"
          ]
        },
        {
          "output_type": "stream",
          "name": "stderr",
          "text": [
            "\r 67%|██████▋   | 178/265 [07:03<03:10,  2.19s/it]"
          ]
        },
        {
          "output_type": "stream",
          "name": "stdout",
          "text": [
            "{'is_meaningful': True, 'enhanced_text': 'An aftershock of the 2024 Hualien earthquake occurred offshore, 30 km (19 mi) south-southeast of Hualien City, Taiwan. This seismic event registered a magnitude of 6.1 and a depth of 14.0 km, with an intensity of VI on the Modified Mercalli Intensity scale. The aftershock triggered landslides, and two individuals were rescued from elevators in Hualien County.', 'question': 'What was the magnitude and depth of the aftershock that occurred near Hualien City following the 2024 Hualien earthquake?', 'reasoning': 'The content provides specific details about an aftershock related to the 2024 Hualien earthquake, including its location, magnitude, depth, and effects such as landslides and rescues. This information is meaningful and relevant to understanding the seismic activity in the region.'}\n",
            "\n",
            "✓ Chunk 178 processed and kept\n",
            "Question: What was the magnitude and depth of the aftershock that occurred near Hualien City following the 2024 Hualien earthquake?\n"
          ]
        },
        {
          "output_type": "stream",
          "name": "stderr",
          "text": [
            "\r 68%|██████▊   | 179/265 [07:06<03:32,  2.47s/it]"
          ]
        },
        {
          "output_type": "stream",
          "name": "stdout",
          "text": [
            "{'is_meaningful': False, 'enhanced_text': None, 'question': None, 'reasoning': 'The text primarily consists of links, navigation elements, and a brief mention of an aftershock event in Syria unrelated to the 2024 Cape Mendocino earthquake. It lacks meaningful context or details specifically about the 2024 Cape Mendocino earthquake, making it non-informative for the intended topic.'}\n",
            "\n",
            "✗ Chunk 179 discarded - not meaningful\n",
            "16[[252]](https://en.wikipedia.org/wiki/<#cite_note-252>) | ![](https://upload.wikimedia.org/wikipedia/commons/thumb/e/e1/Flag_of_the_United_Arab_Republic_%281958%E2%80%931971%29%2C_Flag_of_Syria_%281980%E2%80%932024%29.svg/23px-Flag_of_the_United_Arab_Republic_%281958%E2%80%931971%29%2C_Flag_of_Syria_%281980%E2%80%932024%29.svg.png) [Syria](https://en.wikipedia.org/wiki/</wiki/Syria> \"Syria\"), [Hama](https://en.wikipedia.org/wiki/</wiki/Hama_Governorate> \"Hama Governorate\"), 5 km (3.1 mi) north-northwest of [As Salamīyah](https://en.wikipedia.org/wiki/</wiki/Salamiyah> \"Salamiyah\") | 4.8  | 10.0  | IV  | Aftershock of the 5.0 earthquake on 12 August. Seventeen people injured in Salamiyah.[[253]](https://en.wikipedia.org/wiki/<#cite_note-253>) | -  | 17\n"
          ]
        },
        {
          "output_type": "stream",
          "name": "stderr",
          "text": [
            "\r 68%|██████▊   | 180/265 [07:08<03:15,  2.30s/it]"
          ]
        },
        {
          "output_type": "stream",
          "name": "stdout",
          "text": [
            "{'is_meaningful': True, 'enhanced_text': 'On the Kamchatka Krai offshore, 102 km (63 mi) east of Petropavlovsk-Kamchatsky, a 7.0 magnitude earthquake occurred. The seismic event resulted in damage to at least 22 buildings and generated a tsunami with a height of 25 cm (0.82 ft).', 'question': 'What was the magnitude of the earthquake that occurred near Petropavlovsk-Kamchatsky, and what were its effects?', 'reasoning': 'The content provides specific information about an earthquake, including its location, magnitude, and effects, which are valuable details for understanding the event. It is not merely a collection of links or navigation elements.'}\n",
            "\n",
            "✓ Chunk 180 processed and kept\n",
            "Question: What was the magnitude of the earthquake that occurred near Petropavlovsk-Kamchatsky, and what were its effects?\n"
          ]
        },
        {
          "output_type": "stream",
          "name": "stderr",
          "text": [
            "\r 68%|██████▊   | 181/265 [07:11<03:44,  2.68s/it]"
          ]
        },
        {
          "output_type": "stream",
          "name": "stdout",
          "text": [
            "{'is_meaningful': True, 'enhanced_text': 'On the date of the earthquake, a seismic event occurred offshore in Eastern Visayas, Philippines, approximately 21 km (13 mi) north-northwest of Bugko. The earthquake had a magnitude of 5.7 and a depth of 48.0 km. It was classified as intensity V. As a result, two people were injured in the towns of Pambujan and Catarman. Additionally, at least six buildings were destroyed and 37 others were damaged throughout Northern Samar.', 'question': 'What was the magnitude and depth of the earthquake that occurred near Bugko in Eastern Visayas, Philippines?', 'reasoning': 'The content provides specific information about the location, magnitude, depth, and impact of the earthquake, including injuries and damage. It is not just links or navigation elements, making it meaningful and informative.'}\n",
            "\n",
            "✓ Chunk 181 processed and kept\n",
            "Question: What was the magnitude and depth of the earthquake that occurred near Bugko in Eastern Visayas, Philippines?\n"
          ]
        },
        {
          "output_type": "stream",
          "name": "stderr",
          "text": [
            "\r 69%|██████▊   | 182/265 [07:20<06:10,  4.46s/it]"
          ]
        },
        {
          "output_type": "stream",
          "name": "stdout",
          "text": [
            "{'is_meaningful': False, 'enhanced_text': None, 'question': None, 'reasoning': 'The provided text is primarily composed of links and reference markers without any substantive information about the 2024 Cape Mendocino earthquake or any other relevant details. It lacks context, dates, names, or any technical information that would be useful for understanding the event. Therefore, it is marked for discarding.'}\n",
            "\n",
            "✗ Chunk 182 discarded - not meaningful\n",
            "Samar](https://en.wikipedia.org/wiki/</wiki/Northern_Samar> \"Northern Samar\").[[258]](https://en.wikipedia.org/wiki/<#cite_note-258>)[[259]](https://en.wikipedia.org/wiki/<#cite_note-259>) | -  | 2\n"
          ]
        },
        {
          "output_type": "stream",
          "name": "stderr",
          "text": [
            "\r 69%|██████▉   | 183/265 [07:28<07:26,  5.44s/it]"
          ]
        },
        {
          "output_type": "stream",
          "name": "stdout",
          "text": [
            "{'is_meaningful': True, 'enhanced_text': 'An earthquake with a magnitude of 5.1 occurred 8 km southwest of Baramula in Jammu and Kashmir, India. The quake resulted in one fatality, three injuries, and damage to dozens of homes in the Bandipore-Baramula-Kupwara area. The earthquake had a depth of 14.1 km and was classified with an intensity of VII.', 'question': 'What was the magnitude and intensity of the earthquake that struck near Baramula, India, and what were the consequences in terms of casualties and damage?', 'reasoning': 'The content provides specific and valuable information about the earthquake, including its magnitude, location, depth, intensity, and the impact on the local population and infrastructure. It is more than just links or navigation elements and offers meaningful context and details.'}\n",
            "\n",
            "✓ Chunk 183 processed and kept\n",
            "Question: What was the magnitude and intensity of the earthquake that struck near Baramula, India, and what were the consequences in terms of casualties and damage?\n"
          ]
        },
        {
          "output_type": "stream",
          "name": "stderr",
          "text": [
            "\r 69%|██████▉   | 184/265 [07:31<06:40,  4.95s/it]"
          ]
        },
        {
          "output_type": "stream",
          "name": "stdout",
          "text": [
            "{'is_meaningful': False, 'enhanced_text': None, 'question': None, 'reasoning': 'The content primarily consists of links, navigation elements, and lacks meaningful information about the 2024 Cape Mendocino earthquake. It does not provide any context, details, or specific information relevant to the earthquake itself, and thus does not meet the criteria for preservation.'}\n",
            "\n",
            "✗ Chunk 184 discarded - not meaningful\n",
            "20[[264]](https://en.wikipedia.org/wiki/<#cite_note-264>) | ![](https://upload.wikimedia.org/wikipedia/en/thumb/4/41/Flag_of_India.svg/23px-Flag_of_India.svg.png) [India](https://en.wikipedia.org/wiki/</wiki/India> \"India\"), [Jammu and Kashmir](https://en.wikipedia.org/wiki/</wiki/Jammu_and_Kashmir_\\(union_territory\\)> \"Jammu and Kashmir \\(union territory\\)\"), 5 km (3.1 mi) west-southwest of [Bāramūla](https://en.wikipedia.org/wiki/</wiki/Baramulla> \"Baramulla\") | 4.5  | 13.7  | VII\n"
          ]
        },
        {
          "output_type": "stream",
          "name": "stderr",
          "text": [
            "\r 70%|██████▉   | 185/265 [07:33<05:21,  4.02s/it]"
          ]
        },
        {
          "output_type": "stream",
          "name": "stdout",
          "text": [
            "{'is_meaningful': True, 'enhanced_text': 'A 4.8 magnitude earthquake occurred 7 km (4.3 mi) east-northeast of Denman, New South Wales, Australia. The earthquake resulted in several people being injured and at least 11 buildings being damaged. Additionally, power outages were reported in the Maitland-Muswellbrook area.', 'question': 'What was the magnitude of the earthquake that occurred near Denman, New South Wales, and what were some of its impacts?', 'reasoning': 'The content provides specific information about an earthquake event, including its magnitude, location, and the resulting damage and injuries. This information is valuable for understanding the impact of the earthquake and is not just links or navigation elements.'}\n",
            "\n",
            "✓ Chunk 185 processed and kept\n",
            "Question: What was the magnitude of the earthquake that occurred near Denman, New South Wales, and what were some of its impacts?\n"
          ]
        },
        {
          "output_type": "stream",
          "name": "stderr",
          "text": [
            "\r 70%|███████   | 186/265 [07:36<04:46,  3.63s/it]"
          ]
        },
        {
          "output_type": "stream",
          "name": "stdout",
          "text": [
            "{'is_meaningful': True, 'enhanced_text': 'An earthquake with a magnitude of 4.5 occurred 5 km (3.1 mi) north of San Miguel del Valle in Oaxaca, Mexico. The earthquake resulted in one person being injured and some buildings were damaged in the Oaxaca area.', 'question': 'What was the magnitude of the earthquake that occurred near San Miguel del Valle in Oaxaca, Mexico, and what were the consequences?', 'reasoning': 'The content provides specific information about an earthquake event, including its magnitude, location, and the impact on people and buildings. This information is valuable for understanding the effects of the earthquake.'}\n",
            "\n",
            "✓ Chunk 186 processed and kept\n",
            "Question: What was the magnitude of the earthquake that occurred near San Miguel del Valle in Oaxaca, Mexico, and what were the consequences?\n"
          ]
        },
        {
          "output_type": "stream",
          "name": "stderr",
          "text": [
            "\r 71%|███████   | 187/265 [07:39<04:15,  3.28s/it]"
          ]
        },
        {
          "output_type": "stream",
          "name": "stdout",
          "text": [
            "{'is_meaningful': False, 'enhanced_text': None, 'question': None, 'reasoning': 'The content primarily consists of links, references, and navigation elements without providing substantial information about the 2024 Cape Mendocino earthquake. It lacks context, narrative, or specific details that would contribute to a meaningful understanding of the event. Therefore, it is marked for discarding.'}\n",
            "\n",
            "✗ Chunk 187 discarded - not meaningful\n",
            "25[[270]](https://en.wikipedia.org/wiki/<#cite_note-270>) | ![](https://upload.wikimedia.org/wikipedia/commons/thumb/9/9a/Flag_of_Tonga.svg/23px-Flag_of_Tonga.svg.png) [Tonga](https://en.wikipedia.org/wiki/</wiki/Tonga> \"Tonga\"), [Haʻapai](https://en.wikipedia.org/wiki/</wiki/Ha%CA%BBapai> \"Haʻapai\") offshore, 75 km (47 mi) west of [Pangai](https://en.wikipedia.org/wiki/</wiki/Pangai> \"Pangai\") | 6.9  | 96.0  | VI  | Communications disrupted in Haʻapai and [Vavaʻu](https://en.wikipedia.org/wiki/</wiki/Vava%CA%BBu> \"Vavaʻu\") due to damage to the [Tonga Cable System](https://en.wikipedia.org/wiki/</wiki/Tonga_Cable_System> \"Tonga Cable System\").[[271]](https://en.wikipedia.org/wiki/<#cite_note-271>) | -  | -\n"
          ]
        },
        {
          "output_type": "stream",
          "name": "stderr",
          "text": [
            "\r 71%|███████   | 188/265 [07:40<03:38,  2.83s/it]"
          ]
        },
        {
          "output_type": "stream",
          "name": "stdout",
          "text": [
            "{'is_meaningful': False, 'enhanced_text': None, 'question': None, 'reasoning': 'The text primarily consists of links, navigation elements, and non-informative content. It does not provide substantial information about the 2024 Cape Mendocino earthquake or any detailed context that would be valuable for understanding the event. Therefore, it is marked for discarding.'}\n",
            "\n",
            "✗ Chunk 188 discarded - not meaningful\n",
            "25[[272]](https://en.wikipedia.org/wiki/<#cite_note-272>) | ![](https://upload.wikimedia.org/wikipedia/commons/thumb/9/9a/Flag_of_Tonga.svg/23px-Flag_of_Tonga.svg.png) [Tonga](https://en.wikipedia.org/wiki/</wiki/Tonga> \"Tonga\"), [Haʻapai](https://en.wikipedia.org/wiki/</wiki/Ha%CA%BBapai> \"Haʻapai\") offshore, 65 km (40 mi) west of [Pangai](https://en.wikipedia.org/wiki/</wiki/Pangai> \"Pangai\") | 6.0  | 99.3  | IV  | Aftershock of the 6.9 earthquake one minute prior.  | -  | -\n"
          ]
        },
        {
          "output_type": "stream",
          "name": "stderr",
          "text": [
            "\r 71%|███████▏  | 189/265 [07:43<03:25,  2.70s/it]"
          ]
        },
        {
          "output_type": "stream",
          "name": "stdout",
          "text": [
            "{'is_meaningful': True, 'enhanced_text': 'An earthquake with a magnitude of 5.4 occurred offshore, 89 km (55 mi) south of Bambanglipuro in the Special Region of Yogyakarta, Indonesia. The quake resulted in two people being injured in Pacitan and another in Kulon Progo. Additionally, one home was destroyed and 43 others were damaged in Gunung Kidul.', 'question': 'How many homes were damaged in Gunung Kidul due to the earthquake?', 'reasoning': \"The content provides specific information about the location, magnitude, and impact of an earthquake, including injuries and property damage. This makes it valuable for understanding the event's consequences, thus warranting preservation and enhancement.\"}\n",
            "\n",
            "✓ Chunk 189 processed and kept\n",
            "Question: How many homes were damaged in Gunung Kidul due to the earthquake?\n"
          ]
        },
        {
          "output_type": "stream",
          "name": "stderr",
          "text": [
            "\r 72%|███████▏  | 190/265 [07:46<03:38,  2.91s/it]"
          ]
        },
        {
          "output_type": "stream",
          "name": "stdout",
          "text": [
            "{'is_meaningful': True, 'enhanced_text': 'One home was destroyed and 43 others were damaged in Gunung Kidul Regency. In Bantul Regency, nine homes and a school were damaged. Three homes were damaged in Kulon Progo, and a roof collapsed at a market in Sleman Regency. Additionally, one home was destroyed in Karanganyar.', 'question': 'How many homes were damaged in Gunung Kidul Regency during the 2024 Cape Mendocino earthquake?', 'reasoning': 'The content provides specific details about the damage caused by the earthquake in various regions, including the number of homes and other structures affected. This information is valuable for understanding the impact of the earthquake and is not merely links or navigation elements.'}\n",
            "\n",
            "✓ Chunk 190 processed and kept\n",
            "Question: How many homes were damaged in Gunung Kidul Regency during the 2024 Cape Mendocino earthquake?\n"
          ]
        },
        {
          "output_type": "stream",
          "name": "stderr",
          "text": [
            "\r 72%|███████▏  | 191/265 [07:50<03:52,  3.14s/it]"
          ]
        },
        {
          "output_type": "stream",
          "name": "stdout",
          "text": [
            "{'is_meaningful': True, 'enhanced_text': 'An earthquake with a magnitude of 6.1 occurred offshore, 56 km (35 mi) south-southwest of La Libertad, El Salvador. The seismic event resulted in fifty people being stung by bees in Juayúa after a beehive fell due to the shaking.', 'question': 'What unusual incident occurred in Juayúa as a result of the earthquake near La Libertad, El Salvador?', 'reasoning': 'The content provides specific details about the location, magnitude, and an unusual consequence of the earthquake, making it informative and relevant to the topic. It includes important facts and context, such as the location and magnitude of the earthquake and the resulting bee stings.'}\n",
            "\n",
            "✓ Chunk 191 processed and kept\n",
            "Question: What unusual incident occurred in Juayúa as a result of the earthquake near La Libertad, El Salvador?\n"
          ]
        },
        {
          "output_type": "stream",
          "name": "stderr",
          "text": [
            "\r 72%|███████▏  | 192/265 [07:53<03:42,  3.04s/it]"
          ]
        },
        {
          "output_type": "stream",
          "name": "stdout",
          "text": [
            "{'is_meaningful': True, 'enhanced_text': 'An aftershock with a magnitude of 6.0 occurred offshore in Kamchatka Krai, Russia, 117 kilometers (73 miles) east of Petropavlovsk-Kamchatsky. This event followed a larger earthquake of magnitude 7.0 that took place on August 17.', 'question': 'What was the magnitude of the aftershock that occurred near Petropavlovsk-Kamchatsky following the August 17 earthquake?', 'reasoning': 'The content provides specific information about an aftershock related to a previous earthquake, including the location, magnitude, and relation to a prior seismic event. This is valuable and relevant information, making the content meaningful.'}\n",
            "\n",
            "✓ Chunk 192 processed and kept\n",
            "Question: What was the magnitude of the aftershock that occurred near Petropavlovsk-Kamchatsky following the August 17 earthquake?\n"
          ]
        },
        {
          "output_type": "stream",
          "name": "stderr",
          "text": [
            "\r 73%|███████▎  | 193/265 [07:55<03:31,  2.94s/it]"
          ]
        },
        {
          "output_type": "stream",
          "name": "stdout",
          "text": [
            "{'is_meaningful': True, 'enhanced_text': 'On September 31, an earthquake with a magnitude of 4.2 occurred 10 km (6.2 mi) east of Pomabamba in the Department of Ayacucho, Peru. The earthquake resulted in the destruction of at least six homes and damage to 261 buildings in the María Parado de Bellido District.', 'question': 'How many buildings were damaged in the María Parado de Bellido District due to the earthquake on September 31?', 'reasoning': 'The content provides specific details about an earthquake event, including the date, location, magnitude, and the impact on buildings. This information is valuable for understanding the effects of the earthquake and is not just links or navigation elements.'}\n",
            "\n",
            "✓ Chunk 193 processed and kept\n",
            "Question: How many buildings were damaged in the María Parado de Bellido District due to the earthquake on September 31?\n"
          ]
        },
        {
          "output_type": "stream",
          "name": "stderr",
          "text": [
            "\r 73%|███████▎  | 194/265 [08:02<04:56,  4.17s/it]"
          ]
        },
        {
          "output_type": "stream",
          "name": "stdout",
          "text": [
            "{'is_meaningful': False, 'enhanced_text': None, 'question': None, 'reasoning': 'The text primarily consists of a list of earthquake statistics for September 2024, including magnitudes and fatalities in different countries. It lacks specific information about the 2024 Cape Mendocino earthquake, focusing instead on general earthquake data and statistics. Additionally, it includes Wikipedia-specific formatting and links, which do not provide meaningful context or details about the specific event in question.'}\n",
            "\n",
            "✗ Chunk 194 discarded - not meaningful\n",
            "### September\n",
            "[[edit](https://en.wikipedia.org/wiki/</w/index.php?title=List_of_earthquakes_in_2024&action=edit&section=13> \"Edit section: September\")]\n",
            "SeptemberStrongest magnitude| 6.5 [Mw](https://en.wikipedia.org/wiki/</wiki/Seismic_magnitude_scales#Mw> \"Seismic magnitude scales\") ![](https://upload.wikimedia.org/wikipedia/commons/thumb/d/d9/Flag_of_Canada_%28Pantone%29.svg/23px-Flag_of_Canada_%28Pantone%29.svg.png) [Canada](https://en.wikipedia.org/wiki/</wiki/Canada> \"Canada\")  \n",
            "---|---  \n",
            "Deadliest| 5.0 [Mw](https://en.wikipedia.org/wiki/</wiki/Seismic_magnitude_scales#Mw> \"Seismic magnitude scales\") ![](https://upload.wikimedia.org/wikipedia/commons/thumb/9/9f/Flag_of_Indonesia.svg/23px-Flag_of_Indonesia.svg.png) [Indonesia](https://en.wikipedia.org/wiki/</wiki/Indonesia> \"Indonesia\")2 deaths  \n",
            "Total fatalities| 3  \n",
            "Number by magnitude  \n",
            "9.0+| 0  \n",
            "8.0–8.9| 0  \n",
            "7.0–7.9| 0  \n",
            "6.0–6.9| 8  \n",
            "5.0–5.9| 117  \n",
            "4.0–4.9| 916\n"
          ]
        },
        {
          "output_type": "stream",
          "name": "stderr",
          "text": [
            "\r 74%|███████▎  | 195/265 [08:04<04:04,  3.49s/it]"
          ]
        },
        {
          "output_type": "stream",
          "name": "stdout",
          "text": [
            "{'is_meaningful': True, 'enhanced_text': 'The 2024 Cape Mendocino earthquake resulted in a total of 3 fatalities. The earthquake activity included 8 events with magnitudes between 6.0 and 6.9, 117 events between 5.0 and 5.9, and 916 events between 4.0 and 4.9. One notable earthquake occurred in Papua New Guinea, specifically 56 km south of Panguna in the Autonomous Region of Bougainville. This earthquake had a magnitude of 6.4, occurred at a depth of 39.0 km, and registered a VI on the Modified Mercalli Intensity scale. There were no reported casualties or injuries for this specific event.', 'question': 'What was the magnitude and depth of the earthquake that occurred near Panguna in Papua New Guinea during the 2024 Cape Mendocino earthquake series?', 'reasoning': 'The content provides specific details about the number of earthquakes by magnitude, as well as a detailed account of a particular earthquake event in Papua New Guinea, including its magnitude, depth, and location. This information is valuable for understanding the scope and impact of the 2024 Cape Mendocino earthquake.'}\n",
            "\n",
            "✓ Chunk 195 processed and kept\n",
            "Question: What was the magnitude and depth of the earthquake that occurred near Panguna in Papua New Guinea during the 2024 Cape Mendocino earthquake series?\n"
          ]
        },
        {
          "output_type": "stream",
          "name": "stderr",
          "text": [
            "\r 74%|███████▍  | 196/265 [08:09<04:20,  3.77s/it]"
          ]
        },
        {
          "output_type": "stream",
          "name": "stdout",
          "text": [
            "{'is_meaningful': False, 'enhanced_text': None, 'question': None, 'reasoning': 'The text primarily consists of links, references, and navigation elements, with minimal context or details about the 2024 Cape Mendocino earthquake. It lacks substantial information and is not relevant to the topic at hand.'}\n",
            "\n",
            "✗ Chunk 196 discarded - not meaningful\n",
            "4[[287]](https://en.wikipedia.org/wiki/<#cite_note-287>) | ![](https://upload.wikimedia.org/wikipedia/en/thumb/9/9a/Flag_of_Spain.svg/23px-Flag_of_Spain.svg.png) [Spain](https://en.wikipedia.org/wiki/</wiki/Spain> \"Spain\"), [Valencia](https://en.wikipedia.org/wiki/</wiki/Valencian_Community> \"Valencian Community\"), 1 km (0.62 mi) south-southeast of [Alfafara](https://en.wikipedia.org/wiki/</wiki/Alfafara> \"Alfafara\") | 2.9  | 5.0  | III  | One home destroyed in the [Ontinyent](https://en.wikipedia.org/wiki/</wiki/Ontinyent> \"Ontinyent\") area.[[288]](https://en.wikipedia.org/wiki/<#cite_note-288>) | -  | -\n"
          ]
        },
        {
          "output_type": "stream",
          "name": "stderr",
          "text": [
            "\r 74%|███████▍  | 197/265 [08:10<03:26,  3.04s/it]"
          ]
        },
        {
          "output_type": "stream",
          "name": "stdout",
          "text": [
            "{'is_meaningful': False, 'enhanced_text': None, 'question': None, 'reasoning': 'The text primarily consists of links, navigation elements, and a table-like structure without providing any meaningful context or details about the 2024 Cape Mendocino earthquake. It lacks narrative content or detailed information that could be enhanced or used to formulate a specific question.'}\n",
            "\n",
            "✗ Chunk 197 discarded - not meaningful\n",
            "5[[289]](https://en.wikipedia.org/wiki/<#cite_note-289>) | ![](https://upload.wikimedia.org/wikipedia/commons/thumb/e/e3/Flag_of_Papua_New_Guinea.svg/20px-Flag_of_Papua_New_Guinea.svg.png) [Papua New Guinea](https://en.wikipedia.org/wiki/</wiki/Papua_New_Guinea> \"Papua New Guinea\"), [East Sepik](https://en.wikipedia.org/wiki/</wiki/East_Sepik_Province> \"East Sepik Province\") offshore, 59 km (37 mi) north-northeast of [Angoram](https://en.wikipedia.org/wiki/</wiki/Angoram> \"Angoram\") | 6.2  | 7.0  | VI  | -  | -  | -\n"
          ]
        },
        {
          "output_type": "stream",
          "name": "stderr",
          "text": [
            "\r 75%|███████▍  | 198/265 [08:12<02:54,  2.61s/it]"
          ]
        },
        {
          "output_type": "stream",
          "name": "stdout",
          "text": [
            "{'is_meaningful': True, 'enhanced_text': 'An earthquake with a magnitude of 5.0 occurred offshore of West Java, Indonesia, approximately 126 kilometers (78 miles) south-southwest of Banjar. The earthquake resulted in the destruction of one home in Sukabumi Regency.', 'question': 'What was the magnitude of the earthquake that occurred offshore of West Java, Indonesia, and what was one of its impacts?', 'reasoning': 'The content provides specific information about an earthquake event, including its magnitude, location, and impact. It is more than just links or navigation elements and offers meaningful context and details.'}\n",
            "\n",
            "✓ Chunk 198 processed and kept\n",
            "Question: What was the magnitude of the earthquake that occurred offshore of West Java, Indonesia, and what was one of its impacts?\n"
          ]
        },
        {
          "output_type": "stream",
          "name": "stderr",
          "text": [
            "\r 75%|███████▌  | 199/265 [08:14<02:44,  2.50s/it]"
          ]
        },
        {
          "output_type": "stream",
          "name": "stdout",
          "text": [
            "{'is_meaningful': True, 'enhanced_text': \"An earthquake with a magnitude of 4.4 struck 7 km (4.3 mi) north-northeast of Denman, New South Wales, Australia. The event resulted in one person being injured, damage to 100 buildings, and power outages in the Muswellbrook area. The earthquake's intensity was measured at VI on the Mercalli scale.\", 'question': 'What was the magnitude of the earthquake that occurred near Denman, New South Wales, and what were some of its impacts?', 'reasoning': 'The content provides specific information about an earthquake event, including its magnitude, location, and impacts such as injuries, building damage, and power outages. This information is valuable for understanding the effects of the earthquake, making it meaningful content.'}\n",
            "\n",
            "✓ Chunk 199 processed and kept\n",
            "Question: What was the magnitude of the earthquake that occurred near Denman, New South Wales, and what were some of its impacts?\n"
          ]
        },
        {
          "output_type": "stream",
          "name": "stderr",
          "text": [
            "\r 75%|███████▌  | 200/265 [08:17<02:45,  2.54s/it]"
          ]
        },
        {
          "output_type": "stream",
          "name": "stdout",
          "text": [
            "{'is_meaningful': True, 'enhanced_text': 'A magnitude 4.9 earthquake occurred 10 km (6.2 mi) northeast of Ubud, Bali, Indonesia. The earthquake resulted in one fatality and three injuries due to a landslide in Kintamani, Bangli. Additionally, at least ten buildings were damaged in the Badung-Denpasar-Gianyar area.', 'question': 'What were the consequences of the earthquake that occurred northeast of Ubud, Bali?', 'reasoning': \"The content provides specific information about the location, magnitude, and impact of an earthquake near Ubud, Bali, including casualties and property damage. This information is valuable and relevant to understanding the event's significance.\"}\n",
            "\n",
            "✓ Chunk 200 processed and kept\n",
            "Question: What were the consequences of the earthquake that occurred northeast of Ubud, Bali?\n"
          ]
        },
        {
          "output_type": "stream",
          "name": "stderr",
          "text": [
            "\r 76%|███████▌  | 201/265 [08:19<02:49,  2.64s/it]"
          ]
        },
        {
          "output_type": "stream",
          "name": "stdout",
          "text": [
            "{'is_meaningful': False, 'enhanced_text': None, 'question': None, 'reasoning': 'The content primarily consists of links and navigation elements related to locations and does not provide any detailed information about the 2024 Cape Mendocino earthquake. It lacks context, narrative, or specific details that would make it informative or useful for understanding the event.'}\n",
            "\n",
            "✗ Chunk 201 discarded - not meaningful\n",
            "11[[298]](https://en.wikipedia.org/wiki/<#cite_note-298>) | ![](https://upload.wikimedia.org/wikipedia/commons/thumb/e/e3/Flag_of_Papua_New_Guinea.svg/20px-Flag_of_Papua_New_Guinea.svg.png) [Papua New Guinea](https://en.wikipedia.org/wiki/</wiki/Papua_New_Guinea> \"Papua New Guinea\"), [Manus](https://en.wikipedia.org/wiki/</wiki/Manus_Province> \"Manus Province\") offshore, 168 km (104 mi) southwest of [Lorengau](https://en.wikipedia.org/wiki/</wiki/Lorengau> \"Lorengau\") | 6.3  | 8.0  | IV  | -  | -  | -\n"
          ]
        },
        {
          "output_type": "stream",
          "name": "stderr",
          "text": [
            "\r 76%|███████▌  | 202/265 [08:21<02:27,  2.33s/it]"
          ]
        },
        {
          "output_type": "stream",
          "name": "stdout",
          "text": [
            "{'is_meaningful': True, 'enhanced_text': 'An earthquake with a magnitude of 5.0 occurred 44 km (27 mi) south-southeast of Pelabuhanratu, West Java, Indonesia. The event resulted in two buildings collapsing in Garut, while three other buildings were damaged in Bandung and West Bandung Regency.', 'question': 'What was the magnitude of the earthquake that caused building collapses in Garut, Indonesia?', 'reasoning': \"The content provides specific information about an earthquake, including its magnitude, location, and the impact on buildings in specific areas. This information is valuable for understanding the event's severity and effects, thus it is preserved and enhanced for readability.\"}\n",
            "\n",
            "✓ Chunk 202 processed and kept\n",
            "Question: What was the magnitude of the earthquake that caused building collapses in Garut, Indonesia?\n"
          ]
        },
        {
          "output_type": "stream",
          "name": "stderr",
          "text": [
            "\r 77%|███████▋  | 203/265 [08:24<02:42,  2.61s/it]"
          ]
        },
        {
          "output_type": "stream",
          "name": "stdout",
          "text": [
            "{'is_meaningful': False, 'enhanced_text': None, 'question': None, 'reasoning': 'The content primarily consists of navigation elements, links, and reference markers, with minimal context or details about the 2024 Cape Mendocino earthquake. It lacks substantive information or narrative about the event itself, making it unsuitable for preservation or enhancement.'}\n",
            "\n",
            "✗ Chunk 203 discarded - not meaningful\n",
            "15[[302]](https://en.wikipedia.org/wiki/<#cite_note-302>) | ![](https://upload.wikimedia.org/wikipedia/commons/thumb/d/d9/Flag_of_Canada_%28Pantone%29.svg/23px-Flag_of_Canada_%28Pantone%29.svg.png) [Canada](https://en.wikipedia.org/wiki/</wiki/Canada> \"Canada\"), [British Columbia](https://en.wikipedia.org/wiki/</wiki/British_Columbia> \"British Columbia\") offshore, 271 km (168 mi) west-northwest of [Port McNeill](https://en.wikipedia.org/wiki/</wiki/Port_McNeill> \"Port McNeill\") | 6.5  | 3.8  | V  | -  | -  | -   \n",
            "16[[303]](https://en.wikipedia.org/wiki/<#cite_note-303>) | ![](https://upload.wikimedia.org/wikipedia/commons/thumb/e/e0/Flag_of_the_Northern_Mariana_Islands.svg/23px-Flag_of_the_Northern_Mariana_Islands.svg.png) [Northern Mariana Islands](https://en.wikipedia.org/wiki/</wiki/Northern_Mariana_Islands> \"Northern Mariana Islands\") offshore, 266 km (165 mi) northeast of [Saipan](https://en.wikipedia.org/wiki/</wiki/Saipan> \"Saipan\") | 6.3  | 31.0  | IV  | -  | -  | -\n"
          ]
        },
        {
          "output_type": "stream",
          "name": "stderr",
          "text": [
            "\r 77%|███████▋  | 204/265 [08:26<02:24,  2.36s/it]"
          ]
        },
        {
          "output_type": "stream",
          "name": "stdout",
          "text": [
            "{'is_meaningful': False, 'enhanced_text': None, 'question': None, 'reasoning': 'The content primarily consists of links, navigation elements, and non-informative content related to an event in Turkey, not the 2024 Cape Mendocino earthquake. It lacks meaningful context or details about the specified earthquake.'}\n",
            "\n",
            "✗ Chunk 204 discarded - not meaningful\n",
            "17[[304]](https://en.wikipedia.org/wiki/<#cite_note-304>) | ![](https://upload.wikimedia.org/wikipedia/commons/thumb/b/b4/Flag_of_Turkey.svg/23px-Flag_of_Turkey.svg.png) [Turkey](https://en.wikipedia.org/wiki/</wiki/Turkey> \"Turkey\"), [Malatya](https://en.wikipedia.org/wiki/</wiki/Malatya_Province> \"Malatya Province\"), 9 km (5.6 mi) northeast of [Sincik](https://en.wikipedia.org/wiki/</wiki/Sincik> \"Sincik\") | 4.1  | 10.0  | IV  | One person injured in [Malatya](https://en.wikipedia.org/wiki/</wiki/Malatya> \"Malatya\").[[305]](https://en.wikipedia.org/wiki/<#cite_note-305>) | -  | 1\n"
          ]
        },
        {
          "output_type": "stream",
          "name": "stderr",
          "text": [
            "\r 77%|███████▋  | 205/265 [08:28<02:09,  2.15s/it]"
          ]
        },
        {
          "output_type": "stream",
          "name": "stdout",
          "text": [
            "{'is_meaningful': False, 'enhanced_text': None, 'question': None, 'reasoning': 'The content primarily consists of links, navigation elements, and reference markers without providing substantial information about the 2024 Cape Mendocino earthquake. It lacks meaningful context or details that would contribute to understanding the event.'}\n",
            "\n",
            "✗ Chunk 205 discarded - not meaningful\n",
            "18[[306]](https://en.wikipedia.org/wiki/<#cite_note-306>) | ![](https://upload.wikimedia.org/wikipedia/commons/thumb/9/9f/Flag_of_Indonesia.svg/23px-Flag_of_Indonesia.svg.png) [Indonesia](https://en.wikipedia.org/wiki/</wiki/Indonesia> \"Indonesia\"), [West Java](https://en.wikipedia.org/wiki/</wiki/West_Java> \"West Java\"), 15 km (9.3 mi) east-southeast of [Banjar](https://en.wikipedia.org/wiki/</wiki/Banjar,_West_Java> \"Banjar, West Java\") | 5.0  | 10.0  | IV[[307]](https://en.wikipedia.org/wiki/<#cite_note-307>) | Further information: [2024 West Java earthquake](https://en.wikipedia.org/wiki/</wiki/2024_West_Java_earthquake> \"2024 West Java earthquake\") | 2  | 159\n"
          ]
        },
        {
          "output_type": "stream",
          "name": "stderr",
          "text": [
            "\r 78%|███████▊  | 206/265 [08:29<01:56,  1.97s/it]"
          ]
        },
        {
          "output_type": "stream",
          "name": "stdout",
          "text": [
            "{'is_meaningful': True, 'enhanced_text': 'An earthquake with a magnitude of 5.2 occurred offshore in North Maluku, Indonesia, 91 km (57 mi) northeast of Tobelo. The event resulted in the collapse of six homes and damage to 50 buildings in the Morotai area.', 'question': 'What was the magnitude of the earthquake that affected the Morotai area in North Maluku, Indonesia?', 'reasoning': 'The content provides specific details about an earthquake event, including its magnitude, location, and the impact on infrastructure. This information is valuable and informative, thus it should be preserved and presented in a clearer format.'}\n",
            "\n",
            "✓ Chunk 206 processed and kept\n",
            "Question: What was the magnitude of the earthquake that affected the Morotai area in North Maluku, Indonesia?\n"
          ]
        },
        {
          "output_type": "stream",
          "name": "stderr",
          "text": [
            "\r 78%|███████▊  | 207/265 [08:32<02:05,  2.16s/it]"
          ]
        },
        {
          "output_type": "stream",
          "name": "stdout",
          "text": [
            "{'is_meaningful': True, 'enhanced_text': 'On [date], an earthquake with a magnitude of 4.6 occurred 15 km northwest of Banjar Wangsian in Bali, Indonesia. The quake resulted in one person being injured and 18,000 livestock killed due to a fire at a chicken coop in Bangli. Additionally, at least five structures collapsed and 62 others were damaged in the Badung-Denpasar-Gianyar region.', 'question': 'What were the consequences of the earthquake that occurred northwest of Banjar Wangsian in Bali?', 'reasoning': \"The content provides specific and detailed information about the impact of an earthquake in Bali, including the magnitude, location, and resulting damages. This information is valuable for understanding the event's significance and impact.\"}\n",
            "\n",
            "✓ Chunk 207 processed and kept\n",
            "Question: What were the consequences of the earthquake that occurred northwest of Banjar Wangsian in Bali?\n"
          ]
        },
        {
          "output_type": "stream",
          "name": "stderr",
          "text": [
            "\r 78%|███████▊  | 208/265 [08:35<02:14,  2.36s/it]"
          ]
        },
        {
          "output_type": "stream",
          "name": "stdout",
          "text": [
            "{'is_meaningful': False, 'enhanced_text': None, 'question': None, 'reasoning': 'The content consists mostly of links and reference markers without any substantial information about the 2024 Cape Mendocino earthquake. It lacks context, details, or any meaningful content that could be enhanced or used to form a question.'}\n",
            "\n",
            "✗ Chunk 208 discarded - not meaningful\n",
            "\"Badung Regency\")-[Denpasar](https://en.wikipedia.org/wiki/</wiki/Denpasar> \"Denpasar\")-[Gianyar](https://en.wikipedia.org/wiki/</wiki/Gianyar_Regency> \"Gianyar Regency\") area.[[313]](https://en.wikipedia.org/wiki/<#cite_note-313>)[[314]](https://en.wikipedia.org/wiki/<#cite_note-314>) | -  | 1\n"
          ]
        },
        {
          "output_type": "stream",
          "name": "stderr",
          "text": [
            "\r 79%|███████▉  | 209/265 [08:36<01:56,  2.08s/it]"
          ]
        },
        {
          "output_type": "stream",
          "name": "stdout",
          "text": [
            "{'is_meaningful': False, 'enhanced_text': None, 'question': None, 'reasoning': 'The text chunk primarily contains links, navigation elements, and non-informative content such as coordinates and flags. It lacks meaningful context or details about the 2024 Cape Mendocino earthquake, and does not provide any substantive information that can be rewritten or used to form a question.'}\n",
            "\n",
            "✗ Chunk 209 discarded - not meaningful\n",
            "21[[315]](https://en.wikipedia.org/wiki/<#cite_note-315>) | ![](https://upload.wikimedia.org/wikipedia/commons/thumb/1/1a/Flag_of_Argentina.svg/23px-Flag_of_Argentina.svg.png) [Argentina](https://en.wikipedia.org/wiki/</wiki/Argentina> \"Argentina\"), [San Juan](https://en.wikipedia.org/wiki/</wiki/San_Juan_Province,_Argentina> \"San Juan Province, Argentina\"), 95 km (59 mi) north-northwest of [Villa General Roca](https://en.wikipedia.org/wiki/</wiki/Villa_General_Roca> \"Villa General Roca\") | 6.0  | 141.0  | IV  | -  | -  | -\n"
          ]
        },
        {
          "output_type": "stream",
          "name": "stderr",
          "text": [
            "\r 79%|███████▉  | 210/265 [08:40<02:27,  2.68s/it]"
          ]
        },
        {
          "output_type": "stream",
          "name": "stdout",
          "text": [
            "{'is_meaningful': True, 'enhanced_text': 'In Iran, specifically in the North Khorasan province, an earthquake occurred 22 km (14 mi) north of Bojnurd. The earthquake had a magnitude of 4.6 and a depth of 10.0 km, with an intensity of IV. Eight people were injured, and several homes were damaged in the Asadli-Mehnan-Qarah Bashlu area.', 'question': 'What was the magnitude and depth of the earthquake that occurred near Bojnurd in North Khorasan province, Iran?', 'reasoning': 'The content provides specific information about an earthquake in Iran, including its location, magnitude, depth, intensity, and the impact on people and property. This information is valuable and informative, making the content worth preserving and enhancing.'}\n",
            "\n",
            "✓ Chunk 210 processed and kept\n",
            "Question: What was the magnitude and depth of the earthquake that occurred near Bojnurd in North Khorasan province, Iran?\n"
          ]
        },
        {
          "output_type": "stream",
          "name": "stderr",
          "text": [
            "\r 80%|███████▉  | 211/265 [08:43<02:30,  2.79s/it]"
          ]
        },
        {
          "output_type": "stream",
          "name": "stdout",
          "text": [
            "{'is_meaningful': False, 'enhanced_text': None, 'question': None, 'reasoning': 'The text primarily consists of links, navigation elements, and reference links, with minimal context or details about the 2024 Cape Mendocino earthquake. It mentions an earthquake in Iran, which is unrelated to the specified event, and lacks substantial information about the 2024 Cape Mendocino earthquake itself.'}\n",
            "\n",
            "✗ Chunk 211 discarded - not meaningful\n",
            "22[[318]](https://en.wikipedia.org/wiki/<#cite_note-318>) | ![](https://upload.wikimedia.org/wikipedia/commons/thumb/c/ca/Flag_of_Iran.svg/23px-Flag_of_Iran.svg.png) [Iran](https://en.wikipedia.org/wiki/</wiki/Iran> \"Iran\"), [North Khorasan](https://en.wikipedia.org/wiki/</wiki/North_Khorasan_province> \"North Khorasan province\"), 34 km (21 mi) north of [Bojnurd](https://en.wikipedia.org/wiki/</wiki/Bojnurd> \"Bojnurd\") | 4.8  | 10.0  | V  | Forty-eight people injured, some homes collapsed and 36 homes damaged in the Bojnurd area.[[319]](https://en.wikipedia.org/wiki/<#cite_note-319>)[[320]](https://en.wikipedia.org/wiki/<#cite_note-320>) | -  | 48\n"
          ]
        },
        {
          "output_type": "stream",
          "name": "stderr",
          "text": [
            "\r 80%|████████  | 212/265 [08:45<02:17,  2.60s/it]"
          ]
        },
        {
          "output_type": "stream",
          "name": "stdout",
          "text": [
            "{'is_meaningful': True, 'enhanced_text': 'In Peru, specifically 16 km south-southwest of Ayna in the Department of Ayacucho, an earthquake with a magnitude of 4.2 and a depth of 34.3 km occurred. The intensity was measured at IV on the Mercalli scale. The earthquake resulted in the collapse of at least five homes and damage to 133 buildings in the Tambo-Uchuraccay area.', 'question': 'What was the magnitude of the earthquake that occurred near Ayna in the Department of Ayacucho, Peru, and how many buildings were damaged?', 'reasoning': 'The content provides specific details about an earthquake event, including its location, magnitude, depth, intensity, and the impact on buildings. This information is valuable and relevant to understanding the effects of the earthquake, making it meaningful content.'}\n",
            "\n",
            "✓ Chunk 212 processed and kept\n",
            "Question: What was the magnitude of the earthquake that occurred near Ayna in the Department of Ayacucho, Peru, and how many buildings were damaged?\n"
          ]
        },
        {
          "output_type": "stream",
          "name": "stderr",
          "text": [
            "\r 80%|████████  | 213/265 [08:50<02:50,  3.28s/it]"
          ]
        },
        {
          "output_type": "stream",
          "name": "stdout",
          "text": [
            "{'is_meaningful': True, 'enhanced_text': 'An earthquake with a magnitude of 6.0 occurred offshore, 67 km (42 mi) south-southwest of Gorontalo, Indonesia. The quake resulted in damage to at least two mosques and two schools in the Banggai, Boalemo, and Gorontalo Regency areas.', 'question': 'What was the magnitude of the earthquake that affected the Gorontalo area in Indonesia, and what types of buildings were reported damaged?', 'reasoning': \"The content provides specific and meaningful information about the earthquake's location, magnitude, and the impact on infrastructure, which is valuable for understanding the event's significance.\"}\n",
            "\n",
            "✓ Chunk 213 processed and kept\n",
            "Question: What was the magnitude of the earthquake that affected the Gorontalo area in Indonesia, and what types of buildings were reported damaged?\n"
          ]
        },
        {
          "output_type": "stream",
          "name": "stderr",
          "text": [
            "\r 81%|████████  | 214/265 [08:53<02:38,  3.10s/it]"
          ]
        },
        {
          "output_type": "stream",
          "name": "stdout",
          "text": [
            "{'is_meaningful': False, 'enhanced_text': None, 'question': None, 'reasoning': 'The text chunk primarily consists of links, navigation elements, and non-informative content. It does not provide any meaningful information about the 2024 Cape Mendocino earthquake or any other specific event. Therefore, it is marked for discarding.'}\n",
            "\n",
            "✗ Chunk 214 discarded - not meaningful\n",
            "26[[325]](https://en.wikipedia.org/wiki/<#cite_note-325>) | [![Mauritius](https://upload.wikimedia.org/wikipedia/commons/thumb/7/77/Flag_of_Mauritius.svg/23px-Flag_of_Mauritius.svg.png)](https://en.wikipedia.org/wiki/</wiki/Mauritius> \"Mauritius\")[![Réunion](https://upload.wikimedia.org/wikipedia/en/thumb/c/c3/Flag_of_France.svg/23px-Flag_of_France.svg.png)](https://en.wikipedia.org/wiki/</wiki/R%C3%A9union> \"Réunion\") [Mauritius](https://en.wikipedia.org/wiki/</wiki/Mauritius> \"Mauritius\")–[Réunion](https://en.wikipedia.org/wiki/</wiki/R%C3%A9union> \"Réunion\") region  | 6.3  | 10.0  | -  | -  | -  | -   \n",
            "### October\n",
            "[[edit](https://en.wikipedia.org/wiki/</w/index.php?title=List_of_earthquakes_in_2024&action=edit&section=14> \"Edit section: October\")]\n"
          ]
        },
        {
          "output_type": "stream",
          "name": "stderr",
          "text": [
            "\r 81%|████████  | 215/265 [08:54<02:09,  2.58s/it]"
          ]
        },
        {
          "output_type": "stream",
          "name": "stdout",
          "text": [
            "{'is_meaningful': False, 'enhanced_text': None, 'question': None, 'reasoning': 'The content primarily consists of a table with earthquake statistics for the month of October, including magnitudes and fatalities, without specific information about the 2024 Cape Mendocino earthquake. It lacks detailed context, narrative, or specific events related to the Cape Mendocino earthquake, and is mostly statistical data and links.'}\n",
            "\n",
            "✗ Chunk 215 discarded - not meaningful\n",
            "### October\n",
            "[[edit](https://en.wikipedia.org/wiki/</w/index.php?title=List_of_earthquakes_in_2024&action=edit&section=14> \"Edit section: October\")]\n",
            "OctoberStrongest magnitude| 6.6 [Mw](https://en.wikipedia.org/wiki/</wiki/Seismic_magnitude_scales#Mw> \"Seismic magnitude scales\") ![](https://upload.wikimedia.org/wikipedia/commons/thumb/9/9a/Flag_of_Tonga.svg/23px-Flag_of_Tonga.svg.png) [Tonga](https://en.wikipedia.org/wiki/</wiki/Tonga> \"Tonga\")  \n",
            "---|---  \n",
            "Total fatalities| 0  \n",
            "Number by magnitude  \n",
            "9.0+| 0  \n",
            "8.0–8.9| 0  \n",
            "7.0–7.9| 0  \n",
            "6.0–6.9| 7  \n",
            "5.0–5.9| 114  \n",
            "4.0–4.9| 984  \n",
            "Date | Country and location | Mw | Depth (km) | [MMI](https://en.wikipedia.org/wiki/</wiki/Modified_Mercalli_intensity_scale> \"Modified Mercalli intensity scale\") | Notes | Casualties  \n",
            "---|---|---|---|---|---|---  \n",
            "Dead | Injured\n"
          ]
        },
        {
          "output_type": "stream",
          "name": "stderr",
          "text": [
            "\r 82%|████████▏ | 216/265 [08:56<01:52,  2.29s/it]"
          ]
        },
        {
          "output_type": "stream",
          "name": "stdout",
          "text": [
            "{'is_meaningful': False, 'enhanced_text': None, 'question': None, 'reasoning': 'The content primarily consists of links, navigation elements, and non-informative content. It does not provide meaningful context or details about the 2024 Cape Mendocino earthquake. The information appears to be a list of unrelated earthquake data points with no direct relevance to the specified event.'}\n",
            "\n",
            "✗ Chunk 216 discarded - not meaningful\n",
            "---|---|---|---|---|---|---  \n",
            "Dead | Injured  \n",
            "1[[326]](https://en.wikipedia.org/wiki/<#cite_note-326>) | ![](https://upload.wikimedia.org/wikipedia/commons/thumb/9/9f/Flag_of_Indonesia.svg/23px-Flag_of_Indonesia.svg.png) [Indonesia](https://en.wikipedia.org/wiki/</wiki/Indonesia> \"Indonesia\"), [Southeast Sulawesi](https://en.wikipedia.org/wiki/</wiki/Southeast_Sulawesi> \"Southeast Sulawesi\") offshore, 260 km (160 mi) east-southeast of [Baubau](https://en.wikipedia.org/wiki/</wiki/Baubau> \"Baubau\") | 6.1  | 576.0  | II  | -  | -  | -   \n",
            "1[[327]](https://en.wikipedia.org/wiki/<#cite_note-327>) | ![](https://upload.wikimedia.org/wikipedia/commons/thumb/9/9a/Flag_of_Tonga.svg/23px-Flag_of_Tonga.svg.png) [Tonga](https://en.wikipedia.org/wiki/</wiki/Tonga> \"Tonga\"), [Vavaʻu](https://en.wikipedia.org/wiki/</wiki/Vava%CA%BBu> \"Vavaʻu\"), 125 km (78 mi) southeast of [Neiafu](https://en.wikipedia.org/wiki/</wiki/Neiafu_\\(Vava%CA%BBu\\)> \"Neiafu \\(Vavaʻu\\)\") | 6.6  | 10.0  | IV  | -  | -  | -\n"
          ]
        },
        {
          "output_type": "stream",
          "name": "stderr",
          "text": [
            "\r 82%|████████▏ | 217/265 [08:57<01:34,  1.96s/it]"
          ]
        },
        {
          "output_type": "stream",
          "name": "stdout",
          "text": [
            "{'is_meaningful': True, 'enhanced_text': 'In Indonesia, specifically in West Java, an earthquake occurred 12 kilometers south of Palabuhanratu. The earthquake had a magnitude of 4.3 and resulted in the collapse of one home in Sukabumi.', 'question': 'What was the magnitude of the earthquake that occurred south of Palabuhanratu in West Java?', 'reasoning': \"The content provides specific information about an earthquake in Indonesia, including its location, magnitude, and the impact on a structure in Sukabumi. This information is valuable for understanding the event's details and impact.\"}\n",
            "\n",
            "✓ Chunk 217 processed and kept\n",
            "Question: What was the magnitude of the earthquake that occurred south of Palabuhanratu in West Java?\n"
          ]
        },
        {
          "output_type": "stream",
          "name": "stderr",
          "text": [
            "\r 82%|████████▏ | 218/265 [08:59<01:28,  1.88s/it]"
          ]
        },
        {
          "output_type": "stream",
          "name": "stdout",
          "text": [
            "{'is_meaningful': True, 'enhanced_text': 'In Ethiopia, specifically in the Oromia region, an earthquake with a magnitude of 5.2 occurred 28 kilometers (17 miles) north of Awash. The earthquake resulted in the collapse of some homes, and additional damage was reported to two other structures, a mosque, and a school. Ground cracks were observed in the Awash Fentale area.', 'question': 'What magnitude was the earthquake that occurred near Awash in the Oromia region of Ethiopia?', 'reasoning': 'The content provides specific information about an earthquake in Ethiopia, including its location, magnitude, and the damage it caused. This information is valuable and relevant, making it meaningful content to retain and enhance.'}\n",
            "\n",
            "✓ Chunk 218 processed and kept\n",
            "Question: What magnitude was the earthquake that occurred near Awash in the Oromia region of Ethiopia?\n"
          ]
        },
        {
          "output_type": "stream",
          "name": "stderr",
          "text": [
            "\r 83%|████████▎ | 219/265 [09:01<01:33,  2.03s/it]"
          ]
        },
        {
          "output_type": "stream",
          "name": "stdout",
          "text": [
            "{'is_meaningful': False, 'enhanced_text': None, 'question': None, 'reasoning': 'The text primarily consists of links, navigation elements, and non-informative content. It lacks context, details, or meaningful information about the 2024 Cape Mendocino earthquake, and therefore does not provide any valuable content to preserve or enhance.'}\n",
            "\n",
            "✗ Chunk 219 discarded - not meaningful\n",
            "12[[333]](https://en.wikipedia.org/wiki/<#cite_note-333>) | ![](https://upload.wikimedia.org/wikipedia/commons/thumb/f/f2/Flag_of_Costa_Rica.svg/23px-Flag_of_Costa_Rica.svg.png) [Costa Rica](https://en.wikipedia.org/wiki/</wiki/Costa_Rica> \"Costa Rica\"), [Guanacaste](https://en.wikipedia.org/wiki/</wiki/Guanacaste_Province> \"Guanacaste Province\") offshore, 40 km (25 mi) west-northwest of [Tamarindo](https://en.wikipedia.org/wiki/</wiki/Tamarindo,_Costa_Rica> \"Tamarindo, Costa Rica\") | 6.2  | 16.0  | V  | -  | -  | -\n"
          ]
        },
        {
          "output_type": "stream",
          "name": "stderr",
          "text": [
            "\r 83%|████████▎ | 220/265 [09:02<01:20,  1.79s/it]"
          ]
        },
        {
          "output_type": "stream",
          "name": "stdout",
          "text": [
            "{'is_meaningful': False, 'enhanced_text': None, 'question': None, 'reasoning': 'The text primarily consists of links, reference numbers, and navigation elements without providing coherent or meaningful information about the 2024 Cape Mendocino earthquake. It lacks context and details specific to the event in question, making it unsuitable for retention.'}\n",
            "\n",
            "✗ Chunk 220 discarded - not meaningful\n",
            "16[[334]](https://en.wikipedia.org/wiki/<#cite_note-334>) | ![](https://upload.wikimedia.org/wikipedia/commons/thumb/b/b4/Flag_of_Turkey.svg/23px-Flag_of_Turkey.svg.png) [Turkey](https://en.wikipedia.org/wiki/</wiki/Turkey> \"Turkey\"), [Malatya](https://en.wikipedia.org/wiki/</wiki/Malatya_Province> \"Malatya Province\"), 19 km (12 mi) west of [Doğanyol](https://en.wikipedia.org/wiki/</wiki/Do%C4%9Fanyol> \"Doğanyol\") | 6.0  | 10.0  | VIII  | Fifty-five people injured,[[335]](https://en.wikipedia.org/wiki/<#cite_note-yenimesaj-335>) one building collapsed and some mud houses damaged in [Malatya](https://en.wikipedia.org/wiki/</wiki/Malatya> \"Malatya\");[[336]](https://en.wikipedia.org/wiki/<#cite_note-336>)[[337]](https://en.wikipedia.org/wiki/<#cite_note-hurriyet-337>) 116 people injured, 22 buildings destroyed and 517 others damaged in [Elazığ](https://en.wikipedia.org/wiki/</wiki/Elaz%C4%B1%C4%9F> \"Elazığ\");[[338]](https://en.wikipedia.org/wiki/<#cite_note-338>) 37 people\n"
          ]
        },
        {
          "output_type": "stream",
          "name": "stderr",
          "text": [
            "\r 83%|████████▎ | 221/265 [09:04<01:14,  1.68s/it]"
          ]
        },
        {
          "output_type": "stream",
          "name": "stdout",
          "text": [
            "{'is_meaningful': True, 'enhanced_text': 'In the aftermath of the earthquake, 22 buildings were destroyed and 517 others were damaged in Elazığ. Additionally, 37 people were injured, one balcony collapsed, and some homes were damaged in Şanliurfa. In Diyarbakır, 19 people were injured, while 18 were injured in Adıyaman, six in Erzincan, and three in Kahramanmaraş.', 'question': 'How many buildings were destroyed in Elazığ due to the earthquake?', 'reasoning': 'The content provides specific details about the impact of the earthquake, including the number of buildings destroyed and the number of people injured in various locations. This information is valuable for understanding the extent of the damage caused by the earthquake.'}\n",
            "\n",
            "✓ Chunk 221 processed and kept\n",
            "Question: How many buildings were destroyed in Elazığ due to the earthquake?\n"
          ]
        },
        {
          "output_type": "stream",
          "name": "stderr",
          "text": [
            "\r 84%|████████▍ | 222/265 [09:06<01:25,  1.98s/it]"
          ]
        },
        {
          "output_type": "stream",
          "name": "stdout",
          "text": [
            "{'is_meaningful': True, 'enhanced_text': 'In Turkey, specifically 23 kilometers south of Hafik in the Sivas Province, an earthquake with a magnitude of 4.5 and a maximum intensity of VI occurred. As a result, five students were hospitalized due to panic attacks, and 12 houses in two villages were damaged in the epicentral area.', 'question': 'What were the consequences of the earthquake near Hafik in Sivas Province?', 'reasoning': 'The content provides specific information about an earthquake in Turkey, including its location, magnitude, intensity, and the impact on people and property. This information is valuable and relevant, making the content meaningful.'}\n",
            "\n",
            "✓ Chunk 222 processed and kept\n",
            "Question: What were the consequences of the earthquake near Hafik in Sivas Province?\n"
          ]
        },
        {
          "output_type": "stream",
          "name": "stderr",
          "text": [
            "\r 84%|████████▍ | 223/265 [09:09<01:27,  2.09s/it]"
          ]
        },
        {
          "output_type": "stream",
          "name": "stdout",
          "text": [
            "{'is_meaningful': True, 'enhanced_text': 'An earthquake with a magnitude of 4.7 occurred offshore in West Java, Indonesia, 53 km (33 mi) south of Kawalu. The earthquake had a depth of 94.0 km and was felt with an intensity of II on the Mercalli scale. As a result, one home was destroyed in Garut.', 'question': 'What was the magnitude and depth of the earthquake that occurred south of Kawalu, Indonesia?', 'reasoning': \"The content provides specific details about an earthquake event, including its magnitude, location, depth, and impact, which are valuable for understanding the event's significance. It is not merely a collection of links or navigation elements.\"}\n",
            "\n",
            "✓ Chunk 223 processed and kept\n",
            "Question: What was the magnitude and depth of the earthquake that occurred south of Kawalu, Indonesia?\n"
          ]
        },
        {
          "output_type": "stream",
          "name": "stderr",
          "text": [
            "\r 85%|████████▍ | 224/265 [09:11<01:24,  2.07s/it]"
          ]
        },
        {
          "output_type": "stream",
          "name": "stdout",
          "text": [
            "{'is_meaningful': False, 'enhanced_text': None, 'question': None, 'reasoning': 'The content primarily consists of links, navigation elements, and non-informative data points without context or narrative. It lacks meaningful information about the 2024 Cape Mendocino earthquake, such as descriptions of the event, its impact, or any significant details. Therefore, it is marked for discarding.'}\n",
            "\n",
            "✗ Chunk 224 discarded - not meaningful\n",
            "23[[344]](https://en.wikipedia.org/wiki/<#cite_note-344>) | ![](https://upload.wikimedia.org/wikipedia/en/thumb/f/f3/Flag_of_Russia.svg/23px-Flag_of_Russia.svg.png) [Russia](https://en.wikipedia.org/wiki/</wiki/Russia> \"Russia\"), [Sakhalin](https://en.wikipedia.org/wiki/</wiki/Sakhalin_Oblast> \"Sakhalin Oblast\") offshore, 146 km (91 mi) south-southwest of [Severo-Kurilsk](https://en.wikipedia.org/wiki/</wiki/Severo-Kurilsk> \"Severo-Kurilsk\") | 6.2  | 40.0  | IV  | -  | -  | -\n"
          ]
        },
        {
          "output_type": "stream",
          "name": "stderr",
          "text": [
            "\r 85%|████████▍ | 225/265 [09:13<01:23,  2.09s/it]"
          ]
        },
        {
          "output_type": "stream",
          "name": "stdout",
          "text": [
            "{'is_meaningful': False, 'enhanced_text': None, 'question': None, 'reasoning': 'The content primarily consists of links, navigation elements, and non-informative data points without context or explanation. It lacks meaningful information about the 2024 Cape Mendocino earthquake and does not provide any narrative or details that can be enhanced for readability or understanding.'}\n",
            "\n",
            "✗ Chunk 225 discarded - not meaningful\n",
            "30[[345]](https://en.wikipedia.org/wiki/<#cite_note-345>) | ![](https://upload.wikimedia.org/wikipedia/commons/thumb/e/e3/Flag_of_Papua_New_Guinea.svg/20px-Flag_of_Papua_New_Guinea.svg.png) [Papua New Guinea](https://en.wikipedia.org/wiki/</wiki/Papua_New_Guinea> \"Papua New Guinea\"), [West New Britain](https://en.wikipedia.org/wiki/</wiki/West_New_Britain_Province> \"West New Britain Province\") offshore, 126 km (78 mi) north of [Kimbe](https://en.wikipedia.org/wiki/</wiki/Kimbe> \"Kimbe\") | 6.0  | 509.0  | III  | -  | -  | -\n"
          ]
        },
        {
          "output_type": "stream",
          "name": "stderr",
          "text": [
            "\r 85%|████████▌ | 226/265 [09:15<01:14,  1.91s/it]"
          ]
        },
        {
          "output_type": "stream",
          "name": "stdout",
          "text": [
            "{'is_meaningful': False, 'enhanced_text': None, 'question': None, 'reasoning': 'The content primarily consists of links, navigation elements, and non-informative data such as flags and placeholders without providing any meaningful context or detailed information about the 2024 Cape Mendocino earthquake. It lacks specific details, dates, or events related to the earthquake, making it unsuitable for preserving as valuable information.'}\n",
            "\n",
            "✗ Chunk 226 discarded - not meaningful\n",
            "30[[346]](https://en.wikipedia.org/wiki/<#cite_note-346>) | ![](https://upload.wikimedia.org/wikipedia/en/thumb/a/a4/Flag_of_the_United_States.svg/23px-Flag_of_the_United_States.svg.png) [United States](https://en.wikipedia.org/wiki/</wiki/United_States> \"United States\"), [Oregon](https://en.wikipedia.org/wiki/</wiki/Oregon> \"Oregon\") offshore, 267 km (166 mi) west of [Bandon](https://en.wikipedia.org/wiki/</wiki/Bandon,_Oregon> \"Bandon, Oregon\") | 6.0  | 10.0  | VI  | -  | -  | -   \n",
            "### November\n",
            "[[edit](https://en.wikipedia.org/wiki/</w/index.php?title=List_of_earthquakes_in_2024&action=edit&section=15> \"Edit section: November\")]\n",
            "NovemberStrongest magnitude| 6.8 [Mw](https://en.wikipedia.org/wiki/</wiki/Seismic_magnitude_scales#Mw> \"Seismic magnitude scales\") ![](https://upload.wikimedia.org/wikipedia/commons/thumb/b/bd/Flag_of_Cuba.svg/23px-Flag_of_Cuba.svg.png) [Cuba](https://en.wikipedia.org/wiki/</wiki/Cuba> \"Cuba\")  \n",
            "---|---  \n",
            "Total fatalities| 0  \n",
            "Number by magnitude\n"
          ]
        },
        {
          "output_type": "stream",
          "name": "stderr",
          "text": [
            "\r 86%|████████▌ | 227/265 [09:17<01:16,  2.00s/it]"
          ]
        },
        {
          "output_type": "stream",
          "name": "stdout",
          "text": [
            "{'is_meaningful': False, 'enhanced_text': None, 'question': None, 'reasoning': 'The content primarily consists of a table structure with headings and placeholders for data, but lacks actual information about the 2024 Cape Mendocino earthquake. It does not provide any specific details, context, or narrative that can be enhanced or used to test understanding. Therefore, it is marked for discarding.'}\n",
            "\n",
            "✗ Chunk 227 discarded - not meaningful\n",
            "---|---  \n",
            "Total fatalities| 0  \n",
            "Number by magnitude  \n",
            "9.0+| 0  \n",
            "8.0–8.9| 0  \n",
            "7.0–7.9| 0  \n",
            "6.0–6.9| 5  \n",
            "5.0–5.9| 108  \n",
            "4.0–4.9| 906  \n",
            "Date | Country and location | Mw | Depth (km) | [MMI](https://en.wikipedia.org/wiki/</wiki/Modified_Mercalli_intensity_scale> \"Modified Mercalli intensity scale\") | Notes | Casualties  \n",
            "---|---|---|---|---|---|---  \n",
            "Dead | Injured\n"
          ]
        },
        {
          "output_type": "stream",
          "name": "stderr",
          "text": [
            "\r 86%|████████▌ | 228/265 [09:18<01:06,  1.81s/it]"
          ]
        },
        {
          "output_type": "stream",
          "name": "stdout",
          "text": [
            "{'is_meaningful': True, 'enhanced_text': \"In the 2024 Cape Mendocino earthquake, two people were reported dead and twenty-four were injured. The earthquake caused severe damage and power outages in the Garmsar area, located in Iran's Semnan province, approximately 9 km (5.6 miles) southeast of Īstgāh-e Rāh Āhan-e Garmsār. The earthquake had a magnitude of 4.6 and was felt with a seismic intensity of V.\", 'question': 'How many people were injured in the Garmsar area during the 2024 Cape Mendocino earthquake?', 'reasoning': 'The content provides specific details about the impact of the earthquake, including casualties, location, and magnitude. It contains valuable information beyond just links or references, making it meaningful for understanding the event.'}\n",
            "\n",
            "✓ Chunk 228 processed and kept\n",
            "Question: How many people were injured in the Garmsar area during the 2024 Cape Mendocino earthquake?\n"
          ]
        },
        {
          "output_type": "stream",
          "name": "stderr",
          "text": [
            "\r 86%|████████▋ | 229/265 [09:21<01:19,  2.20s/it]"
          ]
        },
        {
          "output_type": "stream",
          "name": "stdout",
          "text": [
            "{'is_meaningful': False, 'enhanced_text': None, 'question': None, 'reasoning': 'The content primarily consists of links, navigation elements, and minimal context about an earthquake in Peru, which is not directly related to the 2024 Cape Mendocino earthquake. It lacks comprehensive information or details that would contribute to understanding the specific event in question.'}\n",
            "\n",
            "✗ Chunk 229 discarded - not meaningful\n",
            "4[[351]](https://en.wikipedia.org/wiki/<#cite_note-351>) | ![](https://upload.wikimedia.org/wikipedia/commons/thumb/c/cf/Flag_of_Peru.svg/23px-Flag_of_Peru.svg.png) [Peru](https://en.wikipedia.org/wiki/</wiki/Peru> \"Peru\"), [Huancavelica](https://en.wikipedia.org/wiki/</wiki/Department_of_Huancavelica> \"Department of Huancavelica\"), 18 km (11 mi) north-northwest of [Santa Ana](https://en.wikipedia.org/wiki/</wiki/Santa_Ana_District,_Castrovirreyna> \"Santa Ana District, Castrovirreyna\") | 5.7  | 106.0  | IV  | One person injured in [San Juan de Yanac District](https://en.wikipedia.org/wiki/</wiki/San_Juan_de_Yanac_District> \"San Juan de Yanac District\").[[352]](https://en.wikipedia.org/wiki/<#cite_note-352>) | -  | 1\n"
          ]
        },
        {
          "output_type": "stream",
          "name": "stderr",
          "text": [
            "\r 87%|████████▋ | 230/265 [09:23<01:13,  2.09s/it]"
          ]
        },
        {
          "output_type": "stream",
          "name": "stdout",
          "text": [
            "{'is_meaningful': False, 'enhanced_text': None, 'question': None, 'reasoning': 'The text primarily consists of links, navigation elements, and a brief mention of geographical locations and numerical data without context. It lacks meaningful information about the 2024 Cape Mendocino earthquake, such as specific events, impacts, or detailed descriptions. Therefore, it is marked for discarding.'}\n",
            "\n",
            "✗ Chunk 230 discarded - not meaningful\n",
            "8[[353]](https://en.wikipedia.org/wiki/<#cite_note-353>) | ![](https://upload.wikimedia.org/wikipedia/commons/thumb/7/78/Flag_of_Chile.svg/23px-Flag_of_Chile.svg.png) [Chile](https://en.wikipedia.org/wiki/</wiki/Chile> \"Chile\"), [Aysén](https://en.wikipedia.org/wiki/</wiki/Ays%C3%A9n_Region> \"Aysén Region\") offshore, 239 km (149 mi) west-northwest of [Cochrane](https://en.wikipedia.org/wiki/</wiki/Cochrane,_Chile> \"Cochrane, Chile\") | 6.3  | 10.0  | VIII  | -  | -  | -\n"
          ]
        },
        {
          "output_type": "stream",
          "name": "stderr",
          "text": [
            "\r 87%|████████▋ | 231/265 [09:25<01:07,  1.98s/it]"
          ]
        },
        {
          "output_type": "stream",
          "name": "stdout",
          "text": [
            "{'is_meaningful': True, 'enhanced_text': 'An earthquake with a magnitude of 6.8 occurred offshore, 43 km (27 mi) south of Bartolomé Masó, Cuba, in the Granma Province. The earthquake resulted in ten people being injured and caused significant damage, including the destruction of 156 homes and damage to 8,444 other homes, 474 public buildings, a dock, and the Faro Vargas lighthouse. Power outages were reported in the Granma and Santiago de Cuba areas.', 'question': 'What was the magnitude of the earthquake that struck near Bartolomé Masó, Cuba, and what were some of the consequences?', 'reasoning': 'The content provides specific and detailed information about the 2024 Cape Mendocino earthquake, including its magnitude, location, and the impact it had on the local area. This includes injury reports, damage to infrastructure, and power outages, making it meaningful and informative.'}\n",
            "\n",
            "✓ Chunk 231 processed and kept\n",
            "Question: What was the magnitude of the earthquake that struck near Bartolomé Masó, Cuba, and what were some of the consequences?\n"
          ]
        },
        {
          "output_type": "stream",
          "name": "stderr",
          "text": [
            "\r 88%|████████▊ | 232/265 [09:28<01:20,  2.45s/it]"
          ]
        },
        {
          "output_type": "stream",
          "name": "stdout",
          "text": [
            "{'is_meaningful': True, 'enhanced_text': 'An earthquake with a magnitude of 4.2 occurred 36 kilometers (22 miles) north-northwest of Torbat-e Heydarieh in the Razavi Khorasan province of Iran. The earthquake had a depth of 10.0 kilometers and was felt with an intensity of IV on the Mercalli scale. Eleven people were reported injured in the Kashmar area.', 'question': 'How many people were injured in the Kashmar area due to the earthquake in Razavi Khorasan province?', 'reasoning': 'The content provides specific details about an earthquake, including its magnitude, location, depth, intensity, and the number of injuries. These details are valuable for understanding the impact of the event, making the content meaningful and worth preserving.'}\n",
            "\n",
            "✓ Chunk 232 processed and kept\n",
            "Question: How many people were injured in the Kashmar area due to the earthquake in Razavi Khorasan province?\n"
          ]
        },
        {
          "output_type": "stream",
          "name": "stderr",
          "text": [
            "\r 88%|████████▊ | 233/265 [09:31<01:17,  2.43s/it]"
          ]
        },
        {
          "output_type": "stream",
          "name": "stdout",
          "text": [
            "{'is_meaningful': False, 'enhanced_text': None, 'question': None, 'reasoning': 'The content primarily consists of links, navigation elements, and non-informative content such as icons and placeholders. It lacks meaningful information about the 2024 Cape Mendocino earthquake or any other relevant context or details.'}\n",
            "\n",
            "✗ Chunk 233 discarded - not meaningful\n",
            "15[[360]](https://en.wikipedia.org/wiki/<#cite_note-360>) | ![](https://upload.wikimedia.org/wikipedia/commons/thumb/e/e3/Flag_of_Papua_New_Guinea.svg/20px-Flag_of_Papua_New_Guinea.svg.png) [Papua New Guinea](https://en.wikipedia.org/wiki/</wiki/Papua_New_Guinea> \"Papua New Guinea\"), [East New Britain](https://en.wikipedia.org/wiki/</wiki/East_New_Britain_Province> \"East New Britain Province\"), 123 km (76 mi) east-southeast of [Kokopo](https://en.wikipedia.org/wiki/</wiki/Kokopo> \"Kokopo\") | 6.6  | 56.0  | VI  | -  | -  | -\n"
          ]
        },
        {
          "output_type": "stream",
          "name": "stderr",
          "text": [
            "\r 88%|████████▊ | 234/265 [09:33<01:12,  2.34s/it]"
          ]
        },
        {
          "output_type": "stream",
          "name": "stdout",
          "text": [
            "{'is_meaningful': True, 'enhanced_text': 'On an unspecified date, a 4.5 magnitude earthquake occurred 2 km (1.2 mi) west-northwest of Nurluca in Rize Province, Turkey. The earthquake had a depth of 10.0 km and was classified as VIII on the intensity scale. The impact included the destruction of one warehouse and damage to three homes and a mosque in the Hemşin District.', 'question': 'What were the consequences of the earthquake near Nurluca in Rize Province, Turkey?', 'reasoning': 'The content provides specific information about an earthquake event, including its location, magnitude, depth, intensity, and the damage it caused. This information is valuable for understanding the impact of the earthquake, making it meaningful and worth preserving.'}\n",
            "\n",
            "✓ Chunk 234 processed and kept\n",
            "Question: What were the consequences of the earthquake near Nurluca in Rize Province, Turkey?\n"
          ]
        },
        {
          "output_type": "stream",
          "name": "stderr",
          "text": [
            "\r 89%|████████▊ | 235/265 [09:36<01:14,  2.47s/it]"
          ]
        },
        {
          "output_type": "stream",
          "name": "stdout",
          "text": [
            "{'is_meaningful': False, 'enhanced_text': None, 'question': None, 'reasoning': 'The text primarily consists of links, navigation elements, and a table-like structure with minimal context or narrative. It lacks meaningful information about the 2024 Cape Mendocino earthquake and does not provide any specific details or context that could be useful for understanding the event.'}\n",
            "\n",
            "✗ Chunk 235 discarded - not meaningful\n",
            "17[[363]](https://en.wikipedia.org/wiki/<#cite_note-363>) | ![](https://upload.wikimedia.org/wikipedia/en/thumb/9/9e/Flag_of_Japan.svg/23px-Flag_of_Japan.svg.png) [Japan](https://en.wikipedia.org/wiki/</wiki/Japan> \"Japan\"), [Kagoshima](https://en.wikipedia.org/wiki/</wiki/Kagoshima_Prefecture> \"Kagoshima Prefecture\") offshore, 155 km (96 mi) south-southeast of [Koshima](https://en.wikipedia.org/wiki/</wiki/Koshima> \"Koshima\") | 6.1  | 8.0  | IV  | -  | -  | -\n"
          ]
        },
        {
          "output_type": "stream",
          "name": "stderr",
          "text": [
            "\r 89%|████████▉ | 236/265 [09:37<01:05,  2.26s/it]"
          ]
        },
        {
          "output_type": "stream",
          "name": "stdout",
          "text": [
            "{'is_meaningful': True, 'enhanced_text': 'On November 10, an aftershock with a magnitude of 4.2 occurred 20 km southwest of Pilón, Cuba, in the Granma Province. This aftershock followed a larger 6.8 magnitude event. The tremor resulted in the destruction of several houses and caused damage to many others in the Pilón area.', 'question': 'What was the magnitude of the aftershock that occurred near Pilón, Cuba, and what were its effects on the local area?', 'reasoning': 'The content provides specific information about an aftershock event, including its magnitude, location, and impact on the local area. This information is valuable for understanding the seismic activity and its effects on the region, making it worth preserving and enhancing for clarity.'}\n",
            "\n",
            "✓ Chunk 236 processed and kept\n",
            "Question: What was the magnitude of the aftershock that occurred near Pilón, Cuba, and what were its effects on the local area?\n"
          ]
        },
        {
          "output_type": "stream",
          "name": "stderr",
          "text": [
            "\r 89%|████████▉ | 237/265 [09:41<01:17,  2.76s/it]"
          ]
        },
        {
          "output_type": "stream",
          "name": "stdout",
          "text": [
            "{'is_meaningful': True, 'enhanced_text': 'On the 21st, an earthquake occurred in Myanmar, specifically in the Ayeyarwady Region, 8 kilometers (5.0 miles) south of Kyaiklat. The earthquake had a magnitude of 4.2 and a depth of 15.5 kilometers. It was classified with an intensity of V. The event resulted in one pagoda collapsing and caused damage to several homes and religious buildings in the Kyaiklat area.', 'question': 'What was the magnitude and intensity of the earthquake that occurred near Kyaiklat in Myanmar?', 'reasoning': 'The content provides specific information about an earthquake in Myanmar, including its location, magnitude, depth, intensity, and the resulting damage. This information is valuable and relevant to understanding the impact of the earthquake, thus it was preserved and enhanced for clarity.'}\n",
            "\n",
            "✓ Chunk 237 processed and kept\n",
            "Question: What was the magnitude and intensity of the earthquake that occurred near Kyaiklat in Myanmar?\n"
          ]
        },
        {
          "output_type": "stream",
          "name": "stderr",
          "text": [
            "\r 90%|████████▉ | 238/265 [09:45<01:19,  2.95s/it]"
          ]
        },
        {
          "output_type": "stream",
          "name": "stdout",
          "text": [
            "{'is_meaningful': True, 'enhanced_text': 'An earthquake occurred in Indonesia, specifically in West Java, 26 km east of Sukabumi. The earthquake had a magnitude of 2.9 and a depth of 12.0 km. As a result, one school collapsed and 21 structures were damaged in Cianjur Regency.', 'question': 'What was the magnitude and depth of the earthquake that affected Cianjur Regency in West Java, Indonesia?', 'reasoning': 'The content provides specific information about the location, magnitude, and impact of an earthquake in Indonesia, which is relevant and informative. It includes details such as the magnitude, depth, and the extent of damage, making it valuable for understanding the event.'}\n",
            "\n",
            "✓ Chunk 238 processed and kept\n",
            "Question: What was the magnitude and depth of the earthquake that affected Cianjur Regency in West Java, Indonesia?\n"
          ]
        },
        {
          "output_type": "stream",
          "name": "stderr",
          "text": [
            "\r 90%|█████████ | 239/265 [09:47<01:14,  2.87s/it]"
          ]
        },
        {
          "output_type": "stream",
          "name": "stdout",
          "text": [
            "{'is_meaningful': False, 'enhanced_text': None, 'question': None, 'reasoning': 'The text primarily consists of links, navigation elements, and non-informative content. It lacks meaningful context or details about the 2024 Cape Mendocino earthquake specifically. The information provided is fragmented and does not offer a coherent narrative or significant facts about the event in question.'}\n",
            "\n",
            "✗ Chunk 239 discarded - not meaningful\n",
            "26[[371]](https://en.wikipedia.org/wiki/<#cite_note-371>) | ![](https://upload.wikimedia.org/wikipedia/en/thumb/9/9e/Flag_of_Japan.svg/23px-Flag_of_Japan.svg.png) [Japan](https://en.wikipedia.org/wiki/</wiki/Japan> \"Japan\"), [Ishikawa](https://en.wikipedia.org/wiki/</wiki/Ishikawa_Prefecture> \"Ishikawa Prefecture\") offshore, 38 km (24 mi) west-northwest of [Hakui](https://en.wikipedia.org/wiki/</wiki/Hakui,_Ishikawa> \"Hakui, Ishikawa\") | 6.1  | 8.0  | VI  | One person injured in [Tsubata](https://en.wikipedia.org/wiki/</wiki/Tsubata,_Ishikawa> \"Tsubata, Ishikawa\").[[372]](https://en.wikipedia.org/wiki/<#cite_note-372>) | -  | 1   \n",
            "### December\n",
            "[[edit](https://en.wikipedia.org/wiki/</w/index.php?title=List_of_earthquakes_in_2024&action=edit&section=16> \"Edit section: December\")]\n"
          ]
        },
        {
          "output_type": "stream",
          "name": "stderr",
          "text": [
            "\r 91%|█████████ | 240/265 [09:49<01:03,  2.53s/it]"
          ]
        },
        {
          "output_type": "stream",
          "name": "stdout",
          "text": [
            "{'is_meaningful': False, 'enhanced_text': None, 'question': None, 'reasoning': 'The content provided does not contain specific information about the 2024 Cape Mendocino earthquake. Instead, it lists general earthquake statistics for December, including details about an earthquake in Vanuatu. The text is primarily a collection of data points and links, lacking context or narrative specific to the Cape Mendocino event.'}\n",
            "\n",
            "✗ Chunk 240 discarded - not meaningful\n",
            "### December\n",
            "[[edit](https://en.wikipedia.org/wiki/</w/index.php?title=List_of_earthquakes_in_2024&action=edit&section=16> \"Edit section: December\")]\n",
            "DecemberStrongest magnitude| 7.3 [Mw](https://en.wikipedia.org/wiki/</wiki/Seismic_magnitude_scales#Mw> \"Seismic magnitude scales\") ![](https://upload.wikimedia.org/wikipedia/commons/thumb/b/bc/Flag_of_Vanuatu.svg/23px-Flag_of_Vanuatu.svg.png) [Vanuatu](https://en.wikipedia.org/wiki/</wiki/Vanuatu> \"Vanuatu\")  \n",
            "---|---  \n",
            "Deadliest| 7.3 [Mw](https://en.wikipedia.org/wiki/</wiki/Seismic_magnitude_scales#Mw> \"Seismic magnitude scales\") ![](https://upload.wikimedia.org/wikipedia/commons/thumb/b/bc/Flag_of_Vanuatu.svg/23px-Flag_of_Vanuatu.svg.png) [Vanuatu](https://en.wikipedia.org/wiki/</wiki/Vanuatu> \"Vanuatu\")14 deaths  \n",
            "Total fatalities| 14  \n",
            "Number by magnitude  \n",
            "9.0+| 0  \n",
            "8.0–8.9| 0  \n",
            "7.0–7.9| 2  \n",
            "6.0–6.9| 8  \n",
            "5.0–5.9| 137  \n",
            "4.0–4.9| 635\n"
          ]
        },
        {
          "output_type": "stream",
          "name": "stderr",
          "text": [
            "\r 91%|█████████ | 241/265 [09:51<00:57,  2.39s/it]"
          ]
        },
        {
          "output_type": "stream",
          "name": "stdout",
          "text": [
            "{'is_meaningful': True, 'enhanced_text': 'The 2024 Cape Mendocino earthquake resulted in a total of 14 fatalities. The earthquake events were categorized by magnitude as follows: two earthquakes measured between 7.0 and 7.9, eight earthquakes were between 6.0 and 6.9, 137 earthquakes were between 5.0 and 5.9, and 635 earthquakes were between 4.0 and 4.9.', 'question': 'How many earthquakes during the 2024 Cape Mendocino earthquake were measured between 5.0 and 5.9 in magnitude?', 'reasoning': 'The content provides specific and valuable information about the number of earthquakes by magnitude and the total fatalities resulting from the 2024 Cape Mendocino earthquake. This data is essential for understanding the scale and impact of the event, making it meaningful and worth preserving.'}\n",
            "\n",
            "✓ Chunk 241 processed and kept\n",
            "Question: How many earthquakes during the 2024 Cape Mendocino earthquake were measured between 5.0 and 5.9 in magnitude?\n"
          ]
        },
        {
          "output_type": "stream",
          "name": "stderr",
          "text": [
            "\r 91%|█████████▏| 242/265 [09:54<01:01,  2.67s/it]"
          ]
        },
        {
          "output_type": "stream",
          "name": "stdout",
          "text": [
            "{'is_meaningful': True, 'enhanced_text': 'The 2024 Cape Mendocino earthquake resulted in 4 fatalities. The earthquake occurred 53 km (33 mi) east-northeast of Mulugu, Telangana, India. It had a magnitude of 5.0 and a depth of 10.0 km. The intensity was measured at V on the Mercalli scale. One home and a portico collapsed, and several other structures were damaged in the Bhadradri Kothagudem-Eturnagaram-Hanamkonda area.', 'question': 'What was the magnitude and depth of the 2024 Cape Mendocino earthquake?', 'reasoning': 'The content provides specific and valuable information about the 2024 Cape Mendocino earthquake, including the number of casualties, location, magnitude, depth, and damage caused. It is more than just links or navigation elements, making it meaningful and informative.'}\n",
            "\n",
            "✓ Chunk 242 processed and kept\n",
            "Question: What was the magnitude and depth of the 2024 Cape Mendocino earthquake?\n"
          ]
        },
        {
          "output_type": "stream",
          "name": "stderr",
          "text": [
            "\r 92%|█████████▏| 243/265 [09:58<01:01,  2.81s/it]"
          ]
        },
        {
          "output_type": "stream",
          "name": "stdout",
          "text": [
            "{'is_meaningful': True, 'enhanced_text': 'An earthquake with a magnitude of 5.4 occurred 28 kilometers southeast of Masjed Soleyman in Khuzestan province, Iran. The earthquake resulted in forty-eight people being injured. Additionally, 100 homes were destroyed and 7,000 others were damaged. The earthquake also caused landslides that blocked roads and led to power outages in the Golgir area.', 'question': 'How many homes were destroyed as a result of the earthquake near Masjed Soleyman in Khuzestan province?', 'reasoning': \"The content provides specific information about the earthquake's location, magnitude, and impact, including the number of injuries, homes destroyed, and additional damages. This information is valuable and informative, making it worth preserving and enhancing for readability.\"}\n",
            "\n",
            "✓ Chunk 243 processed and kept\n",
            "Question: How many homes were destroyed as a result of the earthquake near Masjed Soleyman in Khuzestan province?\n"
          ]
        },
        {
          "output_type": "stream",
          "name": "stderr",
          "text": [
            "\r 92%|█████████▏| 244/265 [10:00<00:58,  2.79s/it]"
          ]
        },
        {
          "output_type": "stream",
          "name": "stdout",
          "text": [
            "{'is_meaningful': True, 'enhanced_text': 'On [date], a magnitude 7.0 earthquake occurred offshore, 63 km (39 mi) west of Petrolia, California, in the United States. The earthquake had a depth of 10.0 km and was assigned an intensity of VIII on the Mercalli scale. The tremor caused damage to some homes and shifted others from their foundations in the areas of Ferndale and Fortuna, California.', 'question': 'What was the magnitude and intensity of the earthquake that occurred west of Petrolia, California?', 'reasoning': 'The content provides specific information about the location, magnitude, depth, and effects of the 2024 Cape Mendocino earthquake, making it meaningful. It includes technical details and the impact on nearby areas, which are important for understanding the event.'}\n",
            "\n",
            "✓ Chunk 244 processed and kept\n",
            "Question: What was the magnitude and intensity of the earthquake that occurred west of Petrolia, California?\n"
          ]
        },
        {
          "output_type": "stream",
          "name": "stderr",
          "text": [
            "\r 92%|█████████▏| 245/265 [10:08<01:27,  4.37s/it]"
          ]
        },
        {
          "output_type": "stream",
          "name": "stdout",
          "text": [
            "{'is_meaningful': True, 'enhanced_text': 'In the Ferndale-Fortuna area, one road was damaged, and a gas leak occurred at a school in Rio Dell. Many stores suffered damage from fallen merchandise and goods, and 10,000 customers experienced power outages in Humboldt County.', 'question': 'How many customers were affected by power outages in Humboldt County during the 2024 Cape Mendocino earthquake?', 'reasoning': \"The content provides specific information about the impact of the 2024 Cape Mendocino earthquake, including details about infrastructure damage, a gas leak, and power outages. This information is valuable and relevant to understanding the event's effects.\"}\n",
            "\n",
            "✓ Chunk 245 processed and kept\n",
            "Question: How many customers were affected by power outages in Humboldt County during the 2024 Cape Mendocino earthquake?\n"
          ]
        },
        {
          "output_type": "stream",
          "name": "stderr",
          "text": [
            "\r 93%|█████████▎| 246/265 [10:12<01:18,  4.13s/it]"
          ]
        },
        {
          "output_type": "stream",
          "name": "stdout",
          "text": [
            "{'is_meaningful': True, 'enhanced_text': 'The 2024 Cape Mendocino earthquake resulted in damage from fallen merchandise and goods, and caused power outages affecting 10,000 customers in Humboldt County, California.', 'question': 'How many customers were affected by power outages in Humboldt County due to the 2024 Cape Mendocino earthquake?', 'reasoning': \"The content provides specific information about the impact of the 2024 Cape Mendocino earthquake, including damage details and the number of people affected by power outages. This is valuable information that contributes to understanding the event's consequences.\"}\n",
            "\n",
            "✓ Chunk 246 processed and kept\n",
            "Question: How many customers were affected by power outages in Humboldt County due to the 2024 Cape Mendocino earthquake?\n"
          ]
        },
        {
          "output_type": "stream",
          "name": "stderr",
          "text": [
            "\r 93%|█████████▎| 247/265 [10:14<01:02,  3.47s/it]"
          ]
        },
        {
          "output_type": "stream",
          "name": "stdout",
          "text": [
            "{'is_meaningful': True, 'enhanced_text': 'An earthquake with a magnitude of 5.5 occurred offshore in Central Sulawesi, Indonesia, approximately 234 km (145 miles) west-northwest of Gorontalo. The quake resulted in the destruction of three homes and damage to 20 structures in Buol Regency.', 'question': 'What was the magnitude of the earthquake that affected Buol Regency in Central Sulawesi, Indonesia?', 'reasoning': 'The text contains specific and valuable information about an earthquake event, including its magnitude, location, and impact on structures. This information is relevant and informative, making it worth preserving and enhancing for clarity.'}\n",
            "\n",
            "✓ Chunk 247 processed and kept\n",
            "Question: What was the magnitude of the earthquake that affected Buol Regency in Central Sulawesi, Indonesia?\n"
          ]
        },
        {
          "output_type": "stream",
          "name": "stderr",
          "text": [
            "\r 94%|█████████▎| 248/265 [10:16<00:53,  3.14s/it]"
          ]
        },
        {
          "output_type": "stream",
          "name": "stdout",
          "text": [
            "{'is_meaningful': True, 'enhanced_text': 'In Indonesia, specifically in West Java, 13 kilometers east of Banjaran, an earthquake with a magnitude of 4.9 occurred at a depth of 10.0 kilometers. The earthquake resulted in the destruction of at least 11 homes and two schools, and caused damage to 117 structures in the Garut region. Additionally, a separate earthquake with a magnitude of 6.0 occurred at a depth of 10.0 kilometers in the southern Mid-Atlantic Ridge.', 'question': 'How many homes and schools were destroyed in the Garut region due to the earthquake in West Java?', 'reasoning': 'The content provides specific information about the location, magnitude, and impact of earthquakes in West Java and the southern Mid-Atlantic Ridge. It includes details about the damage caused, making it informative and valuable for understanding the events.'}\n",
            "\n",
            "✓ Chunk 248 processed and kept\n",
            "Question: How many homes and schools were destroyed in the Garut region due to the earthquake in West Java?\n"
          ]
        },
        {
          "output_type": "stream",
          "name": "stderr",
          "text": [
            "\r 94%|█████████▍| 249/265 [10:19<00:46,  2.92s/it]"
          ]
        },
        {
          "output_type": "stream",
          "name": "stdout",
          "text": [
            "{'is_meaningful': False, 'enhanced_text': None, 'question': None, 'reasoning': 'The text primarily consists of links, navigation elements, and non-informative content related to various locations and earthquake data. It lacks specific information about the 2024 Cape Mendocino earthquake, and does not provide meaningful context or details relevant to the topic.'}\n",
            "\n",
            "✗ Chunk 249 discarded - not meaningful\n",
            "8[[396]](https://en.wikipedia.org/wiki/<#cite_note-396>) | ![](https://upload.wikimedia.org/wikipedia/en/thumb/f/f3/Flag_of_Russia.svg/23px-Flag_of_Russia.svg.png) [Russia](https://en.wikipedia.org/wiki/</wiki/Russia> \"Russia\"), [Kuril Islands](https://en.wikipedia.org/wiki/</wiki/Kuril_Islands> \"Kuril Islands\") offshore  | 6.0  | 207.0  | III  | -  | -  | -   \n",
            "8[[397]](https://en.wikipedia.org/wiki/<#cite_note-397>) | ![](https://upload.wikimedia.org/wikipedia/en/thumb/a/a4/Flag_of_the_United_States.svg/23px-Flag_of_the_United_States.svg.png) [United States](https://en.wikipedia.org/wiki/</wiki/United_States> \"United States\"), [Alaska](https://en.wikipedia.org/wiki/</wiki/Alaska> \"Alaska\") offshore, 108 km (67 mi) south-southwest of [Adak](https://en.wikipedia.org/wiki/</wiki/Adak,_Alaska> \"Adak, Alaska\") | 6.3  | 18.0  | III  | An example of a [doublet earthquake](https://en.wikipedia.org/wiki/</wiki/Doublet_earthquake> \"Doublet earthquake\").  | -  | -\n"
          ]
        },
        {
          "output_type": "stream",
          "name": "stderr",
          "text": [
            "\r 94%|█████████▍| 250/265 [10:20<00:38,  2.58s/it]"
          ]
        },
        {
          "output_type": "stream",
          "name": "stdout",
          "text": [
            "{'is_meaningful': False, 'enhanced_text': None, 'question': None, 'reasoning': 'The text chunk primarily consists of links, navigation elements, and a table-like format with minimal context or details about the 2024 Cape Mendocino earthquake. It lacks meaningful information or narrative content that could be enhanced or used to form a question.'}\n",
            "\n",
            "✗ Chunk 250 discarded - not meaningful\n",
            "9[[398]](https://en.wikipedia.org/wiki/<#cite_note-398>) | ![](https://upload.wikimedia.org/wikipedia/en/thumb/a/a4/Flag_of_the_United_States.svg/23px-Flag_of_the_United_States.svg.png) [United States](https://en.wikipedia.org/wiki/</wiki/United_States> \"United States\"), [Alaska](https://en.wikipedia.org/wiki/</wiki/Alaska> \"Alaska\") offshore, 104 km (65 mi) south-southwest of [Adak](https://en.wikipedia.org/wiki/</wiki/Adak,_Alaska> \"Adak, Alaska\") | 6.3  | 19.0  | IV  | -  | -\n"
          ]
        },
        {
          "output_type": "stream",
          "name": "stderr",
          "text": [
            "\r 95%|█████████▍| 251/265 [10:22<00:31,  2.24s/it]"
          ]
        },
        {
          "output_type": "stream",
          "name": "stdout",
          "text": [
            "{'is_meaningful': False, 'enhanced_text': None, 'question': None, 'reasoning': 'The content primarily consists of links, navigation elements, and minimal context about an aftershock event. It lacks detailed information about the 2024 Cape Mendocino earthquake, such as impact, casualties, or response, and therefore does not provide meaningful content for analysis.'}\n",
            "\n",
            "✗ Chunk 251 discarded - not meaningful\n",
            "9[[399]](https://en.wikipedia.org/wiki/<#cite_note-399>) | ![](https://upload.wikimedia.org/wikipedia/en/thumb/a/a4/Flag_of_the_United_States.svg/23px-Flag_of_the_United_States.svg.png) [United States](https://en.wikipedia.org/wiki/</wiki/United_States> \"United States\"), [Alaska](https://en.wikipedia.org/wiki/</wiki/Alaska> \"Alaska\") offshore, 126 km (78 mi) south-southwest of [Adak](https://en.wikipedia.org/wiki/</wiki/Adak,_Alaska> \"Adak, Alaska\") | 6.1  | 10.0  | III  | [Aftershock](https://en.wikipedia.org/wiki/</wiki/Aftershock> \"Aftershock\") of the 6.3 doublet earthquakes on December 8–9.  | -  | -\n"
          ]
        },
        {
          "output_type": "stream",
          "name": "stderr",
          "text": [
            "\r 95%|█████████▌| 252/265 [10:23<00:25,  1.99s/it]"
          ]
        },
        {
          "output_type": "stream",
          "name": "stdout",
          "text": [
            "{'is_meaningful': True, 'enhanced_text': 'In El Salvador, specifically 9 km south of Conchagua in the La Unión Department, an earthquake with a magnitude of 5.6 and a depth of 15.4 km occurred. The earthquake reached a maximum intensity of VII. It resulted in the destruction of ten homes and damage to 180 other structures, including a church and a warehouse. Additionally, landslides were reported in the Conchagua-La Unión area.', 'question': 'What was the maximum intensity of the earthquake that occurred near Conchagua, El Salvador, and what were some of its impacts?', 'reasoning': \"The content provides specific and valuable information about the earthquake's location, magnitude, intensity, and impact, which is essential for understanding the event. It is not merely a collection of links or navigation elements, thus it is meaningful and retained.\"}\n",
            "\n",
            "✓ Chunk 252 processed and kept\n",
            "Question: What was the maximum intensity of the earthquake that occurred near Conchagua, El Salvador, and what were some of its impacts?\n"
          ]
        },
        {
          "output_type": "stream",
          "name": "stderr",
          "text": [
            "\r 95%|█████████▌| 253/265 [10:27<00:28,  2.39s/it]"
          ]
        },
        {
          "output_type": "stream",
          "name": "stdout",
          "text": [
            "{'is_meaningful': True, 'enhanced_text': 'In Italy, specifically in the Campania region, an earthquake occurred 3 kilometers northwest of Roccamonfina. The earthquake had a magnitude of 3.6 and resulted in several homes and buildings being damaged or destroyed in the Roccamonfina area.', 'question': 'What was the magnitude of the earthquake that affected the area northwest of Roccamonfina in Campania, Italy?', 'reasoning': \"The content provides specific information about an earthquake in Italy, including its location, magnitude, and the impact on local infrastructure. This information is valuable and relevant to understanding the event's effects.\"}\n",
            "\n",
            "✓ Chunk 253 processed and kept\n",
            "Question: What was the magnitude of the earthquake that affected the area northwest of Roccamonfina in Campania, Italy?\n"
          ]
        },
        {
          "output_type": "stream",
          "name": "stderr",
          "text": [
            "\r 96%|█████████▌| 254/265 [10:30<00:28,  2.58s/it]"
          ]
        },
        {
          "output_type": "stream",
          "name": "stdout",
          "text": [
            "{'is_meaningful': True, 'enhanced_text': 'On [date unspecified], a 4.7 magnitude earthquake occurred 29 km (18 miles) south of Sari in the Mazandaran province of Iran. The earthquake had a depth of 10.0 km and was classified as intensity V. At least 78 homes were reported damaged in the Mazandaran province.', 'question': 'How many homes were reported damaged in the Mazandaran province due to the earthquake?', 'reasoning': 'The content provides specific information about an earthquake, including its magnitude, location, depth, and the impact on local infrastructure. This information is valuable and relevant to understanding the event, so it was preserved and enhanced for clarity.'}\n",
            "\n",
            "✓ Chunk 254 processed and kept\n",
            "Question: How many homes were reported damaged in the Mazandaran province due to the earthquake?\n"
          ]
        },
        {
          "output_type": "stream",
          "name": "stderr",
          "text": [
            "\r 96%|█████████▌| 255/265 [10:32<00:25,  2.54s/it]"
          ]
        },
        {
          "output_type": "stream",
          "name": "stdout",
          "text": [
            "{'is_meaningful': True, 'enhanced_text': 'A 6.4 magnitude earthquake occurred 56 km (35 mi) east-southeast of Molina, in the Maule Region of Chile. The earthquake resulted in minor damage and power outages in the Los Ríos, Santiago, and Valparaíso areas.', 'question': 'What was the magnitude of the earthquake that occurred near Molina, Chile, and what were its effects?', 'reasoning': 'The content provides specific information about the location, magnitude, and impact of an earthquake in Chile, which is relevant and informative. It includes technical details such as the magnitude and the specific areas affected, making it meaningful content to retain.'}\n",
            "\n",
            "✓ Chunk 255 processed and kept\n",
            "Question: What was the magnitude of the earthquake that occurred near Molina, Chile, and what were its effects?\n"
          ]
        },
        {
          "output_type": "stream",
          "name": "stderr",
          "text": [
            "\r 97%|█████████▋| 256/265 [10:35<00:23,  2.59s/it]"
          ]
        },
        {
          "output_type": "stream",
          "name": "stdout",
          "text": [
            "{'is_meaningful': False, 'enhanced_text': None, 'question': None, 'reasoning': 'The content primarily consists of links, navigation elements, and non-informative content such as icons and brief references to other articles. It lacks detailed information or context about the 2024 Cape Mendocino earthquake, making it unsuitable for preservation or enhancement.'}\n",
            "\n",
            "✗ Chunk 256 discarded - not meaningful\n",
            "17[[410]](https://en.wikipedia.org/wiki/<#cite_note-410>) | ![](https://upload.wikimedia.org/wikipedia/commons/thumb/b/bc/Flag_of_Vanuatu.svg/23px-Flag_of_Vanuatu.svg.png) [Vanuatu](https://en.wikipedia.org/wiki/</wiki/Vanuatu> \"Vanuatu\"), [Shefa](https://en.wikipedia.org/wiki/</wiki/Shefa_Province> \"Shefa Province\") offshore, 30 km (19 mi) west of [Port Vila](https://en.wikipedia.org/wiki/</wiki/Port_Vila> \"Port Vila\") | 7.3  | 57.1  | IX  | Further information: [2024 Port Vila earthquake](https://en.wikipedia.org/wiki/</wiki/2024_Port_Vila_earthquake> \"2024 Port Vila earthquake\") | 14  | 265\n"
          ]
        },
        {
          "output_type": "stream",
          "name": "stderr",
          "text": [
            "\r 97%|█████████▋| 257/265 [10:40<00:26,  3.36s/it]"
          ]
        },
        {
          "output_type": "stream",
          "name": "stdout",
          "text": [
            "{'is_meaningful': False, 'enhanced_text': None, 'question': None, 'reasoning': 'The text primarily consists of links, navigation elements, and non-informative content related to an event in Nepal, not the 2024 Cape Mendocino earthquake. It lacks context or details specific to the earthquake in question, thus it is marked for discarding.'}\n",
            "\n",
            "✗ Chunk 257 discarded - not meaningful\n",
            "20[[411]](https://en.wikipedia.org/wiki/<#cite_note-411>) | ![](https://upload.wikimedia.org/wikipedia/commons/thumb/9/9b/Flag_of_Nepal.svg/16px-Flag_of_Nepal.svg.png) [Nepal](https://en.wikipedia.org/wiki/</wiki/Nepal> \"Nepal\"), [Sudurpashchim](https://en.wikipedia.org/wiki/</wiki/Sudurpashchim_Province> \"Sudurpashchim Province\"), 62 km (39 mi) west-northwest [Jumla](https://en.wikipedia.org/wiki/</wiki/Jumla_\\(town\\)> \"Jumla \\(town\\)\") | 5.0  | 10.0  | V  | At least 108 homes destroyed and 501 structures damaged in [Bajura District](https://en.wikipedia.org/wiki/</wiki/Bajura_District> \"Bajura District\").[[412]](https://en.wikipedia.org/wiki/<#cite_note-412>) | -  | -\n"
          ]
        },
        {
          "output_type": "stream",
          "name": "stderr",
          "text": [
            "\r 97%|█████████▋| 258/265 [10:41<00:19,  2.79s/it]"
          ]
        },
        {
          "output_type": "stream",
          "name": "stdout",
          "text": [
            "{'is_meaningful': True, 'enhanced_text': 'An aftershock measuring 6.1 in magnitude occurred offshore of Vanuatu, 30 km (19 mi) west of Port Vila, in the Shefa Province. This event followed a larger 7.3 magnitude earthquake that had taken place four days earlier.', 'question': 'What was the magnitude of the aftershock that occurred near Port Vila, Vanuatu, following the larger earthquake?', 'reasoning': 'The content provides specific and informative details about an aftershock event related to a previous earthquake, including its location, magnitude, and relation to a prior seismic event. This information is valuable and relevant to understanding the seismic activity in the region.'}\n",
            "\n",
            "✓ Chunk 258 processed and kept\n",
            "Question: What was the magnitude of the aftershock that occurred near Port Vila, Vanuatu, following the larger earthquake?\n"
          ]
        },
        {
          "output_type": "stream",
          "name": "stderr",
          "text": [
            "\r 98%|█████████▊| 259/265 [10:44<00:16,  2.80s/it]"
          ]
        },
        {
          "output_type": "stream",
          "name": "stdout",
          "text": [
            "{'is_meaningful': True, 'enhanced_text': 'An earthquake with a magnitude of 5.9 occurred offshore, 37 km south of Guisa, Cuba, near Santiago de Cuba Province. The earthquake resulted in the collapse of a balcony in Manzanillo, damage to 94 structures in the epicentral area, and rockfalls that blocked roads in Guamá.', 'question': 'What were the consequences of the earthquake that occurred 37 km south of Guisa, Cuba?', 'reasoning': 'The content provides specific and detailed information about the location, magnitude, and effects of an earthquake near Cuba, including structural damage and road blockages. This information is valuable and goes beyond mere navigation or reference links.'}\n",
            "\n",
            "✓ Chunk 259 processed and kept\n",
            "Question: What were the consequences of the earthquake that occurred 37 km south of Guisa, Cuba?\n"
          ]
        },
        {
          "output_type": "stream",
          "name": "stderr",
          "text": [
            "\r 98%|█████████▊| 260/265 [10:47<00:13,  2.67s/it]"
          ]
        },
        {
          "output_type": "stream",
          "name": "stdout",
          "text": [
            "{'is_meaningful': False, 'enhanced_text': None, 'question': None, 'reasoning': 'The text primarily consists of links, navigation elements, and a table-like structure with minimal context or details about the 2024 Cape Mendocino earthquake. It lacks narrative or descriptive content that would provide meaningful information about the event.'}\n",
            "\n",
            "✗ Chunk 260 discarded - not meaningful\n",
            "27[[418]](https://en.wikipedia.org/wiki/<#cite_note-418>) | ![](https://upload.wikimedia.org/wikipedia/en/thumb/f/f3/Flag_of_Russia.svg/23px-Flag_of_Russia.svg.png) [Russia](https://en.wikipedia.org/wiki/</wiki/Russia> \"Russia\"), [Kuril Islands](https://en.wikipedia.org/wiki/</wiki/Kuril_Islands> \"Kuril Islands\") offshore, 341 km (212 mi) northeast of [Kuril'sk](https://en.wikipedia.org/wiki/</wiki/Kuril%27sk> \"Kuril'sk\") | 6.8  | 146.0  | V  | -  | -  | -\n"
          ]
        },
        {
          "output_type": "stream",
          "name": "stderr",
          "text": [
            "\r 98%|█████████▊| 261/265 [10:48<00:08,  2.23s/it]"
          ]
        },
        {
          "output_type": "stream",
          "name": "stdout",
          "text": [
            "{'is_meaningful': True, 'enhanced_text': 'An earthquake with a magnitude of 4.7 occurred offshore, 26 km southwest of Acajutla, El Salvador, in the Sonsonate Department. The quake resulted in four workers being injured by falling debris at a road construction site in the Santa Tecla area.', 'question': 'How many workers were injured during the earthquake near Acajutla, El Salvador?', 'reasoning': \"The content provides specific details about the location, magnitude, and impact of an earthquake near Acajutla, El Salvador, including the number of injuries. This information is valuable for understanding the event's effects and is not merely a collection of links or references.\"}\n",
            "\n",
            "✓ Chunk 261 processed and kept\n",
            "Question: How many workers were injured during the earthquake near Acajutla, El Salvador?\n"
          ]
        },
        {
          "output_type": "stream",
          "name": "stderr",
          "text": [
            "\r 99%|█████████▉| 262/265 [10:51<00:07,  2.36s/it]"
          ]
        },
        {
          "output_type": "stream",
          "name": "stdout",
          "text": [
            "{'is_meaningful': True, 'enhanced_text': 'On [date], a 5.1 magnitude earthquake occurred 36 km (22 mi) north northwest of Awash, Ethiopia, in the Oromia region. The earthquake was part of an earthquake swarm. It resulted in the destruction of more than 50 homes and shops, damage to 100 other structures and a road, and caused ground cracks in the Awash Fentale-Dulecha area.', 'question': 'What was the magnitude of the earthquake that occurred near Awash, Ethiopia, and what were some of the impacts?', 'reasoning': 'The content provides specific information about an earthquake event, including its magnitude, location, and the damage it caused. This information is valuable for understanding the impact of the earthquake and is not just links or navigation elements.'}\n",
            "\n",
            "✓ Chunk 262 processed and kept\n",
            "Question: What was the magnitude of the earthquake that occurred near Awash, Ethiopia, and what were some of the impacts?\n"
          ]
        },
        {
          "output_type": "stream",
          "name": "stderr",
          "text": [
            "\r 99%|█████████▉| 263/265 [10:53<00:04,  2.46s/it]"
          ]
        },
        {
          "output_type": "stream",
          "name": "stdout",
          "text": [
            "{'is_meaningful': False, 'enhanced_text': None, 'question': None, 'reasoning': 'The text primarily consists of links and reference markers without any substantive information about the 2024 Cape Mendocino earthquake. It lacks context, details, or any meaningful content that could be preserved or enhanced for readability.'}\n",
            "\n",
            "✗ Chunk 263 discarded - not meaningful\n",
            "and ground cracks in the [Awash Fentale](https://en.wikipedia.org/wiki/</wiki/Awash_Fentale_\\(woreda\\)> \"Awash Fentale \\(woreda\\)\")-[Dulecha](https://en.wikipedia.org/wiki/</wiki/Dulecha> \"Dulecha\") area.[[422]](https://en.wikipedia.org/wiki/<#cite_note-422>)[[423]](https://en.wikipedia.org/wiki/<#cite_note-423>)[[424]](https://en.wikipedia.org/wiki/<#cite_note-424>)[[425]](https://en.wikipedia.org/wiki/<#cite_note-425>) | -  | -\n"
          ]
        },
        {
          "output_type": "stream",
          "name": "stderr",
          "text": [
            "\r100%|█████████▉| 264/265 [10:54<00:02,  2.09s/it]"
          ]
        },
        {
          "output_type": "stream",
          "name": "stdout",
          "text": [
            "{'is_meaningful': True, 'enhanced_text': 'An earthquake with a magnitude of 5.5 occurred 11 km (6.8 mi) southeast of Bangui in the Ilocos Region of the Philippines. The earthquake caused several buildings to be damaged, some severely, in the Bangui, Pasuquin, and Sarrat areas.', 'question': 'What was the magnitude of the earthquake that affected the Bangui, Pasuquin, and Sarrat areas in the Philippines?', 'reasoning': 'The content provides specific and valuable information about an earthquake event, including its magnitude, location, and the extent of damage. It is not merely a collection of links or navigation elements, making it meaningful for preservation and further analysis.'}\n",
            "\n",
            "✓ Chunk 264 processed and kept\n",
            "Question: What was the magnitude of the earthquake that affected the Bangui, Pasuquin, and Sarrat areas in the Philippines?\n"
          ]
        },
        {
          "output_type": "stream",
          "name": "stderr",
          "text": [
            "100%|██████████| 265/265 [10:57<00:00,  2.48s/it]\n"
          ]
        },
        {
          "output_type": "stream",
          "name": "stdout",
          "text": [
            "\n",
            "Dataset created with 118 entries\n"
          ]
        }
      ]
    },
    {
      "cell_type": "code",
      "source": [
        "from huggingface_hub import login\n",
        "\n",
        "login(\n",
        "  token=\"\", # ADD YOUR TOKEN HERE\n",
        "  add_to_git_credential=True\n",
        ")\n"
      ],
      "metadata": {
        "id": "TLlYXLm7Ez7k"
      },
      "execution_count": null,
      "outputs": []
    },
    {
      "cell_type": "code",
      "source": [
        "dataset.push_to_hub(\"akashmaggon/calope_earthquake\")"
      ],
      "metadata": {
        "colab": {
          "base_uri": "https://localhost:8080/",
          "height": 262,
          "referenced_widgets": [
            "4df4d79dbffa482594b6d26227b04bf8",
            "ceed8c65333c40f28622e07ac16d8535",
            "f82e4241e1a34828b879e8377703d2d3",
            "adc9cf7844324c29ac60776da2ee86b4",
            "f47e182302da46d39599066e440fa837",
            "84f040754ff84f529c4aef86a86b996c",
            "5be4071bc5b844ed9a873fe5e7d3ded0",
            "e2f8c44937c14524b99eb13015f800d8",
            "151cac3c1e0249f0ad2a10d26b675b1e",
            "eae1634db2c9465ba72af24085a45399",
            "b7fa5171b08b479a99858088eb7297d7",
            "37599cce139e4a22963f1c9fe62c6c79",
            "8567e16e4cd84b0db2a0cfa3bbd0b399",
            "c2fcc1c5d33e4439a39297f9185e7b4a",
            "556df5d0de264d09aa59841fdcee549b",
            "c3dd8e73162441d59c9bf58d35cbd28a",
            "1c5c5679426b43388c29dfd0ee74e0f1",
            "66635fc931f54c31bfdace11e273a047",
            "56fd4449864c4d83aabbc88a9f8bb0ac",
            "ae76a1cecb524765bcdca8af15f2173a",
            "5d7d03c5f08a444086635a12571cbbf3",
            "223c5512932b42d8a5d4610285262dbc"
          ]
        },
        "id": "cbSkd4YVC4Aq",
        "outputId": "b17b48af-f415-4285-d56e-f440856f2e27"
      },
      "execution_count": null,
      "outputs": [
        {
          "output_type": "stream",
          "name": "stderr",
          "text": [
            "/usr/local/lib/python3.10/dist-packages/huggingface_hub/utils/_auth.py:94: UserWarning: \n",
            "The secret `HF_TOKEN` does not exist in your Colab secrets.\n",
            "To authenticate with the Hugging Face Hub, create a token in your settings tab (https://huggingface.co/settings/tokens), set it as secret in your Google Colab and restart your session.\n",
            "You will be able to reuse this secret in all of your notebooks.\n",
            "Please note that authentication is recommended but still optional to access public models or datasets.\n",
            "  warnings.warn(\n"
          ]
        },
        {
          "output_type": "display_data",
          "data": {
            "text/plain": [
              "Uploading the dataset shards:   0%|          | 0/1 [00:00<?, ?it/s]"
            ],
            "application/vnd.jupyter.widget-view+json": {
              "version_major": 2,
              "version_minor": 0,
              "model_id": "4df4d79dbffa482594b6d26227b04bf8"
            }
          },
          "metadata": {}
        },
        {
          "output_type": "display_data",
          "data": {
            "text/plain": [
              "Creating parquet from Arrow format:   0%|          | 0/1 [00:00<?, ?ba/s]"
            ],
            "application/vnd.jupyter.widget-view+json": {
              "version_major": 2,
              "version_minor": 0,
              "model_id": "37599cce139e4a22963f1c9fe62c6c79"
            }
          },
          "metadata": {}
        },
        {
          "output_type": "execute_result",
          "data": {
            "text/plain": [
              "CommitInfo(commit_url='https://huggingface.co/datasets/akashmaggon/calope_earthquake/commit/9460758f5f87f80aeafab744801d39c71293ccd6', commit_message='Upload dataset', commit_description='', oid='9460758f5f87f80aeafab744801d39c71293ccd6', pr_url=None, repo_url=RepoUrl('https://huggingface.co/datasets/akashmaggon/calope_earthquake', endpoint='https://huggingface.co', repo_type='dataset', repo_id='akashmaggon/calope_earthquake'), pr_revision=None, pr_num=None)"
            ],
            "application/vnd.google.colaboratory.intrinsic+json": {
              "type": "string"
            }
          },
          "metadata": {},
          "execution_count": 91
        }
      ]
    },
    {
      "cell_type": "code",
      "source": [],
      "metadata": {
        "id": "O21sq3v0E065"
      },
      "execution_count": null,
      "outputs": []
    }
  ]
}